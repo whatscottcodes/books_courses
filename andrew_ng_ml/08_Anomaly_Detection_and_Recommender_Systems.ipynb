{
 "cells": [
  {
   "cell_type": "code",
   "execution_count": 1,
   "metadata": {},
   "outputs": [],
   "source": [
    "import numpy as np\n",
    "import pandas as pd\n",
    "import matplotlib.pyplot as plt\n",
    "import seaborn as sb\n",
    "from scipy.io import loadmat\n",
    "from scipy import stats\n",
    "\n",
    "%matplotlib inline"
   ]
  },
  {
   "cell_type": "markdown",
   "metadata": {},
   "source": [
    "# Anomaly Detection and Recommender Systems\n",
    "\n",
    "## Anomaly detection\n",
    "\n",
    "In this exercise, you will implement an anomaly detection algorithm to detect\n",
    "anomalous behavior in server computers. The features measure the through-\n",
    "put (mb/s) and latency (ms) of response of each server. While your servers\n",
    "were operating, you collected m = 307 examples of how they were behaving, and thus have an unlabeled dataset $\\{x^{(1)}, \\dots, x^{(m)}\\}$g. \n",
    "\n",
    "You suspect that the vast majority of these examples are \"normal\" (non-anomalous) examples of the servers operating normally, but there might also be some examples of servers acting anomalously within this dataset."
   ]
  },
  {
   "cell_type": "markdown",
   "metadata": {},
   "source": [
    "You will use a Gaussian model to detect anomalous examples in your\n",
    "dataset. You will first start on a 2D dataset that will allow you to visualize\n",
    "what the algorithm is doing. On that dataset you will fit a Gaussian dis-\n",
    "tribution and then find values that have very low probability and hence can\n",
    "be considered anomalies."
   ]
  },
  {
   "cell_type": "code",
   "execution_count": 2,
   "metadata": {},
   "outputs": [],
   "source": [
    "data = loadmat('data/ex8data1.mat')"
   ]
  },
  {
   "cell_type": "code",
   "execution_count": 3,
   "metadata": {},
   "outputs": [],
   "source": [
    "X = data['X']"
   ]
  },
  {
   "cell_type": "code",
   "execution_count": 4,
   "metadata": {},
   "outputs": [
    {
     "data": {
      "image/png": "[encoded data removed]",
      "text/plain": [
       "<matplotlib.figure.Figure at 0x7feaf57bcba8>"
      ]
     },
     "metadata": {},
     "output_type": "display_data"
    }
   ],
   "source": [
    "plt.scatter(X[:,0], X[:,1]);"
   ]
  },
  {
   "cell_type": "markdown",
   "metadata": {},
   "source": [
    "### Estimating parameters for a Gaussian\n",
    "\n",
    "You can estimate the parameters, $(\\mu_i, \\sigma_i^2)$, of the i-th feature by using the following equations. To estimate the mean, you will use:\n",
    "\n",
    "$$\\mu_i = \\frac{1}{m}\\sum_{j=1}^m(x_i^{(j)})$$\n",
    "\n",
    "and for the variance you will use:\n",
    "\n",
    "$$\\sigma_i^2 = \\frac{1}{m}\\sum_{j=1}^m(x_i^{(j)}-\\mu_i)^2$$"
   ]
  },
  {
   "cell_type": "markdown",
   "metadata": {},
   "source": [
    "Your task is to complete the code in `estimateGaussian.m`. This function\n",
    "takes as input the data matrix X and should output an n-dimension vector\n",
    "mu that holds the mean of all the n features and another n-dimension vector\n",
    "sigma2 that holds the variances of all the features. You can implement this\n",
    "using a for-loop over every feature and every training example (though a vec-\n",
    "torized implementation might be more eficient; feel free to use a vectorized\n",
    "implementation if you prefer)."
   ]
  },
  {
   "cell_type": "code",
   "execution_count": 5,
   "metadata": {},
   "outputs": [],
   "source": [
    "def estimate_gaussian(X):\n",
    "    mu = X.mean(axis=0)\n",
    "    sigma = X.var(axis=0)\n",
    "    \n",
    "    return mu, sigma"
   ]
  },
  {
   "cell_type": "markdown",
   "metadata": {},
   "source": [
    "### Selecting the threshold $\\epsilon$\n",
    "\n",
    "Now that you have estimated the Gaussian parameters, you can investigate\n",
    "which examples have a very high probability given this distribution and which\n",
    "examples have a very low probability.\n",
    "\n",
    "The function `selectThreshold.m` should return two values; the first is\n",
    "the selected threshold \". If an example x has a low probability p(x) < \",\n",
    "then it is considered to be an anomaly. The function should also return the\n",
    "F1 score, which tells you how well you're doing on finding the ground truth\n",
    "anomalies given a certain threshold. For many different values of \", you will\n",
    "compute the resulting F1 score by computing how many examples the current\n",
    "threshold classiffes correctly and incorrectly.\n",
    "\n",
    "The F1 score is computed using precision (prec) and recall (rec):\n",
    "\n",
    "$$F_1 = \\frac{2\\cdot\\text{prec}\\cdot\\text{rec}}{\\text{prec} +\\text{rec}}$$\n",
    "\n",
    "You compute precision and recall by:\n",
    "\n",
    "$$ \\text{prec} = \\frac{tp}{tp+fp}$$\n",
    "$$ \\text{rec} = \\frac{tp}{tp+fn'}$$\n",
    "\n",
    "where\n",
    "+ $tp$ is the number of true positives: the ground truth label says it's an anomaly and our algorithm correctly classified it as an anomaly.\n",
    "\n",
    "+ $fp$ is the number of false positives: the ground truth label says it's not an anomaly, but our algorithm incorrectly classified it as an anomaly.\n",
    "\n",
    "+ $fn$ is the number of false negatives: the ground truth label says it's an anomaly, but our algorithm incorrectly classified it as not being anomalous."
   ]
  },
  {
   "cell_type": "code",
   "execution_count": 6,
   "metadata": {},
   "outputs": [],
   "source": [
    "def select_threshold(prob, y):\n",
    "    \n",
    "    best_epsilon = 0\n",
    "    best_F1 = 0\n",
    "    F1 = 0\n",
    "    \n",
    "    step = (prob.max() - prob.min()) / 1000\n",
    "    \n",
    "    for epsilon in np.arange(prob.min(), prob.max(), step):\n",
    "        preds = prob < epsilon\n",
    "        \n",
    "        tp = np.sum(np.logical_and(preds == 1, y == 1)).astype(float)\n",
    "        fp = np.sum(np.logical_and(preds == 1, y == 0)).astype(float)\n",
    "        fn = np.sum(np.logical_and(preds == 0, y == 1)).astype(float)\n",
    "        \n",
    "        prec = tp / (tp + fp)\n",
    "        rec = tp / (tp + fn)\n",
    "        F1 = (2 * prec * rec) / (prec + rec)\n",
    "        \n",
    "        if F1 > best_F1:\n",
    "            best_F1 = F1\n",
    "            best_epsilon = epsilon\n",
    "    \n",
    "    return best_epsilon, best_F1"
   ]
  },
  {
   "cell_type": "code",
   "execution_count": 7,
   "metadata": {},
   "outputs": [],
   "source": [
    "Xval = data['Xval'] #validated data\n",
    "yval = data['yval'] #validated data"
   ]
  },
  {
   "cell_type": "code",
   "execution_count": 8,
   "metadata": {},
   "outputs": [],
   "source": [
    "mu, sigma = estimate_gaussian(X)"
   ]
  },
  {
   "cell_type": "code",
   "execution_count": 9,
   "metadata": {},
   "outputs": [],
   "source": [
    "p = np.zeros((Xval.shape[0], Xval.shape[1]))\n",
    "p[:,0] = stats.norm(mu[0], sigma[0]).pdf(Xval[:,0])\n",
    "p[:,1] = stats.norm(mu[1], sigma[1]).pdf(Xval[:,1])"
   ]
  },
  {
   "cell_type": "code",
   "execution_count": 10,
   "metadata": {},
   "outputs": [
    {
     "name": "stderr",
     "output_type": "stream",
     "text": [
      "/home/nbuser/anaconda3_501/lib/python3.6/site-packages/ipykernel/__main__.py:16: RuntimeWarning: invalid value encountered in double_scalars\n"
     ]
    }
   ],
   "source": [
    "epsilon, f1 = select_threshold(p, yval)"
   ]
  },
  {
   "cell_type": "code",
   "execution_count": 11,
   "metadata": {},
   "outputs": [
    {
     "data": {
      "text/plain": [
       "0.009566706005956842"
      ]
     },
     "execution_count": 11,
     "metadata": {},
     "output_type": "execute_result"
    }
   ],
   "source": [
    "epsilon"
   ]
  },
  {
   "cell_type": "code",
   "execution_count": 12,
   "metadata": {},
   "outputs": [],
   "source": [
    "p = np.zeros((X.shape[0], X.shape[1]))\n",
    "p[:,0] = stats.norm(mu[0], sigma[0]).pdf(X[:,0])\n",
    "p[:,1] = stats.norm(mu[1], sigma[1]).pdf(X[:,1])"
   ]
  },
  {
   "cell_type": "code",
   "execution_count": 13,
   "metadata": {},
   "outputs": [],
   "source": [
    "outliers = np.where(p < epsilon)"
   ]
  },
  {
   "cell_type": "code",
   "execution_count": 14,
   "metadata": {},
   "outputs": [
    {
     "data": {
      "image/png": "[encoded data removed]",
      "text/plain": [
       "<matplotlib.figure.Figure at 0x7feaf5704358>"
      ]
     },
     "metadata": {},
     "output_type": "display_data"
    }
   ],
   "source": [
    "plt.scatter(X[:,0], X[:,1])\n",
    "plt.scatter(X[outliers[0],0], X[outliers[0],1], s=50, color='r', marker='o');"
   ]
  },
  {
   "cell_type": "markdown",
   "metadata": {},
   "source": [
    "Those look pretty good, though there is one stray blue dot, that seems pretty similar in distance away as the closest red one...I'm also getting a numpy error in `select_threshold`, I think has to do with the logical, so I'll try and clean that up soon."
   ]
  },
  {
   "cell_type": "markdown",
   "metadata": {},
   "source": [
    "## Recommender Systems\n",
    "\n",
    "In this part of the exercise, you will implement the collaborative filtering learning algorithm and apply it to a dataset of movie ratings."
   ]
  },
  {
   "cell_type": "code",
   "execution_count": 15,
   "metadata": {},
   "outputs": [],
   "source": [
    "data = loadmat('data/ex8_movies.mat')"
   ]
  },
  {
   "cell_type": "markdown",
   "metadata": {},
   "source": [
    "The matrix $Y$ (a num movies X num users matrix) stores the ratings $y^{(i,j)}$ (from 1 to 5). The matrix $R$ is an binary-valued indicator matrix, where $R(i, j) = 1$ if user $j$ gave a rating to movie $i$, and $R(i, j) = 0$ otherwise. \n",
    "\n",
    "The objective of collaborative filtering is to predict movie ratings for the movies that users have not yet rated, that is, the entries with $R(i, j) = 0$. This will allow us to recommend the movies with the highest predicted ratings to the user."
   ]
  },
  {
   "cell_type": "code",
   "execution_count": 16,
   "metadata": {},
   "outputs": [],
   "source": [
    "Y = data['Y']\n",
    "R = data['R']"
   ]
  },
  {
   "cell_type": "markdown",
   "metadata": {},
   "source": [
    "## Collaborative filtering learning algorithm and cost function"
   ]
  },
  {
   "cell_type": "code",
   "execution_count": 17,
   "metadata": {},
   "outputs": [],
   "source": [
    "def cost(params, Y, R, num_features):\n",
    "    Y = np.matrix(Y)  \n",
    "    R = np.matrix(R)\n",
    "    \n",
    "    num_movies = Y.shape[0]\n",
    "    num_users = Y.shape[1]\n",
    "    \n",
    "    X = np.matrix(np.reshape(params[:num_movies * num_features], (num_movies, num_features)))\n",
    "    theta = np.matrix(np.reshape(params[num_movies * num_features:], (num_users, num_features)))\n",
    "    \n",
    "    J = 0\n",
    "    \n",
    "    err = np.multiply((X.dot(theta.T)) - Y, R)\n",
    "    \n",
    "    J = (1 / 2.0) * np.sum(np.power(err,2))\n",
    "    \n",
    "    return J"
   ]
  },
  {
   "cell_type": "markdown",
   "metadata": {},
   "source": [
    "Let's load the test data provided, and see if we want match the expected output of 22.22."
   ]
  },
  {
   "cell_type": "code",
   "execution_count": 18,
   "metadata": {},
   "outputs": [],
   "source": [
    "params_test = loadmat('data/ex8_movieParams.mat')\n",
    "X_test = params_test['X']\n",
    "theta_test = params_test['Theta']"
   ]
  },
  {
   "cell_type": "code",
   "execution_count": 19,
   "metadata": {},
   "outputs": [],
   "source": [
    "users = 4\n",
    "movies = 5\n",
    "features = 3\n",
    "\n",
    "X_sub = X_test[:movies, :features]\n",
    "theta_sub = theta_test[:users, :features]\n",
    "\n",
    "Y_sub = Y[:movies, :users]\n",
    "R_sub = R[:movies, :users]\n",
    "\n",
    "params = np.concatenate((np.ravel(X_sub), np.ravel(theta_sub)))"
   ]
  },
  {
   "cell_type": "code",
   "execution_count": 20,
   "metadata": {},
   "outputs": [
    {
     "data": {
      "text/plain": [
       "22.224603725685675"
      ]
     },
     "execution_count": 20,
     "metadata": {},
     "output_type": "execute_result"
    }
   ],
   "source": [
    "cost(params, Y_sub, R_sub, features) #great"
   ]
  },
  {
   "cell_type": "markdown",
   "metadata": {},
   "source": [
    "### Collaborative filtering gradient"
   ]
  },
  {
   "cell_type": "code",
   "execution_count": 21,
   "metadata": {},
   "outputs": [],
   "source": [
    "def gradient(err, X, theta):\n",
    "    X_grad = err.dot(theta)\n",
    "    theta_grad = err.T.dot(X)\n",
    "    \n",
    "    grad = np.concatenate((np.ravel(X_grad), np.ravel(theta_grad)))\n",
    "    return grad"
   ]
  },
  {
   "cell_type": "markdown",
   "metadata": {},
   "source": [
    "Now we need to edit our cost function to return the X and $\\theta$ gradients."
   ]
  },
  {
   "cell_type": "code",
   "execution_count": 22,
   "metadata": {},
   "outputs": [],
   "source": [
    "def cost(params, Y, R, num_features):\n",
    "    Y = np.matrix(Y)  \n",
    "    R = np.matrix(R)\n",
    "    \n",
    "    num_movies = Y.shape[0]\n",
    "    num_users = Y.shape[1]\n",
    "    \n",
    "    X = np.matrix(np.reshape(params[:num_movies * num_features], (num_movies, num_features)))\n",
    "    theta = np.matrix(np.reshape(params[num_movies * num_features:], (num_users, num_features)))\n",
    "    \n",
    "    J = 0\n",
    "    \n",
    "    err = np.multiply((X.dot(theta.T)) - Y, R)\n",
    "    \n",
    "    grad = gradient(err, X, theta)\n",
    "    J = (1 / 2.0) * np.sum(np.power(err,2))\n",
    "    \n",
    "    return J, grad"
   ]
  },
  {
   "cell_type": "code",
   "execution_count": 23,
   "metadata": {},
   "outputs": [],
   "source": [
    "#quick test\n",
    "J, grad = cost(params, Y_sub, R_sub, features)"
   ]
  },
  {
   "cell_type": "code",
   "execution_count": 24,
   "metadata": {},
   "outputs": [
    {
     "data": {
      "text/plain": [
       "(22.224603725685675,\n",
       " array([ -2.52899165,   7.57570308,  -1.89979026,  -0.56819597,\n",
       "          3.35265031,  -0.52339845,  -0.83240713,   4.91163297,\n",
       "         -0.76677878,  -0.38358278,   2.26333698,  -0.35334048,\n",
       "         -0.80378006,   4.74271842,  -0.74040871, -10.5680202 ,\n",
       "          4.62776019,  -7.16004443,  -3.05099006,   1.16441367,\n",
       "         -3.47410789,   0.        ,   0.        ,   0.        ,\n",
       "          0.        ,   0.        ,   0.        ]))"
      ]
     },
     "execution_count": 24,
     "metadata": {},
     "output_type": "execute_result"
    }
   ],
   "source": [
    "J, grad"
   ]
  },
  {
   "cell_type": "markdown",
   "metadata": {},
   "source": [
    "## Regularized cost function\n",
    "\n",
    "You should now add regularization to your original computations of the cost function, J."
   ]
  },
  {
   "cell_type": "code",
   "execution_count": 25,
   "metadata": {},
   "outputs": [],
   "source": [
    "def cost_reg(params, Y, R, num_features, lam):\n",
    "    Y = np.matrix(Y)  \n",
    "    R = np.matrix(R)\n",
    "    \n",
    "    num_movies = Y.shape[0]\n",
    "    num_users = Y.shape[1]\n",
    "    \n",
    "    X = np.matrix(np.reshape(params[:num_movies * num_features], (num_movies, num_features)))\n",
    "    theta = np.matrix(np.reshape(params[num_movies * num_features:], (num_users, num_features)))\n",
    "    \n",
    "    J = 0\n",
    "    \n",
    "    err = np.multiply((X.dot(theta.T)) - Y, R)\n",
    "    \n",
    "    grad = gradient_reg(err, X, theta, lam)\n",
    "    \n",
    "    J = (1 / 2.0) * np.sum(np.power(err,2))\n",
    "    \n",
    "    J += ((lam / 2) * np.sum(np.power(theta, 2))) + ((lam / 2) * np.sum(np.power(X, 2)))\n",
    "    \n",
    "    return J, grad"
   ]
  },
  {
   "cell_type": "markdown",
   "metadata": {},
   "source": [
    "### Regularized gradient"
   ]
  },
  {
   "cell_type": "code",
   "execution_count": 26,
   "metadata": {},
   "outputs": [],
   "source": [
    "def gradient_reg(err, X, theta, lam):\n",
    "    X_grad = err.dot(theta) + (lam * X)\n",
    "    theta_grad = err.T.dot(X) + (lam * theta)\n",
    "    \n",
    "    grad = np.concatenate((np.ravel(X_grad), np.ravel(theta_grad)))\n",
    "    return grad"
   ]
  },
  {
   "cell_type": "code",
   "execution_count": 27,
   "metadata": {},
   "outputs": [],
   "source": [
    "J, grad = cost_reg(params, Y_sub, R_sub, features, lam = 1.5)"
   ]
  },
  {
   "cell_type": "code",
   "execution_count": 28,
   "metadata": {},
   "outputs": [
    {
     "data": {
      "text/plain": [
       "(31.34405624427422,\n",
       " array([ -0.95596339,   6.97535514,  -0.10861109,   0.60308088,\n",
       "          2.77421145,   0.25839822,   0.12985616,   4.0898522 ,\n",
       "         -0.89247334,   0.29684395,   1.06300933,   0.66738144,\n",
       "          0.60252677,   4.90185327,  -0.19747928, -10.13985478,\n",
       "          2.10136256,  -6.76563628,  -2.29347024,   0.48244098,\n",
       "         -2.99791422,  -0.64787484,  -0.71820673,   1.27006666,\n",
       "          1.09289758,  -0.40784086,   0.49026541]))"
      ]
     },
     "execution_count": 28,
     "metadata": {},
     "output_type": "execute_result"
    }
   ],
   "source": [
    "J, grad"
   ]
  },
  {
   "cell_type": "markdown",
   "metadata": {},
   "source": [
    "### Learning movie recommendations\n",
    "\n",
    "After you have finished implementing the collaborative filtering cost function and gradient, you can now start training your algorithm to make movie recommendations for yourself.\n",
    "\n",
    "The exercise provides some rating, so we'll use those;"
   ]
  },
  {
   "cell_type": "code",
   "execution_count": 29,
   "metadata": {},
   "outputs": [],
   "source": [
    "ratings = np.zeros((1682, 1))\n",
    "\n",
    "ratings[0] = 4\n",
    "ratings[6] = 3\n",
    "ratings[11] = 5\n",
    "ratings[53] = 4\n",
    "ratings[63] = 5\n",
    "ratings[65] = 3\n",
    "ratings[68] = 5\n",
    "ratings[97] = 2\n",
    "ratings[182] = 4\n",
    "ratings[225] = 5\n",
    "ratings[354] = 5"
   ]
  },
  {
   "cell_type": "markdown",
   "metadata": {},
   "source": [
    "Add our ratings to the dataset;"
   ]
  },
  {
   "cell_type": "code",
   "execution_count": 30,
   "metadata": {},
   "outputs": [],
   "source": [
    "Y = np.append(Y, ratings, axis=1)\n",
    "R = np.append(R, ratings != 0, axis=1)"
   ]
  },
  {
   "cell_type": "code",
   "execution_count": 31,
   "metadata": {},
   "outputs": [],
   "source": [
    "movies = Y.shape[0] \n",
    "users = Y.shape[1] \n",
    "features = 10\n",
    "learning_rate = 1.5"
   ]
  },
  {
   "cell_type": "code",
   "execution_count": 32,
   "metadata": {},
   "outputs": [],
   "source": [
    "X_train = np.random.random(size=(movies, features))\n",
    "init_theta = np.random.random(size=(users, features))\n",
    "params = np.concatenate((np.ravel(X_train), np.ravel(init_theta)))"
   ]
  },
  {
   "cell_type": "markdown",
   "metadata": {},
   "source": [
    "Accidentally did this without normalization the first time, all rating were about 4.5..."
   ]
  },
  {
   "cell_type": "code",
   "execution_count": 33,
   "metadata": {},
   "outputs": [],
   "source": [
    "Y_mu = np.zeros((movies, 1))\n",
    "Y_norm = np.zeros((movies, users))\n",
    "\n",
    "for i in range(movies):\n",
    "    idx = np.where(R[i,:] == 1)[0]\n",
    "    Y_mu[i] = Y[i,idx].mean()\n",
    "    Y_norm[i,idx] = Y[i,idx] - Y_mu[i]"
   ]
  },
  {
   "cell_type": "code",
   "execution_count": 34,
   "metadata": {},
   "outputs": [],
   "source": [
    "from scipy.optimize import minimize\n",
    "\n",
    "fmin = minimize(fun=cost_reg, x0=params, args=(Y, R, features, learning_rate), \n",
    "                method='CG', jac=True, options={'maxiter': 100})"
   ]
  },
  {
   "cell_type": "code",
   "execution_count": 35,
   "metadata": {},
   "outputs": [],
   "source": [
    "X = np.matrix(np.reshape(fmin.x[:movies * features], (movies, features)))\n",
    "theta = np.matrix(np.reshape(fmin.x[movies * features:], (users, features)))"
   ]
  },
  {
   "cell_type": "code",
   "execution_count": 36,
   "metadata": {},
   "outputs": [],
   "source": [
    "pred = X.dot(theta.T)\n",
    "my_preds = pred[:, -1] + Y_mu"
   ]
  },
  {
   "cell_type": "code",
   "execution_count": 37,
   "metadata": {},
   "outputs": [],
   "source": [
    "idx = np.argsort(my_preds, axis=0)[::-1]"
   ]
  },
  {
   "cell_type": "code",
   "execution_count": 38,
   "metadata": {},
   "outputs": [],
   "source": [
    "movies_df = pd.read_csv('data/movie_ids.txt', sep='|', header=None, encoding='latin-1')"
   ]
  },
  {
   "cell_type": "code",
   "execution_count": 39,
   "metadata": {},
   "outputs": [
    {
     "name": "stdout",
     "output_type": "stream",
     "text": [
      "Top 10 movie predictions:\n",
      "Predicted rating of 9.559327874522403 for  Titanic (1997).\n",
      "Predicted rating of 9.353088496608489 for Star Wars (1977).\n",
      "Predicted rating of 9.280475652234484 for  Raiders of the Lost Ark (1981).\n",
      "Predicted rating of 9.128090054420543 for  Empire Strikes Back, The (1980).\n",
      "Predicted rating of 9.062801057380007 for  Return of the Jedi (1983).\n",
      "Predicted rating of 8.972275604471335 for Shawshank Redemption, The (1994).\n",
      "Predicted rating of 8.775718079576299 for  Wrong Trousers, The (1993).\n",
      "Predicted rating of 8.760104504332915 for Terminator 2: Judgment Day (1991).\n",
      "Predicted rating of 8.578818016493017 for Braveheart (1995).\n",
      "Predicted rating of 8.523390237103122 for  Indiana Jones and the Last Crusade (1989).\n"
     ]
    }
   ],
   "source": [
    "print(\"Top 10 movie predictions:\")\n",
    "for i in range(10):\n",
    "    j = int(idx[i])\n",
    "    print('Predicted rating of {0} for {1}.'.format(str(float(my_preds[j])), movies_df.iloc[j].values[0][3:]))"
   ]
  },
  {
   "cell_type": "markdown",
   "metadata": {},
   "source": [
    "The ratings are pretty close to what's provided in the exercise!"
   ]
  },
  {
   "cell_type": "code",
   "execution_count": null,
   "metadata": {},
   "outputs": [],
   "source": []
  }
 ],
 "metadata": {
  "kernelspec": {
   "display_name": "Python 3.6",
   "language": "python",
   "name": "python36"
  },
  "language_info": {
   "codemirror_mode": {
    "name": "ipython",
    "version": 3
   },
   "file_extension": ".py",
   "mimetype": "text/x-python",
   "name": "python",
   "nbconvert_exporter": "python",
   "pygments_lexer": "ipython3",
   "version": "3.6.3"
  }
 },
 "nbformat": 4,
 "nbformat_minor": 2
}
