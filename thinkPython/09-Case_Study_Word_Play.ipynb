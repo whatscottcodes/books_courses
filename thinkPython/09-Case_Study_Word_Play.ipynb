{
 "cells": [
  {
   "cell_type": "code",
   "execution_count": 4,
   "metadata": {},
   "outputs": [],
   "source": [
    "import string\n",
    "import itertools"
   ]
  },
  {
   "cell_type": "markdown",
   "metadata": {
    "collapsed": true
   },
   "source": [
    "## Chapter 9 - Case Study: Word Play"
   ]
  },
  {
   "cell_type": "markdown",
   "metadata": {},
   "source": [
    "For the exercises in this chapter we need a list of English words.\n",
    "\n",
    "There are lots of word lists available on the Web, but the one most suitable for our purpose is one of the word lists collected and contributed to the public domain by Grady Ward as part of the Moby lexicon project (see http://wikipedia.org/wiki/Moby_Project). It is a list of 113,809 official crosswords; that is, words that are considered valid in crossword puzzles and other word games."
   ]
  },
  {
   "cell_type": "code",
   "execution_count": 5,
   "metadata": {},
   "outputs": [],
   "source": [
    "fin = open('data/words.txt')"
   ]
  },
  {
   "cell_type": "markdown",
   "metadata": {},
   "source": [
    "*fin* is a common name for a file object used for input. The file object provides several methods for reading, including readline, which reads characters from the file until it gets to a newline and returns the result as a string:"
   ]
  },
  {
   "cell_type": "code",
   "execution_count": 6,
   "metadata": {},
   "outputs": [
    {
     "data": {
      "text/plain": [
       "'aa\\n'"
      ]
     },
     "execution_count": 6,
     "metadata": {},
     "output_type": "execute_result"
    }
   ],
   "source": [
    "fin.readline()"
   ]
  },
  {
   "cell_type": "markdown",
   "metadata": {},
   "source": [
    "The first word in this particular list is “aa”, which is a kind of lava. The sequence \\n represents the newline character that separates this word from the next.\n",
    "\n",
    "The file object keeps track of where it is in the file, so if you call readline again, you get the next word:"
   ]
  },
  {
   "cell_type": "code",
   "execution_count": 7,
   "metadata": {},
   "outputs": [
    {
     "data": {
      "text/plain": [
       "'aah\\n'"
      ]
     },
     "execution_count": 7,
     "metadata": {},
     "output_type": "execute_result"
    }
   ],
   "source": [
    "fin.readline()"
   ]
  },
  {
   "cell_type": "markdown",
   "metadata": {},
   "source": [
    "If it's the newline character that’s bothering you, we can get rid of it with the string method strip:"
   ]
  },
  {
   "cell_type": "code",
   "execution_count": 8,
   "metadata": {},
   "outputs": [
    {
     "data": {
      "text/plain": [
       "'aahed'"
      ]
     },
     "execution_count": 8,
     "metadata": {},
     "output_type": "execute_result"
    }
   ],
   "source": [
    "fin.readline().strip() #in the book this is done in two lines, this seems fine though"
   ]
  },
  {
   "cell_type": "markdown",
   "metadata": {},
   "source": [
    "You can also use a file object as part of a for loop. Prints each word, one per line, I won't let it run that long, I'll break it right away, but it could if I would let it!"
   ]
  },
  {
   "cell_type": "code",
   "execution_count": 9,
   "metadata": {},
   "outputs": [
    {
     "name": "stdout",
     "output_type": "stream",
     "text": [
      "aahing\n"
     ]
    }
   ],
   "source": [
    "for line in fin:\n",
    "    word = line.strip()\n",
    "    print(word)\n",
    "    break"
   ]
  },
  {
   "cell_type": "markdown",
   "metadata": {},
   "source": [
    "### Exercies\n",
    "\n",
    "**Exercise 9.1.** Write a program that reads *words.txt* and prints only the words with more than 20 characters (not counting whitespace)."
   ]
  },
  {
   "cell_type": "code",
   "execution_count": 10,
   "metadata": {},
   "outputs": [
    {
     "name": "stdout",
     "output_type": "stream",
     "text": [
      "counterdemonstrations\n",
      "hyperaggressivenesses\n",
      "microminiaturizations\n"
     ]
    }
   ],
   "source": [
    "def more_than_twenty(text):\n",
    "    for line in fin:\n",
    "        word = line.strip()\n",
    "        if len(word) > 20:\n",
    "            print(word)\n",
    "            \n",
    "more_than_twenty(fin) #less than I thought tbh"
   ]
  },
  {
   "cell_type": "markdown",
   "metadata": {},
   "source": [
    "**Exercise 9.2.** In 1939 Ernest Vincent Wright published a 50,000 word novel called Gadsby that *does not contain the letter “e”*. Since “e” is the most common letter in English, that’s not easy to do. In fact, it is difficult to construct a solitary thought without using that most common symbol. It is slow going at first, but with caution and hours of training you can gradually gain facility.\n",
    "\n",
    "\n",
    "All right, I’ll stop now. Write a function called has_no_e that returns True if the given word doesn’t have the letter “e” in\n",
    "it.\n",
    "\n",
    "\n",
    "Modify your program from the previous section to print only the words that have no “e” and compute the percentage of the words in the list that have no “e”."
   ]
  },
  {
   "cell_type": "code",
   "execution_count": 11,
   "metadata": {},
   "outputs": [
    {
     "name": "stdout",
     "output_type": "stream",
     "text": [
      "Cam\n"
     ]
    },
    {
     "data": {
      "text/plain": [
       "33.33333333333333"
      ]
     },
     "execution_count": 11,
     "metadata": {},
     "output_type": "execute_result"
    }
   ],
   "source": [
    "def has_no_e(word):\n",
    "    if \"e\" not in word:\n",
    "        return True\n",
    "    \n",
    "def words_without_e(word_list):\n",
    "    no_e_words = 0\n",
    "    for word in word_list:\n",
    "        if has_no_e(word):\n",
    "            print(word)\n",
    "            no_e_words+= 1\n",
    "    return 100* (no_e_words/len(word_list))\n",
    "\n",
    "words_without_e(['Feris', 'Cam', 'Sloane'])"
   ]
  },
  {
   "cell_type": "markdown",
   "metadata": {},
   "source": [
    "**Exercise 9.3.** Write a function named avoids that takes a word and a string of forbidden letters, and that returns True if the word doesn’t use any of the forbidden letters. \n",
    "\n",
    "\n",
    "Modify your program to prompt the user to enter a string of forbidden letters and then print the number of words that don’t contain any of them. Can you find a combination of 5 forbidden letters that excludes the smallest number of words?"
   ]
  },
  {
   "cell_type": "code",
   "execution_count": 13,
   "metadata": {},
   "outputs": [
    {
     "data": {
      "text/plain": [
       "22717"
      ]
     },
     "execution_count": 13,
     "metadata": {},
     "output_type": "execute_result"
    }
   ],
   "source": [
    "def avoids(word, forbidden):\n",
    "    for letter in word:\n",
    "        if letter in forbidden:\n",
    "            return False\n",
    "    return True\n",
    "\n",
    "avoids('lobster', 'mayo')\n",
    "avoids('lobster', 'may0')\n",
    "\n",
    "def user_forbids(text, user_input=True, forbidden=('e')):\n",
    "    fin = open(text)\n",
    "    if user_input:\n",
    "        forbidden = input(\"Enter a list of forbidden letters: \\n\")\n",
    "    good_words = 0 #number of words that don't contain the forbidden letters\n",
    "    for word in fin:\n",
    "        word = word.strip()\n",
    "        if avoids(word, forbidden):\n",
    "            good_words +=1\n",
    "    return good_words\n",
    "\n",
    "#user_forbids('words.txt') #this works 22717 with user input ebg\n",
    "user_forbids('data/words.txt', user_input=False, forbidden='ebg')"
   ]
  },
  {
   "cell_type": "code",
   "execution_count": 16,
   "metadata": {},
   "outputs": [
    {
     "ename": "KeyboardInterrupt",
     "evalue": "",
     "output_type": "error",
     "traceback": [
      "\u001b[0;31m---------------------------------------------------------------------------\u001b[0m",
      "\u001b[0;31mKeyboardInterrupt\u001b[0m                         Traceback (most recent call last)",
      "\u001b[0;32m<ipython-input-16-c99589f9154a>\u001b[0m in \u001b[0;36m<module>\u001b[0;34m()\u001b[0m\n\u001b[1;32m      9\u001b[0m     \u001b[0mforbidden_letters\u001b[0m \u001b[0;34m=\u001b[0m \u001b[0;34m''\u001b[0m\u001b[0;34m.\u001b[0m\u001b[0mjoin\u001b[0m\u001b[0;34m(\u001b[0m\u001b[0msub\u001b[0m\u001b[0;34m)\u001b[0m\u001b[0;34m\u001b[0m\u001b[0m\n\u001b[1;32m     10\u001b[0m     \u001b[0;31m#print(forbidden_letters)\u001b[0m\u001b[0;34m\u001b[0m\u001b[0;34m\u001b[0m\u001b[0m\n\u001b[0;32m---> 11\u001b[0;31m     \u001b[0mexcluded\u001b[0m \u001b[0;34m=\u001b[0m \u001b[0muser_forbids\u001b[0m\u001b[0;34m(\u001b[0m\u001b[0;34m'data/words.txt'\u001b[0m\u001b[0;34m,\u001b[0m \u001b[0muser_input\u001b[0m\u001b[0;34m=\u001b[0m\u001b[0;32mFalse\u001b[0m\u001b[0;34m,\u001b[0m \u001b[0mforbidden\u001b[0m\u001b[0;34m=\u001b[0m\u001b[0mforbidden_letters\u001b[0m\u001b[0;34m)\u001b[0m\u001b[0;34m\u001b[0m\u001b[0m\n\u001b[0m\u001b[1;32m     12\u001b[0m     \u001b[0;31m#print(excluded)\u001b[0m\u001b[0;34m\u001b[0m\u001b[0;34m\u001b[0m\u001b[0m\n\u001b[1;32m     13\u001b[0m     \u001b[0;32mif\u001b[0m \u001b[0mexcluded\u001b[0m \u001b[0;34m<\u001b[0m \u001b[0mexcluded_words\u001b[0m\u001b[0;34m:\u001b[0m\u001b[0;34m\u001b[0m\u001b[0m\n",
      "\u001b[0;32m<ipython-input-13-2813e361635e>\u001b[0m in \u001b[0;36muser_forbids\u001b[0;34m(text, user_input, forbidden)\u001b[0m\n\u001b[1;32m     13\u001b[0m         \u001b[0mforbidden\u001b[0m \u001b[0;34m=\u001b[0m \u001b[0minput\u001b[0m\u001b[0;34m(\u001b[0m\u001b[0;34m\"Enter a list of forbidden letters: \\n\"\u001b[0m\u001b[0;34m)\u001b[0m\u001b[0;34m\u001b[0m\u001b[0m\n\u001b[1;32m     14\u001b[0m     \u001b[0mgood_words\u001b[0m \u001b[0;34m=\u001b[0m \u001b[0;36m0\u001b[0m \u001b[0;31m#number of words that don't contain the forbidden letters\u001b[0m\u001b[0;34m\u001b[0m\u001b[0m\n\u001b[0;32m---> 15\u001b[0;31m     \u001b[0;32mfor\u001b[0m \u001b[0mword\u001b[0m \u001b[0;32min\u001b[0m \u001b[0mfin\u001b[0m\u001b[0;34m:\u001b[0m\u001b[0;34m\u001b[0m\u001b[0m\n\u001b[0m\u001b[1;32m     16\u001b[0m         \u001b[0mword\u001b[0m \u001b[0;34m=\u001b[0m \u001b[0mword\u001b[0m\u001b[0;34m.\u001b[0m\u001b[0mstrip\u001b[0m\u001b[0;34m(\u001b[0m\u001b[0;34m)\u001b[0m\u001b[0;34m\u001b[0m\u001b[0m\n\u001b[1;32m     17\u001b[0m         \u001b[0;32mif\u001b[0m \u001b[0mavoids\u001b[0m\u001b[0;34m(\u001b[0m\u001b[0mword\u001b[0m\u001b[0;34m,\u001b[0m \u001b[0mforbidden\u001b[0m\u001b[0;34m)\u001b[0m\u001b[0;34m:\u001b[0m\u001b[0;34m\u001b[0m\u001b[0m\n",
      "\u001b[0;31mKeyboardInterrupt\u001b[0m: "
     ]
    }
   ],
   "source": [
    "excluded_words = 150000\n",
    "best_set = ''\n",
    "\n",
    "all_letters = string.ascii_lowercase\n",
    "\n",
    "subsets = list(itertools.combinations(all_letters, 5))\n",
    "\n",
    "for sub in subsets[::-1]:\n",
    "    forbidden_letters = ''.join(sub)\n",
    "    #print(forbidden_letters)\n",
    "    excluded = user_forbids('data/words.txt', user_input=False, forbidden=forbidden_letters)\n",
    "    #print(excluded)\n",
    "    if excluded < excluded_words:\n",
    "        excluded_words = excluded\n",
    "        #print(excluded_words)\n",
    "        #print(sub)\n",
    "        best_set = sub\n",
    "        #print(best_set)\n",
    "        \n",
    "#1679\n",
    "#('e', 'i', 'o', 's', 'u')"
   ]
  },
  {
   "cell_type": "markdown",
   "metadata": {},
   "source": [
    "**Exercise 9.4.** Write a function named uses_only that takes a word and a string of letters, and that returns True if the word contains only letters in the list. Can you make a sentence using only the letters acefhlo? Other than “Hoe alfalfa?”"
   ]
  },
  {
   "cell_type": "code",
   "execution_count": 17,
   "metadata": {},
   "outputs": [
    {
     "data": {
      "text/plain": [
       "True"
      ]
     },
     "execution_count": 17,
     "metadata": {},
     "output_type": "execute_result"
    }
   ],
   "source": [
    "def uses_only(word, use_letters):\n",
    "    for letter in word.lower():\n",
    "        if letter not in use_letters:\n",
    "            return\n",
    "    return True\n",
    "\n",
    "uses_only('Hello', 'hello')"
   ]
  },
  {
   "cell_type": "code",
   "execution_count": 18,
   "metadata": {},
   "outputs": [
    {
     "data": {
      "text/plain": [
       "188"
      ]
     },
     "execution_count": 18,
     "metadata": {},
     "output_type": "execute_result"
    }
   ],
   "source": [
    "fin = open('data/words.txt')\n",
    "hoe_alfalfa = []\n",
    "for line in fin:\n",
    "    word = line.strip()\n",
    "    if uses_only(word, 'acefhlo'):\n",
    "        hoe_alfalfa.append(word)\n",
    "        \n",
    "len(hoe_alfalfa) #that's a lot of words that contain only acefhlo, so I think we could figure out another sentence"
   ]
  },
  {
   "cell_type": "markdown",
   "metadata": {},
   "source": [
    "**Exercise 9.5.** Write a function named uses_all that takes a word and a string of required letters, and that returns True if the word uses all the required letters at least once. How many words are there that use all the vowels aeiou? How about aeiouy?"
   ]
  },
  {
   "cell_type": "code",
   "execution_count": 19,
   "metadata": {},
   "outputs": [
    {
     "name": "stdout",
     "output_type": "stream",
     "text": [
      "598 42\n"
     ]
    }
   ],
   "source": [
    "def uses_all(word, req_letters):\n",
    "    used_letters = 0\n",
    "    for letter in req_letters:\n",
    "        if letter in word:\n",
    "            used_letters += 1\n",
    "        if used_letters == len(req_letters):\n",
    "            return True\n",
    "        \n",
    "fin = open('data/words.txt')\n",
    "\n",
    "aeiou_count = 0\n",
    "aeiouy_count = 0\n",
    "\n",
    "for line in fin:\n",
    "    word = line.strip()\n",
    "    if uses_all(word, 'aeiou'):\n",
    "        aeiou_count += 1\n",
    "    if uses_all(word,'aeiouy'):\n",
    "        aeiouy_count += 1\n",
    "        \n",
    "print(aeiou_count,aeiouy_count) #pretty big gap between the two"
   ]
  },
  {
   "cell_type": "markdown",
   "metadata": {},
   "source": [
    "**Exercise 9.6.** Write a function called is_abecedarian that returns True if the letters in a word appear in alphabetical order (double letters are ok). How many abecedarian words are there?"
   ]
  },
  {
   "cell_type": "code",
   "execution_count": 20,
   "metadata": {},
   "outputs": [
    {
     "data": {
      "text/plain": [
       "596"
      ]
     },
     "execution_count": 20,
     "metadata": {},
     "output_type": "execute_result"
    }
   ],
   "source": [
    "def is_abecedarian(word):\n",
    "    flag = True\n",
    "    for i in range(len(word)-1):\n",
    "        if i == len(word)-1:\n",
    "            flag = flag\n",
    "        else:\n",
    "            if word[i] > word[i+1]:\n",
    "                flag = False\n",
    "                return flag\n",
    "    return flag\n",
    "\n",
    "fin = open('data/words.txt')\n",
    "\n",
    "abecedarian_word = 0\n",
    "\n",
    "for line in fin:\n",
    "    word = line.strip()\n",
    "    if is_abecedarian(word):\n",
    "        abecedarian_word += 1\n",
    "        \n",
    "abecedarian_word"
   ]
  },
  {
   "cell_type": "markdown",
   "metadata": {
    "collapsed": true
   },
   "source": [
    "If you were really thinking like a computer scientist, you would have recognized that uses_all was an instance of a previously solved problem, and you would have written:"
   ]
  },
  {
   "cell_type": "code",
   "execution_count": 21,
   "metadata": {},
   "outputs": [],
   "source": [
    "def uses_all(word, required):\n",
    "    return uses_only(required, word)"
   ]
  },
  {
   "cell_type": "markdown",
   "metadata": {},
   "source": [
    "This is an example of a program development plan called **reduction to a previously solved problem**, which means that you recognize the problem you are working on as an instance of a solved problem and apply an existing solution."
   ]
  },
  {
   "cell_type": "markdown",
   "metadata": {},
   "source": [
    "**Debugging**\n",
    "\n",
    "Testing programs is hard. The functions in this chapter are relatively easy to test because you can check the results by hand. Even so, it is somewhere between difficult and impos sible to choose a set of words that test for all possible errors.\n",
    "\n",
    "In addition to the test cases you generate, you can also test your program with a word list like words.txt . By scanning the output, you might be able to catch errors, but be careful: you might catch one kind of error (words that should not be included, but are) and not another (words that should be included, but aren’t)."
   ]
  },
  {
   "cell_type": "markdown",
   "metadata": {},
   "source": [
    "### Glossary\n",
    "\n",
    "**file object:** A value that represents an open file.\n",
    "\n",
    "\n",
    "**reduction to a previously solved problem:** A way of solving a problem by expressing it as an instance of a previously solved problem.\n",
    "\n",
    "\n",
    "**special case:** A test case that is atypical or non-obvious (and less likely to be handled correctly)."
   ]
  },
  {
   "cell_type": "markdown",
   "metadata": {},
   "source": [
    "### Exercises\n",
    "\n",
    "**Exercise 9.7.** This question is based on a Puzzler that was broadcast on the radio program Car Talk ( http: // www. cartalk. com/ content/ puzzlers ):\n",
    "\n",
    "Give me a word with three consecutive double letters. I’ll give you a couple of words that almost qualify, but don’t. For example, the word committee, c-o-m-m-i-t-t-e-e. It would be great except for the ‘i’ that sneaks in there. Or Mississippi: M-i-s-s-i-s-s-i-p-p-i. If you could take out those i’s it would work. But there is a word that has three consecutive pairs of letters and to the best of my knowledge this may be the only word. Of course there are probably 500 more but I can only think of one. What is the word?\n",
    "\n",
    "\n",
    "Write a program to find it."
   ]
  },
  {
   "cell_type": "code",
   "execution_count": 22,
   "metadata": {},
   "outputs": [],
   "source": [
    "def has_3_consecutive_doubles(word):\n",
    "    conc_count = 0\n",
    "    i = 0\n",
    "    while i < len(word)-1:\n",
    "        if word[i] == word[i+1]:\n",
    "            i += 2\n",
    "            conc_count +=1\n",
    "            if conc_count == 3:\n",
    "                return True\n",
    "        else:\n",
    "            conc_count = 0\n",
    "            i += 1\n",
    "    return False\n",
    "\n",
    "def find_3_consecutive_doubles():\n",
    "    fin = open('data/words.txt')\n",
    "    for line in fin:\n",
    "        word = line.strip()\n",
    "        if has_3_consecutive_doubles(word):\n",
    "            print(word)"
   ]
  },
  {
   "cell_type": "code",
   "execution_count": 23,
   "metadata": {},
   "outputs": [
    {
     "name": "stdout",
     "output_type": "stream",
     "text": [
      "bookkeeper\n",
      "bookkeepers\n",
      "bookkeeping\n",
      "bookkeepings\n"
     ]
    }
   ],
   "source": [
    "find_3_consecutive_doubles()"
   ]
  },
  {
   "cell_type": "markdown",
   "metadata": {},
   "source": [
    "**Exercise 9.8.** Here’s another Car Talk Puzzler\n",
    "\n",
    "“I was driving on the highway the other day and I happened to notice my odometer. Like most odometers, it shows six digits, in whole miles only. So, if my car had 300,000 miles, for example, I’d see 3-0-0-0-0-0. \n",
    "\n",
    "“Now, what I saw that day was very interesting. I noticed that the last 4 digits were palindromic; that is, they read the same forward as backward. For example, 5-4-4-5 is a palindrome, so my odometer could have read 3-1-5-4-4-5. \n",
    "\n",
    "“One mile later, the last 5 numbers were palindromic. For example, it could have read 3-6-5-4-5-6. One mile after that, the middle 4 out of 6 numbers were palindromic. And you ready for this? One mile later, all 6 were palindromic! \n",
    "\n",
    "“The question is, what was on the odometer when I first looked?”"
   ]
  },
  {
   "cell_type": "code",
   "execution_count": 24,
   "metadata": {},
   "outputs": [],
   "source": [
    "def is_reverse(word1, word2):\n",
    "    if len(word1) != len(word2):\n",
    "        return False\n",
    "    i = 0\n",
    "    j = len(word2)-1 #fixed\n",
    "    while j >= 0: #fixed\n",
    "        if word1[i] != word2[j]:\n",
    "            return False\n",
    "        i = i+1\n",
    "        j = j-1\n",
    "    return True\n",
    "\n",
    "def is_palindrome(word):\n",
    "    return is_reverse(word, word)"
   ]
  },
  {
   "cell_type": "markdown",
   "metadata": {},
   "source": [
    "I've been working on this for a while, finally took a peek at the solution...cases where the odometer is at a variation starting with 0 are ignored, which makes it a much easier problem. I'm going to solve it that way and hopefully I'll come back eventually and resolve solving it with the leading 0 case."
   ]
  },
  {
   "cell_type": "code",
   "execution_count": 25,
   "metadata": {},
   "outputs": [],
   "source": [
    "def palin_odometer():\n",
    "    odometer = 100000\n",
    "    while odometer <= 999999:\n",
    "        if (is_palindrome(str(odometer)[2:]) and  is_palindrome(str(odometer+1)[1:]) and\n",
    "            is_palindrome(str(odometer+2)[1:5]) and is_palindrome(str(odometer+3))):\n",
    "            print(odometer)\n",
    "            odometer += 1\n",
    "        else:\n",
    "            odometer+=1"
   ]
  },
  {
   "cell_type": "code",
   "execution_count": 26,
   "metadata": {
    "scrolled": false
   },
   "outputs": [
    {
     "name": "stdout",
     "output_type": "stream",
     "text": [
      "The following are the possible odometer readings (that do not begin with a 0):\n",
      "198888\n",
      "199999\n"
     ]
    }
   ],
   "source": [
    "print('The following are the possible odometer readings (that do not begin with a 0):')\n",
    "palin_odometer() #hurrah!"
   ]
  },
  {
   "cell_type": "markdown",
   "metadata": {
    "collapsed": true
   },
   "source": [
    "**Exercise 9.9.** Here’s another Car Talk Puzzler you can solve with a search.\n",
    "\n",
    "“Recently I had a visit with my mom and we realized that the two digits that make up my age when reversed resulted in her age.  For example, if she’s 73, I’m 37. We wondered how often this has happened over the years but we got sidetracked with other topics and we never came up with an answer.\n",
    "\n",
    "\n",
    "“When I got home I figured out that the digits of our ages have been reversible six times so far. I also figured out that if we’re lucky it would happen again in a few years, and if we’re really lucky it would happen one more time after that. In other words, it would have happened 8 times over all. So the question is, how old am I now?”\n",
    "\n",
    "\n",
    "Write a Python program that searches for solutions to this Puzzler. Hint: you might find the string method zfill useful."
   ]
  },
  {
   "cell_type": "code",
   "execution_count": 27,
   "metadata": {},
   "outputs": [],
   "source": [
    "def reverse_ages():\n",
    "    solutions = [] #let's find all ages where they could have had this happen six times so far and two more times before age 100\n",
    "    for mom_age in range(18,100): #let's check all possible mom ages from 18 to 100\n",
    "        son_age = 0 #son age starts at 0 compared to moms\n",
    "        for i,j in zip(range(mom_age,100), range(0,(100-mom_age))): #go through all combos of mom and son age to find a reverse\n",
    "            if is_reverse(str(i),str(j).zfill(2)): #check to see if we found one\n",
    "                if i+77 > 100: #if we did, make sure they won't be too old at the 8th time it happens\n",
    "                    break #if so, break\n",
    "                else:\n",
    "                    solutions.append((i+55,j+55)) #if not add 55 to our ages as thats the age they are at the 6th switch\n",
    "                    break\n",
    "    return solutions"
   ]
  },
  {
   "cell_type": "code",
   "execution_count": 28,
   "metadata": {},
   "outputs": [
    {
     "data": {
      "text/plain": [
       "[(75, 57)]"
      ]
     },
     "execution_count": 28,
     "metadata": {},
     "output_type": "execute_result"
    }
   ],
   "source": [
    "reverse_ages()"
   ]
  },
  {
   "cell_type": "code",
   "execution_count": 29,
   "metadata": {},
   "outputs": [
    {
     "name": "stdout",
     "output_type": "stream",
     "text": [
      "diff  #instances\n",
      "17 8\n",
      "18 8\n",
      "26 7\n",
      "27 7\n",
      "35 6\n",
      "36 6\n",
      "44 5\n",
      "45 5\n",
      "53 4\n",
      "54 4\n",
      "62 3\n",
      "63 3\n",
      "\n",
      "daughter  mother\n",
      "2 20\n",
      "13 31\n",
      "24 42\n",
      "35 53\n",
      "46 64\n",
      "57 75\n",
      "68 86\n",
      "79 97\n"
     ]
    },
    {
     "data": {
      "text/plain": [
       "8"
      ]
     },
     "execution_count": 29,
     "metadata": {},
     "output_type": "execute_result"
    }
   ],
   "source": [
    "from __future__ import print_function, division\n",
    "\n",
    "\n",
    "def str_fill(i, n):\n",
    "    \"\"\"Returns i as a string with at least n digits.\n",
    "\n",
    "    i: int\n",
    "    n: int length\n",
    "\n",
    "    returns: string\n",
    "    \"\"\"\n",
    "    return str(i).zfill(n)\n",
    "\n",
    "\n",
    "def are_reversed(i, j):\n",
    "    \"\"\"Checks if i and j are the reverse of each other.\n",
    "\n",
    "    i: int\n",
    "    j: int\n",
    "\n",
    "    returns:bool\n",
    "    \"\"\"\n",
    "    return str_fill(i, 2) == str_fill(j, 2)[::-1]\n",
    "\n",
    "\n",
    "def num_instances(diff, flag=False):\n",
    "    \"\"\"Counts the number of palindromic ages.\n",
    "\n",
    "    Returns the number of times the mother and daughter have\n",
    "    palindromic ages in their lives, given the difference in age.\n",
    "\n",
    "    diff: int difference in ages\n",
    "    flag: bool, if True, prints the details\n",
    "    \"\"\"\n",
    "    daughter = 0\n",
    "    count = 0\n",
    "    while True:\n",
    "        mother = daughter + diff\n",
    "\n",
    "        # assuming that mother and daughter don't have the same birthday,\n",
    "        # they have two chances per year to have palindromic ages.\n",
    "        if are_reversed(daughter, mother) or are_reversed(daughter, mother+1):\n",
    "            count = count + 1\n",
    "            if flag:\n",
    "                print(daughter, mother)\n",
    "        if mother > 120:\n",
    "            break\n",
    "        daughter = daughter + 1\n",
    "    return count\n",
    "    \n",
    "\n",
    "def check_diffs():\n",
    "    \"\"\"Finds age differences that satisfy the problem.\n",
    "\n",
    "    Enumerates the possible differences in age between mother\n",
    "    and daughter, and for each difference, counts the number of times\n",
    "    over their lives they will have ages that are the reverse of\n",
    "    each other.\n",
    "    \"\"\"\n",
    "    diff = 10\n",
    "    while diff < 70:\n",
    "        n = num_instances(diff)\n",
    "        if n > 0:\n",
    "            print(diff, n)\n",
    "        diff = diff + 1\n",
    "\n",
    "print('diff  #instances')\n",
    "check_diffs()\n",
    "\n",
    "print()\n",
    "print('daughter  mother')\n",
    "num_instances(18, True)"
   ]
  },
  {
   "cell_type": "markdown",
   "metadata": {
    "slideshow": {
     "slide_type": "slide"
    }
   },
   "source": [
    "**I appernetly need to break up my functions into smaller chunks.**"
   ]
  },
  {
   "cell_type": "code",
   "execution_count": null,
   "metadata": {},
   "outputs": [],
   "source": []
  }
 ],
 "metadata": {
  "kernelspec": {
   "display_name": "Python 3",
   "language": "python",
   "name": "python3"
  },
  "language_info": {
   "codemirror_mode": {
    "name": "ipython",
    "version": 3
   },
   "file_extension": ".py",
   "mimetype": "text/x-python",
   "name": "python",
   "nbconvert_exporter": "python",
   "pygments_lexer": "ipython3",
   "version": "3.6.1"
  }
 },
 "nbformat": 4,
 "nbformat_minor": 2
}
