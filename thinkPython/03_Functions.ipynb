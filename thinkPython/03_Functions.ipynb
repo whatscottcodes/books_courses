{
 "cells": [
  {
   "cell_type": "markdown",
   "metadata": {
    "collapsed": true
   },
   "source": [
    "## Chapter 3 - Functions"
   ]
  },
  {
   "cell_type": "markdown",
   "metadata": {},
   "source": [
    "A __function__ is a named sequence of statements that performs a computation. \n",
    "\n",
    "When you define a function, you specify the name and the sequence of statements. Later, you can “call” the function by name."
   ]
  },
  {
   "cell_type": "code",
   "execution_count": 1,
   "metadata": {},
   "outputs": [],
   "source": [
    "#Examples of Python built in functions, we call them, they take and argument and reutrn a result\n",
    "\n",
    "int(9.8) #turns float or string to int type, does not round\n",
    "float('32') #turn int or string to float type\n",
    "str(22); #turns int or float to string type"
   ]
  },
  {
   "cell_type": "markdown",
   "metadata": {},
   "source": [
    "Python has a **math** module that provides most of the familiar mathematical functions. \n",
    "\n",
    "A **module** is a file that contains a collection of related functions.\n",
    "\n",
    "Before we can use the functions in a module, we have to import it with an import statement:"
   ]
  },
  {
   "cell_type": "code",
   "execution_count": 2,
   "metadata": {},
   "outputs": [],
   "source": [
    "import math #normally we want to put these at the top of our notebooks"
   ]
  },
  {
   "cell_type": "markdown",
   "metadata": {},
   "source": [
    "This statement creates a module object named math. If you display the module object, you\n",
    "get some information about it:"
   ]
  },
  {
   "cell_type": "code",
   "execution_count": 3,
   "metadata": {},
   "outputs": [
    {
     "data": {
      "text/plain": [
       "<module 'math' from '/home/scott/anaconda3/lib/python3.6/lib-dynload/math.cpython-36m-x86_64-linux-gnu.so'>"
      ]
     },
     "execution_count": 3,
     "metadata": {},
     "output_type": "execute_result"
    }
   ],
   "source": [
    "math"
   ]
  },
  {
   "cell_type": "markdown",
   "metadata": {},
   "source": [
    "The module object contains the functions and variables defined in the module. \n",
    "\n",
    "To access one of the functions, you have to specify the name of the module and the name of the\n",
    "function, separated by a dot (also known as a period). This format is called **dot notation**."
   ]
  },
  {
   "cell_type": "code",
   "execution_count": 4,
   "metadata": {},
   "outputs": [
    {
     "data": {
      "text/plain": [
       "0.7071067811865475"
      ]
     },
     "execution_count": 4,
     "metadata": {},
     "output_type": "execute_result"
    }
   ],
   "source": [
    "degrees = 45\n",
    "radians = degrees / 180.0 * math.pi\n",
    "math.sin(radians)"
   ]
  },
  {
   "cell_type": "markdown",
   "metadata": {},
   "source": [
    "In the code above *math.sin()* is a **function** from out math module, while *math.pi* is a **variable** from the same module. Both are accessed using dot notation."
   ]
  },
  {
   "cell_type": "markdown",
   "metadata": {},
   "source": [
    "So far, we have looked at the elements of a program (variables, expressions, and statements) in isolation, without talking about how to combine them.\n",
    "\n",
    "One of the most useful features of programming languages is their ability to take small building blocks and **compose** them. For example, the argument of a function can be any kind of expression, including arithmetic operators:"
   ]
  },
  {
   "cell_type": "code",
   "execution_count": 5,
   "metadata": {},
   "outputs": [],
   "source": [
    "x = math.sin(degrees/360.0 * 2 * math.pi)"
   ]
  },
  {
   "cell_type": "code",
   "execution_count": 6,
   "metadata": {},
   "outputs": [],
   "source": [
    "#They can even take function calls\n",
    "\n",
    "x = math.exp(math.log(x+1))"
   ]
  },
  {
   "cell_type": "markdown",
   "metadata": {},
   "source": [
    "Almost anywhere you can put a value, you can put an arbitrary expression, with one exception:\n",
    "the left side of an assignment statement has to be a variable name. \n",
    "\n",
    "Any other expression on the left side is a syntax error (we will see exceptions to this rule later)."
   ]
  },
  {
   "cell_type": "code",
   "execution_count": 7,
   "metadata": {},
   "outputs": [
    {
     "ename": "SyntaxError",
     "evalue": "can't assign to operator (<ipython-input-7-442e7acd2478>, line 2)",
     "output_type": "error",
     "traceback": [
      "\u001b[0;36m  File \u001b[0;32m\"<ipython-input-7-442e7acd2478>\"\u001b[0;36m, line \u001b[0;32m2\u001b[0m\n\u001b[0;31m    hours * 60 = minutes #wrong\u001b[0m\n\u001b[0m                               ^\u001b[0m\n\u001b[0;31mSyntaxError\u001b[0m\u001b[0;31m:\u001b[0m can't assign to operator\n"
     ]
    }
   ],
   "source": [
    "minutes = hours * 60 # right\n",
    "hours * 60 = minutes #wrong"
   ]
  },
  {
   "cell_type": "markdown",
   "metadata": {},
   "source": [
    "It is possible to add new functions, our own functions! \n",
    "\n",
    "A **function definition** specifies the name of a new function and the sequence of statements that run when the function is called."
   ]
  },
  {
   "cell_type": "code",
   "execution_count": 8,
   "metadata": {},
   "outputs": [],
   "source": [
    "def print_lyrics():\n",
    "    print(\"I'm a lumberjack, and I'm okay.\")\n",
    "    print(\"I sleep all night and I work all day.\")"
   ]
  },
  {
   "cell_type": "markdown",
   "metadata": {},
   "source": [
    "**def** is a keyword that indicates that this is a function definition. \n",
    "\n",
    "The name of the function is print_lyrics. The rules for function names are the same as for variable names: letters, numbers and underscore are legal, but the first character can’t be a number. You can’t use a keyword as the name of a function, and you should avoid having a variable and a function\n",
    "with the same name.\n",
    "\n",
    "\n",
    "The empty parentheses after the name indicate that this function doesn’t take any arguments.\n",
    "\n",
    "\n",
    "The first line of the function definition is called the **header**; the rest is called the **body**. The header has to end with a colon and the body has to be indented. By convention, indentation is always four spaces. The body can contain any number of statements."
   ]
  },
  {
   "cell_type": "markdown",
   "metadata": {},
   "source": [
    "Defining a function creates a function object, which has type function."
   ]
  },
  {
   "cell_type": "code",
   "execution_count": 9,
   "metadata": {},
   "outputs": [
    {
     "data": {
      "text/plain": [
       "function"
      ]
     },
     "execution_count": 9,
     "metadata": {},
     "output_type": "execute_result"
    }
   ],
   "source": [
    "type(print_lyrics)"
   ]
  },
  {
   "cell_type": "markdown",
   "metadata": {},
   "source": [
    "The syntax for calling the new function is the same as for built-in functions:"
   ]
  },
  {
   "cell_type": "code",
   "execution_count": 10,
   "metadata": {},
   "outputs": [
    {
     "name": "stdout",
     "output_type": "stream",
     "text": [
      "I'm a lumberjack, and I'm okay.\n",
      "I sleep all night and I work all day.\n"
     ]
    }
   ],
   "source": [
    "print_lyrics()"
   ]
  },
  {
   "cell_type": "markdown",
   "metadata": {},
   "source": [
    "Once you have defined a function, you can use it inside another function. For example, to\n",
    "repeat the previous refrain, we could write a function called repeat_lyrics:"
   ]
  },
  {
   "cell_type": "code",
   "execution_count": 11,
   "metadata": {},
   "outputs": [],
   "source": [
    "def repeat_lyrics():\n",
    "    print_lyrics()\n",
    "    print_lyrics()"
   ]
  },
  {
   "cell_type": "code",
   "execution_count": 12,
   "metadata": {},
   "outputs": [
    {
     "name": "stdout",
     "output_type": "stream",
     "text": [
      "I'm a lumberjack, and I'm okay.\n",
      "I sleep all night and I work all day.\n",
      "I'm a lumberjack, and I'm okay.\n",
      "I sleep all night and I work all day.\n"
     ]
    }
   ],
   "source": [
    "repeat_lyrics()"
   ]
  },
  {
   "cell_type": "markdown",
   "metadata": {},
   "source": [
    "Pulling together the code fragments from the previous section, the whole program would look\n",
    "like this:"
   ]
  },
  {
   "cell_type": "code",
   "execution_count": 13,
   "metadata": {},
   "outputs": [
    {
     "name": "stdout",
     "output_type": "stream",
     "text": [
      "I'm a lumberjack, and I'm okay.\n",
      "I sleep all night and I work all day.\n",
      "I'm a lumberjack, and I'm okay.\n",
      "I sleep all night and I work all day.\n"
     ]
    }
   ],
   "source": [
    "def print_lyrics():\n",
    "    print(\"I'm a lumberjack, and I'm okay.\")\n",
    "    print(\"I sleep all night and I work all day.\")\n",
    "\n",
    "def repeat_lyrics():\n",
    "    print_lyrics()\n",
    "    print_lyrics()\n",
    "\n",
    "repeat_lyrics() "
   ]
  },
  {
   "cell_type": "markdown",
   "metadata": {},
   "source": [
    "This program contains two function definitions: print_lyrics and repeat_lyrics. Function definitions get executed just like other statements, but the effect is to create function objects. The statements inside the function do not run until the function is called, and the function definition generates no output."
   ]
  },
  {
   "cell_type": "markdown",
   "metadata": {},
   "source": [
    "To ensure that a function is defined before its first use, you have to know the order statements\n",
    "run in, which is called the **flow of execution**.\n",
    "\n",
    "\n",
    "Execution always begins at the first statement of the program. Statements are run one at a\n",
    "time, in order from top to bottom.\n",
    "\n",
    "\n",
    "Function definitions do not alter the flow of execution of the program, but remember that\n",
    "statements inside the function don’t run until the function is called.\n",
    "\n",
    "\n",
    "A function call is like a detour in the flow of execution. Instead of going to the next statement,\n",
    "the flow jumps to the body of the function, runs the statements there, and then comes back to pick up where it left off.\n",
    "\n",
    "In summary, when you read a program, you don’t always want to read from top to bottom.\n",
    "Sometimes it makes more sense if you follow the flow of execution."
   ]
  },
  {
   "cell_type": "markdown",
   "metadata": {},
   "source": [
    "We have touched on **arguments**, which are variables that are passed to a function. Some functions will take more than one argument.\n",
    "\n",
    "Inside the function, the arguments are assigned to variables called **parameters**. Here is a\n",
    "definition for a function that takes an argument:"
   ]
  },
  {
   "cell_type": "code",
   "execution_count": 14,
   "metadata": {},
   "outputs": [],
   "source": [
    "def print_twice(bruce):\n",
    "    print(bruce)\n",
    "    print(bruce)"
   ]
  },
  {
   "cell_type": "markdown",
   "metadata": {},
   "source": [
    "This function assigns the argument to a parameter named bruce. When the function is\n",
    "called, it prints the value of the parameter (whatever it is) twice.\n",
    "\n",
    "This function works with any value that can be printed."
   ]
  },
  {
   "cell_type": "code",
   "execution_count": 15,
   "metadata": {},
   "outputs": [
    {
     "name": "stdout",
     "output_type": "stream",
     "text": [
      "A thick chic in sandals\n",
      "A thick chic in sandals\n",
      "42\n",
      "42\n",
      "3.141592653589793\n",
      "3.141592653589793\n"
     ]
    }
   ],
   "source": [
    "print_twice(\"A thick chic in sandals\")\n",
    "print_twice(42)\n",
    "print_twice(math.pi)"
   ]
  },
  {
   "cell_type": "markdown",
   "metadata": {},
   "source": [
    "The argument is evaluated before the function is called, so in the examples the expressions 'Spam '\\*4 and math.cos(math.pi) are only evaluated once."
   ]
  },
  {
   "cell_type": "code",
   "execution_count": 16,
   "metadata": {},
   "outputs": [
    {
     "name": "stdout",
     "output_type": "stream",
     "text": [
      "SpamSpamSpamSpam\n",
      "SpamSpamSpamSpam\n",
      "-1.0\n",
      "-1.0\n"
     ]
    }
   ],
   "source": [
    "print_twice('Spam'*4)\n",
    "print_twice(math.cos(math.pi))"
   ]
  },
  {
   "cell_type": "markdown",
   "metadata": {},
   "source": [
    "You can also use a variable as an argument:\n",
    "\n",
    "The name of the variable we pass as an argument (michael) has nothing to do with the name of the parameter (bruce). It doesn’t matter what the value was called back home (in the caller); here in print_twice, we call everybody bruce."
   ]
  },
  {
   "cell_type": "code",
   "execution_count": 17,
   "metadata": {},
   "outputs": [
    {
     "name": "stdout",
     "output_type": "stream",
     "text": [
      "Welcome to the good life.\n",
      "Welcome to the good life.\n"
     ]
    }
   ],
   "source": [
    "michael = 'Welcome to the good life.'\n",
    "\n",
    "print_twice(michael)"
   ]
  },
  {
   "cell_type": "markdown",
   "metadata": {},
   "source": [
    "When you create a variable inside a function, it is local, which means that it only exists\n",
    "inside the function. For example:"
   ]
  },
  {
   "cell_type": "code",
   "execution_count": 18,
   "metadata": {},
   "outputs": [],
   "source": [
    "def cat_twice(part1, part2):\n",
    "    cat = part1 + part2\n",
    "    print_twice(cat)"
   ]
  },
  {
   "cell_type": "markdown",
   "metadata": {},
   "source": [
    "This function takes two arguments, concatenates them, and prints the result twice. Here is\n",
    "an example that uses it:"
   ]
  },
  {
   "cell_type": "code",
   "execution_count": 19,
   "metadata": {},
   "outputs": [
    {
     "name": "stdout",
     "output_type": "stream",
     "text": [
      "Bing tiddle tiddle bang.\n",
      "Bing tiddle tiddle bang.\n"
     ]
    }
   ],
   "source": [
    "line1 = 'Bing tiddle '\n",
    "line2 = 'tiddle bang.'\n",
    "cat_twice(line1, line2)"
   ]
  },
  {
   "cell_type": "markdown",
   "metadata": {},
   "source": [
    "When cat_twice terminates, the variable cat is destroyed. If we try to print it, we get an\n",
    "exception:"
   ]
  },
  {
   "cell_type": "code",
   "execution_count": 20,
   "metadata": {},
   "outputs": [
    {
     "ename": "NameError",
     "evalue": "name 'cat' is not defined",
     "output_type": "error",
     "traceback": [
      "\u001b[0;31m---------------------------------------------------------------------------\u001b[0m",
      "\u001b[0;31mNameError\u001b[0m                                 Traceback (most recent call last)",
      "\u001b[0;32m<ipython-input-20-7c3364e51d98>\u001b[0m in \u001b[0;36m<module>\u001b[0;34m()\u001b[0m\n\u001b[0;32m----> 1\u001b[0;31m \u001b[0mprint\u001b[0m\u001b[0;34m(\u001b[0m\u001b[0mcat\u001b[0m\u001b[0;34m)\u001b[0m\u001b[0;34m\u001b[0m\u001b[0m\n\u001b[0m",
      "\u001b[0;31mNameError\u001b[0m: name 'cat' is not defined"
     ]
    }
   ],
   "source": [
    "print(cat)"
   ]
  },
  {
   "cell_type": "markdown",
   "metadata": {},
   "source": [
    "Parameters are also local. For example, outside print_twice, there is no such thing as\n",
    "bruce."
   ]
  },
  {
   "cell_type": "markdown",
   "metadata": {},
   "source": [
    "Some of the functions we have used, such as the math functions, return results; for lack of\n",
    "a better name, I call them **fruitful functions**. \n",
    "\n",
    "Other functions, like print_twice, perform an action but don’t return a value. They are called **void functions**.\n",
    "\n",
    "When you call a fruitful function, you almost always want to do something with the result;\n",
    "for example, you might assign it to a variable or use it as part of an expression:"
   ]
  },
  {
   "cell_type": "code",
   "execution_count": 21,
   "metadata": {},
   "outputs": [],
   "source": [
    "x = math.cos(radians)\n",
    "golden = (math.sqrt(5) + 1) / 2"
   ]
  },
  {
   "cell_type": "markdown",
   "metadata": {},
   "source": [
    "Void functions might display something on the screen or have some other effect, but they don’t have a return value. If you assign the result to a variable, you get a special value called *None*."
   ]
  },
  {
   "cell_type": "code",
   "execution_count": 22,
   "metadata": {},
   "outputs": [
    {
     "name": "stdout",
     "output_type": "stream",
     "text": [
      "Bing\n",
      "Bing\n",
      "None\n"
     ]
    }
   ],
   "source": [
    "result = print_twice('Bing')\n",
    "print(result)"
   ]
  },
  {
   "cell_type": "markdown",
   "metadata": {},
   "source": [
    "The value None is not the same as the string 'None'. It is a special value that has its own\n",
    "type:"
   ]
  },
  {
   "cell_type": "code",
   "execution_count": 23,
   "metadata": {},
   "outputs": [
    {
     "data": {
      "text/plain": [
       "NoneType"
      ]
     },
     "execution_count": 23,
     "metadata": {},
     "output_type": "execute_result"
    }
   ],
   "source": [
    "type(None)"
   ]
  },
  {
   "cell_type": "markdown",
   "metadata": {},
   "source": [
    "**Why functions?**\n",
    "\n",
    ">Creating a new function gives you an opportunity to name a group of statements,\n",
    "which makes your program easier to read and debug.\n",
    "\n",
    ">Functions can make a program smaller by eliminating repetitive code. Later, if you\n",
    "make a change, you only have to make it in one place.\n",
    "\n",
    ">Dividing a long program into functions allows you to debug the parts one at a time\n",
    "and then assemble them into a working whole.\n",
    "\n",
    ">Well-designed functions are often useful for many programs. Once you write and\n",
    "debug one, you can reuse it."
   ]
  },
  {
   "cell_type": "markdown",
   "metadata": {},
   "source": [
    "**Debugging**\n",
    "\n",
    "In some ways debugging is like detective work. You are confronted with clues and you\n",
    "have to infer the processes and events that led to the results you see.\n",
    "\n",
    "\n",
    "Debugging is also like an experimental science. Once you have an idea about what is going wrong, you modify your program and try again. If your hypothesis was correct, you can predict the result of the modification, and you take a step closer to a working program. If your hypothesis was wrong, you have to come up with a new one."
   ]
  },
  {
   "cell_type": "markdown",
   "metadata": {},
   "source": [
    "### Glossary\n",
    "\n",
    "__function:__ A named sequence of statements that performs some useful operation. Functions\n",
    "may or may not take arguments and may or may not produce a result.\n",
    "\n",
    "\n",
    "__function definition:__ A statement that creates a new function, specifying its name, parameters,\n",
    "and the statements it contains.\n",
    "\n",
    "\n",
    "__function object:__ A value created by a function definition. The name of the function is a\n",
    "variable that refers to a function object.\n",
    "\n",
    "\n",
    "__header:__ The first line of a function definition.\n",
    "\n",
    "\n",
    "__body:__ The sequence of statements inside a function definition.\n",
    "\n",
    "\n",
    "__parameter:__ A name used inside a function to refer to the value passed as an argument.\n",
    "\n",
    "\n",
    "__function call:__ A statement that runs a function. It consists of the function name followed\n",
    "by an argument list in parentheses.\n",
    "\n",
    "\n",
    "__argument:__ A value provided to a function when the function is called. This value is assigned\n",
    "to the corresponding parameter in the function.\n",
    "\n",
    "\n",
    "__local variable:__ A variable defined inside a function. A local variable can only be used\n",
    "inside its function.\n",
    "\n",
    "\n",
    "__return value:__ The result of a function. If a function call is used as an expression, the return\n",
    "value is the value of the expression.\n",
    "\n",
    "\n",
    "__fruitful function:__ A function that returns a value.\n",
    "\n",
    "\n",
    "__void function:__ A function that always returns None.\n",
    "\n",
    "\n",
    "__None:__ A special value returned by void functions.\n",
    "\n",
    "\n",
    "__module:__ A file that contains a collection of related functions and other definitions.\n",
    "\n",
    "\n",
    "__import statement:__ A statement that reads a module file and creates a module object.\n",
    "\n",
    "\n",
    "__module object:__ A value created by an import statement that provides access to the values\n",
    "defined in a module.\n",
    "\n",
    "\n",
    "__dot notation:__ The syntax for calling a function in another module by specifying the module\n",
    "name followed by a dot (period) and the function name.\n",
    "\n",
    "\n",
    "__composition:__ Using an expression as part of a larger expression, or a statement as part of\n",
    "a larger statement.\n",
    "\n",
    "\n",
    "__flow of execution:__ The order statements run in.\n",
    "\n",
    "\n",
    "__stack diagram:__ A graphical representation of a stack of functions, their variables, and the\n",
    "values they refer to.\n",
    "\n",
    "\n",
    "__frame:__ A box in a stack diagram that represents a function call. It contains the local variables\n",
    "and parameters of the function.\n",
    "\n",
    "\n",
    "__traceback:__ A list of the functions that are executing, printed when an exception occurs."
   ]
  },
  {
   "cell_type": "markdown",
   "metadata": {},
   "source": [
    "### Exercises\n",
    "\n",
    "**Exercise 3.1.** Write a function named right_justify that takes a string named *s* as a parameter and prints the string with enough leading spaces so that the last letter of the string is in column 70\n",
    "of the display.\n",
    "\n",
    "*Hint:* Use string concatenation and repetition. Also, Python provides a built-in function called len\n",
    "that returns the length of a string, so the value of len('monty') is 5."
   ]
  },
  {
   "cell_type": "code",
   "execution_count": 24,
   "metadata": {},
   "outputs": [],
   "source": [
    "def right_justify(s):\n",
    "    spaces = 70 - len(s)\n",
    "    print(\" \"*spaces + s)"
   ]
  },
  {
   "cell_type": "code",
   "execution_count": 25,
   "metadata": {},
   "outputs": [
    {
     "name": "stdout",
     "output_type": "stream",
     "text": [
      "                                                                 monty\n"
     ]
    }
   ],
   "source": [
    "right_justify('monty')"
   ]
  },
  {
   "cell_type": "markdown",
   "metadata": {},
   "source": [
    "**Exercise 3.2.** A function object is a value you can assign to a variable or pass as an argument. For example, do_twice is a function that takes a function object as an argument and calls it twice:"
   ]
  },
  {
   "cell_type": "code",
   "execution_count": 26,
   "metadata": {},
   "outputs": [],
   "source": [
    "def do_twice(f):\n",
    "    f()\n",
    "    f()"
   ]
  },
  {
   "cell_type": "markdown",
   "metadata": {},
   "source": [
    "Here’s an example that uses do_twice to call a function named print_spam twice."
   ]
  },
  {
   "cell_type": "code",
   "execution_count": 27,
   "metadata": {},
   "outputs": [
    {
     "name": "stdout",
     "output_type": "stream",
     "text": [
      "spam\n",
      "spam\n"
     ]
    }
   ],
   "source": [
    "def print_spam():\n",
    "    print('spam')\n",
    "\n",
    "do_twice(print_spam)"
   ]
  },
  {
   "cell_type": "markdown",
   "metadata": {},
   "source": [
    "1. Type this example into a script and test it.\n",
    "\n",
    "2. Modify do_twice so that it takes two arguments, a function object and a value, and calls the function twice, passing the value as an argument.\n",
    "\n",
    "3. Copy the definition of print_twice from earlier in this chapter to your script.\n",
    "\n",
    "4. Use the modified version of do_twice to call print_twice twice, passing 'spam' as an argument.\n",
    "\n",
    "5. Define a new function called do_four that takes a function object and a value and calls the function four times, passing the value as a parameter. There should be only two statements in the body of this function, not four."
   ]
  },
  {
   "cell_type": "code",
   "execution_count": 28,
   "metadata": {},
   "outputs": [],
   "source": [
    "#Answer 1 done above, it works\n",
    "\n",
    "#Answer 2\n",
    "\n",
    "def do_twice(f, val):\n",
    "    f(val)\n",
    "    f(val)"
   ]
  },
  {
   "cell_type": "code",
   "execution_count": 29,
   "metadata": {},
   "outputs": [
    {
     "name": "stdout",
     "output_type": "stream",
     "text": [
      "spam\n",
      "spam\n",
      "spam\n",
      "spam\n"
     ]
    }
   ],
   "source": [
    "#Answer 3 \n",
    "do_twice(print_twice,'spam')"
   ]
  },
  {
   "cell_type": "code",
   "execution_count": 30,
   "metadata": {},
   "outputs": [
    {
     "name": "stdout",
     "output_type": "stream",
     "text": [
      "spam\n",
      "spam\n",
      "spam\n",
      "spam\n"
     ]
    }
   ],
   "source": [
    "#Answer 4\n",
    "\n",
    "def do_four(f, val):\n",
    "    do_twice(f,val)\n",
    "    do_twice(f,val)\n",
    "    \n",
    "do_four(print, 'spam')"
   ]
  },
  {
   "cell_type": "markdown",
   "metadata": {},
   "source": [
    "Exercise 3.3. Note: This exercise should be done using only the statements and other features we\n",
    "have learned so far.\n",
    "\n",
    "*1. Write a function that draws a grid like the following:*\n",
    "\n",
    "**You'll see**\n",
    "\n",
    "*Hint:* to print more than one value on a line, you can print a comma-separated sequence of\n",
    "values:\n",
    "\n",
    "print('+', '-')\n",
    "\n",
    "By default, print advances to the next line, but you can override that behavior and put a\n",
    "space at the end, like this:\n",
    "\n",
    "print('+', end=' ')\n",
    "\n",
    "print('-')\n",
    "\n",
    "The output of these statements is '+ -' on the same line. The output from the next print\n",
    "statement would begin on the next line.\n",
    "\n",
    "*2. Write a function that draws a similar grid with four rows and four columns.*"
   ]
  },
  {
   "cell_type": "code",
   "execution_count": 31,
   "metadata": {},
   "outputs": [
    {
     "name": "stdout",
     "output_type": "stream",
     "text": [
      "+  - - - -  +  - - - -  +\n",
      "|           |           |\n",
      "|           |           |\n",
      "|           |           |\n",
      "|           |           |\n",
      "+  - - - -  +  - - - -  +\n",
      "|           |           |\n",
      "|           |           |\n",
      "|           |           |\n",
      "|           |           |\n",
      "+  - - - -  +  - - - -  +\n"
     ]
    }
   ],
   "source": [
    "def draw_grid():\n",
    "    print('+ ', '- '*4, '+ ', '- '*4, '+')\n",
    "    print('| ', '  '*4, '| ', '  '*4, '|')\n",
    "    print('| ', '  '*4, '| ', '  '*4, '|')\n",
    "    print('| ', '  '*4, '| ', '  '*4, '|')\n",
    "    print('| ', '  '*4, '| ', '  '*4, '|')\n",
    "    print('+ ', '- '*4, '+ ', '- '*4, '+')\n",
    "    print('| ', '  '*4, '| ', '  '*4, '|')\n",
    "    print('| ', '  '*4, '| ', '  '*4, '|')\n",
    "    print('| ', '  '*4, '| ', '  '*4, '|')\n",
    "    print('| ', '  '*4, '| ', '  '*4, '|')\n",
    "    print('+ ', '- '*4, '+ ', '- '*4, '+')\n",
    "\n",
    "draw_grid()"
   ]
  },
  {
   "cell_type": "code",
   "execution_count": 32,
   "metadata": {},
   "outputs": [
    {
     "name": "stdout",
     "output_type": "stream",
     "text": [
      "+  - - - -  +  - - - -  +  - - - -  +\n",
      "|           |           |           |\n",
      "|           |           |           |\n",
      "|           |           |           |\n",
      "|           |           |           |\n",
      "+  - - - -  +  - - - -  +  - - - -  +\n",
      "|           |           |           |\n",
      "|           |           |           |\n",
      "|           |           |           |\n",
      "|           |           |           |\n",
      "+  - - - -  +  - - - -  +  - - - -  +\n",
      "|           |           |           |\n",
      "|           |           |           |\n",
      "|           |           |           |\n",
      "|           |           |           |\n",
      "+  - - - -  +  - - - -  +  - - - -  +\n",
      "|           |           |           |\n",
      "|           |           |           |\n",
      "|           |           |           |\n",
      "|           |           |           |\n",
      "+  - - - -  +  - - - -  +  - - - -  +\n"
     ]
    }
   ],
   "source": [
    "def draw_gridv2():\n",
    "    print('+ ', '- '*4, '+ ', '- '*4, '+ ', '- '*4, '+')\n",
    "    print('| ', '  '*4, '| ', '  '*4, '| ', '  '*4, '|')\n",
    "    print('| ', '  '*4, '| ', '  '*4, '| ', '  '*4, '|')\n",
    "    print('| ', '  '*4, '| ', '  '*4, '| ', '  '*4, '|')\n",
    "    print('| ', '  '*4, '| ', '  '*4, '| ', '  '*4, '|')\n",
    "    print('+ ', '- '*4, '+ ', '- '*4, '+ ', '- '*4, '+')\n",
    "    print('| ', '  '*4, '| ', '  '*4, '| ', '  '*4, '|')\n",
    "    print('| ', '  '*4, '| ', '  '*4, '| ', '  '*4, '|')\n",
    "    print('| ', '  '*4, '| ', '  '*4, '| ', '  '*4, '|')\n",
    "    print('| ', '  '*4, '| ', '  '*4, '| ', '  '*4, '|')\n",
    "    print('+ ', '- '*4, '+ ', '- '*4, '+ ', '- '*4, '+')\n",
    "    print('| ', '  '*4, '| ', '  '*4, '| ', '  '*4, '|')\n",
    "    print('| ', '  '*4, '| ', '  '*4, '| ', '  '*4, '|')\n",
    "    print('| ', '  '*4, '| ', '  '*4, '| ', '  '*4, '|')\n",
    "    print('| ', '  '*4, '| ', '  '*4, '| ', '  '*4, '|')\n",
    "    print('+ ', '- '*4, '+ ', '- '*4, '+ ', '- '*4, '+')\n",
    "    print('| ', '  '*4, '| ', '  '*4, '| ', '  '*4, '|')\n",
    "    print('| ', '  '*4, '| ', '  '*4, '| ', '  '*4, '|')\n",
    "    print('| ', '  '*4, '| ', '  '*4, '| ', '  '*4, '|')\n",
    "    print('| ', '  '*4, '| ', '  '*4, '| ', '  '*4, '|')\n",
    "    print('+ ', '- '*4, '+ ', '- '*4, '+ ', '- '*4, '+')   \n",
    "\n",
    "draw_gridv2()"
   ]
  },
  {
   "cell_type": "code",
   "execution_count": null,
   "metadata": {},
   "outputs": [],
   "source": []
  }
 ],
 "metadata": {
  "kernelspec": {
   "display_name": "Python 3",
   "language": "python",
   "name": "python3"
  },
  "language_info": {
   "codemirror_mode": {
    "name": "ipython",
    "version": 3
   },
   "file_extension": ".py",
   "mimetype": "text/x-python",
   "name": "python",
   "nbconvert_exporter": "python",
   "pygments_lexer": "ipython3",
   "version": "3.6.1"
  }
 },
 "nbformat": 4,
 "nbformat_minor": 2
}
