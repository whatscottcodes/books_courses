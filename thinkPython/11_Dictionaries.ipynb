{
 "cells": [
  {
   "cell_type": "markdown",
   "metadata": {
    "collapsed": true
   },
   "source": [
    "## Chapter 11 - Dictionaries"
   ]
  },
  {
   "cell_type": "markdown",
   "metadata": {},
   "source": [
    "A **dictionary** is like a list, but more general. In a list, the indices have to be integers; in a dictionary they can be (almost) any type.\n",
    "\n",
    "A dictionary contains a collection of indices, which are called **keys**, and a collection of values. Each key is associated with a single value. The association of a key and a value is called a **key-value pair** or sometimes an **item**.\n",
    "\n",
    "In mathematical language, a dictionary represents a **mapping** from keys to values, so you can also say that each key “maps to” a value."
   ]
  },
  {
   "cell_type": "markdown",
   "metadata": {},
   "source": [
    "The function *dict* creates a new dictionary with no items. Because dict is the name of a built-in function, you should avoid using it as a variable name."
   ]
  },
  {
   "cell_type": "code",
   "execution_count": 2,
   "metadata": {},
   "outputs": [
    {
     "data": {
      "text/plain": [
       "{}"
      ]
     },
     "execution_count": 2,
     "metadata": {},
     "output_type": "execute_result"
    }
   ],
   "source": [
    "eng2sp = dict()\n",
    "eng2sp"
   ]
  },
  {
   "cell_type": "markdown",
   "metadata": {},
   "source": [
    "The squiggly-brackets, {}, represent an empty dictionary. To add items to the dictionary, you can use square brackets:"
   ]
  },
  {
   "cell_type": "code",
   "execution_count": 4,
   "metadata": {},
   "outputs": [
    {
     "data": {
      "text/plain": [
       "{'one': 'uno'}"
      ]
     },
     "execution_count": 4,
     "metadata": {},
     "output_type": "execute_result"
    }
   ],
   "source": [
    "eng2sp['one'] = 'uno'\n",
    "eng2sp"
   ]
  },
  {
   "cell_type": "markdown",
   "metadata": {},
   "source": [
    "This line creates an item that maps from the key 'one' to the value 'uno'. If when print the dictionary again, we see a key-value pair with a colon between the key and value.\n",
    "\n",
    "You can also create a new dictionary with three items using that same squiggly-bracket notation of the output."
   ]
  },
  {
   "cell_type": "code",
   "execution_count": 6,
   "metadata": {},
   "outputs": [
    {
     "data": {
      "text/plain": [
       "{'one': 'uno', 'three': 'tres', 'two': 'dos'}"
      ]
     },
     "execution_count": 6,
     "metadata": {},
     "output_type": "execute_result"
    }
   ],
   "source": [
    "eng2sp = {'one': 'uno', 'two': 'dos', 'three': 'tres'}\n",
    "eng2sp"
   ]
  },
  {
   "cell_type": "markdown",
   "metadata": {},
   "source": [
    "Our printed eng2sp might be surprising.\n",
    "\n",
    "The order of the key-value pairs might not be the same. If you type the same example on your computer, you might get a different result. In general, the order of items in a dictionary is unpredictable.\n",
    "\n",
    "But that’s not a problem because the elements of a dictionary are never indexed with integer indices. Instead, you use the keys to look up the corresponding values:"
   ]
  },
  {
   "cell_type": "code",
   "execution_count": 7,
   "metadata": {},
   "outputs": [
    {
     "data": {
      "text/plain": [
       "'dos'"
      ]
     },
     "execution_count": 7,
     "metadata": {},
     "output_type": "execute_result"
    }
   ],
   "source": [
    "eng2sp['two']"
   ]
  },
  {
   "cell_type": "markdown",
   "metadata": {},
   "source": [
    "The key 'two' always maps to the value 'dos' so the order of the items doesn’t matter.\n",
    "\n",
    "If the key isn’t in the dictionary, you get an exception:"
   ]
  },
  {
   "cell_type": "code",
   "execution_count": 8,
   "metadata": {},
   "outputs": [
    {
     "ename": "KeyError",
     "evalue": "'four'",
     "output_type": "error",
     "traceback": [
      "\u001b[0;31m---------------------------------------------------------------------------\u001b[0m",
      "\u001b[0;31mKeyError\u001b[0m                                  Traceback (most recent call last)",
      "\u001b[0;32m<ipython-input-8-d6070d49aedb>\u001b[0m in \u001b[0;36m<module>\u001b[0;34m()\u001b[0m\n\u001b[0;32m----> 1\u001b[0;31m \u001b[0meng2sp\u001b[0m\u001b[0;34m[\u001b[0m\u001b[0;34m'four'\u001b[0m\u001b[0;34m]\u001b[0m\u001b[0;34m\u001b[0m\u001b[0m\n\u001b[0m",
      "\u001b[0;31mKeyError\u001b[0m: 'four'"
     ]
    }
   ],
   "source": [
    "eng2sp['four']"
   ]
  },
  {
   "cell_type": "markdown",
   "metadata": {},
   "source": [
    "The len function works on dictionaries; it returns the number of key-value pairs:"
   ]
  },
  {
   "cell_type": "code",
   "execution_count": 9,
   "metadata": {},
   "outputs": [
    {
     "data": {
      "text/plain": [
       "3"
      ]
     },
     "execution_count": 9,
     "metadata": {},
     "output_type": "execute_result"
    }
   ],
   "source": [
    "len(eng2sp)"
   ]
  },
  {
   "cell_type": "markdown",
   "metadata": {},
   "source": [
    "The in operator works on dictionaries, too; it tells you whether something appears as a **key** in the dictionary (appearing as a value is not good enough)."
   ]
  },
  {
   "cell_type": "code",
   "execution_count": 10,
   "metadata": {},
   "outputs": [
    {
     "name": "stdout",
     "output_type": "stream",
     "text": [
      "True\n",
      "False\n"
     ]
    }
   ],
   "source": [
    "print('one' in eng2sp)\n",
    "print('uno' in eng2sp)"
   ]
  },
  {
   "cell_type": "markdown",
   "metadata": {},
   "source": [
    "The in operator uses different algorithms for lists and dictionaries. For lists, it searches the elements of the list in order. As the list gets longer, the search time gets longer in direct proportion.\n",
    "\n",
    "*cool*\n",
    "For dictionaries, Python uses an algorithm called a **hashtable** that has a remarkable property: the in operator takes about the same amount of time no matter how many items are in the dictionary."
   ]
  },
  {
   "cell_type": "markdown",
   "metadata": {},
   "source": [
    "An **implementation** is a way of performing a computation; some implementations are better than others. For example, an advantage of the dictionary implementation is that we don’t have to know ahead of time which letters appear in the string and we only have to make room for the letters that do appear."
   ]
  },
  {
   "cell_type": "markdown",
   "metadata": {},
   "source": [
    "The name of the function is histogram, which is a statistical term for a collection of counters (or frequencies).\n",
    "\n",
    "\n",
    "The first line of the function creates an empty dictionary. The for loop traverses the string. Each time through the loop, if the character c is not in the dictionary, we create a new item with key c and the initial value 1 (since we have seen this letter once). If c is already in the dictionary we increment d[c]."
   ]
  },
  {
   "cell_type": "code",
   "execution_count": 11,
   "metadata": {},
   "outputs": [],
   "source": [
    "def histogram(s):\n",
    "    d = dict()\n",
    "    for c in s:\n",
    "        if c not in d:\n",
    "            d[c] = 1\n",
    "        else:\n",
    "            d[c] += 1\n",
    "    return d"
   ]
  },
  {
   "cell_type": "code",
   "execution_count": 12,
   "metadata": {},
   "outputs": [
    {
     "data": {
      "text/plain": [
       "{'a': 1, 'b': 1, 'n': 1, 'o': 2, 'r': 2, 's': 2, 't': 1, 'u': 2}"
      ]
     },
     "execution_count": 12,
     "metadata": {},
     "output_type": "execute_result"
    }
   ],
   "source": [
    "h = histogram('brontosaurus')\n",
    "h"
   ]
  },
  {
   "cell_type": "markdown",
   "metadata": {},
   "source": [
    "Dictionaries have a method called **get** that takes a key and a default value. If the key appears in the dictionary, get returns the corresponding value; otherwise it returns the default value. For example:"
   ]
  },
  {
   "cell_type": "code",
   "execution_count": 13,
   "metadata": {},
   "outputs": [
    {
     "data": {
      "text/plain": [
       "0"
      ]
     },
     "execution_count": 13,
     "metadata": {},
     "output_type": "execute_result"
    }
   ],
   "source": [
    "h.get('c',0)"
   ]
  },
  {
   "cell_type": "markdown",
   "metadata": {},
   "source": [
    "As an exercise, use get to write histogram more concisely. You should be able to eliminate the if statement.\n",
    "\n",
    "**This is pretty interesting!**"
   ]
  },
  {
   "cell_type": "code",
   "execution_count": 14,
   "metadata": {},
   "outputs": [],
   "source": [
    "def histogram(s):\n",
    "    d = dict()\n",
    "    for c in s:\n",
    "        d[c] = d.get(c, 0) + 1\n",
    "    return d"
   ]
  },
  {
   "cell_type": "code",
   "execution_count": 15,
   "metadata": {},
   "outputs": [
    {
     "data": {
      "text/plain": [
       "{'a': 1, 'b': 1, 'n': 1, 'o': 2, 'r': 2, 's': 2, 't': 1, 'u': 2}"
      ]
     },
     "execution_count": 15,
     "metadata": {},
     "output_type": "execute_result"
    }
   ],
   "source": [
    "h = histogram('brontosaurus')\n",
    "h"
   ]
  },
  {
   "cell_type": "markdown",
   "metadata": {},
   "source": [
    "If you use a dictionary in a for statement, it traverses the keys of the dictionary.\n",
    "\n",
    "Again, the keys are in no particular order. To traverse the keys in sorted order, you can use the built-in function sorted:"
   ]
  },
  {
   "cell_type": "code",
   "execution_count": 16,
   "metadata": {},
   "outputs": [
    {
     "name": "stdout",
     "output_type": "stream",
     "text": [
      "a 1\n",
      "b 1\n",
      "n 1\n",
      "o 2\n",
      "r 2\n",
      "s 2\n",
      "t 1\n",
      "u 2\n"
     ]
    }
   ],
   "source": [
    "for key in sorted(h):\n",
    "    print(key, h[key])"
   ]
  },
  {
   "cell_type": "markdown",
   "metadata": {},
   "source": [
    "Given a dictionary d and a key k, it is easy to find the corresponding value v = d[k]. This operation is called a **lookup**."
   ]
  },
  {
   "cell_type": "markdown",
   "metadata": {},
   "source": [
    "But what if you have v and you want to find k? You have two problems: first, there might be more than one key that maps to the value v. Depending on the application, you might be able to pick one, or you might have to make a list that contains all of them. Second, there is no simple syntax to do a **reverse lookup**; you have to search."
   ]
  },
  {
   "cell_type": "markdown",
   "metadata": {},
   "source": [
    "Here is a function that takes a value and returns the first key that maps to that value:"
   ]
  },
  {
   "cell_type": "code",
   "execution_count": 17,
   "metadata": {},
   "outputs": [],
   "source": [
    "def reverse_lookup(d, v):\n",
    "    for k in d:\n",
    "        if d[k] == v:\n",
    "            return k\n",
    "    raise LookupError()"
   ]
  },
  {
   "cell_type": "markdown",
   "metadata": {},
   "source": [
    "This function is yet another example of the search pattern, but it uses a feature we haven’t seen before, **raise**. The raise statement causes an exception; in this case it causes a LookupError, which is a built-in exception used to indicate that a lookup operation failed.\n",
    "\n",
    "If we get to the end of the loop, that means v doesn’t appear in the dictionary as a value, so we raise an exception."
   ]
  },
  {
   "cell_type": "markdown",
   "metadata": {},
   "source": [
    "The effect when you raise an exception is the same as when Python raises one: it prints a traceback and an error message.\n",
    "\n",
    "The raise statement can take a detailed error message as an optional argument. For example:"
   ]
  },
  {
   "cell_type": "code",
   "execution_count": 18,
   "metadata": {},
   "outputs": [
    {
     "ename": "LookupError",
     "evalue": "value does not appear in the dictionary",
     "output_type": "error",
     "traceback": [
      "\u001b[0;31m---------------------------------------------------------------------------\u001b[0m",
      "\u001b[0;31mLookupError\u001b[0m                               Traceback (most recent call last)",
      "\u001b[0;32m<ipython-input-18-809967c2546f>\u001b[0m in \u001b[0;36m<module>\u001b[0;34m()\u001b[0m\n\u001b[0;32m----> 1\u001b[0;31m \u001b[0;32mraise\u001b[0m \u001b[0mLookupError\u001b[0m\u001b[0;34m(\u001b[0m\u001b[0;34m'value does not appear in the dictionary'\u001b[0m\u001b[0;34m)\u001b[0m\u001b[0;34m\u001b[0m\u001b[0m\n\u001b[0m",
      "\u001b[0;31mLookupError\u001b[0m: value does not appear in the dictionary"
     ]
    }
   ],
   "source": [
    "raise LookupError('value does not appear in the dictionary')"
   ]
  },
  {
   "cell_type": "markdown",
   "metadata": {},
   "source": [
    "A reverse lookup is much slower than a forward lookup; if you have to do it often, or if the dictionary gets big, the performance of your program will suffer."
   ]
  },
  {
   "cell_type": "markdown",
   "metadata": {},
   "source": [
    "Lists can appear as values in a dictionary.\n",
    "\n",
    "For example, if you are given a dictionary that maps from letters to frequencies, you might want to invert it; that is, create a dictionary that maps from frequencies to letters. Since there might be several letters with the same frequency, each value in the inverted dictionary should be a list of letters.\n",
    "\n",
    "Here is a function that inverts a dictionary:"
   ]
  },
  {
   "cell_type": "code",
   "execution_count": 19,
   "metadata": {},
   "outputs": [],
   "source": [
    "def invert_dict(d):\n",
    "    inverse = {}\n",
    "    for key in d:\n",
    "        val = d[key]\n",
    "        if val not in inverse:\n",
    "            inverse[val] = [key]\n",
    "        else:\n",
    "            inverse[val].append(key)\n",
    "    return inverse"
   ]
  },
  {
   "cell_type": "markdown",
   "metadata": {},
   "source": [
    "Each time through the loop, key gets a key from d and val gets the corresponding value. If val is not in inverse, that means we haven’t seen it before, so we create a new item and initialize it with a **singleton** (a list that contains a single element). Otherwise we have seen this value before, so we append the corresponding key to the list.\n",
    "\n",
    "Lists can be values in a dictionary, as this example shows, but they **cannot be keys**."
   ]
  },
  {
   "cell_type": "markdown",
   "metadata": {},
   "source": [
    "mentioned earlier that a dictionary is implemented using a **hashtable** and that means that the keys have to be hashable.\n",
    "A hash is a function that takes a value (of any kind) and returns an integer. \n",
    "\n",
    "Dictionaries use these integers, called **hash values**, to store and look up key-value pairs.\n",
    "\n",
    "This system works fine if the keys are immutable. But if the keys are mutable, like lists, bad things happen.\n",
    "\n",
    "Since dictionaries are **mutable**, they can’t be used as keys, but they can be used as values."
   ]
  },
  {
   "cell_type": "markdown",
   "metadata": {},
   "source": [
    "In the fibonacci function from Section 6.7, you might have noticed that the bigger the argument you provide, the longer the function takes to run. Furthermore, the run time increases quickly.\n",
    "\n",
    "One solution is to keep track of values that have already been computed by storing them in a dictionary. A previously computed value that is stored for later use is called a **memo**. Here is a **“memoized”** version of fibonacci:"
   ]
  },
  {
   "cell_type": "code",
   "execution_count": 20,
   "metadata": {},
   "outputs": [],
   "source": [
    "known = {0:0, 1:1} #keeps track of the fib numbers we already know\n",
    "\n",
    "def fib(n):\n",
    "    if n in known:\n",
    "        return known[n]\n",
    "    res = fib(n-1) + fib(n-2)\n",
    "    know[n] = res\n",
    "    return res"
   ]
  },
  {
   "cell_type": "markdown",
   "metadata": {},
   "source": [
    "Whenever fibonacci is called, it checks known. If the result is already there, it can return immediately. Otherwise it has to compute the new value, add it to the dictionary, and return it."
   ]
  },
  {
   "cell_type": "markdown",
   "metadata": {},
   "source": [
    "In this example *known* is created outside the function, so it is called a **global** because it can be accessed from any function.\n",
    "\n",
    "It is commong to use global variables for **flags**; boolean variables that indicate(\"flag\") where a condition is true.\n",
    "\n",
    "If you try to reassign a global variable you have to **declare** the globale variable in the function before you use it."
   ]
  },
  {
   "cell_type": "code",
   "execution_count": 21,
   "metadata": {},
   "outputs": [
    {
     "name": "stdout",
     "output_type": "stream",
     "text": [
      "False\n",
      "True\n"
     ]
    }
   ],
   "source": [
    "been_called = False\n",
    "\n",
    "def example2():\n",
    "    global been_called\n",
    "    been_called = True\n",
    "    \n",
    "print(been_called)\n",
    "example2()\n",
    "print(been_called)"
   ]
  },
  {
   "cell_type": "markdown",
   "metadata": {},
   "source": [
    "The **global statement** tells the interpreter something like, “In this function, when I say been_called, I mean the global variable; don’t create a local one.”"
   ]
  },
  {
   "cell_type": "markdown",
   "metadata": {},
   "source": [
    "If a global variable refers to a **mutable value**, you can modify the value without declaring the variable. So you can add, remove and replace elements of a global list or dictionary, but if you want to reassign the variable, you have to declare it;"
   ]
  },
  {
   "cell_type": "code",
   "execution_count": 25,
   "metadata": {},
   "outputs": [
    {
     "name": "stdout",
     "output_type": "stream",
     "text": [
      "{0: 0, 1: 1, 2: 1}\n",
      "{}\n"
     ]
    }
   ],
   "source": [
    "known = {0:0, 1:1}\n",
    "def example4():\n",
    "    known[2] = 1\n",
    "example4()\n",
    "print(known)\n",
    "\n",
    "def example5():\n",
    "    global known\n",
    "    known = dict()\n",
    "example5()\n",
    "print(known)"
   ]
  },
  {
   "cell_type": "markdown",
   "metadata": {},
   "source": [
    "Global variables can be useful, but if you have a lot of them, and you modify them frequently, they can make programs hard to debug."
   ]
  },
  {
   "cell_type": "markdown",
   "metadata": {},
   "source": [
    "**Debugging**\n",
    "\n",
    "Here are some suggestions for debugging large datasets:\n",
    "\n",
    "**Scale down the input:** If possible, reduce the size of the dataset. For example if the program reads a text file, start with just the first 10 lines, or with the smallest example you can find. You can either edit the files themselves, or (better) modify the program so it reads only the first n lines.\n",
    "\n",
    "If there is an error, you can reduce n to the smallest value that manifests the error, and then increase it gradually as you find and correct errors.\n",
    "\n",
    "\n",
    "**Check summaries and types:** Instead of printing and checking the entire dataset, consider printing summaries of the data: for example, the number of items in a dictionary or the total of a list of numbers.\n",
    "\n",
    "A common cause of runtime errors is a value that is not the right type. For debugging this kind of error, it is often enough to print the type of a value.\n",
    "\n",
    "\n",
    "**Write self-checks:** Sometimes you can write code to check for errors automatically. For example, if you are computing the average of a list of numbers, you could check that the result is not greater than the largest element in the list or less than the smallest.\n",
    "\n",
    "This is called a **“sanity check”** because it detects results that are “insane”. \n",
    "\n",
    "Another kind of check compares the results of two different computations to see if they are consistent. This is called a **“consistency check”.**\n",
    "\n",
    "\n",
    "**Format the output:** Formatting debugging output can make it easier to spot an error. We saw an example in Section 6.9. Another tool you might find useful is the pprint module, which provides a pprint function that displays built-in types in a more humanreadable format (pprint stands for “pretty print”)."
   ]
  },
  {
   "cell_type": "markdown",
   "metadata": {},
   "source": [
    "### Glossary\n",
    "\n",
    "**mapping:** A relationship in which each element of one set corresponds to an element of\n",
    "another set.\n",
    "\n",
    "\n",
    "**dictionary:** A mapping from keys to their corresponding values.\n",
    "\n",
    "\n",
    "**key-value pair:** The representation of the mapping from a key to a value.\n",
    "\n",
    "\n",
    "**item:** In a dictionary, another name for a key-value pair.\n",
    "\n",
    "\n",
    "**key:** An object that appears in a dictionary as the first part of a key-value pair.\n",
    "\n",
    "\n",
    "**value:** An object that appears in a dictionary as the second part of a key-value pair. This is more specific than our previous use of the word “value”.\n",
    "\n",
    "\n",
    "**implementation:** A way of performing a computation.\n",
    "\n",
    "\n",
    "**hashtable:** The algorithm used to implement Python dictionaries.\n",
    "\n",
    "\n",
    "**hash function:** A function used by a hashtable to compute the location for a key.\n",
    "\n",
    "\n",
    "**hashable:** Atype that has a hash function. Immutable types like integers, floats and strings are hashable; mutable types like lists and dictionaries are not.\n",
    "\n",
    "\n",
    "**lookup:** A dictionary operation that takes a key and finds the corresponding value.\n",
    "\n",
    "\n",
    "**reverse lookup:** A dictionary operation that takes a value and finds one or more keys that map to it.\n",
    "\n",
    "\n",
    "**raise statement:** A statement that (deliberately) raises an exception.\n",
    "\n",
    "\n",
    "**singleton:** A list (or other sequence) with a single element.\n",
    "\n",
    "\n",
    "**call graph:** A diagram that shows every frame created during the execution of a program, with an arrow from each caller to each callee.\n",
    "\n",
    "\n",
    "**memo:** A computed value stored to avoid unnecessary future computation.\n",
    "\n",
    "\n",
    "**global variable:** A variable defined outside a function. Global variables can be accessed from any function.\n",
    "\n",
    "\n",
    "**global statement:** A statement that declares a variable name global.\n",
    "\n",
    "\n",
    "**flag:** A boolean variable used to indicate whether a condition is true.\n",
    "\n",
    "\n",
    "**declaration:** A statement like global that tells the interpreter something about a variable."
   ]
  },
  {
   "cell_type": "markdown",
   "metadata": {},
   "source": [
    "### Exercises\n",
    "\n",
    "**Exercise 11.1.** Write a function that reads the words in words.txt and stores them as keys in a dictionary. It doesn’t matter what the values are. Then you can use the in operator as a fast way to check whether a string is in the dictionary."
   ]
  },
  {
   "cell_type": "code",
   "execution_count": 28,
   "metadata": {},
   "outputs": [],
   "source": [
    "from collections import defaultdict\n",
    "\n",
    "def build_words_dict(text):\n",
    "    d = defaultdict(int)\n",
    "    fin = open(text)\n",
    "    for line in fin:\n",
    "        word = line.strip()\n",
    "        d[word] += 1\n",
    "    return d\n",
    "\n",
    "words_dict = build_words_dict('data/words.txt') #this was fast"
   ]
  },
  {
   "cell_type": "markdown",
   "metadata": {},
   "source": [
    "**Exercise 11.2.** Read the documentation of the dictionary method setdefault and use it to write a more concise version of invert_dict."
   ]
  },
  {
   "cell_type": "code",
   "execution_count": 31,
   "metadata": {},
   "outputs": [
    {
     "data": {
      "text/plain": [
       "{4: ['Loney', 'Souza Jr', 'Longoria'],\n",
       " 5: ['Forsythe'],\n",
       " 6: ['DeJesus', 'Kiermaier'],\n",
       " 7: ['Cabrera'],\n",
       " 8: ['Guyer'],\n",
       " 9: ['Rivera']}"
      ]
     },
     "execution_count": 31,
     "metadata": {},
     "output_type": "execute_result"
    }
   ],
   "source": [
    "def inverse_dict(d):\n",
    "    inverse = {}\n",
    "    for key in d:\n",
    "        val = d[key]\n",
    "        inverse.setdefault(val, []).append(key)\n",
    "    return inverse\n",
    "\n",
    "rays_players = { 'DeJesus': 6,\n",
    "         'Loney': 4,\n",
    "         'Rivera': 9,\n",
    "         'Forsythe': 5,\n",
    "         'Souza Jr': 4,\n",
    "         'Longoria': 4,\n",
    "         'Cabrera': 7,\n",
    "         'Kiermaier': 6,\n",
    "         'Guyer': 8}\n",
    "\n",
    "inverted = inverse_dict(rays_players)\n",
    "\n",
    "inverted"
   ]
  },
  {
   "cell_type": "markdown",
   "metadata": {},
   "source": [
    "**Exercise 11.3.** Memoize the Ackermann function from Exercise 6.2 and see if memoization makes it possible to evaluate the function with bigger arguments. Hint: no."
   ]
  },
  {
   "cell_type": "code",
   "execution_count": 32,
   "metadata": {},
   "outputs": [],
   "source": [
    "known_acks = {}\n",
    "def ackermann(m,n):\n",
    "    if m < 0 or n < 0:\n",
    "        return None\n",
    "    if m == 0:\n",
    "        return n+1\n",
    "    elif n==0:\n",
    "        return ackermann(m-1,1)\n",
    "    \n",
    "    if (m, n) in known_acks:\n",
    "        return known_acks[m, n]\n",
    "    \n",
    "    else:\n",
    "        known_acks[m,n] = ackermann(m-1,ackerman(m,n-1))\n",
    "        return known_acks[m,n]\n"
   ]
  },
  {
   "cell_type": "markdown",
   "metadata": {},
   "source": [
    "**Exercise 11.4.** If you did Exercise 10.7, you already have a function named has_duplicates that takes a list as a parameter and returns True if there is any object that appears more than once in the list.\n",
    "\n",
    "Use a dictionary to write a faster, simpler version of has_duplicates. *Note to self:* I used a set version in the first implementation, so a dictionary version won't actually be faster."
   ]
  },
  {
   "cell_type": "code",
   "execution_count": 35,
   "metadata": {},
   "outputs": [
    {
     "data": {
      "text/plain": [
       "True"
      ]
     },
     "execution_count": 35,
     "metadata": {},
     "output_type": "execute_result"
    }
   ],
   "source": [
    "def has_duplicates(t):\n",
    "    d= {}\n",
    "    for i in t:\n",
    "        if i in d:\n",
    "            return True\n",
    "        else:\n",
    "            d[i] = True\n",
    "            \n",
    "t = [1,2,3,4,2,3,4]\n",
    "\n",
    "has_duplicates(t)"
   ]
  },
  {
   "cell_type": "markdown",
   "metadata": {},
   "source": [
    "**Exercise 11.5.** Two words are “rotate pairs” if you can rotate one of them and get the other (see rotate_word in Exercise 8.5).\n",
    "\n",
    "Write a program that reads a wordlist and finds all the rotate pairs."
   ]
  },
  {
   "cell_type": "code",
   "execution_count": 37,
   "metadata": {},
   "outputs": [],
   "source": [
    "def rotate_word(word, shift):\n",
    "    code_word = ''\n",
    "    for char in word.lower():\n",
    "        #print(char)\n",
    "        num = ord(char)\n",
    "        #print(num)\n",
    "        #print(num+shift)\n",
    "        if num+shift > ord('z'):\n",
    "            new_char = chr(((num+shift)-ord('z'))+(ord('a')-1))\n",
    "            #print(new_char)\n",
    "        else:\n",
    "            new_char = chr(num+shift)\n",
    "        code_word += new_char\n",
    "    return code_word"
   ]
  },
  {
   "cell_type": "code",
   "execution_count": 38,
   "metadata": {},
   "outputs": [],
   "source": [
    "def find_all_rotates(shift=2):\n",
    "    rotated_pairs = defaultdict(list)\n",
    "    words_dict = build_words_dict('words.txt')\n",
    "    for word in words_dict:\n",
    "        ro_word = rotate_word(word, shift)\n",
    "        if ro_word in words_dict:\n",
    "            rotated_pairs[word].append(ro_word)\n",
    "    return rotated_pairs"
   ]
  },
  {
   "cell_type": "code",
   "execution_count": 40,
   "metadata": {},
   "outputs": [],
   "source": [
    "shift_two_rotates = find_all_rotates() #works really well"
   ]
  },
  {
   "cell_type": "markdown",
   "metadata": {},
   "source": [
    "**Exercise 11.6.** Here’s another Puzzler from Car Talk;\n",
    "\n",
    "This was sent in by a fellow named Dan O’Leary. He came upon a common one-syllable, five-letter word recently that has the following unique property. When you remove the first letter, the remaining letters form a homophone of the original word, that is a word that sounds exactly the same. Replace the first letter, that is, put it back and remove the second letter and the result is yet another homophone of the original word. And the question is, what’s the word?\n",
    "\n",
    "\n",
    "Now I’m going to give you an example that doesn’t work. Let’s look at the five-letter word, ‘wrack.’ W-R-A-C-K, you know like to ‘wrack with pain.’ If I remove the first letter, I am left with a four-letter word, ’R-A-C-K.’ As in, ‘Holy cow, did you see the\n",
    "rack on that buck! It must have been a nine-pointer!’ It’s a perfect homophone. If you put the ‘w’ back, and remove the ‘r,’ instead, you’re left with the word, ‘wack,’ which is a real word, it’s just not a homophone of the other two words.\n",
    "\n",
    "\n",
    "But there is, however, at least one word that Dan and we know of, which will yield two homophones if you remove either of the first two letters to make two, new four-letter words. The question is, what’s the word?"
   ]
  },
  {
   "cell_type": "code",
   "execution_count": 42,
   "metadata": {},
   "outputs": [],
   "source": [
    "from __future__ import print_function, division\n",
    "\n",
    "\n",
    "def read_dictionary(filename='c06d'):\n",
    "    \"\"\"Reads from a file and builds a dictionary that maps from\n",
    "    each word to a string that describes its primary pronunciation.\n",
    "\n",
    "    Secondary pronunciations are added to the dictionary with\n",
    "    a number, in parentheses, at the end of the key, so the\n",
    "    key for the second pronunciation of \"abdominal\" is \"abdominal(2)\".\n",
    "\n",
    "    filename: string\n",
    "    returns: map from string to pronunciation\n",
    "    \"\"\"\n",
    "    d = dict()\n",
    "    fin = open(filename)\n",
    "    for line in fin:\n",
    "\n",
    "        # skip over the comments\n",
    "        if line[0] == '#': continue\n",
    "\n",
    "        t = line.split()\n",
    "        word = t[0].lower()\n",
    "        pron = ' '.join(t[1:])\n",
    "        d[word] = pron\n",
    "\n",
    "    return d"
   ]
  },
  {
   "cell_type": "code",
   "execution_count": 63,
   "metadata": {},
   "outputs": [],
   "source": [
    "def find_word():\n",
    "    words_dict = build_words_dict('words.txt')\n",
    "    prons_dict = read_dictionary(filename='c06d.txt')\n",
    "    for word in words_dict:\n",
    "        if (prons_dict.get(word,0) == prons_dict.get(word[1:], 1) and\n",
    "            prons_dict.get(word,0) == prons_dict.get((word[0] + word[2:]),1)):\n",
    "            print(word)"
   ]
  },
  {
   "cell_type": "code",
   "execution_count": 64,
   "metadata": {},
   "outputs": [
    {
     "name": "stdout",
     "output_type": "stream",
     "text": [
      "eerie\n",
      "llama\n",
      "llamas\n",
      "llano\n",
      "scent\n"
     ]
    }
   ],
   "source": [
    "find_word() #there it is, reminds me that Eerie, Indiana is a wonderful show."
   ]
  },
  {
   "cell_type": "code",
   "execution_count": null,
   "metadata": {},
   "outputs": [],
   "source": []
  }
 ],
 "metadata": {
  "kernelspec": {
   "display_name": "Python 3",
   "language": "python",
   "name": "python3"
  },
  "language_info": {
   "codemirror_mode": {
    "name": "ipython",
    "version": 3
   },
   "file_extension": ".py",
   "mimetype": "text/x-python",
   "name": "python",
   "nbconvert_exporter": "python",
   "pygments_lexer": "ipython3",
   "version": "3.6.1"
  }
 },
 "nbformat": 4,
 "nbformat_minor": 2
}
