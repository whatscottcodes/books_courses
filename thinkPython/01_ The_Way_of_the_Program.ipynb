{
 "cells": [
  {
   "cell_type": "markdown",
   "metadata": {
    "collapsed": true
   },
   "source": [
    "## Chapter 1 - The Way of the Program"
   ]
  },
  {
   "cell_type": "markdown",
   "metadata": {},
   "source": [
    "Working(quickly) through Allen Downey's ThinkPython book. I have already completed a few Python courses and feel pretty comfortable, so I'm hoping to work through this book quicky, essentially testing my abilities, before moving onto ThinkStats and other statistical computing works.\n",
    "\n",
    "**Let's begin!**"
   ]
  },
  {
   "cell_type": "markdown",
   "metadata": {},
   "source": [
    "A **program** is a sequence of instructions that specifies how to perform a computation.\n",
    "\n",
    "**Operators** are special symbols that represent computations like addition and multiplication.\n",
    "\n",
    "The traditional first python program, is to just print the phrase \"Hello World\""
   ]
  },
  {
   "cell_type": "code",
   "execution_count": 1,
   "metadata": {},
   "outputs": [
    {
     "name": "stdout",
     "output_type": "stream",
     "text": [
      "Hello World\n",
      "42\n",
      "42\n",
      "42\n",
      "42.0\n",
      "42\n"
     ]
    }
   ],
   "source": [
    "#print hello world\n",
    "print(\"Hello World\")\n",
    "\n",
    "#operations - using print because we are in a jupyter notebook\n",
    "print(40+2)\n",
    "print(43-1)\n",
    "print(6*7)\n",
    "print(84/2)\n",
    "print(6**2 + 6)"
   ]
  },
  {
   "cell_type": "markdown",
   "metadata": {},
   "source": [
    "**Value** is a basic thing that a program works with, like a letter or number.\n",
    "\n",
    "These values belong to different **types**, 2 is an *integer*, 42.0 is a *float*, and \"Hello World!\" is a *string*. \n",
    "\n",
    "You can check this using the **type** function in python."
   ]
  },
  {
   "cell_type": "code",
   "execution_count": 2,
   "metadata": {},
   "outputs": [
    {
     "name": "stdout",
     "output_type": "stream",
     "text": [
      "<class 'int'>\n",
      "<class 'float'>\n",
      "<class 'str'>\n"
     ]
    }
   ],
   "source": [
    "print(type(2))\n",
    "print(type(42.0))\n",
    "print(type(\"Hello World\"))"
   ]
  },
  {
   "cell_type": "markdown",
   "metadata": {},
   "source": [
    "In these results, the word “class” is used in the sense of a category; a type is a category of values."
   ]
  },
  {
   "cell_type": "markdown",
   "metadata": {},
   "source": [
    "**Programming languages are formal languages that have been designed to\n",
    "express computations.**"
   ]
  },
  {
   "cell_type": "markdown",
   "metadata": {},
   "source": [
    "Formal languages tend to have strict __syntax__ rules that govern the structure of statements.\n",
    "\n",
    "Syntax rules come in two flavors, pertaining to __tokens__ and __structure__. \n",
    "\n",
    "__Tokens__ are the basic elements of the language, such as words, numbers, and chemical elements.\n",
    "\n",
    "The second type of syntax rule pertains to the way tokens are combined.\n",
    "\n",
    "*This is @ well-structured Engli$h sentence with invalid t*kens in it.*\n",
    "\n",
    "*This sentence all valid tokens has, but invalid structure with.*"
   ]
  },
  {
   "cell_type": "markdown",
   "metadata": {},
   "source": [
    "**Debugging**\n",
    "\n",
    "Programmers make mistakes. For whimsical reasons, programming errors are called __bugs__ and the process of tracking them down is called __debugging__."
   ]
  },
  {
   "cell_type": "markdown",
   "metadata": {},
   "source": [
    "### GLOSSARY\n",
    "**problem solving**: The process of formulating a problem, finding a solution, and expressing it.\n",
    "\n",
    "**high-level language**: A programming language like Python that is designed to be easy for humans to read and write.\n",
    "\n",
    "\n",
    "**low-level language**: A programming language that is designed to be easy for a computer to run; also called “machine language” or “assembly language”.\n",
    "\n",
    "\n",
    "**portability**: A property of a program that can run on more than one kind of computer.\n",
    "\n",
    "\n",
    "**interpreter**: A program that reads another program and executes it.\n",
    "\n",
    "\n",
    "**prompt**: Characters displayed by the interpreter to indicate that it is ready to take input from the user.\n",
    "\n",
    "\n",
    "**program**: A set of instructions that specifies a computation.\n",
    "\n",
    "**print statement**: An instruction that causes the Python interpreter to display a value on the screen.\n",
    "\n",
    "\n",
    "**operator**: A special symbol that represents a simple computation like addition, multiplication, or string concatenation.\n",
    "\n",
    "\n",
    "**value**: One of the basic units of data, like a number or string, that a program manipulates.\n",
    "\n",
    "\n",
    "**type**: A category of values. The types we have seen so far are integers (type int), floatingpoint numbers (type float), and strings (type str).\n",
    "\n",
    "\n",
    "**integer**: A type that represents whole numbers.\n",
    "\n",
    "\n",
    "**floating-point**: A type that represents numbers with fractional parts.\n",
    "\n",
    "\n",
    "**string**: A type that represents sequences of characters.\n",
    "\n",
    "\n",
    "**natural language**: Any one of the languages that people speak that evolved naturally.\n",
    "\n",
    "\n",
    "**formal language**: Any one of the languages that people have designed for specific purposes, such as representing mathematical ideas or computer programs; all programming languages are formal languages.\n",
    "\n",
    "\n",
    "**token**: One of the basic elements of the syntactic structure of a program, analogous to a word in a natural language.\n",
    "\n",
    "\n",
    "**syntax**: The rules that govern the structure of a program.\n",
    "\n",
    "\n",
    "**parse**: To examine a program and analyze the syntactic structure.\n",
    "\n",
    "\n",
    "**bug**: An error in a program.\n",
    "\n",
    "\n",
    "**debugging**: The process of finding and correcting bugs."
   ]
  },
  {
   "cell_type": "markdown",
   "metadata": {},
   "source": [
    "### Exercises\n",
    "\n",
    "**Exercise 1.1.** It is a good idea to read this book in front of a computer so you can try out the examples as you go. \n",
    "\n",
    "Whenever you are experimenting with a new feature, you should try to make mistakes. For example, in the “Hello, world!” program, what happens if you leave out one of the quotation marks? What if you leave out both? What if you spell print wrong?\n",
    "\n",
    "\n",
    "This kind of experiment helps you remember what you read; it also helps when you are programming, because you get to know what the error messages mean. It is better to make mistakes now and on purpose than later and accidentally.\n",
    "\n",
    "\n",
    "#### 1. In a print statement, what happens if you leave out one of the parentheses, or both?\n",
    "\n",
    ">You will receive a SynatxError.\n",
    "\n",
    "#### 2. If you are trying to print a string, what happens if you leave out one of the quotation marks, or both?\n",
    "\n",
    ">This will also result in a SyntaxError.\n",
    "\n",
    "#### 3. You can use a minus sign to make a negative number like -2. What happens if you put a plus sign before a number? What about 2++2?\n",
    "\n",
    ">Python \"ignores\" the second plus sign, the result of 2++2 will be 4.\n",
    "\n",
    "#### 4. In math notation, leading zeros are ok, as in 02. What happens if you try this in Python?\n",
    "\n",
    ">This results in a SyntaxError due to an invalid token.\n",
    "\n",
    "#### 5. What happens if you have two values with no operator between them?\n",
    "\n",
    ">This also result in a SyntaxError due to invalid syntax."
   ]
  },
  {
   "cell_type": "code",
   "execution_count": 3,
   "metadata": {},
   "outputs": [
    {
     "ename": "SyntaxError",
     "evalue": "invalid syntax (<ipython-input-3-a4f216a69a8e>, line 1)",
     "output_type": "error",
     "traceback": [
      "\u001b[0;36m  File \u001b[0;32m\"<ipython-input-3-a4f216a69a8e>\"\u001b[0;36m, line \u001b[0;32m1\u001b[0m\n\u001b[0;31m    3 4\u001b[0m\n\u001b[0m      ^\u001b[0m\n\u001b[0;31mSyntaxError\u001b[0m\u001b[0;31m:\u001b[0m invalid syntax\n"
     ]
    }
   ],
   "source": [
    "3 4"
   ]
  },
  {
   "cell_type": "markdown",
   "metadata": {},
   "source": [
    "**Exercise 1.2.** Start the Python interpreter and use it as a calculator.\n",
    "\n",
    "#### 1. How many seconds are there in 42 minutes 42 seconds?\n",
    "\n",
    "\n",
    "#### 2. How many miles are there in 10 kilometers? Hint: there are 1.61 kilometers in a mile.\n",
    "\n",
    "\n",
    "#### 3. If you run a 10 kilometer race in 42 minutes 42 seconds, what is your average pace (time per mile in minutes and seconds)? What is your average speed in miles per hour?"
   ]
  },
  {
   "cell_type": "code",
   "execution_count": 4,
   "metadata": {},
   "outputs": [
    {
     "name": "stdout",
     "output_type": "stream",
     "text": [
      "seconds in 42 minutes 42 seconds: 2562\n",
      "miles in 10 kilometers: 6.211180124223602\n",
      "average pace: 6 minutes and 52 seconds\n",
      "miles per hour: 8.727653570337614\n"
     ]
    }
   ],
   "source": [
    "#Answer One\n",
    "one = (42*60+42)\n",
    "print(\"seconds in 42 minutes 42 seconds:\",one)\n",
    "#Answer Two\n",
    "two = (10/1.61)\n",
    "print(\"miles in 10 kilometers:\",two)\n",
    "#Answer Three\n",
    "mile_per_second = (two/one)\n",
    "one_mile_minutes = int((1/mile_per_second)//60)\n",
    "one_mile_second = int((((1/mile_per_second)/60) - ((1/mile_per_second)//60))*60)\n",
    "miles_per_hour = mile_per_second*60**2\n",
    "print(\"average pace:\", str(one_mile_minutes)+\" minutes and \"+str(one_mile_second)+\" seconds\")\n",
    "print(\"miles per hour:\", miles_per_hour)"
   ]
  },
  {
   "cell_type": "code",
   "execution_count": null,
   "metadata": {},
   "outputs": [],
   "source": []
  }
 ],
 "metadata": {
  "kernelspec": {
   "display_name": "Python 3",
   "language": "python",
   "name": "python3"
  },
  "language_info": {
   "codemirror_mode": {
    "name": "ipython",
    "version": 3
   },
   "file_extension": ".py",
   "mimetype": "text/x-python",
   "name": "python",
   "nbconvert_exporter": "python",
   "pygments_lexer": "ipython3",
   "version": "3.6.1"
  }
 },
 "nbformat": 4,
 "nbformat_minor": 2
}
