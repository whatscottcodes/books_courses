{
 "cells": [
  {
   "cell_type": "code",
   "execution_count": 1,
   "metadata": {},
   "outputs": [],
   "source": [
    "from collections import defaultdict\n",
    "import matplotlib.pyplot as plt\n",
    "import string\n",
    "import math"
   ]
  },
  {
   "cell_type": "markdown",
   "metadata": {
    "collapsed": true
   },
   "source": [
    "## Chapter 13 - Case study: data structure selection"
   ]
  },
  {
   "cell_type": "markdown",
   "metadata": {},
   "source": [
    "**Exercise 13.1.** Write a program that reads a file, breaks each line into words, strips whitespace and punctuation from the words, and converts them to lowercase.\n",
    "\n",
    "*Hint:* The string module provides a string named whitespace, which contains space, tab, newline, etc., and punctuation which contains the punctuation characters. Let’s see if we can make Python swear:\n",
    "\n",
    "Also, you might consider using the string methods strip, t and translate."
   ]
  },
  {
   "cell_type": "code",
   "execution_count": 2,
   "metadata": {},
   "outputs": [],
   "source": [
    "def get_words(text, with_spaces=True, word_list=False):\n",
    "    if with_spaces or word_list:\n",
    "        whitespace = string.whitespace[1:]\n",
    "    else:\n",
    "        whitespace = string.whitespace\n",
    "    tableWS = str.maketrans({key: None for key in whitespace})\n",
    "    tableP = str.maketrans({key: None for key in string.punctuation})\n",
    "    lines = [line.translate(tableWS) for line in open(text, errors='ignore')]\n",
    "    lines = [line.translate(tableP).lower() for line in lines]\n",
    "    if word_list:\n",
    "        words = []\n",
    "        for line in lines:\n",
    "            words.extend(line.split(' '))\n",
    "            words = [word for word in words if word!='']\n",
    "        #words = [line.split(\" \") for line in lines]\n",
    "        return words\n",
    "    return lines"
   ]
  },
  {
   "cell_type": "code",
   "execution_count": 3,
   "metadata": {},
   "outputs": [
    {
     "data": {
      "text/plain": [
       "'holy cow im bart simpsapins'"
      ]
     },
     "execution_count": 3,
     "metadata": {},
     "output_type": "execute_result"
    }
   ],
   "source": [
    "lines = get_words('data/words2.txt', with_spaces=True, word_list=False)\n",
    "#this doesn't work with the gutenberg text, can't pinpoint why.\n",
    "lines[2]"
   ]
  },
  {
   "cell_type": "markdown",
   "metadata": {},
   "source": [
    "**Exercise 13.2.** Go to Project Gutenberg (http://gutenberg.org) and download your favorite out-of-copyright book in plain text format.\n",
    "\n",
    "Modify your program from the previous exercise to read the book you downloaded, skip over the header information at the beginning of the file, and process the rest of the words as before.\n",
    "\n",
    "Then modify the program to count the total number of words in the book, and the number of times each word is used.\n",
    "\n",
    "Print the number of different words used in the book. Compare different books by different authors, written in different eras. Which author uses the most extensive vocabulary?"
   ]
  },
  {
   "cell_type": "code",
   "execution_count": 4,
   "metadata": {},
   "outputs": [],
   "source": [
    "words = get_words('data/xmas.txt', word_list=True)"
   ]
  },
  {
   "cell_type": "code",
   "execution_count": 5,
   "metadata": {},
   "outputs": [],
   "source": [
    "def process(f, \n",
    "            skip_head = True):\n",
    "    text = open(f, errors='ignore')\n",
    "    if skip_head:\n",
    "        skip_header(text)\n",
    "    return text\n",
    "\n",
    "def skip_header(text):\n",
    "    for line in text:\n",
    "        if '***' in line:\n",
    "            break"
   ]
  },
  {
   "cell_type": "code",
   "execution_count": 6,
   "metadata": {},
   "outputs": [],
   "source": [
    "text = process('data/xmas.txt')"
   ]
  },
  {
   "cell_type": "code",
   "execution_count": 7,
   "metadata": {},
   "outputs": [],
   "source": [
    "#get_words(text)"
   ]
  },
  {
   "cell_type": "code",
   "execution_count": 8,
   "metadata": {},
   "outputs": [],
   "source": [
    "def get_lines(text):\n",
    "    tableWS = str.maketrans({key: None for key in string.whitespace[1:]})\n",
    "    tableP = str.maketrans({key: None for key in string.punctuation})\n",
    "    lines = [line.translate(tableWS) for line in text]\n",
    "    lines = [line.translate(tableP).lower() for line in lines]\n",
    "    lines = [line for line in lines if line!='']\n",
    "    return lines"
   ]
  },
  {
   "cell_type": "code",
   "execution_count": 9,
   "metadata": {},
   "outputs": [],
   "source": [
    "def get_words(lines):\n",
    "    words = []\n",
    "    for line in lines:\n",
    "        words.extend(line.split(' '))\n",
    "        #words = [word for word in words if word!='']\n",
    "    words = [word for word in words if not has_number(word)]\n",
    "    return words"
   ]
  },
  {
   "cell_type": "code",
   "execution_count": 10,
   "metadata": {},
   "outputs": [],
   "source": [
    "def get_word_count(words):\n",
    "    word_counts = defaultdict(int)\n",
    "    for word in words:\n",
    "        word_counts[word] += 1\n",
    "    return word_counts"
   ]
  },
  {
   "cell_type": "code",
   "execution_count": 11,
   "metadata": {},
   "outputs": [],
   "source": [
    "def get_total_words(words):\n",
    "    return len(words)"
   ]
  },
  {
   "cell_type": "code",
   "execution_count": 12,
   "metadata": {},
   "outputs": [],
   "source": [
    "def number_of_unique_words(words, return_words = False):\n",
    "    if return_words:\n",
    "        return (len(set(words)), set(words))\n",
    "    return len(set(words))"
   ]
  },
  {
   "cell_type": "code",
   "execution_count": 17,
   "metadata": {},
   "outputs": [],
   "source": [
    "def has_number(word):\n",
    "    if word.isdigit():\n",
    "        return True\n",
    "    nums = [str(x) for x in range(10)]\n",
    "    for num in nums:\n",
    "        if num in word:\n",
    "            return True\n",
    "    return False\n",
    "\n",
    "def book_process(f):\n",
    "    text = process(f)\n",
    "    lines = get_lines(text)\n",
    "    words = get_words(lines)\n",
    "    word_count = get_word_count(words)\n",
    "    total_words = get_total_words(words)\n",
    "    total_unique, unique_words = number_of_unique_words(words, True)\n",
    "    return(words, word_count, total_words, total_unique, unique_words)"
   ]
  },
  {
   "cell_type": "code",
   "execution_count": 18,
   "metadata": {},
   "outputs": [],
   "source": [
    "words, word_count, total_words, total_unique, unique_words = book_process('data/xmas.txt')"
   ]
  },
  {
   "cell_type": "markdown",
   "metadata": {},
   "source": [
    "**Exercise 13.3.** Modify the program from the previous exercise to print the 20 most frequently used words in the book."
   ]
  },
  {
   "cell_type": "code",
   "execution_count": 19,
   "metadata": {},
   "outputs": [],
   "source": [
    "def inverse_dict(d):\n",
    "    inverse = {}\n",
    "    for key in d:\n",
    "        val = d[key]\n",
    "        inverse.setdefault(val, key)\n",
    "    return inverse\n",
    "\n",
    "\n",
    "def top_twenty(word_counts):\n",
    "    top_20 = []\n",
    "    counts = inverse_dict(word_counts)\n",
    "    top_20_vals = sorted(counts.keys(), reverse=True)[:21]\n",
    "    for val in top_20_vals:\n",
    "        top_20.append((counts[val], val))\n",
    "    return top_20       "
   ]
  },
  {
   "cell_type": "code",
   "execution_count": 20,
   "metadata": {},
   "outputs": [
    {
     "data": {
      "text/plain": [
       "[('the', 1739),\n",
       " ('and', 1117),\n",
       " ('of', 773),\n",
       " ('a', 756),\n",
       " ('to', 738),\n",
       " ('in', 575),\n",
       " ('it', 525),\n",
       " ('he', 487),\n",
       " ('was', 428),\n",
       " ('his', 420),\n",
       " ('that', 350),\n",
       " ('i', 331),\n",
       " ('scrooge', 314),\n",
       " ('with', 312),\n",
       " ('you', 299),\n",
       " ('', 297),\n",
       " ('as', 234),\n",
       " ('for', 222),\n",
       " ('said', 221),\n",
       " ('had', 204),\n",
       " ('not', 197)]"
      ]
     },
     "execution_count": 20,
     "metadata": {},
     "output_type": "execute_result"
    }
   ],
   "source": [
    "top_twenty(word_count)"
   ]
  },
  {
   "cell_type": "markdown",
   "metadata": {},
   "source": [
    "**Exercise 13.4.** Modify the previous program to read a word list (see Section 9.1) and then print all the words in the book that are not in the word list. How many of them are typos? How many of them are common words that should be in the word list, and how many of them are really obscure?"
   ]
  },
  {
   "cell_type": "code",
   "execution_count": 21,
   "metadata": {},
   "outputs": [],
   "source": [
    "def word_list():\n",
    "    word_list = []\n",
    "    fin = open('data/words.txt')\n",
    "    for line in fin:\n",
    "        word = line.strip()\n",
    "        word_list.append(word)\n",
    "    return sorted(word_list)\n",
    "   \n",
    "def obscure_words(unqiue_words, word_list):\n",
    "    obscure = []\n",
    "    for word in unqiue_words:\n",
    "        if len(word) <= 1 or has_number(word):\n",
    "            pass\n",
    "        elif word not in word_list:\n",
    "            obscure.append(word)\n",
    "    return obscure        "
   ]
  },
  {
   "cell_type": "code",
   "execution_count": 22,
   "metadata": {},
   "outputs": [],
   "source": [
    "word_list_ = word_list()\n",
    "obscure = obscure_words(unique_words, word_list_)"
   ]
  },
  {
   "cell_type": "markdown",
   "metadata": {},
   "source": [
    "Given the same inputs, most computer programs generate the same outputs every time, so they are said to be **deterministic**. Determinism is usually a good thing, since we expect the same calculation to yield the same result. For some applications, though, we want the computer to be unpredictable."
   ]
  },
  {
   "cell_type": "markdown",
   "metadata": {},
   "source": [
    "Making a program truly nondeterministic turns out to be difficult, but there are ways to make it at least seem nondeterministic. One of them is to use algorithms that generate **pseudorandom numbers**."
   ]
  },
  {
   "cell_type": "markdown",
   "metadata": {},
   "source": [
    "The function **random** returns a random float between 0.0 and 1.0 (including 0.0 but not 1.0). Each time you call random, you get the next number in a long series."
   ]
  },
  {
   "cell_type": "code",
   "execution_count": 23,
   "metadata": {},
   "outputs": [
    {
     "name": "stdout",
     "output_type": "stream",
     "text": [
      "0.2177464121613264\n",
      "0.6732451804687771\n",
      "0.6425071619320913\n",
      "0.9584744907363183\n",
      "0.4731279904389132\n",
      "0.9471172590828456\n",
      "0.36328945994286266\n",
      "0.6609954046181735\n",
      "0.4206971744766994\n",
      "0.7943144970304443\n"
     ]
    }
   ],
   "source": [
    "import random\n",
    "\n",
    "for i in range(10):\n",
    "    x = random.random()\n",
    "    print(x)"
   ]
  },
  {
   "cell_type": "markdown",
   "metadata": {},
   "source": [
    "The function **randint** takes parameters low and high and returns an integer between low and high (including both)."
   ]
  },
  {
   "cell_type": "code",
   "execution_count": 24,
   "metadata": {},
   "outputs": [
    {
     "name": "stdout",
     "output_type": "stream",
     "text": [
      "6\n",
      "8\n"
     ]
    }
   ],
   "source": [
    "print(random.randint(5, 10))\n",
    "print(random.randint(5, 10))"
   ]
  },
  {
   "cell_type": "markdown",
   "metadata": {},
   "source": [
    "To choose an element from a sequence at random, you can use **choice**:"
   ]
  },
  {
   "cell_type": "code",
   "execution_count": 25,
   "metadata": {},
   "outputs": [
    {
     "name": "stdout",
     "output_type": "stream",
     "text": [
      "2\n",
      "2\n"
     ]
    }
   ],
   "source": [
    "t = [1, 2, 3]\n",
    "print(random.choice(t))\n",
    "print(random.choice(t))"
   ]
  },
  {
   "cell_type": "markdown",
   "metadata": {},
   "source": [
    "**Exercise 13.5.** Write a function named choose_from_hist that takes a histogram as defined in Section 11.2 and returns a random value from the histogram, chosen with probability in proportion to frequency."
   ]
  },
  {
   "cell_type": "code",
   "execution_count": 26,
   "metadata": {},
   "outputs": [],
   "source": [
    "def random_histogram():\n",
    "    s = [random.randint(0,100) for i in range(0,1000)]\n",
    "    d = defaultdict(int)\n",
    "    for c in s:\n",
    "        d[c] += 1\n",
    "    return d"
   ]
  },
  {
   "cell_type": "code",
   "execution_count": 27,
   "metadata": {},
   "outputs": [],
   "source": [
    "hist = random_histogram()"
   ]
  },
  {
   "cell_type": "code",
   "execution_count": 28,
   "metadata": {},
   "outputs": [],
   "source": [
    "def choose_rand_hist(hist):\n",
    "    vals = []\n",
    "    for key in list(hist.keys()):\n",
    "        vals.extend([key for i in range(0,hist[key])])\n",
    "    return random.choice(vals)"
   ]
  },
  {
   "cell_type": "code",
   "execution_count": 29,
   "metadata": {},
   "outputs": [
    {
     "data": {
      "text/plain": [
       "8"
      ]
     },
     "execution_count": 29,
     "metadata": {},
     "output_type": "execute_result"
    }
   ],
   "source": [
    "choose_rand_hist(hist)"
   ]
  },
  {
   "cell_type": "markdown",
   "metadata": {},
   "source": [
    "**Exercise 13.6.** Python provides a data structure called set that provides many common set operations. Write a program that uses set subtraction to find words in the book that are not in the word list."
   ]
  },
  {
   "cell_type": "code",
   "execution_count": 30,
   "metadata": {},
   "outputs": [],
   "source": [
    "def obscure_words2(unique_words, word_list):\n",
    "    return unique_words - set(word_list)"
   ]
  },
  {
   "cell_type": "code",
   "execution_count": 31,
   "metadata": {},
   "outputs": [],
   "source": [
    "obscure2 = obscure_words2(unique_words, word_list_) #doesn't account for numbers, much faster though"
   ]
  },
  {
   "cell_type": "markdown",
   "metadata": {},
   "source": [
    "This algorithm for random word above works, but it is not very efficient; each time you choose a random word, it rebuilds the list, which is as big as the original book. An obvious improvement is to build the list once and then make multiple selections, but the list is still big.\n",
    "\n",
    "An alternative is:\n",
    "1. Use keys to get a list of the words in the book.\n",
    "2. Build a list that contains the cumulative sum of the word frequencies (see Exercise 10.2). The last item in this list is the total number of words in the book, n.\n",
    "3. Choose a random number from 1 to n. Use a bisection search (See Exercise 10.10) to find the index where the random number would be inserted in the cumulative sum.\n",
    "4. Use the index to find the corresponding word in the word list."
   ]
  },
  {
   "cell_type": "markdown",
   "metadata": {},
   "source": [
    "**Exercise 13.7.** Write a program that uses this algorithm to choose a random word from the book."
   ]
  },
  {
   "cell_type": "code",
   "execution_count": 32,
   "metadata": {},
   "outputs": [],
   "source": [
    "def word_freqs(hist):\n",
    "    words = []\n",
    "    freqs = []\n",
    "    total_freq = 0\n",
    "    for word, freq in hist.items():\n",
    "        total_freq += freq\n",
    "        words.append(word)\n",
    "        freqs.append(total_freq)\n",
    "    return words, freq\n",
    "\n",
    "def random_word(hist):\n",
    "    words, freq = word_freqs(hist)\n",
    "    x = random.randint(0, total_freq-1)\n",
    "    index = bisect(freqs, x)\n",
    "    return words[index]"
   ]
  },
  {
   "cell_type": "markdown",
   "metadata": {},
   "source": [
    "If you choose words from the book at random, you can get a sense of the vocabulary, but you probably won’t get a sentence.\n",
    "\n",
    "A series of random words seldom makes sense because there is no relationship between successive words. For example, in a real sentence you would expect an article like “the” to be followed by an adjective or a noun, and probably not a verb or adverb."
   ]
  },
  {
   "cell_type": "markdown",
   "metadata": {},
   "source": [
    "One way to measure these kinds of relationships is **Markov analysis**, which characterizes, for a given sequence of words, the probability of the words that might come next. For example, the song Eric, the Half a Bee begins:"
   ]
  },
  {
   "cell_type": "markdown",
   "metadata": {},
   "source": [
    "Half a bee, philosophically,\n",
    "\n",
    "Must, ipso facto, half not be.\n",
    "\n",
    "But half the bee has got to be\n",
    "\n",
    "Vis a vis, its entity. D’you see?\n",
    "\n",
    "\n",
    "\n",
    "But can a bee be said to be\n",
    "\n",
    "Or not to be an entire bee\n",
    "\n",
    "When half the bee is not a bee\n",
    "\n",
    "Due to some ancient injury?"
   ]
  },
  {
   "cell_type": "markdown",
   "metadata": {},
   "source": [
    "In this text, the phrase “half the” is always followed by the word “bee”, but the phrase “the bee” might be followed by either “has” or “is”.\n",
    "\n",
    "The result of **Markov analysis** is a mapping from each prefix (like “half the” and “the bee”) to all possible suffixes (like “has” and “is”).\n",
    "\n",
    "Given this mapping, you can generate a random text by starting with any prefix and choosing at random from the possible suffixes. Next, you can combine the end of the prefix and the new suffix to form the next prefix, and repeat.\n",
    "\n",
    "For example, if you start with the prefix “Half a”, then the next word has to be “bee”, because the prefix only appears once in the text. The next prefix is “a bee”, so the next suffix might be “philosophically”, “be” or “due”."
   ]
  },
  {
   "cell_type": "markdown",
   "metadata": {},
   "source": [
    "In this example the length of the prefix is always two, but you can do **Markov analysis** with any prefix length."
   ]
  },
  {
   "cell_type": "markdown",
   "metadata": {},
   "source": [
    "**Exercise 13.8.** Markov analysis:\n",
    "    \n",
    "Write a program to read a text from a file and perform Markov analysis. The result should be a dictionary that maps from prefixes to a collection of possible suffixes. The collection might be a list, tuple, or dictionary; it is up to you to make an appropriate choice. You can test your program with prefix length two, but you should write the program in a way that makes it easy to try other lengths."
   ]
  },
  {
   "cell_type": "code",
   "execution_count": 33,
   "metadata": {},
   "outputs": [],
   "source": [
    "words, _, _, _, _ = book_process('data/xmas.txt')"
   ]
  },
  {
   "cell_type": "code",
   "execution_count": 34,
   "metadata": {
    "scrolled": true
   },
   "outputs": [
    {
     "data": {
      "text/plain": [
       "'new'"
      ]
     },
     "execution_count": 34,
     "metadata": {},
     "output_type": "execute_result"
    }
   ],
   "source": [
    "words[0] + ' ' + words[1] +':'+ words[2]\n",
    "len(words)\n",
    "words[len(words)-2]"
   ]
  },
  {
   "cell_type": "code",
   "execution_count": 35,
   "metadata": {},
   "outputs": [],
   "source": [
    "def markov(text, prefix_length=2):\n",
    "    markov_dict = defaultdict(list)\n",
    "    words, _, _, _, _ = book_process(text)\n",
    "    for i in range(0, len(words)-(prefix_length+1)):\n",
    "        markov_dict[words[i]+\" \"+words[i+(prefix_length-1)]].append(words[i+prefix_length])\n",
    "    for pre, suf in markov_dict.items():\n",
    "        markov_dict[pre] = list(set(suf))\n",
    "    return markov_dict   "
   ]
  },
  {
   "cell_type": "code",
   "execution_count": 36,
   "metadata": {},
   "outputs": [],
   "source": [
    "markov_dic = markov('data/xmas.txt')"
   ]
  },
  {
   "cell_type": "code",
   "execution_count": 37,
   "metadata": {},
   "outputs": [],
   "source": [
    "#markov_dic"
   ]
  },
  {
   "cell_type": "markdown",
   "metadata": {},
   "source": [
    "Add a function to the previous program to generate random text based on the Markov analysis."
   ]
  },
  {
   "cell_type": "code",
   "execution_count": 38,
   "metadata": {},
   "outputs": [],
   "source": [
    "def generate_text(text, prefix_length=2, num_chracters=1000):\n",
    "    markov_dict = markov(text, prefix_length)\n",
    "    text = ''\n",
    "    prefix = random.choice(list(markov_dict.keys()))\n",
    "    suffix = random.choice(markov_dict[prefix])\n",
    "    text += (prefix+' '+suffix)\n",
    "    while len(text) < num_chracters:\n",
    "        prefix = prefix.split(\" \")[1]+\" \"+suffix\n",
    "        suffix = random.choice(markov_dict[prefix])\n",
    "        text += (' '+suffix)\n",
    "    return text"
   ]
  },
  {
   "cell_type": "code",
   "execution_count": 39,
   "metadata": {},
   "outputs": [
    {
     "data": {
      "text/plain": [
       "'beware this boy is ignorance this girl is want beware them both and all the cratchit family drew round the fireplace was an excellent man of a very very brief replied the woman thats enough whos the wiser were not well dressed their shoes were far from being waterproof their clothes were scanty and peter might have withered said the gentleman a few pounds of your family said scrooge in a bakers doorway and taking the old mans lamp he viewed them with boys upon their breasts and stamping their feet upon the counter made a dash and did it is thus with what you show me the spirit but they were perfectly motionless its hair was curiously stirred as if with age and yet that face of marley seven years ago he might see him disappointed if it cost a fortune he felt that in the fire until the chime had gone three but it seemed as if some person were dragging a heavy sleep stave iii the second of her downcast eyes and never better than at christmas and now and dreary enough for such a user to return'"
      ]
     },
     "execution_count": 39,
     "metadata": {},
     "output_type": "execute_result"
    }
   ],
   "source": [
    "generate_text('data/xmas.txt')"
   ]
  },
  {
   "cell_type": "markdown",
   "metadata": {},
   "source": [
    "**Debugging**\n",
    "\n",
    "When you are debugging a program, and especially if you are working on a hard bug,\n",
    "there are five things to try:\n",
    "\n",
    "\n",
    "**Reading:** Examine your code, read it back to yourself, and check that it says what you meant to say.\n",
    "\n",
    "\n",
    "**Running:** Experiment by making changes and running different versions. Often if you display the right thing at the right place in the program, the problem becomes obvious, but sometimes you have to build scaffolding.\n",
    "\n",
    "**Ruminating:** Take some time to think! What kind of error is it: syntax, runtime, or semantic? What information can you get from the error messages, or from the output of the program? What kind of error could cause the problem you’re seeing? What did you change last, before the problem appeared?\n",
    "\n",
    "\n",
    "**Rubberducking:** If you explain the problem to someone else, you sometimes find the answer before you finish asking the question. Often you don’t need the other person; you could just talk to a rubber duck. And that’s the origin of the wellknown strategy called rubber duck debugging. I am not making this up; see https://en.wikipedia.org/wiki/Rubber_duck_debugging.\n",
    "\n",
    "\n",
    "**Retreating:** At some point, the best thing to do is back off, undoing recent changes, until you get back to a program that works and that you understand. Then you can start rebuilding."
   ]
  },
  {
   "cell_type": "markdown",
   "metadata": {},
   "source": [
    "### Glossary\n",
    "\n",
    "**deterministic:** Pertaining to a program that does the same thing each time it runs, given the same inputs.\n",
    "\n",
    "\n",
    "**pseudorandom:** Pertaining to a sequence of numbers that appears to be random, but is generated by a deterministic program.\n",
    "\n",
    "\n",
    "**default value:** The value given to an optional parameter if no argument is provided.\n",
    "\n",
    "\n",
    "**override:** To replace a default value with an argument.\n",
    "\n",
    "\n",
    "**benchmarking:** The process of choosing between data structures by implementing alternatives and testing them on a sample of the possible inputs.\n",
    "\n",
    "\n",
    "**rubber duck debugging:** Debugging by explaining your problem to an inanimate object such as a rubber duck. Articulating the problem can help you solve it, even if the rubber duck doesn’t know Python."
   ]
  },
  {
   "cell_type": "markdown",
   "metadata": {},
   "source": [
    "**Exercise 13.9.** The “rank” of a word is its position in a list of words sorted by frequency: the most common word has rank 1, the second most common has rank 2, etc.\n",
    "\n",
    "\n",
    "Zipf’s law describes a relationship between the ranks and frequencies of words in natural languages (http://en.wikipedia.org/wiki/Zipf's_law). Specifically, it predicts that the frequency, $f$, of the word with rank $r$ is:\n",
    "\n",
    "$$f = cr^{-s}$$\n",
    "\n",
    "where $s$ and $c$ are parameters that depend on the language and the text. If you take the logarithm of both sides of this equation, you get:\n",
    "\n",
    "$$log(f) = log(c) - s\\cdot log(r)$$\n",
    "\n",
    "So if you plot $log (f)$ versus $log (r)$, you should get a straight line with slope $-s$ and intercept $log (c)$.\n",
    "\n",
    "Write a program that reads a text from a file, counts word frequencies, and prints one line for each word, in descending order of frequency, with $log (f)$ and $log (r)$. Use the graphing program of your choice to plot the results and check whether they form a straight line. Can you estimate the value of\n",
    "$s$?"
   ]
  },
  {
   "cell_type": "code",
   "execution_count": 40,
   "metadata": {},
   "outputs": [],
   "source": [
    "def zipfs_law(word_count):\n",
    "    freqs = list(word_count.values())\n",
    "    freqs.sort(reverse=True)\n",
    "    rf = [((r+1),f) for r,f in enumerate(freqs)]\n",
    "    return rf"
   ]
  },
  {
   "cell_type": "code",
   "execution_count": 41,
   "metadata": {},
   "outputs": [],
   "source": [
    "def plot_ranks(rank_freqs, scale='log'):\n",
    "    \"\"\"Plots frequency vs. rank.\n",
    "\n",
    "    hist: map from word to frequency\n",
    "    scale: string 'linear' or 'log'\n",
    "    \"\"\"\n",
    "    rs, fs = zip(*rank_freqs)\n",
    "\n",
    "    plt.clf()\n",
    "    plt.xscale(scale)\n",
    "    plt.yscale(scale)\n",
    "    plt.title('Zipf plot')\n",
    "    plt.xlabel('rank')\n",
    "    plt.ylabel('frequency')\n",
    "    plt.plot(rs, fs, 'r-', linewidth=3)\n",
    "    plt.show()"
   ]
  },
  {
   "cell_type": "code",
   "execution_count": 42,
   "metadata": {},
   "outputs": [
    {
     "data": {
      "image/png": "[encoded data removed]",
      "text/plain": [
       "<matplotlib.figure.Figure at 0x7fc467e34080>"
      ]
     },
     "metadata": {},
     "output_type": "display_data"
    }
   ],
   "source": [
    "rf = zipfs_law(word_count)\n",
    "plot_ranks(rf)"
   ]
  },
  {
   "cell_type": "code",
   "execution_count": null,
   "metadata": {},
   "outputs": [],
   "source": []
  },
  {
   "cell_type": "code",
   "execution_count": null,
   "metadata": {},
   "outputs": [],
   "source": []
  }
 ],
 "metadata": {
  "kernelspec": {
   "display_name": "Python 3",
   "language": "python",
   "name": "python3"
  },
  "language_info": {
   "codemirror_mode": {
    "name": "ipython",
    "version": 3
   },
   "file_extension": ".py",
   "mimetype": "text/x-python",
   "name": "python",
   "nbconvert_exporter": "python",
   "pygments_lexer": "ipython3",
   "version": "3.6.1"
  }
 },
 "nbformat": 4,
 "nbformat_minor": 2
}
