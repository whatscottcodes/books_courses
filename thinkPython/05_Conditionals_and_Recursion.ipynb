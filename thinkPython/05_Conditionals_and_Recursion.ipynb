{
 "cells": [
  {
   "cell_type": "markdown",
   "metadata": {
    "collapsed": true
   },
   "source": [
    "## Chapter 5 - Conditionals and Recursion"
   ]
  },
  {
   "cell_type": "markdown",
   "metadata": {},
   "source": [
    "The main topic of this chapter is the **if statement**, which executes different code depending\n",
    "on the state of the program. But first I want to introduce two new operators: floor division\n",
    "and modulus.\n",
    "\n",
    "The **floor division** operator, //, divides two numbers and rounds down to an integer."
   ]
  },
  {
   "cell_type": "code",
   "execution_count": 1,
   "metadata": {},
   "outputs": [
    {
     "name": "stdout",
     "output_type": "stream",
     "text": [
      "3.4166666666666665\n",
      "3\n"
     ]
    }
   ],
   "source": [
    "print(205/60)\n",
    "print(205//60)"
   ]
  },
  {
   "cell_type": "markdown",
   "metadata": {},
   "source": [
    "The **modulus** operator, %, which divides two numbers and returns the remainder.\n",
    "\n",
    "The modulus operator is more useful than it seems. For example, you can check whether one number is divisible by another, if *x % y* is zero, then *x* is divisible by *y*."
   ]
  },
  {
   "cell_type": "code",
   "execution_count": 2,
   "metadata": {},
   "outputs": [
    {
     "data": {
      "text/plain": [
       "25"
      ]
     },
     "execution_count": 2,
     "metadata": {},
     "output_type": "execute_result"
    }
   ],
   "source": [
    "205 % 60"
   ]
  },
  {
   "cell_type": "markdown",
   "metadata": {},
   "source": [
    "Also, you can extract the right-most digit or digits from a number. For example, *x % 10* yields the right-most digit of *x* (in base 10). Similarly *x % 100* yields the last two digits."
   ]
  },
  {
   "cell_type": "code",
   "execution_count": 3,
   "metadata": {},
   "outputs": [
    {
     "name": "stdout",
     "output_type": "stream",
     "text": [
      "6\n",
      "56\n"
     ]
    }
   ],
   "source": [
    "x = 10456\n",
    "\n",
    "print(x%10)\n",
    "print(x%100)"
   ]
  },
  {
   "cell_type": "markdown",
   "metadata": {},
   "source": [
    "A **boolean expression** is an expression that is either true or false. The following examples use the operator ==, which compares two operands and produces True if they are equal and False otherwise:"
   ]
  },
  {
   "cell_type": "code",
   "execution_count": 4,
   "metadata": {},
   "outputs": [
    {
     "name": "stdout",
     "output_type": "stream",
     "text": [
      "True\n",
      "False\n"
     ]
    }
   ],
   "source": [
    "print(5==5)\n",
    "print(5==6)"
   ]
  },
  {
   "cell_type": "markdown",
   "metadata": {},
   "source": [
    "The == operator is one of the **relational operators**; the others are:"
   ]
  },
  {
   "cell_type": "code",
   "execution_count": 5,
   "metadata": {},
   "outputs": [
    {
     "name": "stdout",
     "output_type": "stream",
     "text": [
      "True\n",
      "False\n",
      "True\n",
      "False\n",
      "True\n"
     ]
    }
   ],
   "source": [
    "x, y = 10, 15\n",
    "print(x != y) # x is not equal to y\n",
    "print(x > y) # x is greater than y\n",
    "print(x < y) # x is less than y\n",
    "print(x >= y) # x is greater than or equal to y\n",
    "print(x <= y) # x is less than or equal to y"
   ]
  },
  {
   "cell_type": "markdown",
   "metadata": {},
   "source": [
    "A common error is to use a single equal sign (=) instead of a double equal sign (==). Remember that = is an assignment operator and == is a relational operator."
   ]
  },
  {
   "cell_type": "markdown",
   "metadata": {},
   "source": [
    "There are three logical operators: **and**, **or**, and **not**. The semantics (meaning) of these operators is similar to their meaning in English. For example, *x* > 0 **and** *x* < 10 is true only if *x* is greater than 0 **and** less than 10."
   ]
  },
  {
   "cell_type": "code",
   "execution_count": 6,
   "metadata": {},
   "outputs": [
    {
     "name": "stdout",
     "output_type": "stream",
     "text": [
      "True\n",
      "False\n",
      "True\n",
      "False\n"
     ]
    }
   ],
   "source": [
    "n = 4\n",
    "k = 5\n",
    "j = 6\n",
    "\n",
    "print((n%2==0) or (n%3==0))\n",
    "print((k%2==0) or (k%3==0))\n",
    "print((j%2==0) and (j%3==0))\n",
    "\n",
    "print(not (n%2==0) or (n%3==0))"
   ]
  },
  {
   "cell_type": "markdown",
   "metadata": {},
   "source": [
    "In order to write useful programs, we almost always need the ability to check conditions and change the behavior of the program accordingly. **Conditional statements** give us this ability. The simplest form is the if statement:"
   ]
  },
  {
   "cell_type": "code",
   "execution_count": 7,
   "metadata": {},
   "outputs": [
    {
     "name": "stdout",
     "output_type": "stream",
     "text": [
      "x is positive!\n"
     ]
    }
   ],
   "source": [
    "if x > 0:\n",
    "    print(\"x is positive!\")"
   ]
  },
  {
   "cell_type": "markdown",
   "metadata": {},
   "source": [
    "The boolean expression after if is called the **condition**. If it is true, the indented statement\n",
    "runs. If not, nothing happens.\n",
    "\n",
    "\n",
    "*if* statements have the same structure as function definitions: a header followed by an\n",
    "indented body. Statements like this are called **compound statements**.\n",
    "\n",
    "\n",
    "There is no limit on the number of statements that can appear in the body, but there has to\n",
    "be at least one. Occasionally, it is useful to have a body with no statements (usually as a\n",
    "place keeper for code you you haven’t written yet). In that case, you can use the pass statement,\n",
    "which does nothing."
   ]
  },
  {
   "cell_type": "code",
   "execution_count": 8,
   "metadata": {},
   "outputs": [],
   "source": [
    "if x < 0:\n",
    "    pass # TODO: need to handle negative values!"
   ]
  },
  {
   "cell_type": "markdown",
   "metadata": {},
   "source": [
    "A second form of the *if* statement is **“alternative execution”**, in which there are two possibilities and the condition determines which one runs. The syntax looks like this:"
   ]
  },
  {
   "cell_type": "code",
   "execution_count": 9,
   "metadata": {},
   "outputs": [
    {
     "name": "stdout",
     "output_type": "stream",
     "text": [
      "x is even\n"
     ]
    }
   ],
   "source": [
    "if x % 2 == 0:\n",
    "    print('x is even')\n",
    "else:\n",
    "    print('x is odd')"
   ]
  },
  {
   "cell_type": "markdown",
   "metadata": {},
   "source": [
    "Since the condition must be true or false, exactly one of the alternatives will run. The alternatives are called branches, because they are **branches** in the flow of execution."
   ]
  },
  {
   "cell_type": "markdown",
   "metadata": {},
   "source": [
    "Sometimes there are more than two possibilities and we need more than two branches. One way to express a computation like that is a **chained conditional**:"
   ]
  },
  {
   "cell_type": "code",
   "execution_count": 10,
   "metadata": {},
   "outputs": [
    {
     "name": "stdout",
     "output_type": "stream",
     "text": [
      "x is less than y\n"
     ]
    }
   ],
   "source": [
    "if x < y:\n",
    "    print('x is less than y')\n",
    "elif x > y:\n",
    "    print('x is greater than y')\n",
    "else:\n",
    "    print('x and y are equal')"
   ]
  },
  {
   "cell_type": "markdown",
   "metadata": {},
   "source": [
    "*elif* is an abbreviation of “else if”. Again, exactly one branch will run. There is no limit on the number of elif statements. If there is an else clause, it has to be at the end, but there doesn’t have to be one.\n",
    "\n",
    "Each condition is checked in order. If the first is false, the next is checked, and so on. If one of them is true, the corresponding branch runs and the statement ends. Even if more than one condition is true, only the first true branch runs."
   ]
  },
  {
   "cell_type": "markdown",
   "metadata": {},
   "source": [
    "One conditional can also be **nested** within another. We could have written the example in the previous section like this:"
   ]
  },
  {
   "cell_type": "code",
   "execution_count": 11,
   "metadata": {},
   "outputs": [
    {
     "name": "stdout",
     "output_type": "stream",
     "text": [
      "x is less than y\n"
     ]
    }
   ],
   "source": [
    "if x == y:\n",
    "    print('x and y are equal')\n",
    "else:\n",
    "    if x < y:\n",
    "        print('x is less than y')\n",
    "    else:\n",
    "        print('x is greater than y')"
   ]
  },
  {
   "cell_type": "markdown",
   "metadata": {},
   "source": [
    "Although the indentation of the statements makes the structure apparent, **nested conditionals** become difficult to read very quickly. It is a ***good idea to avoid them when you can***."
   ]
  },
  {
   "cell_type": "markdown",
   "metadata": {},
   "source": [
    "Logical operators often provide a way to simplify nested conditional statements. For example,\n",
    "we can rewrite the following code using a single conditional:"
   ]
  },
  {
   "cell_type": "code",
   "execution_count": 12,
   "metadata": {},
   "outputs": [
    {
     "name": "stdout",
     "output_type": "stream",
     "text": [
      "x is a positive single-digit number.\n",
      "x is a positive single-digit number.\n",
      "x is a positive single-digit number.\n"
     ]
    }
   ],
   "source": [
    "x = 8\n",
    "\n",
    "if 0 < x:\n",
    "    if x < 10:\n",
    "        print('x is a positive single-digit number.')\n",
    "        \n",
    "#The print statement runs only if we make it past both conditionals, so we can get the same\n",
    "#effect with the and operator:\n",
    "\n",
    "if 0 < x and x < 10:\n",
    "    print('x is a positive single-digit number.')\n",
    "    \n",
    "#For this kind of condition, Python provides a more concise option:\n",
    "\n",
    "if 0 < x < 10:\n",
    "    print('x is a positive single-digit number.')"
   ]
  },
  {
   "cell_type": "markdown",
   "metadata": {},
   "source": [
    "It is legal for one function to call another; it is also legal for a function to call itself. It may\n",
    "not be obvious why that is a good thing, but it turns out to be one of the most magical things a program can do. We call this **recursion**."
   ]
  },
  {
   "cell_type": "code",
   "execution_count": 13,
   "metadata": {},
   "outputs": [
    {
     "name": "stdout",
     "output_type": "stream",
     "text": [
      "10\n",
      "9\n",
      "8\n",
      "7\n",
      "6\n",
      "5\n",
      "4\n",
      "3\n",
      "2\n",
      "1\n",
      "Blastoff!\n"
     ]
    }
   ],
   "source": [
    "def countdown(n):\n",
    "    if n <= 0:\n",
    "        print('Blastoff!')\n",
    "    else:\n",
    "        print(n)\n",
    "        countdown(n-1)\n",
    "    \n",
    "countdown(10)"
   ]
  },
  {
   "cell_type": "code",
   "execution_count": 14,
   "metadata": {},
   "outputs": [
    {
     "name": "stdout",
     "output_type": "stream",
     "text": [
      "Hey\n",
      "Hey\n",
      "Hey\n"
     ]
    }
   ],
   "source": [
    "#As another example, we can write a function that prints a string n times.\n",
    "\n",
    "def print_n(s, n):\n",
    "    if n <= 0:\n",
    "        return #when n hits 0, let's exit the function\n",
    "    print(s) #print our string\n",
    "    print_n(s, n-1) #run this function again, but substract 1 from n because we've printer our s once.\n",
    "    \n",
    "print_n(\"Hey\", 3)"
   ]
  },
  {
   "cell_type": "markdown",
   "metadata": {},
   "source": [
    "For simple examples like this, it is probably easier to use a *for* loop. But we will see examples later that are hard to write with a for loop and easy to write with recursion, so it is good to start early."
   ]
  },
  {
   "cell_type": "markdown",
   "metadata": {},
   "source": [
    "If a recursion never reaches a base case, it goes on making recursive calls forever, and the program never terminates. This is known as **infinite recursion**, and it is generally ***not a good idea***."
   ]
  },
  {
   "cell_type": "markdown",
   "metadata": {},
   "source": [
    "If you encounter an infinite recursion by accident, review your function to confirm that there is a base case that does not make a recursive call. And if there is a base case, check whether you are guaranteed to reach it."
   ]
  },
  {
   "cell_type": "markdown",
   "metadata": {
    "collapsed": true
   },
   "source": [
    "The programs we have written so far accept no input from the user.\n",
    "\n",
    "Python provides a built-in function called input that stops the program and waits for the user to type something. When the user presses Return or Enter, the program resumes and input returns what the user typed as a string. "
   ]
  },
  {
   "cell_type": "code",
   "execution_count": 15,
   "metadata": {},
   "outputs": [
    {
     "name": "stdout",
     "output_type": "stream",
     "text": [
      "hi\n"
     ]
    }
   ],
   "source": [
    "text = input()"
   ]
  },
  {
   "cell_type": "code",
   "execution_count": 16,
   "metadata": {},
   "outputs": [
    {
     "data": {
      "text/plain": [
       "'hi'"
      ]
     },
     "execution_count": 16,
     "metadata": {},
     "output_type": "execute_result"
    }
   ],
   "source": [
    "text"
   ]
  },
  {
   "cell_type": "markdown",
   "metadata": {},
   "source": [
    "Before getting input from the user, it is a good idea to print a prompt telling the user what to type, input can take a prompt as an argument:"
   ]
  },
  {
   "cell_type": "code",
   "execution_count": 17,
   "metadata": {},
   "outputs": [
    {
     "name": "stdout",
     "output_type": "stream",
     "text": [
      "What is you name?\n",
      "Scott\n"
     ]
    }
   ],
   "source": [
    "name = input('What is you name?\\n')"
   ]
  },
  {
   "cell_type": "code",
   "execution_count": 18,
   "metadata": {},
   "outputs": [
    {
     "data": {
      "text/plain": [
       "'Scott'"
      ]
     },
     "execution_count": 18,
     "metadata": {},
     "output_type": "execute_result"
    }
   ],
   "source": [
    "name"
   ]
  },
  {
   "cell_type": "markdown",
   "metadata": {},
   "source": [
    "The sequence \\n at the end of the prompt represents a **new line**, which is a special character that causes a line break. That’s why the user’s input appears below the prompt."
   ]
  },
  {
   "cell_type": "markdown",
   "metadata": {},
   "source": [
    "**Debugging**\n",
    "\n",
    "Syntax errors are usually easy to find, but there are a few gotchas.  Whitespace errors can be tricky because spaces and tabs are invisible and we are used to ignoring them.\n",
    "\n",
    "In general, error messages indicate where the problem was discovered, but the actual error might be earlier in the code, sometimes on a previous line.\n",
    "\n",
    "The same is true of runtime errors. Suppose you are trying to compute a signal-to-noise ratio in decibels. The formula is $SNR_{db}=10 log_{10}(\\frac{P_{\\text{signal}}}{P_{\\text{noise}}})$. In Python, you might write something like this:"
   ]
  },
  {
   "cell_type": "code",
   "execution_count": 19,
   "metadata": {},
   "outputs": [
    {
     "ename": "ValueError",
     "evalue": "math domain error",
     "output_type": "error",
     "traceback": [
      "\u001b[0;31m---------------------------------------------------------------------------\u001b[0m",
      "\u001b[0;31mValueError\u001b[0m                                Traceback (most recent call last)",
      "\u001b[0;32m<ipython-input-19-b5706bfbb8ff>\u001b[0m in \u001b[0;36m<module>\u001b[0;34m()\u001b[0m\n\u001b[1;32m      3\u001b[0m \u001b[0mnoise_power\u001b[0m \u001b[0;34m=\u001b[0m \u001b[0;36m10\u001b[0m\u001b[0;34m\u001b[0m\u001b[0m\n\u001b[1;32m      4\u001b[0m \u001b[0mratio\u001b[0m \u001b[0;34m=\u001b[0m \u001b[0msignal_power\u001b[0m \u001b[0;34m//\u001b[0m \u001b[0mnoise_power\u001b[0m\u001b[0;34m\u001b[0m\u001b[0m\n\u001b[0;32m----> 5\u001b[0;31m \u001b[0mdecibels\u001b[0m \u001b[0;34m=\u001b[0m \u001b[0;36m10\u001b[0m \u001b[0;34m*\u001b[0m \u001b[0mmath\u001b[0m\u001b[0;34m.\u001b[0m\u001b[0mlog10\u001b[0m\u001b[0;34m(\u001b[0m\u001b[0mratio\u001b[0m\u001b[0;34m)\u001b[0m\u001b[0;34m\u001b[0m\u001b[0m\n\u001b[0m\u001b[1;32m      6\u001b[0m \u001b[0mprint\u001b[0m\u001b[0;34m(\u001b[0m\u001b[0mdecibels\u001b[0m\u001b[0;34m)\u001b[0m\u001b[0;34m\u001b[0m\u001b[0m\n",
      "\u001b[0;31mValueError\u001b[0m: math domain error"
     ]
    }
   ],
   "source": [
    "import math\n",
    "signal_power = 9\n",
    "noise_power = 10\n",
    "ratio = signal_power // noise_power\n",
    "decibels = 10 * math.log10(ratio)\n",
    "print(decibels)"
   ]
  },
  {
   "cell_type": "markdown",
   "metadata": {},
   "source": [
    "The error message indicates line 5, but there is nothing wrong with that line. To find the real  error,  it  might  be  useful  to  print  the  value  of ratio,  which  turns  out  to  be  0. The problem is in line 4, which uses floor division instead of floating-point division.\n",
    "\n",
    "You should take the time to read error messages carefully, but don’t assume that everything they say is correct."
   ]
  },
  {
   "cell_type": "code",
   "execution_count": 20,
   "metadata": {},
   "outputs": [
    {
     "name": "stdout",
     "output_type": "stream",
     "text": [
      "-0.4575749056067512\n"
     ]
    }
   ],
   "source": [
    "ratio = signal_power / noise_power\n",
    "decibels = 10 * math.log10(ratio)\n",
    "print(decibels)"
   ]
  },
  {
   "cell_type": "markdown",
   "metadata": {},
   "source": [
    "### Glossary\n",
    "\n",
    "**floor division:** An operator, denoted //, that divides two numbers and rounds down (toward negative infinity) to an integer.\n",
    "\n",
    "\n",
    "**modulus operator:** An operator, denoted with a percent sign (%), that works on integers and returns the remainder when one number is divided by another.\n",
    "\n",
    "\n",
    "**boolean expression:** An expression whose value is either True or False.\n",
    "\n",
    "\n",
    "**relational operator:** One of the operators that compares its operands: ==, !=, >, <, >=, and <=.\n",
    "\n",
    "\n",
    "**logical operator:** One of the operators that combines boolean expressions: and, or, and not.\n",
    "\n",
    "\n",
    "**conditional statement:** A statement that controls the flow of execution depending on some condition.\n",
    "\n",
    "\n",
    "**condition:** The boolean expression in a conditional statement that determines which branch runs.\n",
    "\n",
    "\n",
    "**compound statement:** A statement that consists of a header and a body. The header ends with a colon (:). The body is indented relative to the header.\n",
    "\n",
    "\n",
    "**branch:** One of the alternative sequences of statements in a conditional statement.\n",
    "\n",
    "\n",
    "**chained conditional:** A conditional statement with a series of alternative branches.\n",
    "\n",
    "\n",
    "**nested conditional:** A conditional statement that appears in one of the branches of another conditional statement.\n",
    "\n",
    "\n",
    "**return statement:** A statement that causes a function to end immediately and return to the caller.\n",
    "\n",
    "\n",
    "**recursion:** The process of calling the function that is currently executing.\n",
    "\n",
    "\n",
    "**base case:** A conditional branch in a recursive function that does not make a recursive call. \n",
    "\n",
    "**infinite recursion:** A recursion that doesn’t have a base case, or never reaches it. Eventually, an infinite recursion causes a runtime error."
   ]
  },
  {
   "cell_type": "markdown",
   "metadata": {},
   "source": [
    "## Exercises\n",
    "\n",
    "**Exercise 5.1.** The time module provides a function, also named time, that returns the current Greenwich Mean Time in “the epoch”, which is an arbitrary time used as a reference point. On UNIX systems, the epoch is 1 January 1970.\n",
    "\n",
    "Write a script that reads the current time and converts it to a time of day in hours, minutes, and\n",
    "seconds, plus the number of days since the epoch."
   ]
  },
  {
   "cell_type": "code",
   "execution_count": 29,
   "metadata": {},
   "outputs": [],
   "source": [
    "import time\n",
    "def convert_time():\n",
    "    total_seconds = time.time()\n",
    "    days = total_seconds // (24 * 60**2)\n",
    "    total_seconds = total_seconds - days*(24 * 60**2) #update total_seconds to remove seconds that are in our days\n",
    "    hours = total_seconds // (60**2)\n",
    "    total_seconds = total_seconds - hours*(60**2) #update total_seconds to remove seconds that are in our hours\n",
    "    minutes = total_seconds // (60)\n",
    "    if len(str(minutes)) < 2:\n",
    "        string_mins = \"0\"+str(minutes)\n",
    "    else:\n",
    "        string_mins = str(minutes)\n",
    "    if hours < 12:\n",
    "        meridiem = \" A.M\"\n",
    "    else:\n",
    "        meridiem = \" P.M\"\n",
    "    seconds = int(total_seconds - minutes*(60)) #update total_seconds to remove seconds that are in our minutes\n",
    "    year = 1970 + (days // 365) #find the current year, the epoch was in 1970\n",
    "    day_date = ((days % 365) - 12) + 1 #find the days into the current year, accounting for the 12 leap years between then and 2018, plus 1 because otherwise January 1st would be 0\n",
    "    #not every month has 30 days, but I'm going to gloss over that\n",
    "    month = (day_date // 30)+1  #need to find the month, need to add 1 because otherwise January would be the 0 month\n",
    "    day_date = 30 - abs(day_date - (month*30))\n",
    "    month_dict = {1:'Jan',2:'Feb',3:'Mar',4:'Apr',5:'May',6:'Jun',7:'Jul',8:'Aug',9:'Sep',10:'Oct',11:'Nov',12:'Dec'} \n",
    "    print(\"It is:\",str(month_dict[month] +\" \"+str(int(day_date))+\" \"+str(int(year))))\n",
    "    print(\"This time is:\",str(int(hours))+\":\"+string_mins+meridiem)\n",
    "    print(\"Time elapsed since epoch: %d years, %d days, %d hours, %d minutes, and %d seconds\" % ((days // 365), day_date, hours, minutes, seconds))"
   ]
  },
  {
   "cell_type": "code",
   "execution_count": 28,
   "metadata": {},
   "outputs": [
    {
     "name": "stdout",
     "output_type": "stream",
     "text": [
      "It is: Feb 12 2018\n",
      "This time is: 20:57 P.M\n",
      "Time elapsed since epoch: 48 years, 12 days, 20 hours, 57 minutes, and 41 seconds\n"
     ]
    }
   ],
   "source": [
    "convert_time()"
   ]
  },
  {
   "cell_type": "markdown",
   "metadata": {},
   "source": [
    "**Exercise 5.2.** Fermat’s Last Theorem says that there are no positive integers $a$, $b$, and $c$ such that;\n",
    "\n",
    "$$a^{n} + b^{n} = c^{n}$$\n",
    "\n",
    "for any values of $n > 2$\n",
    "\n",
    "*1. Write a function named check_fermat that takes four parameters—$a$, $b$, $c$ and $n$—and checks to see if Fermat’s theorem holds.* \n",
    "\n",
    "If $n$ is greater than 2 and $a^{n} + b^{n} = c^{n}$ the program should print, “Holy smokes, Fermat was wrong!” Otherwise the program should print, “No, that doesn’t work.”\n",
    "\n",
    "*2. Write a function that prompts the user to input values for $a$, $b$, $c$ and $n$, converts them to\n",
    "integers, and uses check_fermat to check whether they violate Fermat’s theorem.*"
   ]
  },
  {
   "cell_type": "code",
   "execution_count": 30,
   "metadata": {},
   "outputs": [],
   "source": [
    "def checking_fermat(a,b,c,n):\n",
    "    if n <= 2:\n",
    "        return \"n is less than 2 and therefore is not covered by this theorem!\"\n",
    "    if ((a**n) + (b**n)) == (c**n):\n",
    "        return \"Holy smokes, Fermat was wrong!\"\n",
    "    else:\n",
    "        return \"No, that doesn't work.\""
   ]
  },
  {
   "cell_type": "code",
   "execution_count": 31,
   "metadata": {},
   "outputs": [],
   "source": [
    "def checking_fermatv2():\n",
    "    a = int(input(\"Please choose an integer for a\\n\"))\n",
    "    b = int(input(\"Please choose an integer for b\\n\"))\n",
    "    c = int(input(\"Please choose an integer for c\\n\"))\n",
    "    n = int(input(\"Please choose an integer greater than 2 for n\\n\"))\n",
    "    return checking_fermat(a,b,c,n)"
   ]
  },
  {
   "cell_type": "code",
   "execution_count": 32,
   "metadata": {},
   "outputs": [
    {
     "name": "stdout",
     "output_type": "stream",
     "text": [
      "Please choose an integer for a\n",
      "55\n",
      "Please choose an integer for b\n",
      "55\n",
      "Please choose an integer for c\n",
      "77\n",
      "Please choose an integer greater than 2 for n\n",
      "66\n"
     ]
    },
    {
     "data": {
      "text/plain": [
       "\"No, that doesn't work.\""
      ]
     },
     "execution_count": 32,
     "metadata": {},
     "output_type": "execute_result"
    }
   ],
   "source": [
    "checking_fermatv2()"
   ]
  },
  {
   "cell_type": "markdown",
   "metadata": {},
   "source": [
    "**Exercise 5.3.** If you are given three sticks, you may or may not be able to arrange them in a triangle. For example, if one of the sticks is 12 inches long and the other two are one inch long, you will not be able to get the short sticks to meet in the middle. For any three lengths, there is a simple test to see if it is possible to form a triangle:\n",
    "\n",
    "If any of the three lengths is greater than the sum of the other two, then you cannot form a triangle. Otherwise, you can. (If the sum of two lengths equals the third, they form what is called a “degenerate” triangle.)\n",
    "\n",
    "*1. Write a function named is_triangle that takes three integers as arguments, and that prints either “Yes” or “No”, depending on whether you can or cannot form a triangle from sticks with the given lengths.*\n",
    "\n",
    "\n",
    "*2. Write a function that prompts the user to input three stick lengths, converts them to integers, and uses is_triangle to check whether sticks with the given lengths can form a triangle.*"
   ]
  },
  {
   "cell_type": "code",
   "execution_count": 33,
   "metadata": {},
   "outputs": [],
   "source": [
    "def is_triangle(a,b,c):\n",
    "    if (a > (b+c)) or (b >(a+c)) or (c>(a+b)):\n",
    "        return 'No'\n",
    "    else:\n",
    "        return 'Yes'"
   ]
  },
  {
   "cell_type": "code",
   "execution_count": 34,
   "metadata": {},
   "outputs": [
    {
     "name": "stdout",
     "output_type": "stream",
     "text": [
      "Yes\n",
      "No\n"
     ]
    }
   ],
   "source": [
    "print(is_triangle(3,4,5))\n",
    "print(is_triangle(12,1,1))"
   ]
  },
  {
   "cell_type": "code",
   "execution_count": 35,
   "metadata": {},
   "outputs": [],
   "source": [
    "def triangle_input():\n",
    "    side_lengths = input(\"Please enter 3 side lengths separated by a comma, i.e. 3,4,5. \\n\")\n",
    "    a = int(side_lengths[0])\n",
    "    b = int(side_lengths[2])\n",
    "    c = int(side_lengths[4])\n",
    "    return is_triangle(a,b,c)"
   ]
  },
  {
   "cell_type": "code",
   "execution_count": 38,
   "metadata": {},
   "outputs": [
    {
     "name": "stdout",
     "output_type": "stream",
     "text": [
      "Please enter 3 side lengths separated by a comma, i.e. 3,4,5. \n",
      "3,4,5\n"
     ]
    },
    {
     "data": {
      "text/plain": [
       "'Yes'"
      ]
     },
     "execution_count": 38,
     "metadata": {},
     "output_type": "execute_result"
    }
   ],
   "source": [
    "triangle_input()"
   ]
  },
  {
   "cell_type": "markdown",
   "metadata": {},
   "source": [
    "**Exercise 5.4.** What is the output of the following program? Draw a stack diagram that shows the state of the program when it prints the result."
   ]
  },
  {
   "cell_type": "code",
   "execution_count": 39,
   "metadata": {},
   "outputs": [
    {
     "name": "stdout",
     "output_type": "stream",
     "text": [
      "6\n"
     ]
    }
   ],
   "source": [
    "def recurse(n, s):\n",
    "    if n == 0:\n",
    "        print(s)\n",
    "    else:\n",
    "        recurse(n-1, n+s)\n",
    "\n",
    "recurse(3, 0)\n",
    "\n",
    "#__main##\n",
    "#recurse n = 3, s = 0\n",
    "#recurse n = 2, s = 3\n",
    "#recurse n = 1, s = 5\n",
    "#recurse n = 0, s = 6 >here is is finished and prints out s, which is now 6"
   ]
  },
  {
   "cell_type": "markdown",
   "metadata": {},
   "source": [
    "*1. What would happen if you called this function like this: recurse(-1, 0)?*\n",
    ">The program would enter an infinite recursion loop becasue we never reach 0...as we subtract 1 in each recursive call, we actually get farther and farther away from 0 in each iteration.\n",
    "\n",
    "\n",
    "*2. Write a docstring that explains everything someone would need to know in order to use this function (and nothing else).*\n",
    "\n",
    ">This program takes two values and returns the result of the summation of (s + n) from 0 to n. n can only be a non-negative integer value, s can be any int or float."
   ]
  },
  {
   "cell_type": "code",
   "execution_count": null,
   "metadata": {},
   "outputs": [],
   "source": []
  }
 ],
 "metadata": {
  "kernelspec": {
   "display_name": "Python 3",
   "language": "python",
   "name": "python3"
  },
  "language_info": {
   "codemirror_mode": {
    "name": "ipython",
    "version": 3
   },
   "file_extension": ".py",
   "mimetype": "text/x-python",
   "name": "python",
   "nbconvert_exporter": "python",
   "pygments_lexer": "ipython3",
   "version": "3.6.1"
  }
 },
 "nbformat": 4,
 "nbformat_minor": 2
}
