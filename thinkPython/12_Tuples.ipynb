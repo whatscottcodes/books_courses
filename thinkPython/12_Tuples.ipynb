{
 "cells": [
  {
   "cell_type": "markdown",
   "metadata": {
    "collapsed": true
   },
   "source": [
    "## Chapter 12 - Tuples"
   ]
  },
  {
   "cell_type": "markdown",
   "metadata": {},
   "source": [
    "A **tuple** is a sequence of values. The values can be any type, and they are indexed by integers, so in that respect tuples are a lot like lists. The important difference is that tuples are **immutable**."
   ]
  },
  {
   "cell_type": "code",
   "execution_count": 6,
   "metadata": {},
   "outputs": [
    {
     "name": "stdout",
     "output_type": "stream",
     "text": [
      "('a', 'b', 'c', 'd', 'e') ('a',) a ()\n",
      "<class 'tuple'> <class 'tuple'> <class 'str'>\n"
     ]
    }
   ],
   "source": [
    "t = 'a', 'b', 'c', 'd', 'e'\n",
    "#Although it is not necessary, it is common to enclose tuples in parentheses:\n",
    "t = ('a', 'b', 'c', 'd', 'e')\n",
    "#To create a tuple with a single element, you have to include a final comma:\n",
    "t1 = 'a',\n",
    "#A value in parentheses is not a tuple:\n",
    "t2 = ('a')\n",
    "#Another way to create a tuple is the built-in function tuple. With no argument, \n",
    "#it creates an empty tuple:\n",
    "t3 = tuple()\n",
    "\n",
    "\n",
    "print(t, t1, t2, t3)\n",
    "print(type(t), type(t1), type(t2))"
   ]
  },
  {
   "cell_type": "markdown",
   "metadata": {},
   "source": [
    "If the argument is a sequence (string, list or tuple), the result is a tuple with the elements of\n",
    "the sequence:"
   ]
  },
  {
   "cell_type": "code",
   "execution_count": 7,
   "metadata": {},
   "outputs": [
    {
     "data": {
      "text/plain": [
       "('l', 'u', 'p', 'i', 'n', 's')"
      ]
     },
     "execution_count": 7,
     "metadata": {},
     "output_type": "execute_result"
    }
   ],
   "source": [
    "t = tuple('lupins')\n",
    "t"
   ]
  },
  {
   "cell_type": "markdown",
   "metadata": {},
   "source": [
    "Because tuple is the name of a built-in function, you should avoid using it as a variable\n",
    "name.\n",
    "\n",
    "Most list operators also work on tuples. "
   ]
  },
  {
   "cell_type": "code",
   "execution_count": 8,
   "metadata": {},
   "outputs": [
    {
     "name": "stdout",
     "output_type": "stream",
     "text": [
      "a\n",
      "('b', 'c')\n"
     ]
    }
   ],
   "source": [
    "#The bracket operator indexes an element:\n",
    "t = ('a', 'b', 'c', 'd', 'e')\n",
    "print(t[0])\n",
    "\n",
    "#And the slice operator selects a range of elements.\n",
    "print(t[1:3])"
   ]
  },
  {
   "cell_type": "markdown",
   "metadata": {},
   "source": [
    "But if you try to modify one of the elements of the tuple, you get an error:"
   ]
  },
  {
   "cell_type": "code",
   "execution_count": 9,
   "metadata": {},
   "outputs": [
    {
     "ename": "TypeError",
     "evalue": "'tuple' object does not support item assignment",
     "output_type": "error",
     "traceback": [
      "\u001b[0;31m---------------------------------------------------------------------------\u001b[0m",
      "\u001b[0;31mTypeError\u001b[0m                                 Traceback (most recent call last)",
      "\u001b[0;32m<ipython-input-9-7e674cdf20e6>\u001b[0m in \u001b[0;36m<module>\u001b[0;34m()\u001b[0m\n\u001b[0;32m----> 1\u001b[0;31m \u001b[0mt\u001b[0m\u001b[0;34m[\u001b[0m\u001b[0;36m0\u001b[0m\u001b[0;34m]\u001b[0m \u001b[0;34m=\u001b[0m \u001b[0;34m'A'\u001b[0m\u001b[0;34m\u001b[0m\u001b[0m\n\u001b[0m",
      "\u001b[0;31mTypeError\u001b[0m: 'tuple' object does not support item assignment"
     ]
    }
   ],
   "source": [
    "t[0] = 'A'"
   ]
  },
  {
   "cell_type": "markdown",
   "metadata": {},
   "source": [
    "Because tuples are immutable, you can’t modify the elements. But you can replace onetuple with another:"
   ]
  },
  {
   "cell_type": "code",
   "execution_count": 10,
   "metadata": {},
   "outputs": [
    {
     "data": {
      "text/plain": [
       "('A', 'b', 'c', 'd', 'e')"
      ]
     },
     "execution_count": 10,
     "metadata": {},
     "output_type": "execute_result"
    }
   ],
   "source": [
    "t = ('A',) + t[1:]\n",
    "t"
   ]
  },
  {
   "cell_type": "markdown",
   "metadata": {},
   "source": [
    "This statement makes a new tuple and then makes t refer to it.\n",
    "\n",
    "The relational operators work with tuples and other sequences; Python starts by comparing the first element from each sequence. If they are equal, it goes on to the next elements, and so on, until it finds elements that differ. Subsequent elements are not considered (even if they are really big)."
   ]
  },
  {
   "cell_type": "code",
   "execution_count": 11,
   "metadata": {},
   "outputs": [
    {
     "name": "stdout",
     "output_type": "stream",
     "text": [
      "True\n",
      "True\n",
      "False\n"
     ]
    }
   ],
   "source": [
    "print((0, 1, 2) < (0, 3, 4))\n",
    "print((0, 1, 2000000) < (0, 3, 4))\n",
    "print((0, 1, 2000000) < (0, 1, 4))"
   ]
  },
  {
   "cell_type": "markdown",
   "metadata": {},
   "source": [
    "It is often useful to swap the values of two variables. With conventional assignments, you have to use a temporary variable.\n",
    "\n",
    "This solution is cumbersome; **tuple assignment** is more elegant;"
   ]
  },
  {
   "cell_type": "code",
   "execution_count": 13,
   "metadata": {},
   "outputs": [
    {
     "name": "stdout",
     "output_type": "stream",
     "text": [
      "0 1\n"
     ]
    }
   ],
   "source": [
    "a = 0\n",
    "b = 1\n",
    "temp = a\n",
    "a = b\n",
    "b = temp\n",
    "\n",
    "#with tuple assignment\n",
    "\n",
    "a,b = b,a #swap back\n",
    "\n",
    "print(a,b)"
   ]
  },
  {
   "cell_type": "markdown",
   "metadata": {},
   "source": [
    "The number of variables on the left and the number of values on the right have to be the same.\n",
    "\n",
    "More generally, the right side can be any kind of sequence (string, list or tuple). For example, to split an email address into a user name and a domain, you could write:"
   ]
  },
  {
   "cell_type": "code",
   "execution_count": 15,
   "metadata": {},
   "outputs": [
    {
     "name": "stdout",
     "output_type": "stream",
     "text": [
      "User:  monty Domain:  python.org\n"
     ]
    }
   ],
   "source": [
    "addr = 'monty@python.org'\n",
    "uname, domain = addr.split('@')\n",
    "\n",
    "print('User: ', uname, 'Domain: ', domain)"
   ]
  },
  {
   "cell_type": "markdown",
   "metadata": {},
   "source": [
    "Strictly speaking, a function can only return one value, but if the value is a tuple, the effect is the same as returning multiple values.\n",
    "\n",
    "The built-in function divmod takes two arguments and returns a tuple of two values, the\n",
    "quotient and remainder."
   ]
  },
  {
   "cell_type": "code",
   "execution_count": 16,
   "metadata": {},
   "outputs": [
    {
     "name": "stdout",
     "output_type": "stream",
     "text": [
      "(2, 1)\n",
      "2\n",
      "1\n"
     ]
    }
   ],
   "source": [
    "#You can store the result as a tuple:\n",
    "t = divmod(7, 3)\n",
    "print(t)\n",
    "\n",
    "#Or use tuple assignment to store the elements separately:\n",
    "quot, rem = divmod(7, 3)\n",
    "print(quot)\n",
    "print(rem)"
   ]
  },
  {
   "cell_type": "markdown",
   "metadata": {},
   "source": [
    "Here is an example of a function that returns a tuple:"
   ]
  },
  {
   "cell_type": "code",
   "execution_count": 18,
   "metadata": {},
   "outputs": [
    {
     "name": "stdout",
     "output_type": "stream",
     "text": [
      "1\n",
      "5\n"
     ]
    }
   ],
   "source": [
    "def min_max(t):\n",
    "    return min(t), max(t) #finds smallest and largest elements of a sequence\n",
    "\n",
    "list_min, list_max = min_max([1,2,3,4,5])\n",
    "print(list_min)\n",
    "print(list_max)"
   ]
  },
  {
   "cell_type": "markdown",
   "metadata": {},
   "source": [
    "Functions can take a **variable number of arguments**. A parameter name that begins with * gathers arguments into a tuple. \n",
    "\n",
    "For example, printall takes any number of arguments and prints them:"
   ]
  },
  {
   "cell_type": "code",
   "execution_count": 19,
   "metadata": {},
   "outputs": [],
   "source": [
    "def printall(*args):\n",
    "    print(args)"
   ]
  },
  {
   "cell_type": "markdown",
   "metadata": {},
   "source": [
    "The **gather** parameter can have any name you like, but args is conventional. Here’s how the function works:"
   ]
  },
  {
   "cell_type": "code",
   "execution_count": 21,
   "metadata": {},
   "outputs": [
    {
     "name": "stdout",
     "output_type": "stream",
     "text": [
      "(1, 2.0, '3')\n",
      "(1, 2, 3, 4, '5', [1, 2, 'cat'], {1: 'd'})\n"
     ]
    }
   ],
   "source": [
    "printall(1, 2.0, '3')\n",
    "\n",
    "printall(1,2,3,4,'5', [1,2,'cat'], {1:'d'})"
   ]
  },
  {
   "cell_type": "markdown",
   "metadata": {},
   "source": [
    "The complement of gather is **scatter**. If you have a sequence of values and you want to pass it to a function as multiple arguments, you can use the * operator. \n",
    "\n",
    "For example, divmod takes exactly two arguments; it doesn’t work with a tuple:"
   ]
  },
  {
   "cell_type": "code",
   "execution_count": 22,
   "metadata": {},
   "outputs": [
    {
     "ename": "TypeError",
     "evalue": "divmod expected 2 arguments, got 1",
     "output_type": "error",
     "traceback": [
      "\u001b[0;31m---------------------------------------------------------------------------\u001b[0m",
      "\u001b[0;31mTypeError\u001b[0m                                 Traceback (most recent call last)",
      "\u001b[0;32m<ipython-input-22-b9b469f7c0ca>\u001b[0m in \u001b[0;36m<module>\u001b[0;34m()\u001b[0m\n\u001b[1;32m      1\u001b[0m \u001b[0mt\u001b[0m \u001b[0;34m=\u001b[0m \u001b[0;34m(\u001b[0m\u001b[0;36m7\u001b[0m\u001b[0;34m,\u001b[0m \u001b[0;36m3\u001b[0m\u001b[0;34m)\u001b[0m\u001b[0;34m\u001b[0m\u001b[0m\n\u001b[0;32m----> 2\u001b[0;31m \u001b[0mdivmod\u001b[0m\u001b[0;34m(\u001b[0m\u001b[0mt\u001b[0m\u001b[0;34m)\u001b[0m\u001b[0;34m\u001b[0m\u001b[0m\n\u001b[0m",
      "\u001b[0;31mTypeError\u001b[0m: divmod expected 2 arguments, got 1"
     ]
    }
   ],
   "source": [
    "t = (7, 3)\n",
    "divmod(t)"
   ]
  },
  {
   "cell_type": "markdown",
   "metadata": {},
   "source": [
    "But if you scatter the tuple it works:"
   ]
  },
  {
   "cell_type": "code",
   "execution_count": 23,
   "metadata": {},
   "outputs": [
    {
     "data": {
      "text/plain": [
       "(2, 1)"
      ]
     },
     "execution_count": 23,
     "metadata": {},
     "output_type": "execute_result"
    }
   ],
   "source": [
    "divmod(*t)"
   ]
  },
  {
   "cell_type": "markdown",
   "metadata": {},
   "source": [
    "As an exercise, write a function called sumall that takes any number of arguments and returns their sum."
   ]
  },
  {
   "cell_type": "code",
   "execution_count": 40,
   "metadata": {},
   "outputs": [
    {
     "name": "stdout",
     "output_type": "stream",
     "text": [
      "20\n",
      "20\n"
     ]
    }
   ],
   "source": [
    "def sum_all(*args):\n",
    "    total = 0\n",
    "    for arg in args:\n",
    "        total += arg\n",
    "    return total\n",
    "\n",
    "def sum_all2(*args):\n",
    "    t = [arg for arg in args]\n",
    "    return sum(t)\n",
    "    \n",
    "print(sum_all(1,2,3,4,5,5))\n",
    "print(sum_all2(1,2,3,4,5,5))"
   ]
  },
  {
   "cell_type": "markdown",
   "metadata": {},
   "source": [
    "**zip** is a built-in function that takes two or more sequences and returns a list of tuples where each tuple contains one element from each sequence."
   ]
  },
  {
   "cell_type": "code",
   "execution_count": 42,
   "metadata": {},
   "outputs": [
    {
     "data": {
      "text/plain": [
       "<zip at 0x7ff91ae56a88>"
      ]
     },
     "execution_count": 42,
     "metadata": {},
     "output_type": "execute_result"
    }
   ],
   "source": [
    "#This example zips a string and a list:\n",
    "s = 'abc'\n",
    "t = [0, 1, 2]\n",
    "zip(s, t)"
   ]
  },
  {
   "cell_type": "markdown",
   "metadata": {},
   "source": [
    "The result is a **zip object** that knows how to iterate through the pairs. The most common use of zip is in a for loop; you can use tuple assignment in a for loop to traverse a list of tuples:"
   ]
  },
  {
   "cell_type": "code",
   "execution_count": 43,
   "metadata": {},
   "outputs": [
    {
     "name": "stdout",
     "output_type": "stream",
     "text": [
      "('a', 0)\n",
      "('b', 1)\n",
      "('c', 2)\n",
      "a0\n",
      "b1\n",
      "c2\n"
     ]
    }
   ],
   "source": [
    "for pair in zip(s, t):\n",
    "    print(pair)\n",
    "for j,k in zip(s,t):\n",
    "    print(j + str(k))"
   ]
  },
  {
   "cell_type": "markdown",
   "metadata": {},
   "source": [
    "A zip object is a kind of **iterator**, which is any object that iterates through a sequence.\n",
    "\n",
    "Iterators are similar to lists in some ways, but unlike lists, you can’t use an index to select an element from an iterator."
   ]
  },
  {
   "cell_type": "markdown",
   "metadata": {},
   "source": [
    "If you need to traverse the elements of a sequence and their indices, you can use the built-in function **enumerate**:"
   ]
  },
  {
   "cell_type": "code",
   "execution_count": 44,
   "metadata": {},
   "outputs": [
    {
     "name": "stdout",
     "output_type": "stream",
     "text": [
      "0 a\n",
      "1 b\n",
      "2 c\n"
     ]
    }
   ],
   "source": [
    "for index, element in enumerate('abc'):\n",
    "    print(index, element)"
   ]
  },
  {
   "cell_type": "markdown",
   "metadata": {},
   "source": [
    "Dictionaries have a method called **items** that returns a sequence of tuples, where each tuple is a key-value pair."
   ]
  },
  {
   "cell_type": "code",
   "execution_count": 46,
   "metadata": {},
   "outputs": [
    {
     "data": {
      "text/plain": [
       "dict_items([('a', 0), ('b', 1), ('c', 2)])"
      ]
     },
     "execution_count": 46,
     "metadata": {},
     "output_type": "execute_result"
    }
   ],
   "source": [
    "d = {'a':0, 'b':1, 'c':2}\n",
    "t = d.items()\n",
    "t"
   ]
  },
  {
   "cell_type": "markdown",
   "metadata": {},
   "source": [
    "The result is a dict_items object, which is an iterator that iterates the key-value pairs. You can use it in a for loop like this:"
   ]
  },
  {
   "cell_type": "code",
   "execution_count": 47,
   "metadata": {},
   "outputs": [
    {
     "name": "stdout",
     "output_type": "stream",
     "text": [
      "a\n",
      "0\n",
      "b\n",
      "1\n",
      "c\n",
      "2\n"
     ]
    }
   ],
   "source": [
    "for key, value in  d.items():\n",
    "    print(key)\n",
    "    print(value)"
   ]
  },
  {
   "cell_type": "markdown",
   "metadata": {},
   "source": [
    "As you should expect from a dictionary, the items are in no particular order.\n",
    "\n",
    "Going in the other direction, you can use a list of tuples to initialize a new dictionary:"
   ]
  },
  {
   "cell_type": "code",
   "execution_count": 48,
   "metadata": {},
   "outputs": [
    {
     "data": {
      "text/plain": [
       "{'a': 0, 'b': 1, 'c': 2}"
      ]
     },
     "execution_count": 48,
     "metadata": {},
     "output_type": "execute_result"
    }
   ],
   "source": [
    "t = [('a', 0), ('c', 2), ('b', 1)]\n",
    "d = dict(t)\n",
    "d"
   ]
  },
  {
   "cell_type": "markdown",
   "metadata": {},
   "source": [
    "Combining dict with zip yields a concise way to create a dictionary:"
   ]
  },
  {
   "cell_type": "code",
   "execution_count": 49,
   "metadata": {},
   "outputs": [
    {
     "data": {
      "text/plain": [
       "{'a': 0, 'b': 1, 'c': 2}"
      ]
     },
     "execution_count": 49,
     "metadata": {},
     "output_type": "execute_result"
    }
   ],
   "source": [
    "d = dict(zip('abc', range(3)))\n",
    "d"
   ]
  },
  {
   "cell_type": "markdown",
   "metadata": {},
   "source": [
    "The dictionary method update also takes a list of tuples and adds them, as key-value pairs, to an existing dictionary."
   ]
  },
  {
   "cell_type": "code",
   "execution_count": 52,
   "metadata": {},
   "outputs": [
    {
     "data": {
      "text/plain": [
       "{'a': 0, 'b': 1, 'c': 2, 'd': 3, 'e': 4}"
      ]
     },
     "execution_count": 52,
     "metadata": {},
     "output_type": "execute_result"
    }
   ],
   "source": [
    "d.update([('d',3), ('e',4)])\n",
    "d"
   ]
  },
  {
   "cell_type": "markdown",
   "metadata": {},
   "source": [
    "It is common to use tuples as keys in dictionaries (primarily because you can’t use lists). For example, a telephone directory might map from last-name, first-name pairs to telephone numbers. \n",
    "\n",
    "Assuming that we have defined last, first and number, we could write:"
   ]
  },
  {
   "cell_type": "code",
   "execution_count": 57,
   "metadata": {},
   "outputs": [
    {
     "data": {
      "text/plain": [
       "{('Van Gold', 'Vincent'): '508-187-9309'}"
      ]
     },
     "execution_count": 57,
     "metadata": {},
     "output_type": "execute_result"
    }
   ],
   "source": [
    "last = 'Van Gold'\n",
    "first = 'Vincent'\n",
    "number = '508-187-9309'\n",
    "directory = {}\n",
    "directory[last, first] = number\n",
    "directory"
   ]
  },
  {
   "cell_type": "code",
   "execution_count": 58,
   "metadata": {},
   "outputs": [
    {
     "name": "stdout",
     "output_type": "stream",
     "text": [
      "Vincent Van Gold 508-187-9309\n"
     ]
    }
   ],
   "source": [
    "for last, first in directory:\n",
    "    print(first, last, directory[last,first])"
   ]
  },
  {
   "cell_type": "markdown",
   "metadata": {},
   "source": [
    "This loop traverses the keys in directory, which are tuples. It assigns the elements of each tuple to last and first, then prints the name and corresponding telephone number."
   ]
  },
  {
   "cell_type": "markdown",
   "metadata": {},
   "source": [
    "In many contexts, the different kinds of sequences (strings, lists and tuples) can be used interchangeably. *So how should you choose one over the others?*\n",
    "\n",
    "\n",
    "To start with the obvious, **strings** are more limited than other sequences because the elements have to be characters. They are also immutable. If you need the ability to change the characters in a string (as opposed to creating a new string), you might want to use a list of characters instead."
   ]
  },
  {
   "cell_type": "markdown",
   "metadata": {},
   "source": [
    "**Lists** are more common than **tuples**, mostly because they are mutable. But there are a few\n",
    "cases where you might prefer tuples:\n",
    "    \n",
    "1. In some contexts, like a return statement, it is syntactically simpler to create a tuple than a list.\n",
    "2. If you want to use a sequence as a dictionary key, you have to use an immutable type like a tuple or string.\n",
    "3. If you are passing a sequence as an argument to a function, using tuples reduces the potential for unexpected behavior due to aliasing."
   ]
  },
  {
   "cell_type": "markdown",
   "metadata": {},
   "source": [
    "Because tuples are immutable, they don’t provide methods like sort and reverse, which modify existing lists. But Python provides the built-in function **sorted**, which takes any sequence and returns a new list with the same elements in sorted order, and **reversed**, which takes a sequence and returns an iterator that traverses the list in reverse order."
   ]
  },
  {
   "cell_type": "code",
   "execution_count": 63,
   "metadata": {},
   "outputs": [
    {
     "name": "stdout",
     "output_type": "stream",
     "text": [
      "[1, 2, 3, 4, 5] <class 'list'>\n",
      "<reversed object at 0x7ff91aeb4da0>\n",
      "[5, 4, 3, 2, 1] <class 'list'>\n"
     ]
    }
   ],
   "source": [
    "t = (1,2,3,4,5)\n",
    "sort_t = sorted(t)\n",
    "reverse_t = reversed(t)\n",
    "reverse_t_fixed = [t for t in reversed(t)]\n",
    "\n",
    "print(sort_t, type(sort_t))\n",
    "print(reverse_t)\n",
    "print(reverse_t_fixed, type(sort_t))"
   ]
  },
  {
   "cell_type": "markdown",
   "metadata": {},
   "source": [
    "**Debugging**\n",
    "\n",
    "Lists, dictionaries and tuples are examples of **data structures**; in this chapter we are starting to see compound data structures, like lists of tuples, or dictionaries that contain tuples as keys and lists as values. \n",
    "\n",
    "**Compound data structures** are useful, but they are prone to what I call **shape errors**; that is,  errors caused when a data structure has the wrong type, size, or structure. For example, if you are expecting a list with one integer and I give you a plain old integer (not in a list), it won’t work."
   ]
  },
  {
   "cell_type": "markdown",
   "metadata": {},
   "source": [
    "To help debug these kinds of errors, I have written a module called structshape that provides a function, also called structshape, that takes any kind of data structure as an argument and returns a string that summarizes its shape. You can download it from http://thinkpython2.com/code/structshape.py\n",
    "\n",
    "If you are having trouble keeping track of your data structures, **structshape** can help."
   ]
  },
  {
   "cell_type": "markdown",
   "metadata": {},
   "source": [
    "### Glossary\n",
    "\n",
    "**tuple:** An immutable sequence of elements.\n",
    "\n",
    "\n",
    "**tuple assignment:** An assignment with a sequence on the right side and a tuple of variables on the left. The right side is evaluated and then its elements are assigned to the variables on the left.\n",
    "\n",
    "**gather:** The operation of assembling a variable-length argument tuple.\n",
    "\n",
    "\n",
    "**scatter:** The operation of treating a sequence as a list of arguments.\n",
    "\n",
    "\n",
    "**zip object:** The result of calling a built-in function zip; an object that iterates through a sequence of tuples.\n",
    "\n",
    "\n",
    "**iterator:** An object that can iterate through a sequence, but which does not provide list operators and methods.\n",
    "\n",
    "\n",
    "**data structure:** A collection of related values, often organized in lists, dictionaries, tuples, etc.\n",
    "\n",
    "\n",
    "**shape error:** An error caused because a value has the wrong shape; that is, the wrong type or size."
   ]
  },
  {
   "cell_type": "markdown",
   "metadata": {},
   "source": [
    "### Exercises\n",
    "\n",
    "**Exercise 12.1.** Write a function called most_frequent that takes a string and prints the letters in decreasing order of frequency. Find text samples from several different languages and see how letter frequency varies between languages. \n",
    "\n",
    "Compare your results with the tables at http://en.wikipedia.org/wiki/Letter_frequencies"
   ]
  },
  {
   "cell_type": "code",
   "execution_count": 1,
   "metadata": {},
   "outputs": [],
   "source": [
    "from collections import defaultdict\n",
    "\n",
    "def inverse_dict(d):\n",
    "    inverse = {}\n",
    "    for key in d:\n",
    "        val = d[key]\n",
    "        inverse.setdefault(val, []).append(key)\n",
    "    return inverse\n",
    "\n",
    "def most_frequent(text):\n",
    "    fin = text #open(text)\n",
    "    freq = defaultdict(int)\n",
    "    for char in fin:\n",
    "        freq[char] += 1\n",
    "    counts = inverse_dict(freq)\n",
    "    for pair in sorted(counts.items(), reverse=True):\n",
    "        print(pair)"
   ]
  },
  {
   "cell_type": "code",
   "execution_count": 87,
   "metadata": {},
   "outputs": [
    {
     "name": "stdout",
     "output_type": "stream",
     "text": [
      "(8, ['b'])\n",
      "(3, ['r'])\n",
      "(2, ['d', 'e'])\n",
      "(1, ['a', 'c'])\n"
     ]
    }
   ],
   "source": [
    "most_frequent('abcbdbdbebebrbrbr')"
   ]
  },
  {
   "cell_type": "markdown",
   "metadata": {},
   "source": [
    "**Exercise 12.2.** More anagrams!\n",
    "\n",
    "#### 1. Write a program that reads a word list from a file (see Section 9.1) and prints all the sets of words that are anagrams.\n",
    "\n",
    "Here is an example of what the output might look like:\n",
    "\n",
    ">['deltas', 'desalt', 'lasted', 'salted', 'slated', 'staled']\n",
    "\n",
    ">['retainers', 'ternaries']\n",
    "\n",
    ">['generating', 'greatening']\n",
    "\n",
    ">['resmelts', 'smelters', 'termless']\n",
    "\n",
    "*Hint:* you might want to build a dictionary that maps from a collection of letters to a list of words that can be spelled with those letters. The question is, how can you represent the collection of letters in a way that can be used as a key?\n",
    "\n",
    "#### 2. Modify the previous program so that it prints the longest list of anagrams first, followed by the second longest, and so on.\n",
    "\n",
    "#### 3. In Scrabble a “bingo” is when you play all seven tiles in your rack, along with a letter on the board, to form an eight-letter word. What collection of 8 letters forms the most possible bingos? *Hint:* there are seven."
   ]
  },
  {
   "cell_type": "code",
   "execution_count": 2,
   "metadata": {},
   "outputs": [],
   "source": [
    "from collections import defaultdict\n",
    "\n",
    "def build_words_dict(text):\n",
    "    words_dict = defaultdict(int)\n",
    "    fin = open(text)\n",
    "    for line in fin:\n",
    "        word = line.strip()\n",
    "        words_dict[word] += 1\n",
    "    return words_dict\n",
    "\n",
    "def letter_sequence(word):\n",
    "    letters = list(word)\n",
    "    letters.sort()\n",
    "    letters = ''.join(letters)\n",
    "    return letters\n",
    "\n",
    "def is_anagrams(string1, string2):\n",
    "    return sorted(list(string1)) == sorted(list(string2))"
   ]
  },
  {
   "cell_type": "code",
   "execution_count": 3,
   "metadata": {},
   "outputs": [],
   "source": [
    "def find_all_anagrams(text, length=0):\n",
    "    words = build_words_dict(text)\n",
    "    anagrams = defaultdict(list)\n",
    "    for word in words:\n",
    "        if len(word) >= length:\n",
    "            anagrams[letter_sequence(word)].append(word)\n",
    "    return anagrams\n",
    "\n",
    "def print_i_anagrams_sets(text, number_to_print=10):\n",
    "    anagrams = find_all_anagrams(text)\n",
    "    i = 0\n",
    "    for key, value in anagrams.items():\n",
    "        print(value)\n",
    "        i += 1\n",
    "        if i == number_to_print:\n",
    "            break\n",
    "\n",
    "def print_i_anagrams_by_length(text, length = 0, number_to_print=10, with_amount=False):\n",
    "    anagrams = find_all_anagrams(text, length)\n",
    "    anagrams_by_length = []\n",
    "    for val in sorted(anagrams.values(), reverse=True):\n",
    "        anagrams_by_length.append((len(val), val))\n",
    "    anagrams_by_length.sort(reverse=True)\n",
    "    i = 0\n",
    "    for anagram in anagrams_by_length:\n",
    "        if with_amount:\n",
    "            print(anagram)\n",
    "        else:\n",
    "            print(anagram[1])\n",
    "        i += 1\n",
    "        if i == number_to_print:\n",
    "            break"
   ]
  },
  {
   "cell_type": "code",
   "execution_count": 10,
   "metadata": {},
   "outputs": [
    {
     "data": {
      "text/plain": [
       "defaultdict(list,\n",
       "            {'aa': ['aa'],\n",
       "             'aah': ['aah', 'aha'],\n",
       "             'aadeh': ['aahed', 'ahead'],\n",
       "             'aaghin': ['aahing'],\n",
       "             'aahs': ['aahs'],\n",
       "             'aal': ['aal', 'ala'],\n",
       "             'aaiil': ['aalii'],\n",
       "             'aaiils': ['aaliis'],\n",
       "             'aals': ['aals', 'alas'],\n",
       "             'aaadkrrv': ['aardvark'],\n",
       "             'aaadkrrsv': ['aardvarks'],\n",
       "             'aadflorw': ['aardwolf'],\n",
       "             'aadelorsvw': ['aardwolves'],\n",
       "             'aas': ['aas'],\n",
       "             'aaeglosv': ['aasvogel'],\n",
       "             'aaeglossv': ['aasvogels'],\n",
       "             'aab': ['aba', 'baa'],\n",
       "             'aaabc': ['abaca'],\n",
       "             'aaabcs': ['abacas', 'casaba'],\n",
       "             'aabci': ['abaci'],\n",
       "             'aabck': ['aback'],\n",
       "             'aabcsu': ['abacus'],\n",
       "             'aabcessu': ['abacuses'],\n",
       "             'aabft': ['abaft'],\n",
       "             'aaabk': ['abaka'],\n",
       "             'aaabks': ['abakas'],\n",
       "             'aabelno': ['abalone'],\n",
       "             'aabelnos': ['abalones'],\n",
       "             'aabmp': ['abamp'],\n",
       "             'aabeempr': ['abampere'],\n",
       "             'aabeemprs': ['abamperes'],\n",
       "             'aabmps': ['abamps'],\n",
       "             'aabdnno': ['abandon'],\n",
       "             'aabddenno': ['abandoned'],\n",
       "             'aabdginnno': ['abandoning'],\n",
       "             'aabdemnnnot': ['abandonment'],\n",
       "             'aabdemnnnost': ['abandonments'],\n",
       "             'aabdnnos': ['abandons'],\n",
       "             'aabs': ['abas', 'baas'],\n",
       "             'aabes': ['abase'],\n",
       "             'aabdes': ['abased'],\n",
       "             'aabdelsy': ['abasedly'],\n",
       "             'aabeemnst': ['abasement', 'entamebas'],\n",
       "             'aabeemnsst': ['abasements'],\n",
       "             'aabers': ['abaser'],\n",
       "             'aaberss': ['abasers'],\n",
       "             'aabess': ['abases'],\n",
       "             'aabhs': ['abash'],\n",
       "             'aabdehs': ['abashed'],\n",
       "             'aabehss': ['abashes'],\n",
       "             'aabghins': ['abashing'],\n",
       "             'aabgins': ['abasing', 'bisnaga'],\n",
       "             'aaabbelt': ['abatable'],\n",
       "             'aabet': ['abate'],\n",
       "             'aabdet': ['abated'],\n",
       "             'aabeemntt': ['abatement'],\n",
       "             'aabeemnstt': ['abatements'],\n",
       "             'aabert': ['abater'],\n",
       "             'aaberst': ['abaters', 'abreast'],\n",
       "             'aabest': ['abates'],\n",
       "             'aabgint': ['abating'],\n",
       "             'aabist': ['abatis'],\n",
       "             'aabeisst': ['abatises'],\n",
       "             'aabort': ['abator', 'rabato'],\n",
       "             'aaborst': ['abators', 'rabatos'],\n",
       "             'aabistt': ['abattis'],\n",
       "             'aabeisstt': ['abattises'],\n",
       "             'aabiortt': ['abattoir'],\n",
       "             'aabiorstt': ['abattoirs'],\n",
       "             'aaabilx': ['abaxial'],\n",
       "             'aabeilx': ['abaxile'],\n",
       "             'aabbceis': ['abbacies'],\n",
       "             'aabbcy': ['abbacy'],\n",
       "             'aaabbilt': ['abbatial'],\n",
       "             'abbe': ['abbe', 'babe'],\n",
       "             'abbes': ['abbes', 'babes'],\n",
       "             'abbess': ['abbess'],\n",
       "             'abbeesss': ['abbesses'],\n",
       "             'abbey': ['abbey'],\n",
       "             'abbesy': ['abbeys'],\n",
       "             'abbot': ['abbot'],\n",
       "             'abbceiost': ['abbotcies'],\n",
       "             'abbcoty': ['abbotcy'],\n",
       "             'abbost': ['abbots'],\n",
       "             'aabbeeirtv': ['abbreviate'],\n",
       "             'aabbdeeirtv': ['abbreviated'],\n",
       "             'aabbeeirstv': ['abbreviates'],\n",
       "             'aabbegiinrtv': ['abbreviating'],\n",
       "             'aabbeiinortv': ['abbreviation'],\n",
       "             'aabbeiinorstv': ['abbreviations'],\n",
       "             'aabcdeit': ['abdicate'],\n",
       "             'aabcddeit': ['abdicated'],\n",
       "             'aabcdeist': ['abdicates'],\n",
       "             'aabcdgiint': ['abdicating'],\n",
       "             'aabcdiinot': ['abdication'],\n",
       "             'aabcdiinost': ['abdications'],\n",
       "             'abdemno': ['abdomen'],\n",
       "             'abdemnos': ['abdomens'],\n",
       "             'aabdimno': ['abdomina'],\n",
       "             'aabdilmno': ['abdominal'],\n",
       "             'aabdillmnoy': ['abdominally'],\n",
       "             'abcdeu': ['abduce'],\n",
       "             'abcddeu': ['abduced'],\n",
       "             'abcdensu': ['abducens'],\n",
       "             'abcdentu': ['abducent'],\n",
       "             'abcdeenstu': ['abducentes'],\n",
       "             'abcdesu': ['abduces'],\n",
       "             'abcdginu': ['abducing'],\n",
       "             'abcdtu': ['abduct'],\n",
       "             'abcddetu': ['abducted'],\n",
       "             'abcdgintu': ['abducting'],\n",
       "             'abcdortu': ['abductor'],\n",
       "             'abcdeorstu': ['abductores'],\n",
       "             'abcdorstu': ['abductors'],\n",
       "             'abcdstu': ['abducts'],\n",
       "             'aabem': ['abeam', 'ameba'],\n",
       "             'abde': ['abed', 'bade', 'bead'],\n",
       "             'abeel': ['abele'],\n",
       "             'abeels': ['abeles'],\n",
       "             'abeklmos': ['abelmosk', 'smokable'],\n",
       "             'abeklmoss': ['abelmosks'],\n",
       "             'aabenrrt': ['aberrant'],\n",
       "             'aabenrrst': ['aberrants'],\n",
       "             'aabeinorrt': ['aberration'],\n",
       "             'aabeinorrst': ['aberrations'],\n",
       "             'abet': ['abet', 'bate', 'beat', 'beta'],\n",
       "             'abeemntt': ['abetment'],\n",
       "             'abeemnstt': ['abetments'],\n",
       "             'abest': ['abets',\n",
       "              'baste',\n",
       "              'bates',\n",
       "              'beast',\n",
       "              'beats',\n",
       "              'betas',\n",
       "              'tabes'],\n",
       "             'aabeltt': ['abettal'],\n",
       "             'aabelstt': ['abettals', 'statable', 'tastable'],\n",
       "             'abdeett': ['abetted'],\n",
       "             'abeertt': ['abetter', 'beretta'],\n",
       "             'abeerstt': ['abetters', 'berettas'],\n",
       "             'abegintt': ['abetting'],\n",
       "             'abeortt': ['abettor', 'taboret'],\n",
       "             'abeorstt': ['abettors', 'taborets'],\n",
       "             'aabceeny': ['abeyance'],\n",
       "             'aabceensy': ['abeyances'],\n",
       "             'aabceeinsy': ['abeyancies'],\n",
       "             'aabcenyy': ['abeyancy'],\n",
       "             'aabenty': ['abeyant'],\n",
       "             'aaabdfr': ['abfarad'],\n",
       "             'aaabdfrs': ['abfarads'],\n",
       "             'abeehinrs': ['abhenries'],\n",
       "             'abehnry': ['abhenry'],\n",
       "             'abehnrsy': ['abhenrys'],\n",
       "             'abhor': ['abhor'],\n",
       "             'abdehorr': ['abhorred', 'harbored'],\n",
       "             'abceehnorr': ['abhorrence'],\n",
       "             'abceehnorrs': ['abhorrences'],\n",
       "             'abehnorrt': ['abhorrent'],\n",
       "             'abehorrr': ['abhorrer', 'harborer'],\n",
       "             'abehorrrs': ['abhorrers', 'harborers'],\n",
       "             'abghinorr': ['abhorring', 'harboring'],\n",
       "             'abhors': ['abhors'],\n",
       "             'aabcdein': ['abidance'],\n",
       "             'aabcdeins': ['abidances'],\n",
       "             'abdei': ['abide', 'abied'],\n",
       "             'abddei': ['abided', 'baddie'],\n",
       "             'abdeir': ['abider'],\n",
       "             'abdeirs': ['abiders', 'braised', 'darbies', 'seabird'],\n",
       "             'abdeis': ['abides', 'biased'],\n",
       "             'abdgiin': ['abiding'],\n",
       "             'abeis': ['abies'],\n",
       "             'aabgiil': ['abigail'],\n",
       "             'aabgiils': ['abigails'],\n",
       "             'abeiiilst': ['abilities'],\n",
       "             'abiilty': ['ability'],\n",
       "             'abeioss': ['abioses'],\n",
       "             'abiioss': ['abiosis'],\n",
       "             'abciiot': ['abiotic'],\n",
       "             'abcejt': ['abject'],\n",
       "             'abcejlty': ['abjectly'],\n",
       "             'abceejnsst': ['abjectness'],\n",
       "             'abceeejnssst': ['abjectnesses'],\n",
       "             'aabijnortu': ['abjuration'],\n",
       "             'aabijnorstu': ['abjurations'],\n",
       "             'abejru': ['abjure'],\n",
       "             'abdejru': ['abjured'],\n",
       "             'abejrru': ['abjurer'],\n",
       "             'abejrrsu': ['abjurers'],\n",
       "             'abejrsu': ['abjures'],\n",
       "             'abgijnru': ['abjuring'],\n",
       "             'aabelt': ['ablate'],\n",
       "             'aabdelt': ['ablated', 'datable'],\n",
       "             'aabelst': ['ablates'],\n",
       "             'aabgilnt': ['ablating', 'bangtail'],\n",
       "             'aabilnot': ['ablation'],\n",
       "             'aabilnost': ['ablations'],\n",
       "             'aabeiltv': ['ablative'],\n",
       "             'aabeilstv': ['ablatives'],\n",
       "             'aabltu': ['ablaut'],\n",
       "             'aablstu': ['ablauts'],\n",
       "             'aabelz': ['ablaze'],\n",
       "             'abel': ['able', 'bale', 'blae'],\n",
       "             'aabeeglt': ['ablegate'],\n",
       "             'aabeeglst': ['ablegates'],\n",
       "             'abelr': ['abler', 'baler', 'blare', 'blear'],\n",
       "             'abels': ['ables', 'bales', 'blase', 'sable'],\n",
       "             'abelst': ['ablest', 'bleats', 'stable', 'tables'],\n",
       "             'abgilns': ['ablings'],\n",
       "             'abilns': ['ablins', 'blains'],\n",
       "             'ablmoo': ['abloom'],\n",
       "             'abelntu': ['abluent', 'tunable'],\n",
       "             'abelnstu': ['abluents', 'unstable'],\n",
       "             'abhlsu': ['ablush'],\n",
       "             'abdeltu': ['abluted'],\n",
       "             'abilnotu': ['ablution', 'abutilon'],\n",
       "             'abilnostu': ['ablutions', 'abutilons'],\n",
       "             'ably': ['ably'],\n",
       "             'abhmo': ['abmho', 'abohm'],\n",
       "             'abhmos': ['abmhos', 'abohms'],\n",
       "             'aabeegnt': ['abnegate'],\n",
       "             'aabdeegnt': ['abnegated'],\n",
       "             'aabeegnst': ['abnegates'],\n",
       "             'aabegginnt': ['abnegating'],\n",
       "             'aabeginnot': ['abnegation'],\n",
       "             'aabeginnost': ['abnegations'],\n",
       "             'aablmnor': ['abnormal'],\n",
       "             'aabeiilmnorst': ['abnormalities'],\n",
       "             'aabilmnorty': ['abnormality'],\n",
       "             'aabllmnory': ['abnormally'],\n",
       "             'aablmnors': ['abnormals'],\n",
       "             'abo': ['abo', 'boa'],\n",
       "             'aabdor': ['aboard', 'abroad'],\n",
       "             'abdeo': ['abode', 'adobe'],\n",
       "             'abddeo': ['aboded'],\n",
       "             'abdeos': ['abodes', 'adobes'],\n",
       "             'abdgino': ['aboding'],\n",
       "             'aabdeiou': ['aboideau'],\n",
       "             'aabdeiosu': ['aboideaus'],\n",
       "             'aabdeioux': ['aboideaux'],\n",
       "             'abilo': ['aboil'],\n",
       "             'aabeiotu': ['aboiteau'],\n",
       "             'aabeiostu': ['aboiteaus'],\n",
       "             'aabeiotux': ['aboiteaux'],\n",
       "             'abhilos': ['abolish'],\n",
       "             'abdehilos': ['abolished'],\n",
       "             'abehiloss': ['abolishes'],\n",
       "             'abghiilnos': ['abolishing'],\n",
       "             'abiilnoot': ['abolition'],\n",
       "             'abiilnoost': ['abolitions'],\n",
       "             'aabllo': ['abolla'],\n",
       "             'aabello': ['abollae'],\n",
       "             'aabmo': ['aboma'],\n",
       "             'aabmos': ['abomas'],\n",
       "             'aaabmos': ['abomasa'],\n",
       "             'aaablmos': ['abomasal'],\n",
       "             'aabimos': ['abomasi'],\n",
       "             'aabmmosu': ['abomasum'],\n",
       "             'aabmossu': ['abomasus'],\n",
       "             'aabbeilmno': ['abominable'],\n",
       "             'aabeimnot': ['abominate'],\n",
       "             'aabdeimnot': ['abominated'],\n",
       "             'aabeimnost': ['abominates'],\n",
       "             'aabgiimnnot': ['abominating'],\n",
       "             'aabiimnnoot': ['abomination'],\n",
       "             'aabiimnnoost': ['abominations'],\n",
       "             'abnoo': ['aboon'],\n",
       "             'aablor': ['aboral'],\n",
       "             'aabllory': ['aborally'],\n",
       "             'aabgiilnor': ['aboriginal'],\n",
       "             'abegiinor': ['aborigine'],\n",
       "             'abegiinors': ['aborigines'],\n",
       "             'abginnor': ['aborning'],\n",
       "             'abort': ['abort', 'boart', 'tabor'],\n",
       "             'abdeort': ['aborted', 'borated', 'tabored'],\n",
       "             'abeorrt': ['aborter', 'taborer'],\n",
       "             'abeorrst': ['aborters', 'taborers'],\n",
       "             'abginort': ['aborting', 'taboring'],\n",
       "             'abinoort': ['abortion'],\n",
       "             'abinoorst': ['abortions'],\n",
       "             'abeiortv': ['abortive'],\n",
       "             'aborst': ['aborts', 'boarts', 'tabors'],\n",
       "             'abos': ['abos', 'boas'],\n",
       "             'abghotu': ['abought'],\n",
       "             'aabilou': ['aboulia'],\n",
       "             'aabilosu': ['aboulias'],\n",
       "             'abcilou': ['aboulic'],\n",
       "             'abdnou': ['abound'],\n",
       "             'abddenou': ['abounded'],\n",
       "             'abdginnou': ['abounding'],\n",
       "             'abdnosu': ['abounds', 'bausond'],\n",
       "             'abotu': ['about'],\n",
       "             'abeov': ['above'],\n",
       "             'aabbdeoorv': ['aboveboard'],\n",
       "             'abeosv': ['aboves'],\n",
       "             'aaaaabbcdrr': ['abracadabra'],\n",
       "             'aaabdnrt': ['abradant'],\n",
       "             'aaabdnrst': ['abradants'],\n",
       "             'aabder': ['abrade'],\n",
       "             'aabdder': ['abraded'],\n",
       "             'aabderr': ['abrader'],\n",
       "             'aabderrs': ['abraders'],\n",
       "             'aabders': ['abrades'],\n",
       "             'aabdginr': ['abrading'],\n",
       "             'aabinors': ['abrasion'],\n",
       "             'aabinorss': ['abrasions'],\n",
       "             'aabeirsv': ['abrasive'],\n",
       "             'aabeilrsvy': ['abrasively'],\n",
       "             'aabeeinrsssv': ['abrasiveness'],\n",
       "             'aabeeeinrssssv': ['abrasivenesses'],\n",
       "             'aabeirssv': ['abrasives'],\n",
       "             'aabcert': ['abreact', 'bearcat', 'cabaret'],\n",
       "             'aabcdeert': ['abreacted', 'acerbated'],\n",
       "             'aabceginrt': ['abreacting', 'acerbating'],\n",
       "             'aabcerst': ['abreacts', 'bearcats', 'cabarets', 'cabresta'],\n",
       "             'abir': ['abri'],\n",
       "             'abdegir': ['abridge', 'brigade'],\n",
       "             'abddegir': ['abridged', 'brigaded'],\n",
       "             'abdeegimnrt': ['abridgement'],\n",
       "             'abdeegimnrst': ['abridgements'],\n",
       "             'abdegirr': ['abridger'],\n",
       "             'abdegirrs': ['abridgers'],\n",
       "             'abdegirs': ['abridges', 'brigades'],\n",
       "             'abdggiinr': ['abridging', 'brigading'],\n",
       "             'abdegimnrt': ['abridgment'],\n",
       "             'abdegimnrst': ['abridgments'],\n",
       "             'abirs': ['abris', 'sabir'],\n",
       "             'aabchor': ['abroach'],\n",
       "             'aabegort': ['abrogate'],\n",
       "             'aabdegort': ['abrogated'],\n",
       "             'aabegorst': ['abrogates'],\n",
       "             'aabgginort': ['abrogating'],\n",
       "             'abprtu': ['abrupt'],\n",
       "             'abeprrtu': ['abrupter'],\n",
       "             'abeprsttu': ['abruptest'],\n",
       "             'ablprtuy': ['abruptly'],\n",
       "             'abcesss': ['abscess'],\n",
       "             'abcdeesss': ['abscessed'],\n",
       "             'abceessss': ['abscesses'],\n",
       "             'abceginsss': ['abscessing'],\n",
       "             'abceiss': ['abscise', 'scabies', 'sebasic'],\n",
       "             'abcdeiss': ['abscised'],\n",
       "             'abceisss': ['abscises'],\n",
       "             'abciinss': ['abscisin'],\n",
       "             'abcgiinss': ['abscising'],\n",
       "             'abciinsss': ['abscisins'],\n",
       "             'aabcisss': ['abscissa'],\n",
       "             'aabceisss': ['abscissae'],\n",
       "             'aabcissss': ['abscissas'],\n",
       "             'abcdnos': ['abscond'],\n",
       "             'abcddenos': ['absconded'],\n",
       "             'abcdginnos': ['absconding'],\n",
       "             'abcdnoss': ['absconds'],\n",
       "             'abceens': ['absence'],\n",
       "             'abceenss': ['absences'],\n",
       "             'abenst': ['absent'],\n",
       "             'abdeenst': ['absented'],\n",
       "             'abeeenst': ['absentee'],\n",
       "             'abeeensst': ['absentees'],\n",
       "             'abeenrst': ['absenter'],\n",
       "             'abeenrsst': ['absenters'],\n",
       "             'abeginnst': ['absenting'],\n",
       "             'abelnsty': ['absently'],\n",
       "             'abddeeimnnst': ['absentminded'],\n",
       "             'abddeeilmnnsty': ['absentmindedly'],\n",
       "             'abddeeeimnnnssst': ['absentmindedness'],\n",
       "             'abddeeeeimnnnsssst': ['absentmindednesses'],\n",
       "             'abensst': ['absents'],\n",
       "             'abhinst': ['absinth'],\n",
       "             'abehinst': ['absinthe'],\n",
       "             'abehinsst': ['absinthes'],\n",
       "             'abhinsst': ['absinths'],\n",
       "             'abelostu': ['absolute'],\n",
       "             'abellostuy': ['absolutely'],\n",
       "             'abelorstu': ['absoluter'],\n",
       "             'abelosstu': ['absolutes'],\n",
       "             'abelossttu': ['absolutest'],\n",
       "             'abilnoostu': ['absolution'],\n",
       "             'abilnoosstu': ['absolutions'],\n",
       "             'abelosv': ['absolve'],\n",
       "             'abdelosv': ['absolved'],\n",
       "             'abelorsv': ['absolver'],\n",
       "             'abelorssv': ['absolvers'],\n",
       "             'abelossv': ['absolves'],\n",
       "             'abgilnosv': ['absolving'],\n",
       "             'aabnnost': ['absonant'],\n",
       "             'abbors': ['absorb'],\n",
       "             'abbdeors': ['absorbed'],\n",
       "             'abbceeinorss': ['absorbencies'],\n",
       "             'abbcenorsy': ['absorbency'],\n",
       "             'abbenorst': ['absorbent'],\n",
       "             'abbeorrs': ['absorber', 'reabsorb'],\n",
       "             'abbeorrss': ['absorbers', 'reabsorbs'],\n",
       "             'abbginors': ['absorbing'],\n",
       "             'abbgilnorsy': ['absorbingly'],\n",
       "             'abborss': ['absorbs'],\n",
       "             'abinooprst': ['absorption', 'probations'],\n",
       "             'abinooprsst': ['absorptions'],\n",
       "             'abeioprstv': ['absorptive'],\n",
       "             'aabinst': ['abstain'],\n",
       "             'aabdeinst': ['abstained'],\n",
       "             'aabeinrst': ['abstainer'],\n",
       "             'aabeinrsst': ['abstainers'],\n",
       "             'aabgiinnst': ['abstaining'],\n",
       "             'aabinsst': ['abstains'],\n",
       "             'abeimosstu': ['abstemious'],\n",
       "             'abeilmosstuy': ['abstemiously'],\n",
       "             'abeinnostt': ['abstention'],\n",
       "             'abeinnosstt': ['abstentions'],\n",
       "             'abeegrst': ['absterge'],\n",
       "             'abdeegrst': ['absterged'],\n",
       "             'abeegrsst': ['absterges'],\n",
       "             'abegginrst': ['absterging'],\n",
       "             'abceeinnst': ['abstinence'],\n",
       "             'abceeinnsst': ['abstinences'],\n",
       "             'aabcrstt': ['abstract'],\n",
       "             'aabcderstt': ['abstracted'],\n",
       "             'aabcerrstt': ['abstracter', 'reabstract'],\n",
       "             'aabcerssttt': ['abstractest'],\n",
       "             'aabcginrstt': ['abstracting'],\n",
       "             'aabcinorstt': ['abstraction'],\n",
       "             'aabcinorsstt': ['abstractions'],\n",
       "             'aabclrstty': ['abstractly'],\n",
       "             'aabcenrssstt': ['abstractness'],\n",
       "             'aabceenrsssstt': ['abstractnesses'],\n",
       "             'aabcrsstt': ['abstracts'],\n",
       "             'abcirstt': ['abstrict'],\n",
       "             'abcdeirstt': ['abstricted'],\n",
       "             'abcgiinrstt': ['abstricting'],\n",
       "             'abcirsstt': ['abstricts'],\n",
       "             'abersstu': ['abstruse'],\n",
       "             'abelrsstuy': ['abstrusely'],\n",
       "             'abeenrsssstu': ['abstruseness'],\n",
       "             'abeeenrssssstu': ['abstrusenesses'],\n",
       "             'aberrsstu': ['abstruser'],\n",
       "             'abersssttu': ['abstrusest'],\n",
       "             'abdrsu': ['absurd'],\n",
       "             'abderrsu': ['absurder'],\n",
       "             'abdersstu': ['absurdest'],\n",
       "             'abdeiirsstu': ['absurdities'],\n",
       "             'abdirstuy': ['absurdity'],\n",
       "             'abdlrsuy': ['absurdly'],\n",
       "             'abdrssu': ['absurds'],\n",
       "             'abbbelu': ['abubble'],\n",
       "             'aabilu': ['abulia'],\n",
       "             'aabilsu': ['abulias'],\n",
       "             'abcilu': ['abulic'],\n",
       "             'aabcdennu': ['abundance'],\n",
       "             'aabcdennsu': ['abundances'],\n",
       "             'aabdnntu': ['abundant'],\n",
       "             'aabdlnntuy': ['abundantly'],\n",
       "             'aabbelsu': ['abusable'],\n",
       "             'abesu': ['abuse', 'beaus'],\n",
       "             'abdesu': ['abused', 'daubes'],\n",
       "             'abersu': ['abuser', 'bursae'],\n",
       "             'aberssu': ['abusers', 'rubasse', 'surbase'],\n",
       "             'abessu': ['abuses'],\n",
       "             'abginsu': ['abusing'],\n",
       "             'abeisuv': ['abusive'],\n",
       "             'abeilsuvy': ['abusively'],\n",
       "             'abeeinsssuv': ['abusiveness'],\n",
       "             'abeeeinssssuv': ['abusivenesses'],\n",
       "             'abtu': ['abut', 'tabu', 'tuba'],\n",
       "             'abemnttu': ['abutment'],\n",
       "             'abemnsttu': ['abutments'],\n",
       "             'abstu': ['abuts', 'tabus', 'tsuba', 'tubas'],\n",
       "             'aablttu': ['abuttal'],\n",
       "             'aablsttu': ['abuttals'],\n",
       "             'abdettu': ['abutted'],\n",
       "             'aberttu': ['abutter'],\n",
       "             'abersttu': ['abutters'],\n",
       "             'abginttu': ['abutting'],\n",
       "             'abuzz': ['abuzz'],\n",
       "             'ablotv': ['abvolt'],\n",
       "             'ablostv': ['abvolts'],\n",
       "             'aabttw': ['abwatt'],\n",
       "             'aabsttw': ['abwatts'],\n",
       "             'aby': ['aby', 'bay'],\n",
       "             'abey': ['abye'],\n",
       "             'abdey': ['abyed', 'bayed', 'beady'],\n",
       "             'abesy': ['abyes'],\n",
       "             'abginy': ['abying', 'baying'],\n",
       "             'absy': ['abys', 'bays'],\n",
       "             'abmsy': ['abysm'],\n",
       "             'aablmsy': ['abysmal'],\n",
       "             'aabllmsyy': ['abysmally'],\n",
       "             'abmssy': ['abysms'],\n",
       "             'abssy': ['abyss', 'bassy'],\n",
       "             'aablssy': ['abyssal'],\n",
       "             'abesssy': ['abysses'],\n",
       "             'aaacci': ['acacia'],\n",
       "             'aaaccis': ['acacias'],\n",
       "             'aacdeem': ['academe'],\n",
       "             'aacdeems': ['academes'],\n",
       "             'aaacdeim': ['academia'],\n",
       "             'aaacdeims': ['academias'],\n",
       "             'aaccdeim': ['academic'],\n",
       "             'aaaccdeillmy': ['academically'],\n",
       "             'aaccdeims': ['academics'],\n",
       "             'aacdeeims': ['academies'],\n",
       "             'aacdemy': ['academy'],\n",
       "             'aacjou': ['acajou'],\n",
       "             'aacjosu': ['acajous'],\n",
       "             'aacehlp': ['acaleph'],\n",
       "             'aaaceehlp': ['acalephae'],\n",
       "             'aaceehlp': ['acalephe'],\n",
       "             'aaceehlps': ['acalephes'],\n",
       "             'aacehlps': ['acalephs'],\n",
       "             'aachint': ['acanthi'],\n",
       "             'aachnstu': ['acanthus'],\n",
       "             'aacehnsstu': ['acanthuses'],\n",
       "             'aacir': ['acari'],\n",
       "             'aacdir': ['acarid', 'cardia'],\n",
       "             'aaacdinr': ['acaridan', 'arcadian'],\n",
       "             'aaacdinrs': ['acaridans', 'arcadians'],\n",
       "             'aacdirs': ['acarids', 'ascarid', 'cardias'],\n",
       "             'aaceinr': ['acarine', 'carinae'],\n",
       "             'aaceinrs': ['acarines', 'canaries', 'cesarian'],\n",
       "             'aacdior': ['acaroid'],\n",
       "             'aacoprsu': ['acarpous'],\n",
       "             'aacrsu': ['acarus'],\n",
       "             'aaacdlu': ['acaudal'],\n",
       "             'aaacdetu': ['acaudate'],\n",
       "             'aaceilnu': ['acauline'],\n",
       "             'aacelosu': ['acaulose'],\n",
       "             'aaclosuu': ['acaulous'],\n",
       "             'accdee': ['accede'],\n",
       "             'accddee': ['acceded'],\n",
       "             'accdeer': ['acceder'],\n",
       "             'accdeers': ['acceders'],\n",
       "             'accdees': ['accedes'],\n",
       "             'accdegin': ['acceding'],\n",
       "             'aacceeelrt': ['accelerate'],\n",
       "             'aaccdeeelrt': ['accelerated'],\n",
       "             'aacceeelrst': ['accelerates'],\n",
       "             'aacceegilnrt': ['accelerating'],\n",
       "             'aacceeilnort': ['acceleration'],\n",
       "             'aacceeilnorst': ['accelerations'],\n",
       "             'aacceelorrt': ['accelerator'],\n",
       "             'aacceelorrst': ['accelerators'],\n",
       "             'accent': ['accent'],\n",
       "             'accdeent': ['accented'],\n",
       "             'acceginnt': ['accenting'],\n",
       "             'accenort': ['accentor'],\n",
       "             'accenorst': ['accentors'],\n",
       "             'accenst': ['accents'],\n",
       "             'aaccelntu': ['accentual'],\n",
       "             'aacceenttu': ['accentuate'],\n",
       "             'aaccdeenttu': ['accentuated'],\n",
       "             'aacceensttu': ['accentuates'],\n",
       "             'aacceginnttu': ['accentuating'],\n",
       "             'aacceinnottu': ['accentuation'],\n",
       "             'aacceinnosttu': ['accentuations'],\n",
       "             'accept': ['accept'],\n",
       "             'aabcceeiiilpstt': ['acceptabilities'],\n",
       "             'aabcceiilptty': ['acceptability'],\n",
       "             'aabcceelpt': ['acceptable'],\n",
       "             'aaccceenpt': ['acceptance'],\n",
       "             'aaccceenpst': ['acceptances'],\n",
       "             'accdeept': ['accepted'],\n",
       "             'acceeept': ['acceptee'],\n",
       "             'acceeepst': ['acceptees'],\n",
       "             'acceeprt': ['accepter', 'reaccept'],\n",
       "             'acceeprst': ['accepters', 'reaccepts'],\n",
       "             'acceginpt': ['accepting'],\n",
       "             'acceoprt': ['acceptor'],\n",
       "             'acceoprst': ['acceptors'],\n",
       "             'accepst': ['accepts'],\n",
       "             'access': ['access'],\n",
       "             'accdeess': ['accessed'],\n",
       "             'acceesss': ['accesses'],\n",
       "             'abcceeiiiilssst': ['accessibilities'],\n",
       "             'abcceiiilssty': ['accessibility'],\n",
       "             'abcceeilss': ['accessible'],\n",
       "             'acceginss': ['accessing'],\n",
       "             'acceinoss': ['accession'],\n",
       "             'acceinosss': ['accessions'],\n",
       "             'acceeiorsss': ['accessories'],\n",
       "             'acceorssy': ['accessory'],\n",
       "             'accdeint': ['accident'],\n",
       "             'aaccdeilnt': ['accidental'],\n",
       "             'aaccdeillnty': ['accidentally'],\n",
       "             'aaccdeilnst': ['accidentals'],\n",
       "             'accdeinst': ['accidents'],\n",
       "             'accdeii': ['accidie'],\n",
       "             'accdeiis': ['accidies'],\n",
       "             'aaccilm': ['acclaim'],\n",
       "             'aaccdeilm': ['acclaimed'],\n",
       "             'aaccgiilmn': ['acclaiming'],\n",
       "             'aaccilms': ['acclaims'],\n",
       "             'aaaccilmnot': ['acclamation'],\n",
       "             'aaaccilmnost': ['acclamations'],\n",
       "             'aacceilmt': ['acclimate'],\n",
       "             'aaccdeilmt': ['acclimated'],\n",
       "             'aacceilmst': ['acclimates'],\n",
       "             'aaccgiilmnt': ['acclimating'],\n",
       "             'aacciilmnot': ['acclimation'],\n",
       "             'aacciilmnost': ['acclimations'],\n",
       "             'aaacciiilmnottz': ['acclimatization'],\n",
       "             'aaacciiilmnosttz': ['acclimatizations'],\n",
       "             'aacceiilmtz': ['acclimatize'],\n",
       "             'aacceiilmstz': ['acclimatizes'],\n",
       "             'aaccdelo': ['accolade'],\n",
       "             'aaccdelos': ['accolades'],\n",
       "             'aaccdemmoot': ['accommodate'],\n",
       "             'aaccddemmoot': ['accommodated'],\n",
       "             'aaccdemmoost': ['accommodates'],\n",
       "             'aaccdgimmnoot': ['accommodating'],\n",
       "             'aaccdimmnooot': ['accommodation'],\n",
       "             'aaccdimmnooost': ['accommodations'],\n",
       "             'aaccdeimnop': ['accompanied'],\n",
       "             'aacceimnops': ['accompanies'],\n",
       "             'aacceimmnnopt': ['accompaniment'],\n",
       "             'aacceimmnnopst': ['accompaniments'],\n",
       "             'aaccimnopst': ['accompanist'],\n",
       "             'aaccmnopy': ['accompany'],\n",
       "             'aaccgimnnopy': ['accompanying'],\n",
       "             'accceilmop': ['accomplice'],\n",
       "             'accceilmops': ['accomplices'],\n",
       "             'acchilmops': ['accomplish'],\n",
       "             'accdehilmops': ['accomplished'],\n",
       "             'accehilmoprs': ['accomplisher'],\n",
       "             'accehilmoprss': ['accomplishers'],\n",
       "             'accehilmopss': ['accomplishes'],\n",
       "             'accghiilmnops': ['accomplishing'],\n",
       "             'accehilmmnopst': ['accomplishment'],\n",
       "             'accehilmmnopsst': ['accomplishments'],\n",
       "             'accdor': ['accord'],\n",
       "             'aacccdenor': ['accordance'],\n",
       "             'aaccdnort': ['accordant'],\n",
       "             'accddeor': ['accorded'],\n",
       "             'accdeorr': ['accorder'],\n",
       "             'accdeorrs': ['accorders'],\n",
       "             'accdginor': ['according'],\n",
       "             'accdgilnory': ['accordingly'],\n",
       "             'accdinoor': ['accordion'],\n",
       "             'accdinoors': ['accordions'],\n",
       "             'accdors': ['accords'],\n",
       "             'accost': ['accost', 'coacts'],\n",
       "             'accdeost': ['accosted'],\n",
       "             'accginost': ['accosting'],\n",
       "             'accosst': ['accosts'],\n",
       "             'accnotu': ['account'],\n",
       "             'aabcceiiilnosttu': ['accountabilities'],\n",
       "             'aabcciilnottuy': ['accountability'],\n",
       "             'aabccelnotu': ['accountable'],\n",
       "             'aaccceinnostu': ['accountancies'],\n",
       "             'aacccnnotuy': ['accountancy'],\n",
       "             'aaccnnottu': ['accountant'],\n",
       "             'aaccnnosttu': ['accountants'],\n",
       "             'accdenotu': ['accounted'],\n",
       "             'accginnotu': ['accounting'],\n",
       "             'accginnostu': ['accountings'],\n",
       "             'accnostu': ['accounts'],\n",
       "             'acceortu': ['accouter', 'accoutre'],\n",
       "             'accdeeortu': ['accoutered'],\n",
       "             'acceginortu': ['accoutering'],\n",
       "             'acceorstu': ['accouters', 'accoutres'],\n",
       "             'accdeortu': ['accoutred'],\n",
       "             'acceemnorttu': ['accoutrement'],\n",
       "             'acceemnorsttu': ['accoutrements'],\n",
       "             'accginortu': ['accoutring'],\n",
       "             'accdeirt': ['accredit'],\n",
       "             'accddeeirt': ['accredited'],\n",
       "             'accdegiinrt': ['accrediting'],\n",
       "             'accdeirst': ['accredits'],\n",
       "             'acceert': ['accrete'],\n",
       "             'accdeert': ['accreted'],\n",
       "             'acceerst': ['accretes'],\n",
       "             'acceginrt': ['accreting'],\n",
       "             'aacclru': ['accrual', 'caracul'],\n",
       "             'aacclrsu': ['accruals', 'caraculs', 'saccular'],\n",
       "             'acceru': ['accrue'],\n",
       "             'accderu': ['accrued'],\n",
       "             'accersu': ['accrues', 'accuser'],\n",
       "             'accginru': ['accruing'],\n",
       "             'aaccelmtuu': ['accumulate'],\n",
       "             'aaccdelmtuu': ['accumulated'],\n",
       "             'aaccelmstuu': ['accumulates'],\n",
       "             'aaccgilmntuu': ['accumulating'],\n",
       "             'aaccilmnotuu': ['accumulation'],\n",
       "             'aaccilmnostuu': ['accumulations'],\n",
       "             'aacclmortuu': ['accumulator'],\n",
       "             'aacclmorstuu': ['accumulators'],\n",
       "             'aaccceirsu': ['accuracies'],\n",
       "             'aacccruy': ['accuracy'],\n",
       "             'aaccertu': ['accurate'],\n",
       "             'aaccelrtuy': ['accurately'],\n",
       "             'aacceenrsstu': ['accurateness'],\n",
       "             'aacceeenrssstu': ['accuratenesses'],\n",
       "             'accdersu': ['accursed'],\n",
       "             'accrstu': ['accurst'],\n",
       "             'aacclsu': ['accusal'],\n",
       "             'aacclssu': ['accusals'],\n",
       "             'aaccnstu': ['accusant'],\n",
       "             'aaccnsstu': ['accusants'],\n",
       "             'aaccinostu': ['accusation'],\n",
       "             'aaccinosstu': ['accusations'],\n",
       "             'accesu': ['accuse'],\n",
       "             'accdesu': ['accused'],\n",
       "             'accerssu': ['accusers'],\n",
       "             'accessu': ['accuses'],\n",
       "             'accginsu': ['accusing'],\n",
       "             'accmostu': ['accustom'],\n",
       "             'accdemostu': ['accustomed'],\n",
       "             'accgimnostu': ['accustoming'],\n",
       "             'accmosstu': ['accustoms'],\n",
       "             'ace': ['ace'],\n",
       "             'acde': ['aced', 'cade', 'dace'],\n",
       "             'aacdei': ['acedia'],\n",
       "             'aacdeis': ['acedias'],\n",
       "             'aaacdelm': ['aceldama'],\n",
       "             'aaacdelms': ['aceldamas'],\n",
       "             'acceinrt': ['acentric'],\n",
       "             'aaceiqu': ['acequia'],\n",
       "             'aaceiqsu': ['acequias'],\n",
       "             'aaceert': ['acerate'],\n",
       "             'aacdeert': ['acerated'],\n",
       "             'abcer': ['acerb', 'brace', 'caber'],\n",
       "             'aabceert': ['acerbate'],\n",
       "             'aabceerst': ['acerbates'],\n",
       "             'abceerr': ['acerber', 'cerebra'],\n",
       "             'abceerst': ['acerbest'],\n",
       "             'abcceir': ['acerbic', 'breccia'],\n",
       "             'abceeiirst': ['acerbities'],\n",
       "             'abceirty': ['acerbity'],\n",
       "             'aacelor': ['acerola'],\n",
       "             'aacelors': ['acerolas'],\n",
       "             'aceeors': ['acerose'],\n",
       "             'aceorsu': ['acerous', 'carouse'],\n",
       "             'acers': ['acers',\n",
       "              'acres',\n",
       "              'cares',\n",
       "              'carse',\n",
       "              'escar',\n",
       "              'races',\n",
       "              'scare',\n",
       "              'serac'],\n",
       "             'aaceertv': ['acervate'],\n",
       "             'aceilruv': ['acervuli'],\n",
       "             'aces': ['aces', 'case'],\n",
       "             'acceenst': ['acescent'],\n",
       "             'acceensst': ['acescents'],\n",
       "             'aacet': ['aceta'],\n",
       "             'aacelt': ['acetal'],\n",
       "             'aacelst': ['acetals', 'lactase'],\n",
       "             'aacdeimt': ['acetamid'],\n",
       "             'aacdeimst': ['acetamids'],\n",
       "             'aaceett': ['acetate'],\n",
       "             'aacdeett': ['acetated'],\n",
       "             'aaceestt': ['acetates'],\n",
       "             'acceit': ['acetic'],\n",
       "             'acdeefiit': ['acetified'],\n",
       "             'aceefiist': ['acetifies'],\n",
       "             'acefity': ['acetify'],\n",
       "             'acefgiinty': ['acetifying'],\n",
       "             'aceenot': ['acetone'],\n",
       "             'aceenost': ['acetones', 'notecase'],\n",
       "             'acceinot': ['acetonic'],\n",
       "             'aceeost': ['acetose', 'coatees'],\n",
       "             'aceostu': ['acetous'],\n",
       "             'acelotxy': ['acetoxyl'],\n",
       "             'acelostxy': ['acetoxyls'],\n",
       "             'acemtu': ['acetum'],\n",
       "             'acelty': ['acetyl'],\n",
       "             'aceeelnty': ['acetylene'],\n",
       "             'aceeelnsty': ['acetylenes'],\n",
       "             'acceilty': ['acetylic'],\n",
       "             'acelsty': ['acetyls'],\n",
       "             'aceh': ['ache', 'each'],\n",
       "             'acdeh': ['ached'],\n",
       "             'aceehn': ['achene'],\n",
       "             'aceehns': ['achenes', 'enchase'],\n",
       "             'aacehiln': ['achenial'],\n",
       "             'acehs': ['aches', 'chase'],\n",
       "             'acehir': ['achier', 'cahier'],\n",
       "             'acehist': ['achiest', 'aitches'],\n",
       "             'aabceehilv': ['achievable'],\n",
       "             'aceehiv': ['achieve'],\n",
       "             'acdeehiv': ['achieved'],\n",
       "             'aceeehimntv': ['achievement'],\n",
       "             'aceeehimnstv': ['achievements'],\n",
       "             'aceehirv': ['achiever', 'chivaree'],\n",
       "             'aceehirsv': ['achievers', 'chivarees'],\n",
       "             'aceehisv': ['achieves'],\n",
       "             'aceghiinv': ['achieving'],\n",
       "             'acehinss': ['achiness'],\n",
       "             'aceehinsss': ['achinesses'],\n",
       "             'acghin': ['aching'],\n",
       "             'acghilny': ['achingly'],\n",
       "             'acehiot': ['achiote'],\n",
       "             'acehiost': ['achiotes'],\n",
       "             'achoo': ['achoo'],\n",
       "             'aachmort': ['achromat', 'trachoma'],\n",
       "             'aachmorst': ['achromats', 'trachomas'],\n",
       "             'acchimor': ['achromic'],\n",
       "             'achy': ['achy'],\n",
       "             'aaccilu': ['acicula'],\n",
       "             'aacceilu': ['aciculae'],\n",
       "             'aaccilru': ['acicular'],\n",
       "             'aaccilsu': ['aciculas'],\n",
       "             'acdi': ['acid', 'cadi', 'caid'],\n",
       "             'aacddehi': ['acidhead'],\n",
       "             'aacddehis': ['acidheads'],\n",
       "             'accdii': ['acidic'],\n",
       "             'acddefiii': ['acidified'],\n",
       "             'acdefiiis': ['acidifies'],\n",
       "             'acdfiiy': ['acidify'],\n",
       "             'acdfgiiiny': ['acidifying'],\n",
       "             'acdeiiist': ['acidities'],\n",
       "             'acdiity': ['acidity'],\n",
       "             'acdily': ['acidly'],\n",
       "             'acdeinss': ['acidness'],\n",
       "             'acdeeinsss': ['acidnesses'],\n",
       "             'acdeioss': ['acidoses'],\n",
       "             'acdiioss': ['acidosis'],\n",
       "             'accdiiot': ['acidotic'],\n",
       "             'acdis': ['acids', 'asdic', 'cadis', 'caids'],\n",
       "             'acdiy': ['acidy'],\n",
       "             'aaceeirt': ['acierate'],\n",
       "             'aacdeeirt': ['acierated', 'eradicate'],\n",
       "             'aaceeirst': ['acierates'],\n",
       "             'aacegiinrt': ['acierating'],\n",
       "             'acfimor': ['aciform'],\n",
       "             'aacinr': ['acinar', 'arnica', 'carina', 'crania'],\n",
       "             'acgin': ['acing'],\n",
       "             'aciin': ['acini'],\n",
       "             'acciin': ['acinic'],\n",
       "             'aceinos': ['acinose'],\n",
       "             'acinosu': ['acinous'],\n",
       "             'acinsu': ['acinus'],\n",
       "             'acdeegklnow': ['acknowledge'],\n",
       "             'acddeegklnow': ['acknowledged'],\n",
       "             'acdeeegklmnnotw': ['acknowledgement'],\n",
       "             'acdeeegklmnnostw': ['acknowledgements'],\n",
       "             'acdeegklnosw': ['acknowledges'],\n",
       "             'acdeggiklnnow': ['acknowledging'],\n",
       "             'acdeegklmnnotw': ['acknowledgment'],\n",
       "             'acdeegklmnnostw': ['acknowledgments'],\n",
       "             'acciiln': ['aclinic'],\n",
       "             'aaccimt': ['acmatic'],\n",
       "             'acem': ['acme', 'came', 'mace'],\n",
       "             'acems': ['acmes', 'cames', 'maces'],\n",
       "             'accim': ['acmic'],\n",
       "             'acen': ['acne', 'cane'],\n",
       "             'acden': ['acned', 'caned', 'dance'],\n",
       "             'acens': ['acnes', 'canes', 'scena'],\n",
       "             'acdeno': ['acnode', 'canoed', 'deacon'],\n",
       "             'acdenos': ['acnodes', 'deacons'],\n",
       "             'accko': ['acock'],\n",
       "             'acdlo': ['acold'],\n",
       "             'aceloty': ['acolyte'],\n",
       "             'acelosty': ['acolytes'],\n",
       "             'aceinot': ['aconite'],\n",
       "             'aceinost': ['aconites', 'canoeist', 'sonicate'],\n",
       "             'acciinot': ['aconitic', 'cationic'],\n",
       "             'acimnotu': ['aconitum'],\n",
       "             'acimnostu': ['aconitums'],\n",
       "             'acnor': ['acorn', 'narco', 'racon'],\n",
       "             'acnors': ['acorns', 'narcos', 'racons'],\n",
       "             'acciostu': ['acoustic'],\n",
       "             'aaccilostu': ['acoustical'],\n",
       "             'aaccillostuy': ['acoustically'],\n",
       "             'acciosstu': ['acoustics'],\n",
       "             'aacinqtu': ['acquaint'],\n",
       "             'aaacceinnqtu': ['acquaintance'],\n",
       "             'aaacceinnqstu': ['acquaintances'],\n",
       "             'aaaccehiinnpqstu': ['acquaintanceship'],\n",
       "             'aaaccehiinnpqsstu': ['acquaintanceships'],\n",
       "             'aacdeinqtu': ['acquainted'],\n",
       "             'aacgiinnqtu': ['acquainting'],\n",
       "             'aacinqstu': ['acquaints'],\n",
       "             'aceqstu': ['acquest'],\n",
       "             'aceqsstu': ['acquests'],\n",
       "             'acceeiqsu': ['acquiesce'],\n",
       "             'accdeeiqsu': ['acquiesced'],\n",
       "             'accceeeinqsu': ['acquiescence'],\n",
       "             'accceeeinqssu': ['acquiescences'],\n",
       "             'acceeinqstu': ['acquiescent'],\n",
       "             'acceeilnqstuy': ['acquiescently'],\n",
       "             'acceeiqssu': ['acquiesces'],\n",
       "             'accegiinqsu': ['acquiescing'],\n",
       "             'aceiqru': ['acquire'],\n",
       "             'acdeiqru': ['acquired'],\n",
       "             'aceiqrru': ['acquirer'],\n",
       "             'aceiqrrsu': ['acquirers'],\n",
       "             'aceiqrsu': ['acquires'],\n",
       "             'acgiinqru': ['acquiring'],\n",
       "             'aciiinoqstu': ['acquisition'],\n",
       "             'aciiinoqsstu': ['acquisitions'],\n",
       "             'aceiiiqstuv': ['acquisitive'],\n",
       "             'aciqtu': ['acquit'],\n",
       "             'aciqstu': ['acquits'],\n",
       "             'acdeiqttu': ['acquitted'],\n",
       "             'acgiinqttu': ['acquitting'],\n",
       "             'aacinrs': ['acrasin', 'arnicas', 'carinas'],\n",
       "             'aacinrss': ['acrasins'],\n",
       "             'acer': ['acre', 'care', 'race'],\n",
       "             'aaceegr': ['acreage'],\n",
       "             'aaceegrs': ['acreages', 'gearcase'],\n",
       "             'acder': ['acred', 'arced', 'cadre', 'cared', 'cedar', 'raced'],\n",
       "             'acdir': ['acrid', 'caird', 'daric'],\n",
       "             'acdeirr': ['acrider', 'carried'],\n",
       "             'acdeirst': ['acridest'],\n",
       "             'acdeiinr': ['acridine'],\n",
       "             'acdeiinrs': ['acridines'],\n",
       "             'acdeiiirst': ['acridities'],\n",
       "             'acdiirty': ['acridity'],\n",
       "             'acdilry': ['acridly'],\n",
       "             'acdeinrss': ['acridness'],\n",
       "             'acdeeinrsss': ['acridnesses'],\n",
       "             'aceiimnors': ['acrimonies'],\n",
       "             'aciimnoorsu': ['acrimonious'],\n",
       "             'acimnory': ['acrimony'],\n",
       "             'aabcort': ['acrobat'],\n",
       "             'aabcciort': ['acrobatic'],\n",
       "             'aabcorst': ['acrobats'],\n",
       "             'acdnoort': ['acrodont'],\n",
       "             'acdnoorst': ['acrodonts'],\n",
       "             'acegnor': ['acrogen'],\n",
       "             'acegnors': ['acrogens'],\n",
       "             'aceilnor': ['acrolein', 'colinear'],\n",
       "             'aceilnors': ['acroleins', 'censorial'],\n",
       "             'achilort': ['acrolith'],\n",
       "             'achilorst': ['acroliths'],\n",
       "             'aacimor': ['acromia'],\n",
       "             'aacilmor': ['acromial'],\n",
       "             'acimnoor': ['acromion'],\n",
       "             'accinor': ['acronic'],\n",
       "             'acmnory': ['acronym'],\n",
       "             'acmnorsy': ['acronyms'],\n",
       "             'acorss': ['across'],\n",
       "             'acciorst': ['acrostic'],\n",
       "             'acciorsst': ['acrostics'],\n",
       "             'acciort': ['acrotic'],\n",
       "             'acimorst': ['acrotism'],\n",
       "             'acimorsst': ['acrotisms', 'ostracism'],\n",
       "             'aacelrty': ['acrylate'],\n",
       "             'aacelrsty': ['acrylates'],\n",
       "             'accilry': ['acrylic'],\n",
       "             'accilrsy': ['acrylics'],\n",
       "             'act': ['act', 'cat'],\n",
       "             'aact': ['acta'],\n",
       "             'aabcelt': ['actable'],\n",
       "             'acdet': ['acted', 'cadet'],\n",
       "             'acint': ['actin', 'antic'],\n",
       "             'aacilnt': ['actinal'],\n",
       "             'acgint': ['acting'],\n",
       "             'acginst': ['actings', 'casting'],\n",
       "             'aaciint': ['actinia'],\n",
       "             'aaceiint': ['actiniae'],\n",
       "             'aaciinnt': ['actinian'],\n",
       "             'aaciinnst': ['actinians'],\n",
       "             'aaciinst': ['actinias'],\n",
       "             'acciint': ['actinic'],\n",
       "             'acdeiint': ['actinide', 'ctenidia', 'indicate'],\n",
       "             'acdeiinst': ['actinides', 'indicates'],\n",
       "             'aciimnst': ['actinism'],\n",
       "             'aciimnsst': ['actinisms'],\n",
       "             'aciimntu': ['actinium'],\n",
       "             'aciimnstu': ['actiniums'],\n",
       "             'acdiinot': ['actinoid', 'diatonic'],\n",
       "             'acdiinost': ['actinoids'],\n",
       "             'acinnot': ['actinon', 'contain'],\n",
       "             'acinnost': ['actinons',\n",
       "              'canonist',\n",
       "              'contains',\n",
       "              'sanction',\n",
       "              'sonantic'],\n",
       "             'acinst': ['actins', 'antics', 'nastic'],\n",
       "             'acinot': ['action', 'atonic', 'cation'],\n",
       "             'acinost': ['actions', 'atonics', 'cations'],\n",
       "             'aaceittv': ['activate', 'cavitate'],\n",
       "             'aacdeittv': ['activated', 'cavitated'],\n",
       "             'aaceisttv': ['activates', 'cavitates'],\n",
       "             'aacgiinttv': ['activating', 'cavitating'],\n",
       "             'aaciinottv': ['activation'],\n",
       "             'aaciinosttv': ['activations'],\n",
       "             'aceitv': ['active'],\n",
       "             'aceiltvy': ['actively'],\n",
       "             'aceistv': ['actives'],\n",
       "             'aciimstv': ['activism'],\n",
       "             'aciimsstv': ['activisms'],\n",
       "             'aciisttv': ['activist'],\n",
       "             'aciissttv': ['activists'],\n",
       "             'aceiiisttv': ['activities'],\n",
       "             'aciittvy': ['activity'],\n",
       "             'acort': ['actor', 'taroc'],\n",
       "             'achiorst': ['actorish', 'chariots', 'haricots'],\n",
       "             'acorst': ['actors', 'castor', 'costar', 'scrota', 'tarocs'],\n",
       "             'acersst': ['actress', 'casters', 'recasts'],\n",
       "             'aceerssst': ['actresses'],\n",
       "             'acst': ['acts', 'cast', 'cats', 'scat'],\n",
       "             'aacltu': ['actual'],\n",
       "             'aaceiilsttu': ['actualities'],\n",
       "             'aacilttuy': ['actuality'],\n",
       "             'aaaciilnottuz': ['actualization'],\n",
       "             'aaaciilnosttuz': ['actualizations'],\n",
       "             'aaceiltuz': ['actualize'],\n",
       "             'aacdeiltuz': ['actualized'],\n",
       "             'aaceilstuz': ['actualizes'],\n",
       "             'aacgiilntuz': ['actualizing'],\n",
       "             'aaclltuy': ['actually'],\n",
       "             'aaacilrtu': ['actuarial'],\n",
       "             'aaceirstu': ['actuaries'],\n",
       "             'aacrtuy': ['actuary'],\n",
       "             'aacettu': ['actuate'],\n",
       "             'aacdettu': ['actuated'],\n",
       "             'aacesttu': ['actuates'],\n",
       "             'aacginttu': ['actuating'],\n",
       "             'aacorttu': ['actuator', 'autocrat'],\n",
       "             'aacorsttu': ['actuators', 'autocrats'],\n",
       "             'aacetu': ['acuate'],\n",
       "             'aceiistu': ['acuities'],\n",
       "             'acituy': ['acuity'],\n",
       "             'aaceeltu': ['aculeate'],\n",
       "             'acemnu': ['acumen'],\n",
       "             'acemnsu': ['acumens'],\n",
       "             ...})"
      ]
     },
     "execution_count": 10,
     "metadata": {},
     "output_type": "execute_result"
    }
   ],
   "source": [
    "anagrams = find_all_anagrams('data/words.txt')\n",
    "anagrams"
   ]
  },
  {
   "cell_type": "code",
   "execution_count": 77,
   "metadata": {},
   "outputs": [
    {
     "name": "stdout",
     "output_type": "stream",
     "text": [
      "['aa']\n",
      "['aah', 'aha']\n",
      "['aahed', 'ahead']\n",
      "['aahing']\n",
      "['aahs']\n",
      "['aal', 'ala']\n",
      "['aalii']\n",
      "['aaliis']\n",
      "['aals', 'alas']\n",
      "['aardvark']\n"
     ]
    }
   ],
   "source": [
    "print_i_anagrams_sets('data/words.txt')"
   ]
  },
  {
   "cell_type": "code",
   "execution_count": 75,
   "metadata": {},
   "outputs": [
    {
     "name": "stdout",
     "output_type": "stream",
     "text": [
      "['apers', 'asper', 'pares', 'parse', 'pears', 'prase', 'presa', 'rapes', 'reaps', 'spare', 'spear']\n",
      "['alerts', 'alters', 'artels', 'estral', 'laster', 'ratels', 'salter', 'slater', 'staler', 'stelar', 'talers']\n",
      "['least', 'setal', 'slate', 'stale', 'steal', 'stela', 'taels', 'tales', 'teals', 'tesla']\n",
      "['estrin', 'inerts', 'insert', 'inters', 'niters', 'nitres', 'sinter', 'triens', 'trines']\n",
      "['capers', 'crapes', 'escarp', 'pacers', 'parsec', 'recaps', 'scrape', 'secpar', 'spacer']\n",
      "['peris', 'piers', 'pries', 'prise', 'ripes', 'speir', 'spier', 'spire']\n",
      "['palest', 'palets', 'pastel', 'petals', 'plates', 'pleats', 'septal', 'staple']\n",
      "['lapse', 'leaps', 'pales', 'peals', 'pleas', 'salep', 'sepal', 'spale']\n",
      "['earings', 'erasing', 'gainers', 'reagins', 'regains', 'reginas', 'searing', 'seringa']\n",
      "['carets', 'cartes', 'caster', 'caters', 'crates', 'reacts', 'recast', 'traces']\n"
     ]
    }
   ],
   "source": [
    "print_i_anagrams_by_length('data/words.txt')"
   ]
  },
  {
   "cell_type": "code",
   "execution_count": 78,
   "metadata": {},
   "outputs": [
    {
     "name": "stdout",
     "output_type": "stream",
     "text": [
      "(11, ['apers', 'asper', 'pares', 'parse', 'pears', 'prase', 'presa', 'rapes', 'reaps', 'spare', 'spear'])\n",
      "(11, ['alerts', 'alters', 'artels', 'estral', 'laster', 'ratels', 'salter', 'slater', 'staler', 'stelar', 'talers'])\n",
      "(10, ['least', 'setal', 'slate', 'stale', 'steal', 'stela', 'taels', 'tales', 'teals', 'tesla'])\n",
      "(9, ['estrin', 'inerts', 'insert', 'inters', 'niters', 'nitres', 'sinter', 'triens', 'trines'])\n",
      "(9, ['capers', 'crapes', 'escarp', 'pacers', 'parsec', 'recaps', 'scrape', 'secpar', 'spacer'])\n",
      "(8, ['peris', 'piers', 'pries', 'prise', 'ripes', 'speir', 'spier', 'spire'])\n",
      "(8, ['palest', 'palets', 'pastel', 'petals', 'plates', 'pleats', 'septal', 'staple'])\n",
      "(8, ['lapse', 'leaps', 'pales', 'peals', 'pleas', 'salep', 'sepal', 'spale'])\n",
      "(8, ['earings', 'erasing', 'gainers', 'reagins', 'regains', 'reginas', 'searing', 'seringa'])\n",
      "(8, ['carets', 'cartes', 'caster', 'caters', 'crates', 'reacts', 'recast', 'traces'])\n"
     ]
    }
   ],
   "source": [
    "print_i_anagrams_by_length('data/words.txt', with_amount=True)"
   ]
  },
  {
   "cell_type": "code",
   "execution_count": 9,
   "metadata": {},
   "outputs": [
    {
     "name": "stdout",
     "output_type": "stream",
     "text": [
      "(7, ['angriest', 'astringe', 'ganister', 'gantries', 'granites', 'ingrates', 'rangiest'])\n"
     ]
    }
   ],
   "source": [
    "print_i_anagrams_by_length('data/words.txt', length = 8, number_to_print=1, with_amount=True)"
   ]
  },
  {
   "cell_type": "markdown",
   "metadata": {},
   "source": [
    "**Exercise 12.3.** Two words form a “metathesis pair” if you can transform one into the other by swapping two letters; for example, “converse” and “conserve”. Write a program that finds all of the metathesis pairs in the dictionary. *Hint:* don’t test all pairs of words, and don’t test all possible swaps."
   ]
  },
  {
   "cell_type": "code",
   "execution_count": 4,
   "metadata": {},
   "outputs": [],
   "source": [
    "def metathesis_pair():\n",
    "    anagrams = find_all_anagrams('data/words.txt')\n",
    "    pairs = []\n",
    "    for _, value in anagrams.items():\n",
    "        for i in range(0,len(value)-1):\n",
    "            #print(value[i],\",\", value[i+1])\n",
    "            match = 0\n",
    "            for char, char2 in zip(value[i], value[i+1]):\n",
    "                #print(char,\",\",char2)\n",
    "                if char == char2:\n",
    "                    match += 1\n",
    "            #print(match,\",\",len(value[i])-2)\n",
    "            if match == len(value[i])-2:\n",
    "                pairs.append((value[i],value[i+1]))\n",
    "    return pairs   "
   ]
  },
  {
   "cell_type": "code",
   "execution_count": 45,
   "metadata": {
    "scrolled": false
   },
   "outputs": [
    {
     "data": {
      "text/plain": [
       "2701"
      ]
     },
     "execution_count": 45,
     "metadata": {},
     "output_type": "execute_result"
    }
   ],
   "source": [
    "metathesis_pairs = metathesis_pair()\n",
    "len(metathesis_pairs)"
   ]
  },
  {
   "cell_type": "markdown",
   "metadata": {},
   "source": [
    "**Exercise 12.4.** Here’s another Car Talk Puzzler\n",
    "\n",
    "\n",
    "What is the longest English word, that remains a valid English word, as you remove its letters one at a time?\n",
    "\n",
    "Now, letters can be removed from either end, or the middle, but you can’t rearrange any of the letters. Every time you drop a letter, you wind up with another English word. If you do that, you’re eventually going to wind up with one letter and that too is going to be an English word—one that’s  found in the dictionary. I want to know what’s the longest word and how many letters does it have?\n",
    "\n",
    "I’m going to give you a little modest example: Sprite. Ok? You start off with sprite, you take a letter off, one from the interior of the word, take the r away, and we’re left with the word spite, then we take the e off the end, we’re left with spit, we take the s off, we’re left with pit, it, and I. \n",
    "\n",
    "Write a program to find all words that can be reduced in this way, and then find the longest one.\n",
    "\n",
    "This exercise is a little more challenging than most, so here are some suggestions:\n",
    "\n",
    "1. You might want to write a function that takes a word and computes a list of all the words that can be formed by removing one letter. These are the “children” of the word.\n",
    "2. Recursively, a word is reducible if any of its children are reducible. As a base case, you can consider the empty string reducible.\n",
    "3. The wordlist I provided, words.txt, doesn’t contain single letter words. So you might want to add “I”, “a”, and the empty string.\n",
    "4. To improve the performance of your program, you might want to memoize the words that are known to be reducible."
   ]
  },
  {
   "cell_type": "code",
   "execution_count": 66,
   "metadata": {},
   "outputs": [],
   "source": [
    "def build_words_dict(text):\n",
    "    d = defaultdict(int)\n",
    "    fin = open(text)\n",
    "    for line in fin:\n",
    "        word = line.strip()\n",
    "        d[word] += 1\n",
    "    d['i'] += 1\n",
    "    d['a'] += 1\n",
    "    d[''] += 1\n",
    "    return d\n",
    "\n",
    "def word_children(word, word_dict):\n",
    "    #print(word)\n",
    "    word_children = []\n",
    "    for i in range(0,len(word)):\n",
    "        child_word = word[:i] + word[i+1:]\n",
    "        #print(child_word)\n",
    "        if child_word in word_dict:\n",
    "            word_children.append(child_word)\n",
    "    return word_children"
   ]
  },
  {
   "cell_type": "code",
   "execution_count": 53,
   "metadata": {},
   "outputs": [
    {
     "data": {
      "text/plain": [
       "['right', 'fight']"
      ]
     },
     "execution_count": 53,
     "metadata": {},
     "output_type": "execute_result"
    }
   ],
   "source": [
    "word_children('fright')"
   ]
  },
  {
   "cell_type": "code",
   "execution_count": 89,
   "metadata": {},
   "outputs": [],
   "source": [
    "reducible_words_dict = defaultdict(bool)\n",
    "\n",
    "def is_reducible(word, word_dict=build_words_dict('data/words.txt')):\n",
    "    if word in reducible_words_dict or word == '':\n",
    "        return True\n",
    "    child_words = word_children(word, word_dict)\n",
    "    if len(child_words) > 0:\n",
    "        #print(child_words)\n",
    "        for w in child_words:\n",
    "            if is_reducible(w):\n",
    "                reducible_words_dict[w] = True\n",
    "                return True\n",
    "    else:\n",
    "        return False"
   ]
  },
  {
   "cell_type": "code",
   "execution_count": 80,
   "metadata": {},
   "outputs": [
    {
     "name": "stdout",
     "output_type": "stream",
     "text": [
      "sprite\n",
      "spite\n",
      "site\n",
      "sit\n",
      "it\n",
      "i\n",
      "\n"
     ]
    },
    {
     "data": {
      "text/plain": [
       "True"
      ]
     },
     "execution_count": 80,
     "metadata": {},
     "output_type": "execute_result"
    }
   ],
   "source": [
    "is_reducible('sprite', word_dict = words_dict)"
   ]
  },
  {
   "cell_type": "code",
   "execution_count": 90,
   "metadata": {},
   "outputs": [],
   "source": [
    "def find_all():\n",
    "    word_dict=build_words_dict('data/words.txt')\n",
    "    reducible_words = []\n",
    "    for word in words_dict:\n",
    "        if word in reducible_words_dict:\n",
    "            pass\n",
    "        elif is_reducible(word, word_dict):\n",
    "            reducible_words_dict[word] = True"
   ]
  },
  {
   "cell_type": "code",
   "execution_count": 91,
   "metadata": {},
   "outputs": [],
   "source": [
    "find_all()"
   ]
  },
  {
   "cell_type": "code",
   "execution_count": 99,
   "metadata": {},
   "outputs": [],
   "source": [
    "def reducibles_of_n_length(n):\n",
    "    reducible = []\n",
    "    length = n\n",
    "    for word in reducible_words_dict:\n",
    "        if len(word) == n:\n",
    "            reducible.append(word)\n",
    "    return reducible\n",
    "\n",
    "def longest_reducible():\n",
    "    reducible = ''\n",
    "    length = 0\n",
    "    for word in reducible_words_dict:\n",
    "        if len(word) > length:\n",
    "            reducible = word\n",
    "            length = len(word)\n",
    "    return reducible           "
   ]
  },
  {
   "cell_type": "code",
   "execution_count": 98,
   "metadata": {},
   "outputs": [
    {
     "data": {
      "text/plain": [
       "['carrousels',\n",
       " 'completing',\n",
       " 'insolating',\n",
       " 'restarting',\n",
       " 'staunchest',\n",
       " 'stranglers',\n",
       " 'twitchiest']"
      ]
     },
     "execution_count": 98,
     "metadata": {},
     "output_type": "execute_result"
    }
   ],
   "source": [
    "reducibles_of_n_length(10)"
   ]
  },
  {
   "cell_type": "code",
   "execution_count": 97,
   "metadata": {},
   "outputs": [
    {
     "data": {
      "text/plain": [
       "'complecting'"
      ]
     },
     "execution_count": 97,
     "metadata": {},
     "output_type": "execute_result"
    }
   ],
   "source": [
    "longest_reducible()"
   ]
  },
  {
   "cell_type": "code",
   "execution_count": null,
   "metadata": {},
   "outputs": [],
   "source": []
  }
 ],
 "metadata": {
  "kernelspec": {
   "display_name": "Python 3",
   "language": "python",
   "name": "python3"
  },
  "language_info": {
   "codemirror_mode": {
    "name": "ipython",
    "version": 3
   },
   "file_extension": ".py",
   "mimetype": "text/x-python",
   "name": "python",
   "nbconvert_exporter": "python",
   "pygments_lexer": "ipython3",
   "version": "3.6.1"
  }
 },
 "nbformat": 4,
 "nbformat_minor": 2
}
