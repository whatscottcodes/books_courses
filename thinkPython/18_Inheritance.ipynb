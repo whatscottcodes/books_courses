{
 "cells": [
  {
   "cell_type": "markdown",
   "metadata": {},
   "source": [
    "## Chapter 18 - Inheritance"
   ]
  },
  {
   "cell_type": "markdown",
   "metadata": {},
   "source": [
    "**Inheritance** is the ability to define a new class that is a modified version of an existing class."
   ]
  },
  {
   "cell_type": "markdown",
   "metadata": {},
   "source": [
    "If we want to define a new object to represent a playing card, it is obvious what the attributes should be: rank and suit . It is not as obvious what type the attributes should be.\n",
    "\n",
    "One possibility is to use strings containing words like 'Spade' for suits and 'Queen' for ranks. One problem with this implementation is that it would not be easy to compare cards to see which had a higher rank or suit.\n",
    "\n",
    "An alternative is to use integers to **encode** the ranks and suits. In this context, “encode” means that we are going to define a mapping between numbers and suits, or between numbers and ranks. This kind of encoding is not meant to be a secret (that would be “encryption”)."
   ]
  },
  {
   "cell_type": "code",
   "execution_count": 2,
   "metadata": {},
   "outputs": [],
   "source": [
    "class Card:\n",
    "    \"\"\"Represents a standard playing card\"\"\"\n",
    "    \n",
    "    def __init__(self, suit=0, rank=2):\n",
    "        self.suit = suit\n",
    "        self.rank = rank"
   ]
  },
  {
   "cell_type": "code",
   "execution_count": 3,
   "metadata": {},
   "outputs": [],
   "source": [
    "queen_of_diamonds = Card(1, 12)"
   ]
  },
  {
   "cell_type": "markdown",
   "metadata": {},
   "source": [
    "In order to print Card objects in a way that people can easily read, we need a mapping from the integer codes to the corresponding ranks and suits. A natural way to do that is with lists of strings. We assign these lists to **class attributes**:"
   ]
  },
  {
   "cell_type": "code",
   "execution_count": 94,
   "metadata": {},
   "outputs": [],
   "source": [
    "class Card:\n",
    "    \"\"\"Represents a standard playing card\"\"\"\n",
    "    \n",
    "    def __init__(self, suit=0, rank=2):\n",
    "        self.suit = suit\n",
    "        self.rank = rank\n",
    "\n",
    "    suit_names = ['Clubs', 'Diamonds', 'Hearts', 'Spades']\n",
    "    rank_names = ['None', 'Ace', '2', '3', '4', '5', '6', '7','8', '9', '10', 'Jack', 'Queen', 'King']\n",
    "    \n",
    "    def __str__(self):\n",
    "        return '%s of %s' % (Card.rank_names[self.rank], Card.suit_names[self.suit])"
   ]
  },
  {
   "cell_type": "code",
   "execution_count": 5,
   "metadata": {},
   "outputs": [
    {
     "name": "stdout",
     "output_type": "stream",
     "text": [
      "<__main__.Card object at 0x7f53ddd4e320>\n"
     ]
    }
   ],
   "source": [
    "print(queen_of_diamonds)"
   ]
  },
  {
   "cell_type": "markdown",
   "metadata": {},
   "source": [
    "Variables like suit_names and rank_names, which are **defined inside a class but outside of any method**, are called **class attributes** because they are associated with the class object Card.\n",
    "\n",
    "This term distinguishes them from variables like suit and rank, which are called **instance attributes** because they are **associated with a particular instance**."
   ]
  },
  {
   "cell_type": "markdown",
   "metadata": {},
   "source": [
    "Every card has its own suit and rank, but there is only one copy of suit_names and rank_names ."
   ]
  },
  {
   "cell_type": "markdown",
   "metadata": {},
   "source": [
    "For built-in types, there are relational operators ( < , > , == , etc.) that compare values and determine when one is greater than, less than, or equal to another. For programmer-defined types, we can override the behavior of the built-in operators by providing a method named **\\__lt\\__** , which stands for “less than”."
   ]
  },
  {
   "cell_type": "markdown",
   "metadata": {},
   "source": [
    "The correct ordering for cards is not obvious. For example, which is better, the 3 of Clubs or the 2 of Diamonds? One has a higher rank, but the other has a higher suit. In order to compare cards, you have to decide whether rank or suit is more important.\n",
    "\n",
    "\n",
    "The answer might depend on what game you are playing, but to keep things simple, we’ll make the arbitrary choice that suit is more important, so all of the Spades outrank all of the Diamonds, and so on."
   ]
  },
  {
   "cell_type": "code",
   "execution_count": 102,
   "metadata": {},
   "outputs": [],
   "source": [
    "class Card:\n",
    "    \"\"\"Represents a standard playing card\"\"\"\n",
    "    \n",
    "    def __init__(self, suit=0, rank=2):\n",
    "        self.suit = suit\n",
    "        self.rank = rank\n",
    "\n",
    "    suit_names = ['Clubs', 'Diamonds', 'Hearts', 'Spades']\n",
    "    rank_names = ['None', 'Ace', '2', '3', '4', '5', '6', '7','8', '9', '10', 'Jack', 'Queen', 'King']\n",
    "    \n",
    "    def __str__(self):\n",
    "        return '%s of %s' % (Card.rank_names[self.rank], Card.suit_names[self.suit])\n",
    "\n",
    "    def __lt__(self, other):\n",
    "        t1 = self.suit, self.rank\n",
    "        t2 = other.suit, other.rank\n",
    "        return t1 < t2"
   ]
  },
  {
   "cell_type": "markdown",
   "metadata": {},
   "source": [
    "As an exercise, write an **\\__lt\\__** method for Time objects. You can use tuple comparison, but you also might consider comparing integers."
   ]
  },
  {
   "cell_type": "code",
   "execution_count": 7,
   "metadata": {},
   "outputs": [],
   "source": [
    "class Time:\n",
    "    def __init__(self, hour=0, minute=0, second=0):\n",
    "        self.hour = hour\n",
    "        self.minute = minute\n",
    "        self.second = second\n",
    "    \n",
    "    def time_to_int(self):\n",
    "        minutes = self.hour * 60 + self.minute\n",
    "        seconds = minutes * 60 + self.second\n",
    "        return seconds\n",
    "    \n",
    "    def is_after(self, other):\n",
    "        return self.time_to_int() > other.time_to_int()\n",
    "\n",
    "    def __str__(self):\n",
    "        return '%.2d:%.2d:%.2d' % (self.hour, self.minute, self.second)\n",
    "\n",
    "    def __radd__(self, other):\n",
    "        return self.__add__(other)\n",
    "\n",
    "    def __add__(self,other):\n",
    "        if isinstance(other, Time):\n",
    "            return self.add_time(other)\n",
    "        else:\n",
    "            return self.increment(other)\n",
    "\n",
    "    def add_time(self,other):\n",
    "        seconds = self.time_to_int() + other.time_to_int()\n",
    "        return int_to_time(seconds)\n",
    "\n",
    "    def increment(self, seconds):\n",
    "        seconds += self.time_to_int()\n",
    "        return int_to_time(seconds)\n",
    "    \n",
    "    def __lt__(self, other):\n",
    "        return self.time_to_int() < other.time_to_int()"
   ]
  },
  {
   "cell_type": "code",
   "execution_count": 8,
   "metadata": {},
   "outputs": [
    {
     "name": "stdout",
     "output_type": "stream",
     "text": [
      "True\n"
     ]
    }
   ],
   "source": [
    "t1 = Time(10, 30, 33)\n",
    "t2 = Time(12, 22, 45)\n",
    "print(t1 < t2)"
   ]
  },
  {
   "cell_type": "markdown",
   "metadata": {},
   "source": [
    "Now that we have Cards, the next step is to define Decks. Since a deck is made up of cards, it is natural for each Deck to contain a list of cards as an attribute.\n",
    "\n",
    "The following is a class definition for Deck. The init method creates the attribute cards and generates the standard set of fifty-two cards:"
   ]
  },
  {
   "cell_type": "code",
   "execution_count": 9,
   "metadata": {},
   "outputs": [],
   "source": [
    "class Deck:\n",
    "    def __init__(self):\n",
    "        self.cards = []\n",
    "        \n",
    "        for suit in range(4):\n",
    "            for rank in range(1,14):\n",
    "                card = Card(suit, rank)\n",
    "                self.cards.append(card)\n",
    "                \n",
    "    def __str__(self):\n",
    "        res = []\n",
    "        for card in self.cards:\n",
    "            res.append(str(card))\n",
    "        return '\\n'.join(res)"
   ]
  },
  {
   "cell_type": "markdown",
   "metadata": {},
   "source": [
    "The built-in function str invokes the **\\__str\\__** method on each card and returns the string representation."
   ]
  },
  {
   "cell_type": "code",
   "execution_count": 10,
   "metadata": {},
   "outputs": [
    {
     "name": "stdout",
     "output_type": "stream",
     "text": [
      "Ace of Clubs\n",
      "2 of Clubs\n",
      "3 of Clubs\n",
      "4 of Clubs\n",
      "5 of Clubs\n",
      "6 of Clubs\n",
      "7 of Clubs\n",
      "8 of Clubs\n",
      "9 of Clubs\n",
      "10 of Clubs\n",
      "Jack of Clubs\n",
      "Queen of Clubs\n",
      "King of Clubs\n",
      "Ace of Diamonds\n",
      "2 of Diamonds\n",
      "3 of Diamonds\n",
      "4 of Diamonds\n",
      "5 of Diamonds\n",
      "6 of Diamonds\n",
      "7 of Diamonds\n",
      "8 of Diamonds\n",
      "9 of Diamonds\n",
      "10 of Diamonds\n",
      "Jack of Diamonds\n",
      "Queen of Diamonds\n",
      "King of Diamonds\n",
      "Ace of Hears\n",
      "2 of Hears\n",
      "3 of Hears\n",
      "4 of Hears\n",
      "5 of Hears\n",
      "6 of Hears\n",
      "7 of Hears\n",
      "8 of Hears\n",
      "9 of Hears\n",
      "10 of Hears\n",
      "Jack of Hears\n",
      "Queen of Hears\n",
      "King of Hears\n",
      "Ace of Spades\n",
      "2 of Spades\n",
      "3 of Spades\n",
      "4 of Spades\n",
      "5 of Spades\n",
      "6 of Spades\n",
      "7 of Spades\n",
      "8 of Spades\n",
      "9 of Spades\n",
      "10 of Spades\n",
      "Jack of Spades\n",
      "Queen of Spades\n",
      "King of Spades\n"
     ]
    }
   ],
   "source": [
    "deck = Deck()\n",
    "print(deck)"
   ]
  },
  {
   "cell_type": "markdown",
   "metadata": {},
   "source": [
    "To deal cards, we would like a method that removes a card from the deck and returns it. The list method pop provides a convenient way to do that.\n",
    "\n",
    "Since pop removes the last card in the list, we are dealing from the bottom of the deck.\n",
    "\n",
    "To add a card we can use the list method append."
   ]
  },
  {
   "cell_type": "code",
   "execution_count": 11,
   "metadata": {},
   "outputs": [],
   "source": [
    "import random\n",
    "\n",
    "class Deck:\n",
    "    def __init__(self):\n",
    "        self.cards = []\n",
    "        \n",
    "        for suit in range(4):\n",
    "            for rank in range(1,14):\n",
    "                card = Card(suit, rank)\n",
    "                self.cards.append(card)\n",
    "                \n",
    "    def __str__(self):\n",
    "        res = []\n",
    "        for card in self.cards:\n",
    "            res.append(str(card))\n",
    "        return '\\n'.join(res)\n",
    "    \n",
    "    def pop_card(self):\n",
    "        return self.cards.pop()\n",
    "    \n",
    "    def add_card(self, card):\n",
    "        self.cards.append(card)\n",
    "        \n",
    "    def shffule(self):\n",
    "        random.shuffle(self.cards)"
   ]
  },
  {
   "cell_type": "markdown",
   "metadata": {},
   "source": [
    "A method like this that uses another method without doing much work is sometimes called a **veneer**. The metaphor comes from woodworking, where a veneer is a thin layer of good quality wood glued to the surface of a cheaper piece of wood to improve the appearance.\n",
    "\n",
    "In this case add_card is a “thin” method that expresses a list operation in terms appropriate for decks. It improves the appearance, or interface, of the implementation.\n",
    "\n",
    "Another example, is the Deck method named shuffle using the function shuffle from the random module."
   ]
  },
  {
   "cell_type": "markdown",
   "metadata": {},
   "source": [
    "As an exercise, write a Deck method named sort that uses the list method sort to sort the cards in a Deck .\n",
    "\n",
    "*sort* uses the **\\__lt\\__** method we defined to determine the order."
   ]
  },
  {
   "cell_type": "code",
   "execution_count": 12,
   "metadata": {},
   "outputs": [],
   "source": [
    "import random\n",
    "\n",
    "class Deck:\n",
    "    def __init__(self):\n",
    "        self.cards = []\n",
    "        \n",
    "        for suit in range(4):\n",
    "            for rank in range(1,14):\n",
    "                card = Card(suit, rank)\n",
    "                self.cards.append(card)\n",
    "                \n",
    "    def __str__(self):\n",
    "        res = []\n",
    "        for card in self.cards:\n",
    "            res.append(str(card))\n",
    "        return '\\n'.join(res)\n",
    "    \n",
    "    def pop_card(self):\n",
    "        return self.cards.pop()\n",
    "    \n",
    "    def add_card(self, card):\n",
    "        self.cards.append(card)\n",
    "        \n",
    "    def shffule(self):\n",
    "        random.shuffle(self.cards)\n",
    "\n",
    "    def sort(self):\n",
    "        self.cards.sort()"
   ]
  },
  {
   "cell_type": "markdown",
   "metadata": {},
   "source": [
    "**Inheritance** is the ability to define a new class that is a modified version of an existing class.\n",
    "\n",
    "As an example, let’s say we want a class to represent a “hand”, that is, the cards held by one player. A hand is similar to a deck: both are made up of a collection of cards, and both require operations like adding and removing cards.\n",
    "\n",
    "A hand is also different from a deck; there are operations we want for hands that don’t make sense for a deck. For example, in poker we might compare two hands to see which one wins. In bridge, we might compute a score for a hand in order to make a bid."
   ]
  },
  {
   "cell_type": "markdown",
   "metadata": {},
   "source": [
    "To define a new class that inherits from an existing class, you put the name of the existing class in parentheses:"
   ]
  },
  {
   "cell_type": "code",
   "execution_count": 13,
   "metadata": {},
   "outputs": [],
   "source": [
    "class Hand(Deck):\n",
    "    \"\"\"Represents a hand of playing cards\"\"\""
   ]
  },
  {
   "cell_type": "markdown",
   "metadata": {},
   "source": [
    "This definition indicates that Hand inherits from Deck; that means we can use methods like pop_card and add_card for Hands as well as Decks.\n",
    "\n",
    "When a new class inherits from an existing one, the existing one is called the **parent** and the new class is called the **child**."
   ]
  },
  {
   "cell_type": "markdown",
   "metadata": {},
   "source": [
    "In this example, Hand inherits **\\__init\\__** from Deck , but it doesn’t really do what we want:\n",
    "    \n",
    "Instead of populating the hand with 52 new cards, the init method for Hands should initialize cards with an empty list.\n",
    "\n",
    "If we provide an init method in the Hand class, it overrides the one in the Deck class:"
   ]
  },
  {
   "cell_type": "code",
   "execution_count": 14,
   "metadata": {},
   "outputs": [],
   "source": [
    "class Hand(Deck):\n",
    "    \"\"\"Represents a hand of playing cards\"\"\"\n",
    "    \n",
    "    def __init__(self, label = ''):\n",
    "        self.cards = []\n",
    "        self.label = label"
   ]
  },
  {
   "cell_type": "code",
   "execution_count": 15,
   "metadata": {},
   "outputs": [
    {
     "data": {
      "text/plain": [
       "[]"
      ]
     },
     "execution_count": 15,
     "metadata": {},
     "output_type": "execute_result"
    }
   ],
   "source": [
    "hand = Hand('new hand')\n",
    "hand.cards"
   ]
  },
  {
   "cell_type": "markdown",
   "metadata": {},
   "source": [
    "The other methods are inherited from Deck , so we can use pop_card and add_card to deal a card:"
   ]
  },
  {
   "cell_type": "code",
   "execution_count": 16,
   "metadata": {},
   "outputs": [
    {
     "name": "stdout",
     "output_type": "stream",
     "text": [
      "King of Spades\n"
     ]
    }
   ],
   "source": [
    "deck = Deck()\n",
    "card = deck.pop_card()\n",
    "hand.add_card(card)\n",
    "print(hand)"
   ]
  },
  {
   "cell_type": "markdown",
   "metadata": {},
   "source": [
    "A natural next step is to encapsulate this code in a method called move_cards:"
   ]
  },
  {
   "cell_type": "code",
   "execution_count": 17,
   "metadata": {},
   "outputs": [],
   "source": [
    "class Deck:\n",
    "    def __init__(self):\n",
    "        self.cards = []\n",
    "        \n",
    "        for suit in range(4):\n",
    "            for rank in range(1,14):\n",
    "                card = Card(suit, rank)\n",
    "                self.cards.append(card)\n",
    "                \n",
    "    def __str__(self):\n",
    "        res = []\n",
    "        for card in self.cards:\n",
    "            res.append(str(card))\n",
    "        return '\\n'.join(res)\n",
    "    \n",
    "    def pop_card(self):\n",
    "        return self.cards.pop()\n",
    "    \n",
    "    def add_card(self, card):\n",
    "        self.cards.append(card)\n",
    "        \n",
    "    def shuffle(self):\n",
    "        random.shuffle(self.cards)\n",
    "\n",
    "    def sort(self):\n",
    "        self.cards.sort()\n",
    "\n",
    "    def move_cards(self, hand, num):\n",
    "        for i in range(num):\n",
    "            hand.add_card(self.pop_card())"
   ]
  },
  {
   "cell_type": "markdown",
   "metadata": {},
   "source": [
    "*move_cards* takes two arguments, a Hand object and the number of cards to deal. It modifies both self and hand , and returns None.\n",
    "\n",
    "\n",
    "In some games, cards are moved from one hand to another, or from a hand back to the deck. You can use move_cards for any of these operations: self can be either a Deck or a Hand, and hand , despite the name, can also be a Deck ."
   ]
  },
  {
   "cell_type": "markdown",
   "metadata": {},
   "source": [
    "Inheritance is a useful feature. Some programs that would be repetitive without inheritance can be written more elegantly with it. Inheritance can facilitate code reuse, since you can customize the behavior of parent classes without having to modify them. In some cases, the inheritance structure reflects the natural structure of the problem, which makes the design easier to understand.\n",
    "\n",
    "\n",
    "On the other hand, inheritance can make programs difficult to read. When a method is invoked, it is sometimes not clear where to find its definition. The relevant code may be spread across several modules. Also, many of the things that can be done using inheritance can be done as well or better without it."
   ]
  },
  {
   "cell_type": "markdown",
   "metadata": {},
   "source": [
    "There are several kinds of relationship between classes:\n",
    "    \n",
    "    \n",
    "• Objects in one class might contain references to objects in another class. For example, each Rectangle contains a reference to a Point, and each Deck contains references to many Cards. This kind of relationship is called **HAS-A**, as in, “a Rectangle has a Point.”\n",
    "\n",
    "\n",
    "• One class might inherit from another. This relationship is called **IS-A**, as in, “a Hand is a kind of a Deck.”\n",
    "\n",
    "\n",
    "• One class might depend on another in the sense that objects in one class take objects in the second class as parameters, or use objects in the second class as part of a computation. This kind of relationship is called a **dependency**."
   ]
  },
  {
   "cell_type": "markdown",
   "metadata": {},
   "source": [
    "In a class diagram an arrow with a hollow triangle head represents an IS-A relationship; in this case it indicates that Hand inherits from Deck.\n",
    "\n",
    "\n",
    "A standard arrow head represents a HAS-A relationship; in this case a Deck has references to Card objects.\n",
    "\n",
    "A star (\\*) near an arrow head is a **multiplicity**; it indicates how many Cards a Deck has. A multiplicity can be a simple number, like 52 , a range, like 5..7 or a star, which indicates that a Deck can have any number of Cards.\n",
    "\n",
    "\n",
    "There are no dependencies in this diagram. They would normally be shown with a dashed arrow. Or if there are a lot of dependencies, they are sometimes omitted.\n",
    "\n",
    "A more detailed diagram might show that a Deck actually contains a list of Cards, but built-in types like list and dict are usually not included in class diagrams."
   ]
  },
  {
   "cell_type": "markdown",
   "metadata": {},
   "source": [
    "**Debugging**\n",
    "\n",
    "Any time you are unsure about the flow of execution through your program, the simplest solution is to add print statements at the beginning of the relevant methods. If Deck.shuffle prints a message that says something like Running Deck.shuffle , then as the program runs it traces the flow of execution.\n",
    "\n",
    "\n",
    "As an alternative, you could use this function, which takes an object and a method name (as a string) and returns the class that provides the definition of the method:"
   ]
  },
  {
   "cell_type": "code",
   "execution_count": 18,
   "metadata": {},
   "outputs": [],
   "source": [
    "def find_defining_class(obj, meth_name):\n",
    "    for ty in type(obj).mro():\n",
    "        if meth_name in ty.__dict__:\n",
    "            return ty"
   ]
  },
  {
   "cell_type": "code",
   "execution_count": 19,
   "metadata": {},
   "outputs": [
    {
     "name": "stdout",
     "output_type": "stream",
     "text": [
      "None\n"
     ]
    }
   ],
   "source": [
    "hand = Hand()\n",
    "print(find_defining_class(hand, 'shuffle'))"
   ]
  },
  {
   "cell_type": "markdown",
   "metadata": {},
   "source": [
    "So the shuffle method for this Hand is the one in Deck.\n",
    "\n",
    "find_defining_class uses the **mro method** to get the list of class objects (types) that will be searched for methods. “MRO” stands for “method resolution order”, which is the sequence of classes Python searches to “resolve” a method name."
   ]
  },
  {
   "cell_type": "markdown",
   "metadata": {},
   "source": [
    "Here’s a design suggestion: when you override a method, the interface of the new method should be the same as the old. It should take the same parameters, return the same type, and obey the same preconditions and postconditions. If you follow this rule, you will find that any function designed to work with an instance of a parent class, like a Deck, will also work with instances of child classes like a Hand and PokerHand.\n",
    "\n",
    "\n",
    "If you violate this rule, which is called the **“Liskov substitution principle”**, your code will collapse."
   ]
  },
  {
   "cell_type": "markdown",
   "metadata": {},
   "source": [
    "Sometimes it is less obvious what objects you need and how they should interact. In that case you need a different development plan. In the same way that we discovered function interfaces by encapsulation and generalization, we can discover class interfaces by **data encapsulation**."
   ]
  },
  {
   "cell_type": "markdown",
   "metadata": {},
   "source": [
    "Below suggests a development plan for designing objects and methods:\n",
    "\n",
    "\n",
    "1. Start by writing functions that read and write global variables (when necessary).\n",
    "2. Once you get the program working, look for associations between global variables and the functions that use them.\n",
    "3. Encapsulate related variables as attributes of an object.\n",
    "4. Transform the associated functions into methods of the new class."
   ]
  },
  {
   "cell_type": "markdown",
   "metadata": {},
   "source": [
    "### Gloassry\n",
    "\n",
    "**encode:** To represent one set of values using another set of values by constructing a mapping between them.\n",
    "\n",
    "\n",
    "**class attribute:** An attribute associated with a class object. Class attributes are defined inside a class definition but outside any method.\n",
    "\n",
    "\n",
    "**instance attribute:** An attribute associated with an instance of a class.\n",
    "\n",
    "\n",
    "**veneer:** A method or function that provides a different interface to another function without doing much computation.\n",
    "\n",
    "\n",
    "**inheritance:** The ability to define a new class that is a modified version of a previously defined class.\n",
    "\n",
    "\n",
    "**parent class:** The class from which a child class inherits.\n",
    "\n",
    "\n",
    "**child class:** A new class created by inheriting from an existing class; also called a “subclass”.\n",
    "\n",
    "\n",
    "**IS-A relationship:** A relationship between a child class and its parent class.\n",
    "\n",
    "\n",
    "**HAS-A relationship:** A relationship between two classes where instances of one class contain references to instances of the other.\n",
    "\n",
    "\n",
    "**dependency:** A relationship between two classes where instances of one class use instances of the other class, but do not store them as attributes.\n",
    "\n",
    "\n",
    "**class diagram:** A diagram that shows the classes in a program and the relationships between them.\n",
    "\n",
    "\n",
    "**multiplicity:** A notation in a class diagram that shows, for a HAS-A relationship, how many references there are to instances of another class.\n",
    "\n",
    "\n",
    "**data encapsulation:** A program development plan that involves a prototype using global variables and a final version that makes the global variables into instance attributes."
   ]
  },
  {
   "cell_type": "markdown",
   "metadata": {},
   "source": [
    "### Exercises\n",
    "\n",
    "**Exercise 18.1.** For the following program, draw a UML class diagram that shows these classes andthe relationships among them."
   ]
  },
  {
   "cell_type": "code",
   "execution_count": 20,
   "metadata": {},
   "outputs": [],
   "source": [
    "class PingPongParent:\n",
    "    pass\n",
    "\n",
    "class Ping(PingPongParent):\n",
    "    def __init__(self, pong):\n",
    "        self.pong = pong\n",
    "\n",
    "class Pong(PingPongParent):\n",
    "    def __init__(self, pings=None):\n",
    "        if pings is None:\n",
    "            self.pings = []\n",
    "        else:\n",
    "            self.pings = pings\n",
    "    \n",
    "    def add_ping(self, ping):\n",
    "        self.pings.append(ping)\n",
    "\n",
    "pong = Pong()\n",
    "ping = Ping(pong)\n",
    "pong.add_ping(ping)"
   ]
  },
  {
   "cell_type": "markdown",
   "metadata": {},
   "source": [
    "**Exercise 18.2.** Write a Deck method called deal_hands that takes two parameters, the number of hands and the number of cards per hand. It should create the appropriate number of Hand objects, deal the appropriate number of cards per hand, and return a list of Hands."
   ]
  },
  {
   "cell_type": "code",
   "execution_count": 97,
   "metadata": {},
   "outputs": [],
   "source": [
    "class Deck:\n",
    "    def __init__(self):\n",
    "        self.cards = []\n",
    "        \n",
    "        for suit in range(4):\n",
    "            for rank in range(1,14):\n",
    "                card = Card(suit, rank)\n",
    "                self.cards.append(card)\n",
    "                \n",
    "    def __str__(self):\n",
    "        res = []\n",
    "        for card in self.cards:\n",
    "            res.append(str(card))\n",
    "        return '\\n'.join(res)\n",
    "    \n",
    "    def pop_card(self):\n",
    "        return self.cards.pop()\n",
    "    \n",
    "    def add_card(self, card):\n",
    "        self.cards.append(card)\n",
    "        \n",
    "    def shuffle(self):\n",
    "        random.shuffle(self.cards)\n",
    "\n",
    "    def sort(self):\n",
    "        self.cards.sort()\n",
    "\n",
    "    def move_cards(self, hand, num):\n",
    "        for i in range(num):\n",
    "            hand.add_card(self.pop_card())\n",
    "\n",
    "    def deal_hands(self, num_hands, num_cards):\n",
    "        hands = {}\n",
    "        hand_list = []\n",
    "        for i in range(num_hands):\n",
    "            hands['hand'+str(i)] = Hand()\n",
    "        for hand in hands:\n",
    "            self.move_cards(hands[hand], num_cards)\n",
    "            hand_list.append(hands[hand])\n",
    "        return hand_list    "
   ]
  },
  {
   "cell_type": "code",
   "execution_count": 98,
   "metadata": {},
   "outputs": [],
   "source": [
    "deck = Deck()\n",
    "list_of_hands = deck.deal_hands(3, 5)"
   ]
  },
  {
   "cell_type": "code",
   "execution_count": 99,
   "metadata": {},
   "outputs": [
    {
     "name": "stdout",
     "output_type": "stream",
     "text": [
      "King of Spades\n",
      "Queen of Spades\n",
      "Jack of Spades\n",
      "10 of Spades\n",
      "9 of Spades\n"
     ]
    }
   ],
   "source": [
    "print(list_of_hands[0])"
   ]
  },
  {
   "cell_type": "markdown",
   "metadata": {},
   "source": [
    "Exercise 18.3. The following are the possible hands in poker, in increasing order of value and\n",
    "decreasing order of probability:\n",
    "\n",
    "**pair:** two cards with the same rank\n",
    "\n",
    "**two pair:** two pairs of cards with the same rank\n",
    "\n",
    "**three of a kind:** three cards with the same rank\n",
    "\n",
    "**straight:** five cards with ranks in sequence (aces can be high or low, so Ace-2-3-4-5 is a straight and so is 10-Jack-Queen-King-Ace, but Queen-King-Ace-2-3 is not.)\n",
    "\n",
    "**flush:** five cards with the same suit\n",
    "\n",
    "**full house:** three cards with one rank, two cards with another\n",
    "\n",
    "**four of a kind:** four cards with the same rank\n",
    "\n",
    "**straight flush:** five cards in sequence (as defined above) and with the same suit\n",
    "\n",
    "The goal of these exercises is to estimate the probability of drawing these various hands."
   ]
  },
  {
   "cell_type": "markdown",
   "metadata": {},
   "source": [
    "2. If you run PokerHand.py, it deals seven 7-card poker hands and checks to see if any of them contains a flush. Read this code carefully before you go on.\n",
    "\n",
    "3. Add methods to PokerHand.py named has_pair, has_twopair, etc. that return True or False according to whether or not the hand meets the relevant criteria. Your code should work correctly for “hands” that contain any number of cards (although 5 and 7 are the most common sizes).\n",
    "\n",
    "4. Write a method named classify that figures out the highest-value classification for a hand and sets the label attribute accordingly. For example, a 7-card hand might contain a flush and a pair; it should be labeled “flush”.\n",
    "\n",
    "5. When you are convinced that your classification methods are working, the next step is to estimate the probabilities of the various hands. Write a function in PokerHand.py that shuffles a deck of cards, divides it into hands, classifies the hands, and counts the number of times various classifications appear.\n",
    "\n",
    "6. Print a table of the classifications and their probabilities. Run your program with larger and larger numbers of hands until the output values converge to a reasonable degree of accuracy. Compare your results to the values at http://en.wikipedia.org/wiki/Hand_rankings ."
   ]
  },
  {
   "cell_type": "code",
   "execution_count": 186,
   "metadata": {},
   "outputs": [],
   "source": [
    "import itertools\n",
    "\n",
    "class PokerHand(Hand):\n",
    "    \"\"\"Represents a poker hand.\"\"\"\n",
    "\n",
    "    def suit_hist(self):\n",
    "        \"\"\"Builds a histogram of the suits that appear in the hand.\n",
    "\n",
    "        Stores the result in attribute suits.\n",
    "        \"\"\"\n",
    "        self.suits = {}\n",
    "        for card in self.cards:\n",
    "            self.suits[card.suit] = self.suits.get(card.suit, 0) + 1\n",
    "        \n",
    "    def rank_hist(self):\n",
    "        \"\"\"Builds a histogram of the rank that appear in the hand.\n",
    "\n",
    "        Stores the result in attribute ranks.\n",
    "        \"\"\"\n",
    "        self.ranks = {}\n",
    "        for card in self.cards:\n",
    "            self.ranks[card.rank] = self.ranks.get(card.rank, 0) + 1\n",
    "    \n",
    "    def has_flush(self):\n",
    "        \"\"\"Returns True if the hand has a flush, False otherwise.\n",
    "      \n",
    "        Note that this works correctly for hands with more than 5 cards.\n",
    "        \"\"\"\n",
    "        self.suit_hist()\n",
    "        for val in self.suits.values():\n",
    "            if val >= 5:\n",
    "                return True\n",
    "        return False\n",
    "    \n",
    "    def has_pair(self, one_pair=True):\n",
    "        self.rank_hist()\n",
    "        pairs = 0\n",
    "        for val in self.ranks.values():\n",
    "            if val == 2:\n",
    "                pairs += 1\n",
    "        if one_pair and pairs == 1:\n",
    "            return True\n",
    "        elif not one_pair and pairs == 2:\n",
    "            return True\n",
    "        else:\n",
    "            return False\n",
    "        \n",
    "    def has_2pair(self):\n",
    "        return self.has_pair(one_pair = False)\n",
    "    \n",
    "    def has_3ofaKind(self):\n",
    "        self.rank_hist()\n",
    "        for val in self.ranks.values():\n",
    "            if val == 3:\n",
    "                return True\n",
    "        return False\n",
    "    \n",
    "    def has_straight(self):\n",
    "        self.rank_hist()\n",
    "        sorted_ranks = sorted(self.ranks.keys())\n",
    "        total = 0\n",
    "        for i in range(len(sorted_ranks)-1):\n",
    "            if sorted_ranks[i+1] == (sorted_ranks[i] + 1):\n",
    "                total += 1\n",
    "                if total >= 4:\n",
    "                    return True\n",
    "            else:\n",
    "                total = 0\n",
    "        return False           \n",
    "        \n",
    "    def has_fullHouse(self):\n",
    "        return self.has_pair() and self.has_3ofaKind()\n",
    "    \n",
    "    def has_4ofaKind(self):\n",
    "        self.rank_hist()\n",
    "        for val in self.ranks.values():\n",
    "            if val == 4:\n",
    "                return True\n",
    "        return False\n",
    "      \n",
    "    def has_straightFlush(self):\n",
    "        for i in itertools.combinations(self.cards, 5):\n",
    "            five_hand = PokerHand()\n",
    "            for card in i:\n",
    "                five_hand.add_card(card)\n",
    "            five_hand.sort()\n",
    "            if five_hand.has_straight() and five_hand.has_flush():\n",
    "                return True\n",
    "        return False \n",
    "        \n",
    "    def classify(self):\n",
    "        if self.has_straightFlush():\n",
    "            self.label = 'Straight Flush'\n",
    "        elif self.has_4ofaKind():\n",
    "            self.label = 'Four of a Kind'\n",
    "        elif self.has_fullHouse():\n",
    "            self.label = 'Full House'\n",
    "        elif self.has_straight():\n",
    "            self.label = 'Straight'\n",
    "        elif self.has_3ofaKind():\n",
    "            self.label = 'Three of a Kind'\n",
    "        elif self.has_2pair():\n",
    "            self.label = 'Two Pair'\n",
    "        elif self.has_pair():\n",
    "            self.label = 'Pair'\n",
    "        elif self.has_flush():\n",
    "            self.label = 'Flush'\n",
    "        else:\n",
    "            self.label = 'No Pair'"
   ]
  },
  {
   "cell_type": "code",
   "execution_count": 175,
   "metadata": {},
   "outputs": [],
   "source": [
    "card1 = Card(0, 3)\n",
    "card2 = Card(0, 4)\n",
    "card3 = Card(0, 5)\n",
    "card4 = Card(0, 6)\n",
    "card5 = Card(0, 7)\n",
    "card6 = Card(1, 8)\n",
    "card7 = Card(1, 9)\n",
    "\n",
    "cards = [card1, card2, card3, card4, card5, card6, card7]"
   ]
  },
  {
   "cell_type": "code",
   "execution_count": 180,
   "metadata": {},
   "outputs": [
    {
     "data": {
      "text/plain": [
       "'Straight Flush'"
      ]
     },
     "execution_count": 180,
     "metadata": {},
     "output_type": "execute_result"
    }
   ],
   "source": [
    "hand = PokerHand()\n",
    "for card in cards:\n",
    "    hand.add_card(card)\n",
    "hand.sort()\n",
    "hand.classify()\n",
    "hand.label"
   ]
  },
  {
   "cell_type": "code",
   "execution_count": 177,
   "metadata": {},
   "outputs": [],
   "source": [
    "flag = True\n",
    "while flag:\n",
    "    deck = Deck()\n",
    "    deck.shuffle()\n",
    "    for i in range(7):\n",
    "        hand = PokerHand()\n",
    "        deck.move_cards(hand, 7)\n",
    "        hand.sort()\n",
    "        if hand.has_straightFlush():\n",
    "            print(hand)\n",
    "            print('')\n",
    "            flag = False"
   ]
  },
  {
   "cell_type": "code",
   "execution_count": 191,
   "metadata": {},
   "outputs": [],
   "source": [
    "from collections import defaultdict\n",
    "\n",
    "def build_probs(trials):\n",
    "    probs = defaultdict(int)\n",
    "    for i in range(trials):\n",
    "        deck = Deck()\n",
    "        deck.shuffle()\n",
    "        for j in range(7):\n",
    "            hand = PokerHand()\n",
    "            deck.move_cards(hand, 7)\n",
    "            hand.sort()\n",
    "            hand.classify()\n",
    "            probs[hand.label] += 1\n",
    "    for key, val in probs.items():\n",
    "        probs[key] = val/(trials*7)\n",
    "    return probs"
   ]
  },
  {
   "cell_type": "code",
   "execution_count": 193,
   "metadata": {},
   "outputs": [
    {
     "data": {
      "text/plain": [
       "defaultdict(int,\n",
       "            {'Flush': 0.01,\n",
       "             'Four of a Kind': 0.0007142857142857143,\n",
       "             'Full House': 0.024857142857142855,\n",
       "             'No Pair': 0.20585714285714285,\n",
       "             'Pair': 0.4532857142857143,\n",
       "             'Straight': 0.042,\n",
       "             'Straight Flush': 0.00028571428571428574,\n",
       "             'Three of a Kind': 0.04428571428571428,\n",
       "             'Two Pair': 0.21871428571428572})"
      ]
     },
     "execution_count": 193,
     "metadata": {},
     "output_type": "execute_result"
    }
   ],
   "source": [
    "build_probs(1000)"
   ]
  },
  {
   "cell_type": "code",
   "execution_count": null,
   "metadata": {},
   "outputs": [],
   "source": []
  }
 ],
 "metadata": {
  "kernelspec": {
   "display_name": "Python 3",
   "language": "python",
   "name": "python3"
  },
  "language_info": {
   "codemirror_mode": {
    "name": "ipython",
    "version": 3
   },
   "file_extension": ".py",
   "mimetype": "text/x-python",
   "name": "python",
   "nbconvert_exporter": "python",
   "pygments_lexer": "ipython3",
   "version": "3.6.1"
  }
 },
 "nbformat": 4,
 "nbformat_minor": 2
}
