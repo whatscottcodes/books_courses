{
 "cells": [
  {
   "cell_type": "code",
   "execution_count": 1,
   "metadata": {},
   "outputs": [],
   "source": [
    "import datetime"
   ]
  },
  {
   "cell_type": "markdown",
   "metadata": {
    "collapsed": true
   },
   "source": [
    "## Chapter 16 - Classes and functions"
   ]
  },
  {
   "cell_type": "markdown",
   "metadata": {},
   "source": [
    "As another example of a programmer-defined type, we’ll define a class called Time that records the time of day. The class definition looks like this:"
   ]
  },
  {
   "cell_type": "code",
   "execution_count": 2,
   "metadata": {},
   "outputs": [],
   "source": [
    "class Time:\n",
    "    \"\"\"Represents the time of day.\n",
    "    attributes: hour, minute, second\"\"\""
   ]
  },
  {
   "cell_type": "code",
   "execution_count": 3,
   "metadata": {},
   "outputs": [],
   "source": [
    "time = Time()\n",
    "time.hour = 11\n",
    "time.minute = 59\n",
    "time.second = 30"
   ]
  },
  {
   "cell_type": "markdown",
   "metadata": {},
   "source": [
    "As an exercise, write a function called print_time that takes a Time object and prints it in the form hour:minute:second. *Hint:* the format sequence '%.2d' prints an integer using at least two digits, including a leading zero if necessary."
   ]
  },
  {
   "cell_type": "code",
   "execution_count": 4,
   "metadata": {},
   "outputs": [],
   "source": [
    "def print_time(t):\n",
    "    print('%2d:%2d:%2d' % (t.hour, t.minute, t.second))"
   ]
  },
  {
   "cell_type": "code",
   "execution_count": 5,
   "metadata": {},
   "outputs": [
    {
     "name": "stdout",
     "output_type": "stream",
     "text": [
      "11:59:30\n"
     ]
    }
   ],
   "source": [
    "print_time(time)"
   ]
  },
  {
   "cell_type": "markdown",
   "metadata": {},
   "source": [
    "Write a boolean function called is_after that takes two Time objects, t1 and t2, and returns True if t1 follows t2 chronologically and False otherwise.\n",
    "\n",
    "Challenge: don’t use an if statement."
   ]
  },
  {
   "cell_type": "code",
   "execution_count": 6,
   "metadata": {},
   "outputs": [],
   "source": [
    "def is_after(t1,t2):\n",
    "    t1 = str(t1.hour) + str(t1.minute) + str(t1.second)\n",
    "    t2 = str(t2.hour) + str(t2.minute) + str(t2.second)\n",
    "    return t1>t2"
   ]
  },
  {
   "cell_type": "markdown",
   "metadata": {},
   "source": [
    "In the next few sections, we’ll write two functions that add time values. They demonstrate two kinds of functions: **pure functions** and **modifiers**. \n",
    "\n",
    "They also demonstrate a development plan I’ll call **prototype and patch**, which is a way of tackling a complex problem by starting with a simple prototype and incrementally dealing with the complications.\n",
    "\n",
    "Here is a simple prototype of add_time:"
   ]
  },
  {
   "cell_type": "code",
   "execution_count": 7,
   "metadata": {},
   "outputs": [],
   "source": [
    "def add_time(t1,t2):\n",
    "    sum_ = Time()\n",
    "    sum_.hour = t1.hour + t2.hour\n",
    "    sum_.minute = t1.minute + t2.minute\n",
    "    sum_.second = t1.second + t2.second\n",
    "    return sum_"
   ]
  },
  {
   "cell_type": "markdown",
   "metadata": {},
   "source": [
    "The function creates a new Time object, initializes its attributes, and returns a reference to the new object. This is called a **pure function** because it does not modify any of the objects passed to it as arguments and it has no effect, like displaying a value or getting user input, other than returning a value."
   ]
  },
  {
   "cell_type": "code",
   "execution_count": 8,
   "metadata": {},
   "outputs": [
    {
     "name": "stdout",
     "output_type": "stream",
     "text": [
      "10:80: 0\n"
     ]
    }
   ],
   "source": [
    "start = Time()\n",
    "start.hour = 9\n",
    "start.minute = 45\n",
    "start.second = 0\n",
    "\n",
    "duration = Time()\n",
    "duration.hour = 1\n",
    "duration.minute = 35\n",
    "duration.second = 0\n",
    "\n",
    "done = add_time(start,duration)\n",
    "print_time(done)"
   ]
  },
  {
   "cell_type": "markdown",
   "metadata": {},
   "source": [
    "The problem is that this function does not deal with cases where the number of seconds or minutes adds up to more than sixty. When that happens, we have to “carry” the extra seconds into the minute column or the extra minutes into the hour column."
   ]
  },
  {
   "cell_type": "code",
   "execution_count": 9,
   "metadata": {},
   "outputs": [],
   "source": [
    "def add_time(t1,t2):\n",
    "    sum_ = Time()\n",
    "    sum_.hour = t1.hour + t2.hour\n",
    "    sum_.minute = t1.minute + t2.minute\n",
    "    sum_.second = t1.second + t2.second\n",
    "    \n",
    "    if sum_.second >= 60:\n",
    "        sum_.second -= 60\n",
    "        sum_.minute += 1\n",
    "    \n",
    "    if sum.minute >= 60:\n",
    "        sum_.minute -= 60\n",
    "        sum_.hour += 1\n",
    "    \n",
    "    return sum_"
   ]
  },
  {
   "cell_type": "markdown",
   "metadata": {},
   "source": [
    "Sometimes it is useful for a function to modify the objects it gets as  parameters. In that case, the changes are visible to the caller. Functions that work this way are called **modifiers**."
   ]
  },
  {
   "cell_type": "code",
   "execution_count": 10,
   "metadata": {},
   "outputs": [],
   "source": [
    "def increment(time, seconds):\n",
    "    time.second += seconds\n",
    "    \n",
    "    if time.second >= 60:\n",
    "        time.second -= 60\n",
    "        time.minute += 1\n",
    "    \n",
    "    if time.minute >= 60:\n",
    "        time.minute -= 60\n",
    "        time.hour += 1"
   ]
  },
  {
   "cell_type": "markdown",
   "metadata": {},
   "source": [
    "The first line performs the basic operation; the remainder deals with the special cases we saw before.\n",
    "\n",
    "Is this function correct? What happens if seconds is much greater than sixty?\n",
    "\n",
    "In that case, it is not enough to carry once; we have to keep doing it until  time.second is less than sixty. One solution is to replace the if statements  with while statements. That would make the function correct, but not very efficient. \n",
    "\n",
    "As an exercise, write a correct version of increment that doesn’t contain any loops."
   ]
  },
  {
   "cell_type": "code",
   "execution_count": 11,
   "metadata": {},
   "outputs": [],
   "source": [
    "def increment(time,seconds):\n",
    "    time.second += seconds\n",
    "    if time.second >= 60:\n",
    "        time.minute += time.second // 60\n",
    "        time.second = (time.second % 60)\n",
    "        \n",
    "    if time.minute >= 60:\n",
    "        time.hour += time.minute // 60\n",
    "        time.minute = (time.second % 60)"
   ]
  },
  {
   "cell_type": "code",
   "execution_count": 12,
   "metadata": {},
   "outputs": [
    {
     "name": "stdout",
     "output_type": "stream",
     "text": [
      "11:59:30\n",
      "12:30:30\n"
     ]
    }
   ],
   "source": [
    "print_time(time)\n",
    "increment(time, 120)\n",
    "print_time(time)"
   ]
  },
  {
   "cell_type": "markdown",
   "metadata": {},
   "source": [
    "In general, I recommend that you write pure functions whenever it is reasonable and resort to modifiers only if there is a compelling advantage. This approach might be called a **functional programming** style.\n",
    "\n",
    "As an exercise, write a “pure” version of increment that creates and returns a new Time object rather than modifying the parameter."
   ]
  },
  {
   "cell_type": "code",
   "execution_count": 13,
   "metadata": {},
   "outputs": [],
   "source": [
    "def increment(time,seconds):\n",
    "    new_time = Time()\n",
    "    new_time.second = time.second + seconds\n",
    "    new_time.hour = time.hour\n",
    "    new_time.minute = time.minute\n",
    "    if new_time.second >= 60:\n",
    "        new_time.minute += (new_time.second // 60)\n",
    "        new_time.second = (new_time.second % 60)\n",
    "        \n",
    "    if new_time.minute >= 60:\n",
    "        new_time.hour += (new_time.minute // 60)\n",
    "        new_time.minute = (new_time.second % 60)\n",
    "        \n",
    "    return new_time"
   ]
  },
  {
   "cell_type": "code",
   "execution_count": 14,
   "metadata": {},
   "outputs": [
    {
     "name": "stdout",
     "output_type": "stream",
     "text": [
      "12:30:30\n",
      "12:30:30\n",
      "12:32:30\n"
     ]
    }
   ],
   "source": [
    "print_time(time)\n",
    "new_time = increment(time,120)\n",
    "print_time(time)\n",
    "print_time(new_time)"
   ]
  },
  {
   "cell_type": "markdown",
   "metadata": {},
   "source": [
    "The development plan I am demonstrating is called **prototype and patch**. For each function, I wrote a prototype that performed the basic calculation and then tested it, patching errors along the way.\n",
    "\n",
    "This approach can be effective, especially if you don’t yet have a deep understanding of the problem. But incremental corrections can generate code that is unnecessarily complicated—since it deals with many special cases—and unreliable—since it is hard to know if you have found all the errors."
   ]
  },
  {
   "cell_type": "markdown",
   "metadata": {},
   "source": [
    "An alternative is **designed development**, in which high-level insight into the problem can make the programming much easier. In this case, the insight is that a Time object is really a three-digit number in base 60."
   ]
  },
  {
   "cell_type": "markdown",
   "metadata": {},
   "source": [
    "The second attribute is the “ones column”, the minute attribute is the “sixties column”, and the hour attribute is the “thirty-six hundreds column”.\n",
    "\n",
    "\n",
    "When we wrote add_time and increment, we were effectively doing addition in base 60, which is why we had to carry from one  column to the next.\n",
    "\n",
    "This observation suggests another approach to the whole problem—we can convert Time objects to integers and take advantage of the fact that the computer knows how to do integer arithmetic."
   ]
  },
  {
   "cell_type": "code",
   "execution_count": 15,
   "metadata": {},
   "outputs": [],
   "source": [
    "def time_to_int(time):\n",
    "    minutes = time.hour * 60 + time.minute\n",
    "    seconds = minutes * 60 + time.second\n",
    "    return seconds"
   ]
  },
  {
   "cell_type": "markdown",
   "metadata": {},
   "source": [
    "And here is a function that converts an integer to a Time (recall that **divmod** divides the first\n",
    "argument by the second and returns the quotient and remainder as a tuple)."
   ]
  },
  {
   "cell_type": "code",
   "execution_count": 16,
   "metadata": {},
   "outputs": [],
   "source": [
    "def int_to_time(seconds):\n",
    "    time = Time()\n",
    "    minutes, time.second = divmod(seconds, 60)\n",
    "    time.hour, time.minute = divmod(minutes, 60)\n",
    "    return time"
   ]
  },
  {
   "cell_type": "code",
   "execution_count": 17,
   "metadata": {},
   "outputs": [],
   "source": [
    "def add_time(t1,t2):\n",
    "    seconds = time_to_int(t1) + time_to_int(t2)\n",
    "    return into_to_time(seconds)"
   ]
  },
  {
   "cell_type": "markdown",
   "metadata": {},
   "source": [
    "This version is shorter than the original, and easier to verify. As an exercise, rewrite\n",
    "increment using time_to_int and int_to_time."
   ]
  },
  {
   "cell_type": "code",
   "execution_count": 18,
   "metadata": {},
   "outputs": [],
   "source": [
    "def increment(time,seconds):\n",
    "    total_seconds = time_to_int(time) + seconds\n",
    "    return int_to_time(total_seconds)"
   ]
  },
  {
   "cell_type": "code",
   "execution_count": 19,
   "metadata": {},
   "outputs": [
    {
     "name": "stdout",
     "output_type": "stream",
     "text": [
      "12:30:30\n",
      "12:30:30\n",
      "12:32:30\n"
     ]
    }
   ],
   "source": [
    "print_time(time)\n",
    "new_time = increment(time,120)\n",
    "print_time(time)\n",
    "print_time(new_time)"
   ]
  },
  {
   "cell_type": "markdown",
   "metadata": {},
   "source": [
    "**Debugging**\n",
    "\n",
    "A Time object is well-formed if the values of minute and second are between 0 and 60 (including 0 but not 60) and if hour is positive. hour and minute should be integral values, but we might allow second to have a fraction part.\n",
    "\n",
    "Requirements like these are called **invariants** because they should always be true. To put it a different way, if they are not true, something has gone wrong."
   ]
  },
  {
   "cell_type": "markdown",
   "metadata": {},
   "source": [
    "Writing code to check invariants can help detect errors and find their causes. \n",
    "\n",
    "For example, you might have a function like valid_time that takes a Time object and returns False if it violates an invariant:"
   ]
  },
  {
   "cell_type": "code",
   "execution_count": 20,
   "metadata": {},
   "outputs": [],
   "source": [
    "def valid_time(time):\n",
    "    if time.hour < 0 or time.minute < 0 or time.second < 0:\n",
    "        return False\n",
    "    if time.minute >= 60 or time.second >= 60:\n",
    "        return False\n",
    "    return True"
   ]
  },
  {
   "cell_type": "markdown",
   "metadata": {},
   "source": [
    "At the beginning of each function you could check the arguments to make sure they are valid:"
   ]
  },
  {
   "cell_type": "code",
   "execution_count": 21,
   "metadata": {},
   "outputs": [],
   "source": [
    "def add_time(t1,t2):\n",
    "    if not valid_time(t1) or not valid_time(t2):\n",
    "        raise ValueError('invalid Time object in add_time')\n",
    "    seconds = time_to_int(t1) + time_to_int(t2)\n",
    "    return int_to_time(seconds)"
   ]
  },
  {
   "cell_type": "markdown",
   "metadata": {},
   "source": [
    "Or you could use an assert statement, which checks a given invariant and raises an exception if it fails:"
   ]
  },
  {
   "cell_type": "code",
   "execution_count": 22,
   "metadata": {},
   "outputs": [],
   "source": [
    "def add_time(t1, t2):\n",
    "    assert valid_time(t1) and valid_time(t2)\n",
    "    seconds = time_to_int(t1) + time_to_int(t2)\n",
    "    return int_to_time(seconds)"
   ]
  },
  {
   "cell_type": "markdown",
   "metadata": {},
   "source": [
    "**assert statements** are useful because they distinguish code that deals with normal conditions from code that checks for errors."
   ]
  },
  {
   "cell_type": "markdown",
   "metadata": {},
   "source": [
    "### Glossary\n",
    "\n",
    "**prototype and patch:** A development plan that involves writing a rough draft of a program, testing, and correcting errors as they are found.\n",
    "\n",
    "\n",
    "**designed development:** A development plan that involves high-level insight into the problem and more planning than incremental development or prototype development.\n",
    "\n",
    "\n",
    "**pure function:** A function that does not modify any of the objects it receives as arguments. Most pure functions are fruitful.\n",
    "\n",
    "\n",
    "**modifier:** A function that changes one or more of the objects it receives as arguments. Most modifiers are void; that is, they return None.\n",
    "\n",
    "\n",
    "**functional programming style:** A style of program design in which the majority of functions are pure.\n",
    "\n",
    "\n",
    "**invariant:** A condition that should always be true during the execution of a program.\n",
    "\n",
    "\n",
    "**assert statement:** A statement that check a condition and raises an exception if it fails."
   ]
  },
  {
   "cell_type": "markdown",
   "metadata": {},
   "source": [
    "### Excercises\n",
    "\n",
    "**Exercise 16.1.** Write a function called mul_time that takes a Time object and a number and returns\n",
    "a new Time object that contains the product of the original Time and the number.\n",
    "\n",
    "Then use mul_time to write a function that takes a Time object that represents the finishing time\n",
    "in a race, and a number that represents the distance, and returns a Time object that represents the\n",
    "average pace (time per mile)."
   ]
  },
  {
   "cell_type": "code",
   "execution_count": 23,
   "metadata": {},
   "outputs": [],
   "source": [
    "def mul_time(time, n):\n",
    "    assert valid_time(time)\n",
    "    seconds = time_to_int(time) * n\n",
    "    return int_to_time(seconds)"
   ]
  },
  {
   "cell_type": "code",
   "execution_count": 24,
   "metadata": {},
   "outputs": [
    {
     "name": "stdout",
     "output_type": "stream",
     "text": [
      "50: 2: 0\n"
     ]
    }
   ],
   "source": [
    "print_time(mul_time(time, 4))"
   ]
  },
  {
   "cell_type": "code",
   "execution_count": 25,
   "metadata": {},
   "outputs": [],
   "source": [
    "def avg_pace(time, dist):\n",
    "    return mul_time(time, (1/dist))    "
   ]
  },
  {
   "cell_type": "code",
   "execution_count": 26,
   "metadata": {},
   "outputs": [],
   "source": [
    "time = Time()\n",
    "time.hour = 3\n",
    "time.minute = 25\n",
    "time.second = 33.0\n",
    "\n",
    "dist = 13"
   ]
  },
  {
   "cell_type": "code",
   "execution_count": 27,
   "metadata": {},
   "outputs": [
    {
     "name": "stdout",
     "output_type": "stream",
     "text": [
      " 0:15:48\n"
     ]
    }
   ],
   "source": [
    "print_time(avg_pace(time, dist))"
   ]
  },
  {
   "cell_type": "markdown",
   "metadata": {},
   "source": [
    "**Exercise 16.2.** The datetime module provides time objects that are similar to the Time objects in this chapter, but they provide a rich set of methods and operators. Read the documentation at http://docs.python.org/3/library/datetime.html.\n",
    "\n",
    "1. Use the datetime module to write a program that gets the current date and prints the day of the week.\n",
    "2. Write a program that takes a birthday as input and prints the user’s age and the number of days, hours, minutes and seconds until their next birthday.\n",
    "3. For two people born on different days, there is a day when one is twice as old as the other. That’s their Double Day. Write a program that takes two birthdays and computes their Double Day.\n",
    "4. For a little more challenge, write the more general version that computes the day when one person is n times older than the other."
   ]
  },
  {
   "cell_type": "code",
   "execution_count": 28,
   "metadata": {},
   "outputs": [],
   "source": [
    "weekdays = {0:'Monday', 1:'Tuesday', 2:'Wednesday', 3: 'Thursday', 4:'Friday', 5:'Saturday',\\\n",
    "           6:'Sunday'}\n",
    "\n",
    "def print_weekday():\n",
    "    today = datetime.date.today()\n",
    "    print(weekdays[today.weekday()])"
   ]
  },
  {
   "cell_type": "code",
   "execution_count": 29,
   "metadata": {},
   "outputs": [
    {
     "name": "stdout",
     "output_type": "stream",
     "text": [
      "Saturday\n"
     ]
    }
   ],
   "source": [
    "print_weekday()"
   ]
  },
  {
   "cell_type": "code",
   "execution_count": 30,
   "metadata": {},
   "outputs": [],
   "source": [
    "def read_timedelta(td):\n",
    "    total_seconds = td.total_seconds()\n",
    "    seconds = total_seconds % 60\n",
    "    minutes = total_seconds // 60\n",
    "    hours = minutes // 60\n",
    "    minutes = minutes % 60\n",
    "    days = hours // 24\n",
    "    hours = hours % 24\n",
    "    return int(days), int(hours), int(minutes), int(seconds)\n",
    "\n",
    "def is_date(date):\n",
    "    try:\n",
    "        month, day, year = (int(date[:2]), int(date[3:5]), int(date[6:]))\n",
    "    except ValueError:\n",
    "        return False\n",
    "    return True\n",
    "        \n",
    "\n",
    "def birthday_countdown():\n",
    "    birthday = input(\"Please enter your birthday(00/00/0000): \")\n",
    "    if not is_date(birthday):\n",
    "        print('This is not a date!')\n",
    "        return None\n",
    "    month, day, year = (int(birthday[:2]), int(birthday[3:5]), int(birthday[6:]))\n",
    "    birthday = datetime.datetime(year, month, day, 0,0,0)\n",
    "    today = datetime.datetime.today()\n",
    "    age = today.year - birthday.year\n",
    "    birthday = birthday.replace(year=today.year)\n",
    "    if birthday < today:\n",
    "        birthday = birthday.replace(year=today.year+1)\n",
    "    else:\n",
    "        age -= 1\n",
    "    time_to_birthday = abs(birthday - today)\n",
    "    days, hours, minutes, seconds = read_timedelta(time_to_birthday)\n",
    "    print ('You are %d years old and your birthday is in %d days, %d hours, %d minutes, and %d seconds!'\\\n",
    "           % (age, days, hours, minutes, seconds))"
   ]
  },
  {
   "cell_type": "code",
   "execution_count": 31,
   "metadata": {},
   "outputs": [
    {
     "name": "stdout",
     "output_type": "stream",
     "text": [
      "Please enter your birthday(00/00/0000): 09/14/1988\n",
      "You are 29 years old and your birthday is in 222 days, 0 hours, 33 minutes, and 34 seconds!\n"
     ]
    }
   ],
   "source": [
    "birthday_countdown()"
   ]
  },
  {
   "cell_type": "code",
   "execution_count": 43,
   "metadata": {},
   "outputs": [],
   "source": [
    "birthday = datetime.date(1988, 9, 14,)\n",
    "birthday2 = datetime.date(1989, 9, 14)"
   ]
  },
  {
   "cell_type": "code",
   "execution_count": 154,
   "metadata": {},
   "outputs": [],
   "source": [
    "def double_day(birthday, birthday2):\n",
    "    if birthday > birthday2:\n",
    "        print (\"Enter the later birthday second!\")\n",
    "        return None\n",
    "    diff = birthday2 - birthday\n",
    "    double_day = birthday2 + diff\n",
    "    return double_day"
   ]
  },
  {
   "cell_type": "code",
   "execution_count": 155,
   "metadata": {},
   "outputs": [],
   "source": [
    "double_day_ = double_day(birthday, birthday2)"
   ]
  },
  {
   "cell_type": "code",
   "execution_count": 156,
   "metadata": {},
   "outputs": [],
   "source": [
    "def n_day(birthday, birthday2, n):\n",
    "    if birthday > birthday2:\n",
    "        print (\"Enter the later birthday second!\")\n",
    "        return None\n",
    "    diff = (birthday2 - birthday) * n\n",
    "    double_day = birthday2 + diff\n",
    "    return double_day"
   ]
  },
  {
   "cell_type": "code",
   "execution_count": 157,
   "metadata": {},
   "outputs": [],
   "source": [
    "n_day_ = n_day(birthday, birthday2, 3)"
   ]
  },
  {
   "cell_type": "code",
   "execution_count": 158,
   "metadata": {},
   "outputs": [],
   "source": [
    "def check_n_day(birthday, birthday2, n_day, n):\n",
    "    age = n_day - birthday\n",
    "    age2 = n_day - birthday2\n",
    "    return (age) == (age2*n)"
   ]
  },
  {
   "cell_type": "code",
   "execution_count": 159,
   "metadata": {},
   "outputs": [
    {
     "name": "stdout",
     "output_type": "stream",
     "text": [
      "True\n",
      "False\n"
     ]
    }
   ],
   "source": [
    "print(find_age(birthday, birthday2, double_day_, 2))\n",
    "print(find_age(birthday, birthday2, n_day_, 3))"
   ]
  },
  {
   "cell_type": "code",
   "execution_count": null,
   "metadata": {},
   "outputs": [],
   "source": []
  }
 ],
 "metadata": {
  "kernelspec": {
   "display_name": "Python 3",
   "language": "python",
   "name": "python3"
  },
  "language_info": {
   "codemirror_mode": {
    "name": "ipython",
    "version": 3
   },
   "file_extension": ".py",
   "mimetype": "text/x-python",
   "name": "python",
   "nbconvert_exporter": "python",
   "pygments_lexer": "ipython3",
   "version": "3.6.1"
  }
 },
 "nbformat": 4,
 "nbformat_minor": 2
}
