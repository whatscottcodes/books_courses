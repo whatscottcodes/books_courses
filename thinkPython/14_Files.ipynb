{
 "cells": [
  {
   "cell_type": "markdown",
   "metadata": {
    "collapsed": true
   },
   "source": [
    "## Chapter 14 - Files"
   ]
  },
  {
   "cell_type": "markdown",
   "metadata": {},
   "source": [
    "Most of the programs we have seen so far are **transient** in the sense that they run for a short time and produce some output, but when they end, their data disappears. If you run the program again, it starts with a clean slate.\n",
    "\n",
    "Other programs are **persistent**: they run for a long time (or all the time); they keep at least some of their data in permanent storage (a hard drive, for example); and if they shut down and restart, they pick up where they left off."
   ]
  },
  {
   "cell_type": "markdown",
   "metadata": {},
   "source": [
    "We saw how to open and read a text file in Section 9.1.\n",
    "\n",
    "To write a file, you have to **open it with mode 'w'** as a second parameter:"
   ]
  },
  {
   "cell_type": "code",
   "execution_count": 1,
   "metadata": {},
   "outputs": [],
   "source": [
    "fout = open('data/output.txt', 'w')"
   ]
  },
  {
   "cell_type": "markdown",
   "metadata": {},
   "source": [
    "If the file already exists, opening it in write mode clears out the old data and starts fresh, so be careful! If the file doesn’t exist, a new one is created. <-neat!\n",
    "\n",
    "*open* returns a file object that provides methods for working with the file. The write method puts data into the file."
   ]
  },
  {
   "cell_type": "code",
   "execution_count": 2,
   "metadata": {},
   "outputs": [
    {
     "data": {
      "text/plain": [
       "24"
      ]
     },
     "execution_count": 2,
     "metadata": {},
     "output_type": "execute_result"
    }
   ],
   "source": [
    "line1 = \"This here's the wattle,\\n\"\n",
    "fout.write(line1)"
   ]
  },
  {
   "cell_type": "markdown",
   "metadata": {},
   "source": [
    "The return value is the number of characters that were written. The file object keeps track of where it is, so if you call write again, it adds the new data to the end of the file."
   ]
  },
  {
   "cell_type": "code",
   "execution_count": 3,
   "metadata": {},
   "outputs": [
    {
     "data": {
      "text/plain": [
       "24"
      ]
     },
     "execution_count": 3,
     "metadata": {},
     "output_type": "execute_result"
    }
   ],
   "source": [
    "line2 = \"the emblem of our land.\\n\"\n",
    "fout.write(line2)"
   ]
  },
  {
   "cell_type": "markdown",
   "metadata": {},
   "source": [
    "When you are done writing, you should close the file.\n",
    "\n",
    "If you don’t close the file, it gets closed for you when the program ends."
   ]
  },
  {
   "cell_type": "code",
   "execution_count": 4,
   "metadata": {},
   "outputs": [],
   "source": [
    "fout.close()"
   ]
  },
  {
   "cell_type": "markdown",
   "metadata": {},
   "source": [
    "The argument of write has to be a string, so if we want to put other values in a file, we have to convert them to strings. The easiest way to do that is with *str*."
   ]
  },
  {
   "cell_type": "markdown",
   "metadata": {},
   "source": [
    "An alternative is to use the **format operator**, %. When applied to integers, % is the modulus operator. But when the first operand is a string, % is the format operator.\n",
    "\n",
    "The first operand is the format string, which contains one or more format sequences, which specify how the second operand is formatted. The result is a string.\n",
    "\n",
    "For example, the format sequence '%d' means that the second operand should be formatted as a decimal integer:"
   ]
  },
  {
   "cell_type": "code",
   "execution_count": 5,
   "metadata": {},
   "outputs": [
    {
     "data": {
      "text/plain": [
       "'42 camels'"
      ]
     },
     "execution_count": 5,
     "metadata": {},
     "output_type": "execute_result"
    }
   ],
   "source": [
    "num_of_camels = 42\n",
    "'%d camels' % num_of_camels"
   ]
  },
  {
   "cell_type": "code",
   "execution_count": 6,
   "metadata": {},
   "outputs": [
    {
     "data": {
      "text/plain": [
       "'I have spotted 42 camels.'"
      ]
     },
     "execution_count": 6,
     "metadata": {},
     "output_type": "execute_result"
    }
   ],
   "source": [
    "'I have spotted %d camels.' % num_of_camels"
   ]
  },
  {
   "cell_type": "markdown",
   "metadata": {},
   "source": [
    "If there is more than one format sequence in the string, the second argument has to be a tuple. Each format sequence is matched with an element of the tuple, in order.\n",
    "\n",
    "The following example uses **'%d'** to format an **integer**, **'%g'** to format a **floating-point** number, and **'%s'** to format a **string**:"
   ]
  },
  {
   "cell_type": "code",
   "execution_count": 7,
   "metadata": {},
   "outputs": [
    {
     "data": {
      "text/plain": [
       "'In 3 years I have spotted 0.1 camels.'"
      ]
     },
     "execution_count": 7,
     "metadata": {},
     "output_type": "execute_result"
    }
   ],
   "source": [
    "'In %d years I have spotted %g %s.' % (3, 0.1, 'camels')"
   ]
  },
  {
   "cell_type": "markdown",
   "metadata": {},
   "source": [
    "Files are organized into directories (also called “folders”). Every running program has a “current directory”, which is the default directory for most operations. For example, when you open a file for reading, Python looks for it in the current directory."
   ]
  },
  {
   "cell_type": "markdown",
   "metadata": {},
   "source": [
    "The **os module** provides functions for working with files and directories; os.getcwd returns the name of the current directory:"
   ]
  },
  {
   "cell_type": "code",
   "execution_count": 8,
   "metadata": {},
   "outputs": [
    {
     "data": {
      "text/plain": [
       "'/home/scott/ds/thinkPython'"
      ]
     },
     "execution_count": 8,
     "metadata": {},
     "output_type": "execute_result"
    }
   ],
   "source": [
    "import os\n",
    "os.getcwd()"
   ]
  },
  {
   "cell_type": "markdown",
   "metadata": {},
   "source": [
    "A path that begins with / does not depend on the current directory; it is called an **absolute path**. To find the absolute path to a file, you can use **os.path.abspath**:"
   ]
  },
  {
   "cell_type": "code",
   "execution_count": 11,
   "metadata": {},
   "outputs": [
    {
     "data": {
      "text/plain": [
       "'/home/scott/ds/thinkPython/data/xmas.txt'"
      ]
     },
     "execution_count": 11,
     "metadata": {},
     "output_type": "execute_result"
    }
   ],
   "source": [
    "os.path.abspath('data/xmas.txt')"
   ]
  },
  {
   "cell_type": "markdown",
   "metadata": {},
   "source": [
    "**os.path.exists** checks whether a file or directory exists:"
   ]
  },
  {
   "cell_type": "code",
   "execution_count": 10,
   "metadata": {},
   "outputs": [
    {
     "data": {
      "text/plain": [
       "False"
      ]
     },
     "execution_count": 10,
     "metadata": {},
     "output_type": "execute_result"
    }
   ],
   "source": [
    "os.path.exists('data/xmas.txt')"
   ]
  },
  {
   "cell_type": "markdown",
   "metadata": {},
   "source": [
    "If it exists, **os.path.isdir** checks whether it’s a directory:"
   ]
  },
  {
   "cell_type": "code",
   "execution_count": 11,
   "metadata": {},
   "outputs": [
    {
     "data": {
      "text/plain": [
       "False"
      ]
     },
     "execution_count": 11,
     "metadata": {},
     "output_type": "execute_result"
    }
   ],
   "source": [
    "os.path.isdir('data/xmas.txt')"
   ]
  },
  {
   "cell_type": "code",
   "execution_count": 12,
   "metadata": {},
   "outputs": [
    {
     "data": {
      "text/plain": [
       "True"
      ]
     },
     "execution_count": 12,
     "metadata": {},
     "output_type": "execute_result"
    }
   ],
   "source": [
    "os.path.isdir('/home')"
   ]
  },
  {
   "cell_type": "markdown",
   "metadata": {},
   "source": [
    "Similarly, **os.path.isfile** checks whether it’s a file."
   ]
  },
  {
   "cell_type": "code",
   "execution_count": 13,
   "metadata": {},
   "outputs": [
    {
     "data": {
      "text/plain": [
       "True"
      ]
     },
     "execution_count": 13,
     "metadata": {},
     "output_type": "execute_result"
    }
   ],
   "source": [
    "os.path.isfile('data/xmas.txt')"
   ]
  },
  {
   "cell_type": "code",
   "execution_count": 14,
   "metadata": {},
   "outputs": [
    {
     "data": {
      "text/plain": [
       "False"
      ]
     },
     "execution_count": 14,
     "metadata": {},
     "output_type": "execute_result"
    }
   ],
   "source": [
    "os.path.isfile('/home')"
   ]
  },
  {
   "cell_type": "markdown",
   "metadata": {},
   "source": [
    "**os.listdir** returns a list of the files (and other directories) in the given directory."
   ]
  },
  {
   "cell_type": "code",
   "execution_count": 15,
   "metadata": {},
   "outputs": [
    {
     "data": {
      "text/plain": [
       "['captions.dat',\n",
       " 'gucci.txt',\n",
       " 'Chapter1.ipynb',\n",
       " 'words2.txt',\n",
       " 'Chapter3.ipynb',\n",
       " 'anagram_sets.py',\n",
       " 'gucci lime.txt',\n",
       " 'captions.dir',\n",
       " 'Chapter6.ipynb',\n",
       " 'README.md',\n",
       " 'Chapter7.ipynb',\n",
       " 'Chapter11.ipynb',\n",
       " 'c06d.txt',\n",
       " 'Chapter14.ipynb',\n",
       " 'Chapter4.ipynb',\n",
       " 'Chapter9.ipynb',\n",
       " 'Chapter13.ipynb',\n",
       " 'Chapter10.ipynb',\n",
       " 'captions.bak',\n",
       " 'Chapter5.ipynb',\n",
       " 'xmas.txt',\n",
       " 'output.txt',\n",
       " 'Chapter8.ipynb',\n",
       " 'Chapter12.ipynb',\n",
       " '.ipynb_checkpoints',\n",
       " 'Chapter2.ipynb',\n",
       " 'pg23301.txt',\n",
       " 'words.txt']"
      ]
     },
     "execution_count": 15,
     "metadata": {},
     "output_type": "execute_result"
    }
   ],
   "source": [
    "os.listdir(os.getcwd())"
   ]
  },
  {
   "cell_type": "code",
   "execution_count": 12,
   "metadata": {},
   "outputs": [
    {
     "name": "stdout",
     "output_type": "stream",
     "text": [
      "/home/scott/ds/thinkPython/book_stats.py\n",
      "/home/scott/ds/thinkPython/07_Iteration.ipynb\n",
      "/home/scott/ds/thinkPython/Chapter19.ipynb\n",
      "/home/scott/ds/thinkPython/03_Functions.ipynb\n",
      "/home/scott/ds/thinkPython/Chapter16.ipynb\n",
      "/home/scott/ds/thinkPython/12_Tuples.ipynb\n",
      "/home/scott/ds/thinkPython/11_Dictionaries.ipynb\n",
      "/home/scott/ds/thinkPython/13_Case_Study_Data_Structure_Selection.ipynb\n",
      "/home/scott/ds/thinkPython/06_Fruitful Functions.ipynb\n",
      "/home/scott/ds/thinkPython/.~lock.thinkPython2.pdf#\n",
      "/home/scott/ds/thinkPython/anagram_sets.py\n",
      "/home/scott/ds/thinkPython/13_Data_Structure_Module.ipynb\n",
      "/home/scott/ds/thinkPython/thinkPython2.pdf\n",
      "/home/scott/ds/thinkPython/Chapter4_code.py\n",
      "/home/scott/ds/thinkPython/Chapter18.ipynb\n",
      "/home/scott/ds/thinkPython/Chapter15.ipynb\n",
      "/home/scott/ds/thinkPython/02_Variables_Expressions_and_Statements.ipynb\n",
      "/home/scott/ds/thinkPython/14_Files.ipynb\n",
      "/home/scott/ds/thinkPython/04_Case_Study_Interface_Design.ipynb\n",
      "/home/scott/ds/thinkPython/01_ The_Way_of_the_Program.ipynb\n",
      "/home/scott/ds/thinkPython/09-Case_Study_Word_Play.ipynb\n",
      "/home/scott/ds/thinkPython/Chapter17.ipynb\n",
      "/home/scott/ds/thinkPython/10_Lists.ipynb\n",
      "/home/scott/ds/thinkPython/05_Conditionals_and_Recursion.ipynb\n",
      "/home/scott/ds/thinkPython/08_Strings.ipynb\n",
      "/home/scott/ds/thinkPython/__pycache__/book_stats.cpython-36.pyc\n",
      "/home/scott/ds/thinkPython/data/words.txt\n",
      "/home/scott/ds/thinkPython/data/words2.txt\n",
      "/home/scott/ds/thinkPython/data/output.txt\n",
      "/home/scott/ds/thinkPython/data/gucci.txt\n",
      "/home/scott/ds/thinkPython/data/poems2.txt\n",
      "/home/scott/ds/thinkPython/data/xmas.txt\n",
      "/home/scott/ds/thinkPython/data/poems.txt\n",
      "/home/scott/ds/thinkPython/data/c06d.txt\n",
      "/home/scott/ds/thinkPython/data/pg23301.txt\n",
      "/home/scott/ds/thinkPython/.ipynb_checkpoints/04_Case_Study_Interface_Design-checkpoint.ipynb\n",
      "/home/scott/ds/thinkPython/.ipynb_checkpoints/Chapter18-checkpoint.ipynb\n",
      "/home/scott/ds/thinkPython/.ipynb_checkpoints/03_Functions-checkpoint.ipynb\n",
      "/home/scott/ds/thinkPython/.ipynb_checkpoints/11_Dictionaries-checkpoint.ipynb\n",
      "/home/scott/ds/thinkPython/.ipynb_checkpoints/13_Case_Study_Data_Structure_Selection-checkpoint.ipynb\n",
      "/home/scott/ds/thinkPython/.ipynb_checkpoints/01_ The_Way_of_the_Program-checkpoint.ipynb\n",
      "/home/scott/ds/thinkPython/.ipynb_checkpoints/13_Data_Structure_Module-checkpoint.ipynb\n",
      "/home/scott/ds/thinkPython/.ipynb_checkpoints/12_Tuples-checkpoint.ipynb\n",
      "/home/scott/ds/thinkPython/.ipynb_checkpoints/02_Variables_Expressions_and_Statements-checkpoint.ipynb\n",
      "/home/scott/ds/thinkPython/.ipynb_checkpoints/07_Iteration-checkpoint.ipynb\n",
      "/home/scott/ds/thinkPython/.ipynb_checkpoints/Chapter17-checkpoint.ipynb\n",
      "/home/scott/ds/thinkPython/.ipynb_checkpoints/Chapter15-checkpoint.ipynb\n",
      "/home/scott/ds/thinkPython/.ipynb_checkpoints/06_Fruitful Functions-checkpoint.ipynb\n",
      "/home/scott/ds/thinkPython/.ipynb_checkpoints/05_Conditionals_and_Recursion-checkpoint.ipynb\n",
      "/home/scott/ds/thinkPython/.ipynb_checkpoints/09-Case_Study_Word_Play-checkpoint.ipynb\n",
      "/home/scott/ds/thinkPython/.ipynb_checkpoints/08_Strings-checkpoint.ipynb\n",
      "/home/scott/ds/thinkPython/.ipynb_checkpoints/10_Lists-checkpoint.ipynb\n",
      "/home/scott/ds/thinkPython/.idea/workspace.xml\n",
      "/home/scott/ds/thinkPython/.idea/thinkPython.iml\n",
      "/home/scott/ds/thinkPython/.idea/misc.xml\n",
      "/home/scott/ds/thinkPython/.idea/modules.xml\n"
     ]
    }
   ],
   "source": [
    "for root, dirs, files in os.walk('/home/scott/ds/thinkPython'):\n",
    "    for file_ in files:\n",
    "        print(os.path.join(root, file_))"
   ]
  },
  {
   "cell_type": "markdown",
   "metadata": {},
   "source": [
    "A lot of things can go wrong when you try to read and write files. If you try to open a file that doesn’t exist, you get an **IOError**."
   ]
  },
  {
   "cell_type": "markdown",
   "metadata": {},
   "source": [
    "To avoid errors, you could use functions like os.path.exists and os.path.isfile, but it would take a lot of time and code to check all the possibilities."
   ]
  },
  {
   "cell_type": "markdown",
   "metadata": {},
   "source": [
    "It is better to go ahead and try—and deal with problems if they happen—which is exactly what the **try statement** does. The syntax is similar to an if...else statement:"
   ]
  },
  {
   "cell_type": "code",
   "execution_count": 13,
   "metadata": {},
   "outputs": [
    {
     "name": "stdout",
     "output_type": "stream",
     "text": [
      "Something went wrong.\n"
     ]
    }
   ],
   "source": [
    "try:\n",
    "    fin = open('bad_file')\n",
    "except:\n",
    "    print('Something went wrong.')"
   ]
  },
  {
   "cell_type": "markdown",
   "metadata": {},
   "source": [
    "Python starts by executing the try clause. If all goes well, it skips the except clause and proceeds. If an exception occurs, it jumps out of the try clause and runs the except clause.\n",
    "\n",
    "Handling an exception with a try statement is called **catching an exception**. In this example, the except clause prints an error message that is not very helpful. In general, catching an exception gives you a chance to fix the problem, or try again, or at least end the program gracefully."
   ]
  },
  {
   "cell_type": "markdown",
   "metadata": {},
   "source": [
    "A **database** is a file that is organized for storing data. Many databases are organized like a dictionary in the sense that they map from keys to values."
   ]
  },
  {
   "cell_type": "markdown",
   "metadata": {},
   "source": [
    "The module dbm provides an interface for creating and updating database files. As an example, I’ll create a database that contains captions for image files.\n",
    "\n",
    "Opening a database is similar to opening other files:"
   ]
  },
  {
   "cell_type": "code",
   "execution_count": 45,
   "metadata": {},
   "outputs": [],
   "source": [
    "import dbm\n",
    "\n",
    "db = dbm.open('data/captions', 'c')"
   ]
  },
  {
   "cell_type": "markdown",
   "metadata": {},
   "source": [
    "The mode** 'c'** means that the database should be created if it doesn’t already exist. The result is a database object that can be used (for most operations) like a dictionary.\n",
    "\n",
    "When you create a new item, dbm updates the database file."
   ]
  },
  {
   "cell_type": "code",
   "execution_count": 46,
   "metadata": {},
   "outputs": [],
   "source": [
    "db['cleese.png'] = 'Photo of John Cleese.'"
   ]
  },
  {
   "cell_type": "markdown",
   "metadata": {},
   "source": [
    "When you access one of the items, dbm reads the file:"
   ]
  },
  {
   "cell_type": "code",
   "execution_count": 47,
   "metadata": {},
   "outputs": [
    {
     "data": {
      "text/plain": [
       "b'Photo of John Cleese.'"
      ]
     },
     "execution_count": 47,
     "metadata": {},
     "output_type": "execute_result"
    }
   ],
   "source": [
    "db['cleese.png']"
   ]
  },
  {
   "cell_type": "markdown",
   "metadata": {},
   "source": [
    "The result is a **bytes object**, which is why it begins with *b*. A bytes object is similar to a string in many ways."
   ]
  },
  {
   "cell_type": "markdown",
   "metadata": {},
   "source": [
    "If you make another assignment to an existing key, dbm replaces the old value:"
   ]
  },
  {
   "cell_type": "code",
   "execution_count": 48,
   "metadata": {},
   "outputs": [
    {
     "data": {
      "text/plain": [
       "b'Photo of John Cleese doing a silly walk.'"
      ]
     },
     "execution_count": 48,
     "metadata": {},
     "output_type": "execute_result"
    }
   ],
   "source": [
    "db['cleese.png'] = 'Photo of John Cleese doing a silly walk.'\n",
    "db['cleese.png']"
   ]
  },
  {
   "cell_type": "markdown",
   "metadata": {},
   "source": [
    "Some dictionary methods, like keys and items, don’t work with database objects. But iteration with a for loop works:"
   ]
  },
  {
   "cell_type": "code",
   "execution_count": 49,
   "metadata": {},
   "outputs": [
    {
     "name": "stdout",
     "output_type": "stream",
     "text": [
      "b'cleese.png' b'Photo of John Cleese doing a silly walk.'\n"
     ]
    }
   ],
   "source": [
    "for key in db:\n",
    "    print(key, db[key])"
   ]
  },
  {
   "cell_type": "markdown",
   "metadata": {},
   "source": [
    "As with other files, you should close the database when you are done:"
   ]
  },
  {
   "cell_type": "code",
   "execution_count": 50,
   "metadata": {},
   "outputs": [],
   "source": [
    "db.close()"
   ]
  },
  {
   "cell_type": "markdown",
   "metadata": {},
   "source": [
    "A limitation of dbm is that the **keys and values have to be strings or bytes**. If you try to use any other type, you get an error.\n",
    "\n",
    "The **pickle module** can help. It translates almost any type of object into a string suitable for storage in a database, and then translates strings back into objects."
   ]
  },
  {
   "cell_type": "markdown",
   "metadata": {},
   "source": [
    "**pickle.dumps** takes an object as a parameter and returns a string representation (dumps is short for “dump string”):"
   ]
  },
  {
   "cell_type": "code",
   "execution_count": 20,
   "metadata": {},
   "outputs": [
    {
     "data": {
      "text/plain": [
       "b'\\x80\\x03]q\\x00(K\\x01K\\x02K\\x03e.'"
      ]
     },
     "execution_count": 20,
     "metadata": {},
     "output_type": "execute_result"
    }
   ],
   "source": [
    "import pickle\n",
    "t = [1, 2, 3]\n",
    "pickle.dumps(t)"
   ]
  },
  {
   "cell_type": "markdown",
   "metadata": {},
   "source": [
    "The format isn’t obvious to human readers; it is meant to be easy for pickle to interpret. **pickle.loads** (“load string”) reconstitutes the object:"
   ]
  },
  {
   "cell_type": "code",
   "execution_count": 21,
   "metadata": {},
   "outputs": [
    {
     "data": {
      "text/plain": [
       "[1, 2, 3]"
      ]
     },
     "execution_count": 21,
     "metadata": {},
     "output_type": "execute_result"
    }
   ],
   "source": [
    "t1 = [1, 2, 3]\n",
    "s = pickle.dumps(t1)\n",
    "t2 = pickle.loads(s)\n",
    "t2"
   ]
  },
  {
   "cell_type": "markdown",
   "metadata": {},
   "source": [
    "Although the new object has the same value as the old, it is not (in general) the same object:"
   ]
  },
  {
   "cell_type": "code",
   "execution_count": 22,
   "metadata": {},
   "outputs": [
    {
     "name": "stdout",
     "output_type": "stream",
     "text": [
      "True\n",
      "False\n"
     ]
    }
   ],
   "source": [
    "print(t1 == t2)\n",
    "print(t1 is t2)"
   ]
  },
  {
   "cell_type": "markdown",
   "metadata": {},
   "source": [
    "In other words, pickling and then unpickling has the same effect as copying the object.\n",
    "\n",
    "You can use pickle to store non-strings in a database. In fact, this combination is so common that it has been encapsulated in a module called **shelve**."
   ]
  },
  {
   "cell_type": "markdown",
   "metadata": {},
   "source": [
    "Most operating systems provide a command-line interface, also known as a **shell**. Shells usually provide commands to navigate the file system and launch applications.\n",
    "\n",
    "Any program that you can launch from the shell can also be launched from Python using a **pipe object**, which represents a running program."
   ]
  },
  {
   "cell_type": "markdown",
   "metadata": {},
   "source": [
    "For example, the Unix command ls -l normally displays the contents of the current directory in long format. You can launch ls with **os.popen**.\n",
    "\n",
    "*Note:* popen is deprecated now, which means we are supposed to stop using it and start using the subprocess module. But for simple cases, I find subprocess more complicated than necessary. So I am going to keep using popen until they take it away."
   ]
  },
  {
   "cell_type": "code",
   "execution_count": 23,
   "metadata": {},
   "outputs": [],
   "source": [
    "cmd = 'ls -l'\n",
    "fp = os.popen(cmd)"
   ]
  },
  {
   "cell_type": "markdown",
   "metadata": {},
   "source": [
    "The argument is a string that contains a shell command. The return value is an object that behaves like an open file. You can read the output from the ls process one line at a time with readline or get the whole thing at once with read:"
   ]
  },
  {
   "cell_type": "code",
   "execution_count": 24,
   "metadata": {},
   "outputs": [],
   "source": [
    "res = fp.read()"
   ]
  },
  {
   "cell_type": "code",
   "execution_count": 25,
   "metadata": {},
   "outputs": [
    {
     "data": {
      "text/plain": [
       "'total 1572\\n-rw-rw-r-- 1 scott scott  10619 Feb 11 15:49 01_ The_Way_of_the_Program.ipynb\\n-rw-rw-r-- 1 scott scott  17802 Feb 11 15:51 02_Variables_Expressions_and_Statements.ipynb\\n-rw-rw-r-- 1 scott scott  30995 Feb 11 15:54 03_Functions.ipynb\\n-rw-rw-r-- 1 scott scott  13460 Feb 11 15:55 04_Case_Study_Interface_Design.ipynb\\n-rw-rw-r-- 1 scott scott  29877 Feb 11 16:00 05_Conditionals_and_Recursion.ipynb\\n-rw-rw-r-- 1 scott scott  31082 Feb 11 16:02 06_Fruitful Functions.ipynb\\n-rw-rw-r-- 1 scott scott  16932 Feb 11 16:04 07_Iteration.ipynb\\n-rw-rw-r-- 1 scott scott  27099 Feb 11 16:11 08_Strings.ipynb\\n-rw-rw-r-- 1 scott scott  28547 Feb 11 16:14 09-Case_Study_Word_Play.ipynb\\n-rw-rw-r-- 1 scott scott  42932 Feb 11 16:23 10_Lists.ipynb\\n-rw-rw-r-- 1 scott scott  32591 Feb 11 16:22 11_Dictionaries.ipynb\\n-rw-rw-r-- 1 scott scott  94181 Feb 11 16:25 12_Tuples.ipynb\\n-rw-rw-r-- 1 scott scott  40601 Feb 11 16:39 13_Case_Study_Data_Structure_Selection.ipynb\\n-rw-rw-r-- 1 scott scott  71669 Feb 11 16:41 13_Data_Structure_Module.ipynb\\n-rw-rw-r-- 1 scott scott  59830 Feb  1 22:08 14_Files.ipynb\\n-rw-rw-r-- 1 scott scott   2131 Feb 11 15:26 anagram_sets.py\\n-rw-rw-r-- 1 scott scott   4489 Feb 11 16:40 book_stats.py\\n-rw-rw-r-- 1 scott scott     22 Feb 11 16:42 captions.bak\\n-rw-rw-r-- 1 scott scott     40 Feb 11 16:43 captions.dat\\n-rw-rw-r-- 1 scott scott     22 Feb 11 16:43 captions.dir\\n-rw-rw-r-- 1 scott scott  25913 Feb  2 19:01 Chapter15.ipynb\\n-rw-rw-r-- 1 scott scott  23845 Feb  4 17:32 Chapter16.ipynb\\n-rw-rw-r-- 1 scott scott  39194 Feb 11 15:25 Chapter17.ipynb\\n-rw-rw-r-- 1 scott scott  39443 Feb 11 15:25 Chapter18.ipynb\\n-rw-rw-r-- 1 scott scott  28885 Feb 11 15:25 Chapter19.ipynb\\n-rw-rw-r-- 1 scott scott   1262 Jan 29 20:39 Chapter4_code.py\\ndrwxrwxr-x 2 scott scott   4096 Feb 11 16:41 data\\ndrwxrwxr-x 2 scott scott   4096 Feb 11 16:41 __pycache__\\n-rw-rw-r-- 1 scott scott 814210 Jan 22 20:08 thinkPython2.pdf\\n'"
      ]
     },
     "execution_count": 25,
     "metadata": {},
     "output_type": "execute_result"
    }
   ],
   "source": [
    "res"
   ]
  },
  {
   "cell_type": "markdown",
   "metadata": {},
   "source": [
    "When you are done, you close the pipe like a file:"
   ]
  },
  {
   "cell_type": "code",
   "execution_count": 26,
   "metadata": {},
   "outputs": [
    {
     "name": "stdout",
     "output_type": "stream",
     "text": [
      "None\n"
     ]
    }
   ],
   "source": [
    "stat = fp.close()\n",
    "print(stat)"
   ]
  },
  {
   "cell_type": "markdown",
   "metadata": {},
   "source": [
    "The return value is the final status of the ls process; None means that it ended normally (with no errors)."
   ]
  },
  {
   "cell_type": "markdown",
   "metadata": {},
   "source": [
    "For example, most Unix systems provide a command called **md5sum** that reads the contents of a file and computes a “checksum”.\n",
    "\n",
    "This command provides an efficient way to check whether two files have the same contents. The probability that different contents yield the same checksum is very small (that is, unlikely to happen before the universe collapses).\n",
    "\n",
    "\n",
    "You can use a pipe to run md5sum from Python and get the result:"
   ]
  },
  {
   "cell_type": "code",
   "execution_count": 28,
   "metadata": {},
   "outputs": [
    {
     "name": "stdout",
     "output_type": "stream",
     "text": [
      "e58eb7b851c2e78770b20c715d8f8d7b  data/words.txt\n",
      "\n",
      "None\n"
     ]
    }
   ],
   "source": [
    "filename = 'data/words.txt'\n",
    "cmd = 'md5sum ' + filename #note that space in the md5sum string\n",
    "fp = os.popen(cmd)\n",
    "res = fp.read()\n",
    "stats = fp.close()\n",
    "print(res)\n",
    "print(stat)"
   ]
  },
  {
   "cell_type": "code",
   "execution_count": 29,
   "metadata": {},
   "outputs": [
    {
     "name": "stdout",
     "output_type": "stream",
     "text": [
      "7ae6ca1846bc539a931bdce2c7560741  data/xmas.txt\n",
      "\n",
      "None\n"
     ]
    }
   ],
   "source": [
    "filename = 'data/xmas.txt'\n",
    "cmd = 'md5sum ' + filename #note that space in the md5sum string\n",
    "fp = os.popen(cmd)\n",
    "res = fp.read()\n",
    "stats = fp.close()\n",
    "print(res)\n",
    "print(stat)"
   ]
  },
  {
   "cell_type": "markdown",
   "metadata": {},
   "source": [
    "Any file that contains Python code can be imported as a module. For example, suppose you have a file named wc.py with the following code:"
   ]
  },
  {
   "cell_type": "code",
   "execution_count": 33,
   "metadata": {},
   "outputs": [],
   "source": [
    "def linecount(filename):\n",
    "    count = 0\n",
    "    for line in open(filename):\n",
    "        count += 1\n",
    "    return count\n",
    "\n",
    "#print(linecount('wc.py'))"
   ]
  },
  {
   "cell_type": "markdown",
   "metadata": {},
   "source": [
    "The only problem with this example is that when you import the module it runs the test code at the bottom. Normally when you import a module, it defines new functions but it doesn’t run them.\n",
    "\n",
    "Programs that will be imported as modules often use the following idiom:"
   ]
  },
  {
   "cell_type": "code",
   "execution_count": 34,
   "metadata": {},
   "outputs": [],
   "source": [
    "#if __name__ == '__main__':\n",
    "    #print(linecount('wc.py'))"
   ]
  },
  {
   "cell_type": "markdown",
   "metadata": {},
   "source": [
    "**\\__name\\__** is a built-in variable that is set when the program starts. If the program is running as a script, **\\__name\\__** has the value **'\\__main\\__'**; in that case, the test code runs. \n",
    "\n",
    "Otherwise, if the module is being imported, the test code is skipped.\n",
    "\n",
    "As an exercise, type this example into a file named wc.py and run it as a script. Then run the Python interpreter and import wc. What is the value of **\\__name\\__** when the module is being imported?\n",
    "\n",
    "Warning: If you import a module that has already been imported, Python does nothing. It does not re-read the file, even if it has changed. If you want to reload a module, you can use the built-in function reload, but it can be tricky, so the safest thing to do is restart the interpreter and then import the module again."
   ]
  },
  {
   "cell_type": "markdown",
   "metadata": {},
   "source": [
    "**Debugging**\n",
    "\n",
    "When you are reading and writing files, you might run into problems with whitespace. These errors can be hard to debug because spaces, tabs and newlines are normally invisible.\n",
    "\n",
    "The built-in function **repr** can help. It takes any object as an argument and returns a string representation of the object. For strings, it represents whitespace characters with backslash sequences:"
   ]
  },
  {
   "cell_type": "code",
   "execution_count": 35,
   "metadata": {},
   "outputs": [
    {
     "name": "stdout",
     "output_type": "stream",
     "text": [
      "1 2\t 3\n",
      " 4\n",
      "'1 2\\t 3\\n 4'\n"
     ]
    }
   ],
   "source": [
    "s = '1 2\\t 3\\n 4'\n",
    "print(s)\n",
    "print(repr(s))"
   ]
  },
  {
   "cell_type": "markdown",
   "metadata": {},
   "source": [
    "One other problem you might run into is that different systems use different characters to indicate the end of a line. Some systems use a newline, represented *\\n*. Others use a return character, represented *\\r*. Some use *both*. If you move files between different systems, these inconsistencies can cause problems."
   ]
  },
  {
   "cell_type": "markdown",
   "metadata": {},
   "source": [
    "### Glossary\n",
    "\n",
    "**persistent:** Pertaining to a program that runs indefinitely and keeps at least some of its data in permanent storage.\n",
    "\n",
    "\n",
    "**format operator:** An operator, %, that takes a format string and a tuple and generates a string that includes the elements of the tuple formatted as specified by the format string.\n",
    "\n",
    "\n",
    "**format string:** A string, used with the format operator, that contains format sequences.\n",
    "\n",
    "\n",
    "**format sequence:** A sequence of characters in a format string, like %d, that specifies how a value should be formatted.\n",
    "\n",
    "\n",
    "**text file:** A sequence of characters stored in permanent storage like a hard drive.\n",
    "\n",
    "\n",
    "**directory:** A named collection of files, also called a folder.\n",
    "\n",
    "\n",
    "**path:** A string that identifies a file.\n",
    "\n",
    "\n",
    "**relative path:** A path that starts from the current directory.\n",
    "\n",
    "\n",
    "**absolute path:** A path that starts from the topmost directory in the file system.\n",
    "\n",
    "\n",
    "**catch:** To prevent an exception from terminating a program using the try and except statements.\n",
    "\n",
    "\n",
    "**database:** A file whose contents are organized like a dictionary with keys that correspond to values.\n",
    "\n",
    "\n",
    "**bytes object:** An object similar to a string.\n",
    "\n",
    "\n",
    "**shell:** A program that allows users to type commands and then executes them by starting other programs.\n",
    "\n",
    "\n",
    "**pipe object:** An object that represents a running program, allowing a Python program to run commands and read the results."
   ]
  },
  {
   "cell_type": "markdown",
   "metadata": {},
   "source": [
    "### Exercises\n",
    "\n",
    "**Exercise 14.1.** Write a function called sed that takes as arguments a pattern string, a replacement string, and two filenames; it should read the first file and write the contents into the second file (creating it if necessary). If the pattern string appears anywhere in the file, it should be replaced with the replacement string.\n",
    "\n",
    "\n",
    "If an error occurs while opening, reading, writing or closing files, your program should catch the exception, print an error message, and exit."
   ]
  },
  {
   "cell_type": "code",
   "execution_count": 35,
   "metadata": {},
   "outputs": [],
   "source": [
    "def sed(pattern, replacement, file1, file2):\n",
    "    try:\n",
    "        fin = open(file1, errors='ignore')\n",
    "    except:\n",
    "        return 'Something went wrong.'\n",
    "    fout = open(file2, 'w')\n",
    "    for line in fin:\n",
    "        if pattern in line:\n",
    "            line = line.replace(pattern, replacement)\n",
    "        fout.write(line)\n",
    "    fin.close()\n",
    "    fout.close()"
   ]
  },
  {
   "cell_type": "code",
   "execution_count": 36,
   "metadata": {},
   "outputs": [],
   "source": [
    "sed('Lemonade and shade', 'Limeade and a fade', 'data/gucci.txt', 'data/gucci lime.txt')"
   ]
  },
  {
   "cell_type": "code",
   "execution_count": 37,
   "metadata": {},
   "outputs": [],
   "source": [
    "gucci = open('data/gucci.txt', errors='ignore')\n",
    "gucci_lime = open('data/gucci lime.txt', errors='ignore')"
   ]
  },
  {
   "cell_type": "code",
   "execution_count": 39,
   "metadata": {},
   "outputs": [
    {
     "name": "stdout",
     "output_type": "stream",
     "text": [
      "Yeah its Gucci, wassup baby\n",
      "\n",
      "Yellow everything this time\n",
      "\n",
      "You know what Im talking about\n",
      "\n",
      "Yellow rims, yellow big booty yellow bones\n",
      "\n",
      "Yellow Lambs, yellow MP's, yellow watch\n",
      "\n",
      "Yellow charm ring chain, yellow living room set (Chiquita!)\n",
      "\n",
      "Lemonade Gucci shoes for my girl, its Gucci\n",
      "\n",
      "\n",
      "\n",
      "My Phantom sitting on sixes, no twenties in my denim\n",
      "\n",
      "Your Cutlass motor knocking because it is a lemon\n",
      "\n",
      "I like them Georgia peaches but you look more like a lemon\n",
      "\n",
      "These sour apple bitter bitches I'm not fucking with 'em\n",
      "\n",
      "I'm truly stupid paid, that's just how I feel today\n",
      "\n",
      "I'm moving slow cause codeine syrup's in my lemonade\n",
      "\n",
      "I'm standing in the shade and I'm selling lemonade\n",
      "\n",
      "Six hundred a pint, the going rate off in the A\n",
      "\n",
      "Lemonade diamond bracelet, put it in your face\n",
      "\n",
      "Lemonhead diamond earrings I wore yesterday\n",
      "\n",
      "I'm pimping wearing lemon, that's just how I'm chilling\n",
      "\n",
      "I'm smoking grits and selling chickens, Corvette painted lemons (Gucci)\n",
      "\n",
      "\n",
      "\n",
      "Lemons on the chain with the V-cuts\n",
      "\n",
      "Lemons on the chain with the V-cuts\n",
      "\n",
      "Lemonade and shade with my feet up\n",
      "\n",
      "Lemonade and shade with my feet up\n",
      "\n",
      "Lemon pepper wings and a freeze cup\n",
      "\n",
      "Lemon pepper wings and a freeze cup\n",
      "\n",
      "Lemons in their face, watch 'em freeze up\n",
      "\n",
      "Lemons in their face, watch 'em freeze up\n",
      "\n",
      " \n",
      "\n",
      "\n",
      "\n",
      "\n",
      "\n",
      "\n",
      "\n",
      "\n",
      "\n",
      "I got lemonade and lemon-tint, lemons watch me mix the shit\n",
      "\n",
      "Lemonade-complexion East-Australian girl be killing me\n",
      "\n",
      "She say I be killing her, I say I be feeling it\n",
      "\n",
      "Four days then I'm sick of her cause her brain is lemonhead\n",
      "\n",
      "Cocaine-white exterior, interior lemonade\n",
      "\n",
      "Yellow with the off-white trimming, I call that the super drank\n",
      "\n",
      "Yellow diamond pinky ring, call that there the lemon rock\n",
      "\n",
      "Jewelry box a lemon bin, my ear ring size of apricot\n",
      "\n",
      "Yeah I smoke that strong a lot, yeah I need some of what you got\n",
      "\n",
      "Half a pound of lemon kush, call that pack the lemon drop\n",
      "\n",
      "Canary yellow lemon watch, big bird, yellow top\n",
      "\n",
      "Yellow Polo, Polo slippers, white and yellow Polo socks\n",
      "\n",
      "Gucci Mane be pumping dog, he don't got all he say he got\n",
      "\n",
      "Just stash one Lemon homie, I can supply them the fifty Glocks\n",
      "\n",
      "Yellow boat parked at the dock, yellowbone gon' make the drop\n",
      "\n",
      "Flip the flop, mine off the top then go buy me a yellow yacht\n",
      "\n",
      "\n",
      "\n",
      "Lemons on the chain with the V-cuts\n",
      "\n",
      "Lemons on the chain with the V-cuts\n",
      "\n",
      "Lemonade and shade with my feet up\n",
      "\n",
      "Lemonade and shade with my feet up\n",
      "\n",
      "Lemon pepper wings and a freeze cup\n",
      "\n",
      "Lemon pepper wings and a freeze cup\n",
      "\n",
      "Lemons in their face, watch 'em freeze up\n",
      "\n",
      "Lemons in their face, watch 'em freeze up\n",
      "\n",
      " \n",
      "\n",
      "\n",
      "\n",
      "Lemonade my townhouse in Miami I want yellow carpet\n",
      "\n",
      "Woke up in the morning - \"Fuck it,\" bought a yellow Aston Martin\n",
      "\n",
      "Yellow bricks, yellow dust, yellow ring, yellow tuss\n",
      "\n",
      "Yellow pills, spinning wheels, yellow weed, re-up with us\n",
      "\n",
      "Coward ass nigga, yellow stripe, you a yellowback\n",
      "\n",
      "AK hit your dog, and you can't bring Old Yeller back\n",
      "\n",
      "Yep Gucci bang up eighty thousand: that's a yellow safe\n",
      "\n",
      "Yello, holmes. Mellow, holmes. You know you a scary-cat\n",
      "\n",
      "No sleep for two days, so my pupils look yellow\n",
      "\n",
      "Five flights, six shows, quarter-million on my schedule\n",
      "\n",
      "Bangladesh and Gucci Mane  niggas know they in trouble\n",
      "\n",
      "Green ice, red light. Caution: Gucci rock yellow\n",
      "\n",
      "\n",
      "\n",
      "Lemons on the chain with the V-cuts\n",
      "\n",
      "Lemons on the chain with the V-cuts\n",
      "\n",
      "Lemonade and shade with my feet up\n",
      "\n",
      "Lemonade and shade with my feet up\n",
      "\n",
      "Lemon pepper wings and a freeze cup\n",
      "\n",
      "Lemon pepper wings and a freeze cup\n",
      "\n",
      "Lemons in their face, watch 'em freeze up\n",
      "\n",
      "Lemons in their face, watch 'em freeze up\n"
     ]
    }
   ],
   "source": [
    "for line in gucci:\n",
    "    print(line)"
   ]
  },
  {
   "cell_type": "code",
   "execution_count": 40,
   "metadata": {},
   "outputs": [
    {
     "name": "stdout",
     "output_type": "stream",
     "text": [
      "Yeah its Gucci, wassup baby\n",
      "\n",
      "Yellow everything this time\n",
      "\n",
      "You know what Im talking about\n",
      "\n",
      "Yellow rims, yellow big booty yellow bones\n",
      "\n",
      "Yellow Lambs, yellow MP's, yellow watch\n",
      "\n",
      "Yellow charm ring chain, yellow living room set (Chiquita!)\n",
      "\n",
      "Lemonade Gucci shoes for my girl, its Gucci\n",
      "\n",
      "\n",
      "\n",
      "My Phantom sitting on sixes, no twenties in my denim\n",
      "\n",
      "Your Cutlass motor knocking because it is a lemon\n",
      "\n",
      "I like them Georgia peaches but you look more like a lemon\n",
      "\n",
      "These sour apple bitter bitches I'm not fucking with 'em\n",
      "\n",
      "I'm truly stupid paid, that's just how I feel today\n",
      "\n",
      "I'm moving slow cause codeine syrup's in my lemonade\n",
      "\n",
      "I'm standing in the shade and I'm selling lemonade\n",
      "\n",
      "Six hundred a pint, the going rate off in the A\n",
      "\n",
      "Lemonade diamond bracelet, put it in your face\n",
      "\n",
      "Lemonhead diamond earrings I wore yesterday\n",
      "\n",
      "I'm pimping wearing lemon, that's just how I'm chilling\n",
      "\n",
      "I'm smoking grits and selling chickens, Corvette painted lemons (Gucci)\n",
      "\n",
      "\n",
      "\n",
      "Lemons on the chain with the V-cuts\n",
      "\n",
      "Lemons on the chain with the V-cuts\n",
      "\n",
      "Limeade and a fade with my feet up\n",
      "\n",
      "Limeade and a fade with my feet up\n",
      "\n",
      "Lemon pepper wings and a freeze cup\n",
      "\n",
      "Lemon pepper wings and a freeze cup\n",
      "\n",
      "Lemons in their face, watch 'em freeze up\n",
      "\n",
      "Lemons in their face, watch 'em freeze up\n",
      "\n",
      " \n",
      "\n",
      "\n",
      "\n",
      "\n",
      "\n",
      "\n",
      "\n",
      "\n",
      "\n",
      "I got lemonade and lemon-tint, lemons watch me mix the shit\n",
      "\n",
      "Lemonade-complexion East-Australian girl be killing me\n",
      "\n",
      "She say I be killing her, I say I be feeling it\n",
      "\n",
      "Four days then I'm sick of her cause her brain is lemonhead\n",
      "\n",
      "Cocaine-white exterior, interior lemonade\n",
      "\n",
      "Yellow with the off-white trimming, I call that the super drank\n",
      "\n",
      "Yellow diamond pinky ring, call that there the lemon rock\n",
      "\n",
      "Jewelry box a lemon bin, my ear ring size of apricot\n",
      "\n",
      "Yeah I smoke that strong a lot, yeah I need some of what you got\n",
      "\n",
      "Half a pound of lemon kush, call that pack the lemon drop\n",
      "\n",
      "Canary yellow lemon watch, big bird, yellow top\n",
      "\n",
      "Yellow Polo, Polo slippers, white and yellow Polo socks\n",
      "\n",
      "Gucci Mane be pumping dog, he don't got all he say he got\n",
      "\n",
      "Just stash one Lemon homie, I can supply them the fifty Glocks\n",
      "\n",
      "Yellow boat parked at the dock, yellowbone gon' make the drop\n",
      "\n",
      "Flip the flop, mine off the top then go buy me a yellow yacht\n",
      "\n",
      "\n",
      "\n",
      "Lemons on the chain with the V-cuts\n",
      "\n",
      "Lemons on the chain with the V-cuts\n",
      "\n",
      "Limeade and a fade with my feet up\n",
      "\n",
      "Limeade and a fade with my feet up\n",
      "\n",
      "Lemon pepper wings and a freeze cup\n",
      "\n",
      "Lemon pepper wings and a freeze cup\n",
      "\n",
      "Lemons in their face, watch 'em freeze up\n",
      "\n",
      "Lemons in their face, watch 'em freeze up\n",
      "\n",
      " \n",
      "\n",
      "\n",
      "\n",
      "Lemonade my townhouse in Miami I want yellow carpet\n",
      "\n",
      "Woke up in the morning - \"Fuck it,\" bought a yellow Aston Martin\n",
      "\n",
      "Yellow bricks, yellow dust, yellow ring, yellow tuss\n",
      "\n",
      "Yellow pills, spinning wheels, yellow weed, re-up with us\n",
      "\n",
      "Coward ass nigga, yellow stripe, you a yellowback\n",
      "\n",
      "AK hit your dog, and you can't bring Old Yeller back\n",
      "\n",
      "Yep Gucci bang up eighty thousand: that's a yellow safe\n",
      "\n",
      "Yello, holmes. Mellow, holmes. You know you a scary-cat\n",
      "\n",
      "No sleep for two days, so my pupils look yellow\n",
      "\n",
      "Five flights, six shows, quarter-million on my schedule\n",
      "\n",
      "Bangladesh and Gucci Mane  niggas know they in trouble\n",
      "\n",
      "Green ice, red light. Caution: Gucci rock yellow\n",
      "\n",
      "\n",
      "\n",
      "Lemons on the chain with the V-cuts\n",
      "\n",
      "Lemons on the chain with the V-cuts\n",
      "\n",
      "Limeade and a fade with my feet up\n",
      "\n",
      "Limeade and a fade with my feet up\n",
      "\n",
      "Lemon pepper wings and a freeze cup\n",
      "\n",
      "Lemon pepper wings and a freeze cup\n",
      "\n",
      "Lemons in their face, watch 'em freeze up\n",
      "\n",
      "Lemons in their face, watch 'em freeze up\n"
     ]
    }
   ],
   "source": [
    "for line in gucci_lime:\n",
    "    print(line)"
   ]
  },
  {
   "cell_type": "markdown",
   "metadata": {},
   "source": [
    "**Exercise 14.2.** If you download my solution to Exercise 12.2 from http://thinkpython2.com/code/anagram_sets.py, you’ll see that it creates a dictionary that maps from a sorted string of letters to the list of words that can be spelled with those  letters. For example, 'opst' maps to the list ['opts', 'post', 'pots', 'spot', 'stop', 'tops'].\n",
    "\n",
    "Write a module that imports anagram_sets and provides two new functions: store_anagrams should store the anagram dictionary in a “shelf”; read_anagrams should look up a word and return a list of its anagrams."
   ]
  },
  {
   "cell_type": "code",
   "execution_count": 57,
   "metadata": {},
   "outputs": [],
   "source": [
    "import shelve\n",
    "import anagram_sets as ans\n",
    "\n",
    "def store_anagrams():\n",
    "    anagrams = ans.all_anagrams('data/words.txt')\n",
    "    db = shelve.open('anagram_data')\n",
    "    for key,val in anagrams.items():\n",
    "        db[key] = val\n",
    "    db.close()"
   ]
  },
  {
   "cell_type": "code",
   "execution_count": 60,
   "metadata": {},
   "outputs": [],
   "source": [
    "def read_anagrams(word):\n",
    "    db = shelve.open('anagram_data')\n",
    "    anagram =  db[word]\n",
    "    db.close()\n",
    "    return anagram"
   ]
  },
  {
   "cell_type": "code",
   "execution_count": 58,
   "metadata": {
    "collapsed": true
   },
   "outputs": [
    {
     "name": "stdout",
     "output_type": "stream",
     "text": [
      "aa\n",
      "aah\n",
      "aadeh\n",
      "aaghin\n",
      "aahs\n",
      "aal\n",
      "aaiil\n",
      "aaiils\n",
      "aals\n",
      "aaadkrrv\n",
      "aaadkrrsv\n",
      "aadflorw\n",
      "aadelorsvw\n",
      "aas\n",
      "aaeglosv\n",
      "aaeglossv\n",
      "aab\n",
      "aaabc\n",
      "aaabcs\n",
      "aabci\n",
      "aabck\n",
      "aabcsu\n",
      "aabcessu\n",
      "aabft\n",
      "aaabk\n",
      "aaabks\n",
      "aabelno\n",
      "aabelnos\n",
      "aabmp\n",
      "aabeempr\n",
      "aabeemprs\n",
      "aabmps\n",
      "aabdnno\n",
      "aabddenno\n",
      "aabdginnno\n",
      "aabdemnnnot\n",
      "aabdemnnnost\n",
      "aabdnnos\n",
      "aabs\n",
      "aabes\n",
      "aabdes\n",
      "aabdelsy\n",
      "aabeemnst\n",
      "aabeemnsst\n",
      "aabers\n",
      "aaberss\n",
      "aabess\n",
      "aabhs\n",
      "aabdehs\n",
      "aabehss\n",
      "aabghins\n",
      "aabgins\n",
      "aaabbelt\n",
      "aabet\n",
      "aabdet\n",
      "aabeemntt\n",
      "aabeemnstt\n",
      "aabert\n",
      "aaberst\n",
      "aabest\n",
      "aabgint\n",
      "aabist\n",
      "aabeisst\n",
      "aabort\n",
      "aaborst\n",
      "aabistt\n",
      "aabeisstt\n",
      "aabiortt\n",
      "aabiorstt\n",
      "aaabilx\n",
      "aabeilx\n",
      "aabbceis\n",
      "aabbcy\n",
      "aaabbilt\n",
      "abbe\n",
      "abbes\n",
      "abbess\n",
      "abbeesss\n",
      "abbey\n",
      "abbesy\n",
      "abbot\n",
      "abbceiost\n",
      "abbcoty\n",
      "abbost\n",
      "aabbeeirtv\n",
      "aabbdeeirtv\n",
      "aabbeeirstv\n",
      "aabbegiinrtv\n",
      "aabbeiinortv\n",
      "aabbeiinorstv\n",
      "aabcdeit\n",
      "aabcddeit\n",
      "aabcdeist\n",
      "aabcdgiint\n",
      "aabcdiinot\n",
      "aabcdiinost\n",
      "abdemno\n",
      "abdemnos\n",
      "aabdimno\n",
      "aabdilmno\n",
      "aabdillmnoy\n",
      "abcdeu\n",
      "abcddeu\n",
      "abcdensu\n",
      "abcdentu\n",
      "abcdeenstu\n",
      "abcdesu\n",
      "abcdginu\n",
      "abcdtu\n",
      "abcddetu\n",
      "abcdgintu\n",
      "abcdortu\n",
      "abcdeorstu\n",
      "abcdorstu\n",
      "abcdstu\n",
      "aabem\n",
      "abde\n",
      "abeel\n",
      "abeels\n",
      "abeklmos\n",
      "abeklmoss\n",
      "aabenrrt\n",
      "aabenrrst\n",
      "aabeinorrt\n",
      "aabeinorrst\n",
      "abet\n",
      "abeemntt\n",
      "abeemnstt\n",
      "abest\n",
      "aabeltt\n",
      "aabelstt\n",
      "abdeett\n",
      "abeertt\n",
      "abeerstt\n",
      "abegintt\n",
      "abeortt\n",
      "abeorstt\n",
      "aabceeny\n",
      "aabceensy\n",
      "aabceeinsy\n",
      "aabcenyy\n",
      "aabenty\n",
      "aaabdfr\n",
      "aaabdfrs\n",
      "abeehinrs\n",
      "abehnry\n",
      "abehnrsy\n",
      "abhor\n",
      "abdehorr\n",
      "abceehnorr\n",
      "abceehnorrs\n",
      "abehnorrt\n",
      "abehorrr\n",
      "abehorrrs\n",
      "abghinorr\n",
      "abhors\n",
      "aabcdein\n",
      "aabcdeins\n",
      "abdei\n",
      "abddei\n",
      "abdeir\n",
      "abdeirs\n",
      "abdeis\n",
      "abdgiin\n",
      "abeis\n",
      "aabgiil\n",
      "aabgiils\n",
      "abeiiilst\n",
      "abiilty\n",
      "abeioss\n",
      "abiioss\n",
      "abciiot\n",
      "abcejt\n",
      "abcejlty\n",
      "abceejnsst\n",
      "abceeejnssst\n",
      "aabijnortu\n",
      "aabijnorstu\n",
      "abejru\n",
      "abdejru\n",
      "abejrru\n",
      "abejrrsu\n",
      "abejrsu\n",
      "abgijnru\n",
      "aabelt\n",
      "aabdelt\n",
      "aabelst\n",
      "aabgilnt\n",
      "aabilnot\n",
      "aabilnost\n",
      "aabeiltv\n",
      "aabeilstv\n",
      "aabltu\n",
      "aablstu\n",
      "aabelz\n",
      "abel\n",
      "aabeeglt\n",
      "aabeeglst\n",
      "abelr\n",
      "abels\n",
      "abelst\n",
      "abgilns\n",
      "abilns\n",
      "ablmoo\n",
      "abelntu\n",
      "abelnstu\n",
      "abhlsu\n",
      "abdeltu\n",
      "abilnotu\n",
      "abilnostu\n",
      "ably\n",
      "abhmo\n",
      "abhmos\n",
      "aabeegnt\n",
      "aabdeegnt\n",
      "aabeegnst\n",
      "aabegginnt\n",
      "aabeginnot\n",
      "aabeginnost\n",
      "aablmnor\n",
      "aabeiilmnorst\n",
      "aabilmnorty\n",
      "aabllmnory\n",
      "aablmnors\n",
      "abo\n",
      "aabdor\n",
      "abdeo\n",
      "abddeo\n",
      "abdeos\n",
      "abdgino\n",
      "aabdeiou\n",
      "aabdeiosu\n",
      "aabdeioux\n",
      "abilo\n",
      "aabeiotu\n",
      "aabeiostu\n",
      "aabeiotux\n",
      "abhilos\n",
      "abdehilos\n",
      "abehiloss\n",
      "abghiilnos\n",
      "abiilnoot\n",
      "abiilnoost\n",
      "aabllo\n",
      "aabello\n",
      "aabmo\n",
      "aabmos\n",
      "aaabmos\n",
      "aaablmos\n",
      "aabimos\n",
      "aabmmosu\n",
      "aabmossu\n",
      "aabbeilmno\n",
      "aabeimnot\n",
      "aabdeimnot\n",
      "aabeimnost\n",
      "aabgiimnnot\n",
      "aabiimnnoot\n",
      "aabiimnnoost\n",
      "abnoo\n",
      "aablor\n",
      "aabllory\n",
      "aabgiilnor\n",
      "abegiinor\n",
      "abegiinors\n",
      "abginnor\n",
      "abort\n"
     ]
    },
    {
     "ename": "KeyboardInterrupt",
     "evalue": "",
     "output_type": "error",
     "traceback": [
      "\u001b[0;31m---------------------------------------------------------------------------\u001b[0m",
      "\u001b[0;31mKeyboardInterrupt\u001b[0m                         Traceback (most recent call last)",
      "\u001b[0;32m<ipython-input-58-33b654db4977>\u001b[0m in \u001b[0;36m<module>\u001b[0;34m()\u001b[0m\n\u001b[0;32m----> 1\u001b[0;31m \u001b[0mstore_anagrams\u001b[0m\u001b[0;34m(\u001b[0m\u001b[0;34m)\u001b[0m\u001b[0;34m\u001b[0m\u001b[0m\n\u001b[0m",
      "\u001b[0;32m<ipython-input-57-1212db9cda94>\u001b[0m in \u001b[0;36mstore_anagrams\u001b[0;34m()\u001b[0m\n\u001b[1;32m      7\u001b[0m     \u001b[0;32mfor\u001b[0m \u001b[0mkey\u001b[0m\u001b[0;34m,\u001b[0m\u001b[0mval\u001b[0m \u001b[0;32min\u001b[0m \u001b[0managrams\u001b[0m\u001b[0;34m.\u001b[0m\u001b[0mitems\u001b[0m\u001b[0;34m(\u001b[0m\u001b[0;34m)\u001b[0m\u001b[0;34m:\u001b[0m\u001b[0;34m\u001b[0m\u001b[0m\n\u001b[1;32m      8\u001b[0m         \u001b[0mprint\u001b[0m\u001b[0;34m(\u001b[0m\u001b[0mkey\u001b[0m\u001b[0;34m)\u001b[0m\u001b[0;34m\u001b[0m\u001b[0m\n\u001b[0;32m----> 9\u001b[0;31m         \u001b[0mdb\u001b[0m\u001b[0;34m[\u001b[0m\u001b[0mkey\u001b[0m\u001b[0;34m]\u001b[0m \u001b[0;34m=\u001b[0m \u001b[0mval\u001b[0m\u001b[0;34m\u001b[0m\u001b[0m\n\u001b[0m\u001b[1;32m     10\u001b[0m     \u001b[0mdb\u001b[0m\u001b[0;34m.\u001b[0m\u001b[0mclose\u001b[0m\u001b[0;34m(\u001b[0m\u001b[0;34m)\u001b[0m\u001b[0;34m\u001b[0m\u001b[0m\n",
      "\u001b[0;32m~/anaconda3_501/lib/python3.6/shelve.py\u001b[0m in \u001b[0;36m__setitem__\u001b[0;34m(self, key, value)\u001b[0m\n\u001b[1;32m    123\u001b[0m         \u001b[0mp\u001b[0m \u001b[0;34m=\u001b[0m \u001b[0mPickler\u001b[0m\u001b[0;34m(\u001b[0m\u001b[0mf\u001b[0m\u001b[0;34m,\u001b[0m \u001b[0mself\u001b[0m\u001b[0;34m.\u001b[0m\u001b[0m_protocol\u001b[0m\u001b[0;34m)\u001b[0m\u001b[0;34m\u001b[0m\u001b[0m\n\u001b[1;32m    124\u001b[0m         \u001b[0mp\u001b[0m\u001b[0;34m.\u001b[0m\u001b[0mdump\u001b[0m\u001b[0;34m(\u001b[0m\u001b[0mvalue\u001b[0m\u001b[0;34m)\u001b[0m\u001b[0;34m\u001b[0m\u001b[0m\n\u001b[0;32m--> 125\u001b[0;31m         \u001b[0mself\u001b[0m\u001b[0;34m.\u001b[0m\u001b[0mdict\u001b[0m\u001b[0;34m[\u001b[0m\u001b[0mkey\u001b[0m\u001b[0;34m.\u001b[0m\u001b[0mencode\u001b[0m\u001b[0;34m(\u001b[0m\u001b[0mself\u001b[0m\u001b[0;34m.\u001b[0m\u001b[0mkeyencoding\u001b[0m\u001b[0;34m)\u001b[0m\u001b[0;34m]\u001b[0m \u001b[0;34m=\u001b[0m \u001b[0mf\u001b[0m\u001b[0;34m.\u001b[0m\u001b[0mgetvalue\u001b[0m\u001b[0;34m(\u001b[0m\u001b[0;34m)\u001b[0m\u001b[0;34m\u001b[0m\u001b[0m\n\u001b[0m\u001b[1;32m    126\u001b[0m \u001b[0;34m\u001b[0m\u001b[0m\n\u001b[1;32m    127\u001b[0m     \u001b[0;32mdef\u001b[0m \u001b[0m__delitem__\u001b[0m\u001b[0;34m(\u001b[0m\u001b[0mself\u001b[0m\u001b[0;34m,\u001b[0m \u001b[0mkey\u001b[0m\u001b[0;34m)\u001b[0m\u001b[0;34m:\u001b[0m\u001b[0;34m\u001b[0m\u001b[0m\n",
      "\u001b[0;32m~/anaconda3_501/lib/python3.6/dbm/dumb.py\u001b[0m in \u001b[0;36m__setitem__\u001b[0;34m(self, key, val)\u001b[0m\n\u001b[1;32m    209\u001b[0m             \u001b[0mnewblocks\u001b[0m \u001b[0;34m=\u001b[0m \u001b[0;34m(\u001b[0m\u001b[0mlen\u001b[0m\u001b[0;34m(\u001b[0m\u001b[0mval\u001b[0m\u001b[0;34m)\u001b[0m \u001b[0;34m+\u001b[0m \u001b[0m_BLOCKSIZE\u001b[0m \u001b[0;34m-\u001b[0m \u001b[0;36m1\u001b[0m\u001b[0;34m)\u001b[0m \u001b[0;34m//\u001b[0m \u001b[0m_BLOCKSIZE\u001b[0m\u001b[0;34m\u001b[0m\u001b[0m\n\u001b[1;32m    210\u001b[0m             \u001b[0;32mif\u001b[0m \u001b[0mnewblocks\u001b[0m \u001b[0;34m<=\u001b[0m \u001b[0moldblocks\u001b[0m\u001b[0;34m:\u001b[0m\u001b[0;34m\u001b[0m\u001b[0m\n\u001b[0;32m--> 211\u001b[0;31m                 \u001b[0mself\u001b[0m\u001b[0;34m.\u001b[0m\u001b[0m_index\u001b[0m\u001b[0;34m[\u001b[0m\u001b[0mkey\u001b[0m\u001b[0;34m]\u001b[0m \u001b[0;34m=\u001b[0m \u001b[0mself\u001b[0m\u001b[0;34m.\u001b[0m\u001b[0m_setval\u001b[0m\u001b[0;34m(\u001b[0m\u001b[0mpos\u001b[0m\u001b[0;34m,\u001b[0m \u001b[0mval\u001b[0m\u001b[0;34m)\u001b[0m\u001b[0;34m\u001b[0m\u001b[0m\n\u001b[0m\u001b[1;32m    212\u001b[0m             \u001b[0;32melse\u001b[0m\u001b[0;34m:\u001b[0m\u001b[0;34m\u001b[0m\u001b[0m\n\u001b[1;32m    213\u001b[0m                 \u001b[0;31m# The new value doesn't fit in the (padded) space used\u001b[0m\u001b[0;34m\u001b[0m\u001b[0;34m\u001b[0m\u001b[0m\n",
      "\u001b[0;32m~/anaconda3_501/lib/python3.6/dbm/dumb.py\u001b[0m in \u001b[0;36m_setval\u001b[0;34m(self, pos, val)\u001b[0m\n\u001b[1;32m    171\u001b[0m     \u001b[0;31m# pair (pos, len(val)).\u001b[0m\u001b[0;34m\u001b[0m\u001b[0;34m\u001b[0m\u001b[0m\n\u001b[1;32m    172\u001b[0m     \u001b[0;32mdef\u001b[0m \u001b[0m_setval\u001b[0m\u001b[0;34m(\u001b[0m\u001b[0mself\u001b[0m\u001b[0;34m,\u001b[0m \u001b[0mpos\u001b[0m\u001b[0;34m,\u001b[0m \u001b[0mval\u001b[0m\u001b[0;34m)\u001b[0m\u001b[0;34m:\u001b[0m\u001b[0;34m\u001b[0m\u001b[0m\n\u001b[0;32m--> 173\u001b[0;31m         \u001b[0;32mwith\u001b[0m \u001b[0m_io\u001b[0m\u001b[0;34m.\u001b[0m\u001b[0mopen\u001b[0m\u001b[0;34m(\u001b[0m\u001b[0mself\u001b[0m\u001b[0;34m.\u001b[0m\u001b[0m_datfile\u001b[0m\u001b[0;34m,\u001b[0m \u001b[0;34m'rb+'\u001b[0m\u001b[0;34m)\u001b[0m \u001b[0;32mas\u001b[0m \u001b[0mf\u001b[0m\u001b[0;34m:\u001b[0m\u001b[0;34m\u001b[0m\u001b[0m\n\u001b[0m\u001b[1;32m    174\u001b[0m             \u001b[0mf\u001b[0m\u001b[0;34m.\u001b[0m\u001b[0mseek\u001b[0m\u001b[0;34m(\u001b[0m\u001b[0mpos\u001b[0m\u001b[0;34m)\u001b[0m\u001b[0;34m\u001b[0m\u001b[0m\n\u001b[1;32m    175\u001b[0m             \u001b[0mf\u001b[0m\u001b[0;34m.\u001b[0m\u001b[0mwrite\u001b[0m\u001b[0;34m(\u001b[0m\u001b[0mval\u001b[0m\u001b[0;34m)\u001b[0m\u001b[0;34m\u001b[0m\u001b[0m\n",
      "\u001b[0;31mKeyboardInterrupt\u001b[0m: "
     ]
    }
   ],
   "source": [
    "store_anagrams() #this was taking forever, so I did not let it finish"
   ]
  },
  {
   "cell_type": "code",
   "execution_count": 61,
   "metadata": {},
   "outputs": [
    {
     "data": {
      "text/plain": [
       "['abasement', 'entamebas']"
      ]
     },
     "execution_count": 61,
     "metadata": {},
     "output_type": "execute_result"
    }
   ],
   "source": [
    "read_anagrams('aabeemnst')"
   ]
  },
  {
   "cell_type": "markdown",
   "metadata": {},
   "source": [
    "**Exercise 14.3.** In a large collection of MP3 files, there may be more than one copy of the same song, stored in different directories or with different file names. The goal of this exercise is to search for duplicates.\n",
    "\n",
    "\n",
    "1. Write a program that searches a directory and all of its subdirectories, recursively, and returns a list of complete paths for all files with a given suffix (like .mp3). Hint: os.path provides several useful functions for manipulating file and path names.\n",
    "\n",
    "2. To recognize duplicates, you can use md5sum to compute a “checksum” for each files. If two files have the same checksum, they probably have the same contents.\n",
    "\n",
    "3. To double-check, you can use the Unix command diff."
   ]
  },
  {
   "cell_type": "code",
   "execution_count": 41,
   "metadata": {},
   "outputs": [],
   "source": [
    "def search_dir(directory, extension):\n",
    "    paths = []\n",
    "    for root, dirs, files in os.walk(directory):\n",
    "        for filename in files:\n",
    "            curr_path = os.path.join(root, filename)\n",
    "            file_extension = os.path.splitext(filename)[1]\n",
    "            #print(file_extension)\n",
    "            if file_extension == extension:\n",
    "                paths.append(curr_path)\n",
    "    return paths"
   ]
  },
  {
   "cell_type": "code",
   "execution_count": 42,
   "metadata": {},
   "outputs": [
    {
     "data": {
      "text/plain": [
       "['/home/scott/ds/thinkPython/data/words.txt',\n",
       " '/home/scott/ds/thinkPython/data/gucci lime.txt',\n",
       " '/home/scott/ds/thinkPython/data/words2.txt',\n",
       " '/home/scott/ds/thinkPython/data/output.txt',\n",
       " '/home/scott/ds/thinkPython/data/gucci.txt',\n",
       " '/home/scott/ds/thinkPython/data/poems2.txt',\n",
       " '/home/scott/ds/thinkPython/data/xmas.txt',\n",
       " '/home/scott/ds/thinkPython/data/poems.txt',\n",
       " '/home/scott/ds/thinkPython/data/c06d.txt',\n",
       " '/home/scott/ds/thinkPython/data/pg23301.txt']"
      ]
     },
     "execution_count": 42,
     "metadata": {},
     "output_type": "execute_result"
    }
   ],
   "source": [
    "search_dir('/home/scott/ds/thinkPython', '.txt') #works"
   ]
  },
  {
   "cell_type": "code",
   "execution_count": 43,
   "metadata": {},
   "outputs": [],
   "source": [
    "from collections import defaultdict\n",
    "\n",
    "def find_all_duplicates(directory, extension):\n",
    "    paths = search_dir(directory, extension)\n",
    "    checksums = defaultdict(list)\n",
    "    duplicates = []\n",
    "    for filename in paths:\n",
    "        cmd = 'md5sum ' + filename\n",
    "        fp = os.popen(cmd)\n",
    "        res = fp.read()[:32]\n",
    "        checksums[res].append(filename)\n",
    "        stats = fp.close()\n",
    "    for key, val in checksums.items():\n",
    "        if len(val) > 1:\n",
    "            duplicates.append(val)\n",
    "    return duplicates"
   ]
  },
  {
   "cell_type": "code",
   "execution_count": 44,
   "metadata": {},
   "outputs": [
    {
     "data": {
      "text/plain": [
       "[['/home/scott/ds/thinkPython/data/poems2.txt',\n",
       "  '/home/scott/ds/thinkPython/data/poems.txt']]"
      ]
     },
     "execution_count": 44,
     "metadata": {},
     "output_type": "execute_result"
    }
   ],
   "source": [
    "find_all_duplicates('/home/scott/ds/thinkPython', '.txt')"
   ]
  },
  {
   "cell_type": "code",
   "execution_count": null,
   "metadata": {},
   "outputs": [],
   "source": []
  }
 ],
 "metadata": {
  "kernelspec": {
   "display_name": "Python 3",
   "language": "python",
   "name": "python3"
  },
  "language_info": {
   "codemirror_mode": {
    "name": "ipython",
    "version": 3
   },
   "file_extension": ".py",
   "mimetype": "text/x-python",
   "name": "python",
   "nbconvert_exporter": "python",
   "pygments_lexer": "ipython3",
   "version": "3.6.1"
  }
 },
 "nbformat": 4,
 "nbformat_minor": 2
}
