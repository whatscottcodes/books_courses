{
 "cells": [
  {
   "cell_type": "markdown",
   "metadata": {
    "collapsed": true
   },
   "source": [
    "## Chapter 6 - Fruitful Functions"
   ]
  },
  {
   "cell_type": "markdown",
   "metadata": {},
   "source": [
    "We have seen the **return** statement before, but in a fruitful function the return statement includes an expression. This statement means: “Return immediately from this function and use the following expression as a return value.”"
   ]
  },
  {
   "cell_type": "code",
   "execution_count": 1,
   "metadata": {},
   "outputs": [],
   "source": [
    "def area(radius):\n",
    "    a = math.pi * radius**2\n",
    "    return a\n",
    "\n",
    "#The expression can be arbitrarily complicated, so we could have written this function more concisely:\n",
    "\n",
    "def area(radius):\n",
    "    return math.pi * radius**2"
   ]
  },
  {
   "cell_type": "markdown",
   "metadata": {},
   "source": [
    "On the other hand, **temporary variables** like a can make debugging easier. The *a* in the first function is an example of a temporary variable.\n",
    "\n",
    "Sometimes it is useful to have multiple return statements, one in each branch of a conditional;"
   ]
  },
  {
   "cell_type": "code",
   "execution_count": 2,
   "metadata": {},
   "outputs": [],
   "source": [
    "def absolute_value(x):\n",
    "    if x < 0:\n",
    "        return -x\n",
    "    else:\n",
    "        return x"
   ]
  },
  {
   "cell_type": "markdown",
   "metadata": {},
   "source": [
    "Since these return statements are in an alternative conditional, only one runs. As soon as a return statement runs, the function terminates without executing any subsequent statements. Code that appears after a return statement, or any other place the flow of execution can never reach, is called **dead code**.\n",
    "\n",
    "In a fruitful function, it is a good idea to ensure that every possible path through the program hits a return statement. For example, in the function below, if x happens to be 0, neither condition is true, and the function ends without hitting a return statement. If the flow of execution gets to the end of a function, the return value is *None*, which is not the absolute value of 0."
   ]
  },
  {
   "cell_type": "code",
   "execution_count": 3,
   "metadata": {},
   "outputs": [],
   "source": [
    "def absolute_value0(x):\n",
    "    if x < 0:\n",
    "        return -x\n",
    "    if x > 0:\n",
    "        return x\n",
    "    \n",
    "absolute_value0(0)"
   ]
  },
  {
   "cell_type": "markdown",
   "metadata": {},
   "source": [
    "As an exercise, write a compare function takes two values, x and y, and returns 1 if x > y, 0 if x == y, and -1 if x < y."
   ]
  },
  {
   "cell_type": "code",
   "execution_count": 4,
   "metadata": {},
   "outputs": [
    {
     "name": "stdout",
     "output_type": "stream",
     "text": [
      "-1\n",
      "0\n",
      "1\n"
     ]
    }
   ],
   "source": [
    "def compare(x,y):\n",
    "    if x > y:\n",
    "        return 1\n",
    "    if x==y:\n",
    "        return 0\n",
    "    if x < y:\n",
    "        return -1\n",
    "    \n",
    "print(compare(5,6))\n",
    "print(compare(5,5))\n",
    "print(compare(6,5))"
   ]
  },
  {
   "cell_type": "markdown",
   "metadata": {},
   "source": [
    "To deal with increasingly complex programs, you might want to try a process called **incremental development**. The goal of incremental development is to avoid long debugging sessions by adding and testing only a small amount of code at a time.\n",
    "\n",
    "You can also add print statements into your code, to check values as they are calculated. These print statements are for debugging only and our removed in our final function. Code like that is called **scaffolding** because it is helpful for building the program but is not part of the final product."
   ]
  },
  {
   "cell_type": "markdown",
   "metadata": {},
   "source": [
    "When you start out, you should add only a line or two of code at a time. As you gain more experience, you might find yourself writing and debugging bigger chunks. Either way, incremental development can save you a lot of debugging time. \n",
    "\n",
    "The key aspects of the process are:\n",
    "\n",
    "1. Start with a working program and make small incremental changes. At any point, if there is an error, you should have a good idea where it is.\n",
    "2. Use variables to hold intermediate values so you can display and check them.\n",
    "3. Once the program is working, you might want to remove some of the scaffolding or consolidate multiple statements into compound expressions, but only if it does not make the program difficult to read."
   ]
  },
  {
   "cell_type": "markdown",
   "metadata": {},
   "source": [
    "As an exercise, use incremental development to write a function called hypotenuse that returns the length of the hypotenuse of a right triangle given the lengths of the other two legs as arguments. Record each stage of the development process as you go."
   ]
  },
  {
   "cell_type": "code",
   "execution_count": 5,
   "metadata": {},
   "outputs": [
    {
     "data": {
      "text/plain": [
       "0"
      ]
     },
     "execution_count": 5,
     "metadata": {},
     "output_type": "execute_result"
    }
   ],
   "source": [
    "#start with a syntactically correct skeleton.\n",
    "import math\n",
    "def hypotenuse(a,b):\n",
    "    return 0\n",
    "\n",
    "hypotenuse(3,4) #quick test"
   ]
  },
  {
   "cell_type": "code",
   "execution_count": 6,
   "metadata": {},
   "outputs": [
    {
     "name": "stdout",
     "output_type": "stream",
     "text": [
      "a squared: 9 b squared: 16\n"
     ]
    },
    {
     "data": {
      "text/plain": [
       "0"
      ]
     },
     "execution_count": 6,
     "metadata": {},
     "output_type": "execute_result"
    }
   ],
   "source": [
    "def hypotenuse(a,b):\n",
    "    #using the pyhtagoean theorem and the first step is finding the squares of a and b, \n",
    "    #because the hyptoenuse is the square root of the sum of the lengths of the legs\n",
    "    a2 = a**2\n",
    "    b2 = b **2\n",
    "    #print a squared and b squared so we can check that the values are correct\n",
    "    print(\"a squared:\", a2, \"b squared:\", b2) \n",
    "    return 0\n",
    "\n",
    "hypotenuse(3,4) #quick test"
   ]
  },
  {
   "cell_type": "code",
   "execution_count": 7,
   "metadata": {},
   "outputs": [
    {
     "name": "stdout",
     "output_type": "stream",
     "text": [
      "25\n"
     ]
    },
    {
     "data": {
      "text/plain": [
       "0"
      ]
     },
     "execution_count": 7,
     "metadata": {},
     "output_type": "execute_result"
    }
   ],
   "source": [
    "def hypotenuse(a,b):\n",
    "    a2 = a**2\n",
    "    b2 = b **2\n",
    "    c2 = a2+b2 #next step is do take the sum of a squared and b squared\n",
    "    print(c2) #print our c squared values as a sanity check\n",
    "    return 0\n",
    "\n",
    "hypotenuse(3,4) #quick test"
   ]
  },
  {
   "cell_type": "code",
   "execution_count": 8,
   "metadata": {},
   "outputs": [
    {
     "data": {
      "text/plain": [
       "5.0"
      ]
     },
     "execution_count": 8,
     "metadata": {},
     "output_type": "execute_result"
    }
   ],
   "source": [
    "def hypotenuse(a,b):\n",
    "    a2 = a**2\n",
    "    b2 = b **2\n",
    "    c2 = a2+b2 \n",
    "    #last step is to take the square root of c, we could print it, \n",
    "    #but its out return value, so we'll see it\n",
    "    return math.sqrt(c2)\n",
    "\n",
    "    \n",
    "hypotenuse(3,4) #looks right!"
   ]
  },
  {
   "cell_type": "code",
   "execution_count": 9,
   "metadata": {},
   "outputs": [
    {
     "data": {
      "text/plain": [
       "5.0"
      ]
     },
     "execution_count": 9,
     "metadata": {},
     "output_type": "execute_result"
    }
   ],
   "source": [
    "def hypotenuse_compact(a,b): #just for fun\n",
    "    return math.sqrt(a**2 + b**2)\n",
    "\n",
    "hypotenuse_compact(3,4) #hoping the book explain which way is prefered."
   ]
  },
  {
   "cell_type": "markdown",
   "metadata": {},
   "source": [
    "The second way would be the prefered way to do it after we have checked all oour process using the first way. That is at least what I am understanding from this section of composing.\n",
    "\n",
    "The temporary variables radius and result are useful for development and debugging, but once the program is working, we can make it more concise by composing the function calls:"
   ]
  },
  {
   "cell_type": "code",
   "execution_count": 10,
   "metadata": {},
   "outputs": [],
   "source": [
    "def area(radius):\n",
    "    return math.pi * radius**2\n",
    "\n",
    "def distance(x1, y1, x2, y2):\n",
    "    dx = x2 - x1\n",
    "    dy = y2 - y1\n",
    "    dsquared = dx**2 + dy**2\n",
    "    return math.sqrt(dsquared)\n",
    "\n",
    "def circle_area(xc, yc, xp, yp):\n",
    "    return area(distance(xc, yc, xp, yp))\n",
    "\n",
    "#instead of\n",
    "\n",
    "def circle_area(xc, yc, xp, yp):\n",
    "    radius = distance(xc, yc, xp, yp)\n",
    "    result = area(radius)\n",
    "    return result"
   ]
  },
  {
   "cell_type": "markdown",
   "metadata": {},
   "source": [
    "Functions can return booleans, which is often convenient for hiding complicated tests inside functions. For example:"
   ]
  },
  {
   "cell_type": "code",
   "execution_count": 11,
   "metadata": {},
   "outputs": [
    {
     "data": {
      "text/plain": [
       "True"
      ]
     },
     "execution_count": 11,
     "metadata": {},
     "output_type": "execute_result"
    }
   ],
   "source": [
    "def is_divisible(x, y):\n",
    "    if x % y == 0:\n",
    "        return True\n",
    "    else:\n",
    "        return False\n",
    "\n",
    "is_divisible(6,3)"
   ]
  },
  {
   "cell_type": "markdown",
   "metadata": {},
   "source": [
    "It is common to give boolean functions names that sound like yes/no questions;\n",
    "\n",
    "Above, *is_divisible* returns either True or False to indicate whether *x* is divisible by *y*.\n",
    "\n",
    "The result of the == operator is a boolean, so we can write the function more concisely by returning it directly:"
   ]
  },
  {
   "cell_type": "code",
   "execution_count": 12,
   "metadata": {},
   "outputs": [
    {
     "data": {
      "text/plain": [
       "True"
      ]
     },
     "execution_count": 12,
     "metadata": {},
     "output_type": "execute_result"
    }
   ],
   "source": [
    "def is_divisible(x, y):\n",
    "    return x % y == 0\n",
    "\n",
    "is_divisible(6,3)"
   ]
  },
  {
   "cell_type": "markdown",
   "metadata": {},
   "source": [
    "As an exercise, write a function is_between(x, y, z) that returns True if $x <= y <= z$ or False otherwise."
   ]
  },
  {
   "cell_type": "code",
   "execution_count": 13,
   "metadata": {},
   "outputs": [
    {
     "data": {
      "text/plain": [
       "True"
      ]
     },
     "execution_count": 13,
     "metadata": {},
     "output_type": "execute_result"
    }
   ],
   "source": [
    "def is_between(x,y,z):\n",
    "    return x<=y<=z\n",
    "\n",
    "is_between(1,2,3)"
   ]
  },
  {
   "cell_type": "markdown",
   "metadata": {},
   "source": [
    "We have only covered a small subset of Python, but you might be interested to know that this subset is a complete programming language, which means that anything that can be computed can be expressed in this language. Any program ever written could be rewritten using only the language features you have learned so far (actually, you would need a few commands to control devices like the mouse, disks, etc., but that’s all).\n",
    "\n",
    "Proving that claim is a nontrivial exercise first accomplished by Alan Turing. Accordingly, it is known as the **Turing Thesis**."
   ]
  },
  {
   "cell_type": "markdown",
   "metadata": {},
   "source": [
    "If you can write a recursive definition of something, you can write a Python program to\n",
    "evaluate it.\n",
    "\n",
    "We are going to take a look at a function for calculating the factorial of a number."
   ]
  },
  {
   "cell_type": "markdown",
   "metadata": {},
   "source": [
    "The first step is to decide what the parameters should be. In this case it should be clear that factorial takes an integer.\n",
    "\n",
    "If the argument happens to be 0, all we have to do is return 1:"
   ]
  },
  {
   "cell_type": "code",
   "execution_count": 14,
   "metadata": {},
   "outputs": [],
   "source": [
    "def factorial(n):\n",
    "    if n == 0:\n",
    "        return 1"
   ]
  },
  {
   "cell_type": "markdown",
   "metadata": {},
   "source": [
    "Otherwise, and this is the interesting part, we have to make a recursive call to find the factorial of $n-1$ and then multiply it by $n$:"
   ]
  },
  {
   "cell_type": "code",
   "execution_count": 15,
   "metadata": {},
   "outputs": [],
   "source": [
    "def factorial(n):\n",
    "    if n == 0:\n",
    "        return 1\n",
    "    else:\n",
    "        recurse = factorial(n-1)\n",
    "        result = n * recurse\n",
    "        return result"
   ]
  },
  {
   "cell_type": "markdown",
   "metadata": {},
   "source": [
    "If we call factorial with the value 3:\n",
    "\n",
    ">Since 3 is not 0, we take the second branch and calculate the factorial of n-1...\n",
    "\n",
    ">Since 2 is not 0, we take the second branch and calculate the factorial of n-1...\n",
    "\n",
    ">Since 1 is not 0, we take the second branch and calculate the factorial of n-1...\n",
    "\n",
    ">Since 0 equals 0, we take the first branch and return 1 without making any more recursive calls.\n",
    "\n",
    ">The return value, 1, is multiplied by n, which is 1, and the result is returned.\n",
    "\n",
    ">The return value, 1, is multiplied by n, which is 2, and the result is returned.\n",
    "\n",
    ">The return value (2) is multiplied by n, which is 3, and the result, 6, becomes the return value of the function call that started the whole process."
   ]
  },
  {
   "cell_type": "markdown",
   "metadata": {
    "collapsed": true
   },
   "source": [
    "After factorial , the most common example of a recursively defined mathematical function is fibonacci;\n",
    "\n",
    "$$fib(0) = 0$$\n",
    "$$fib(1) = 1$$\n",
    "$$fib(n) = fib(n-1)+fib(n-2)$$"
   ]
  },
  {
   "cell_type": "code",
   "execution_count": 16,
   "metadata": {},
   "outputs": [
    {
     "data": {
      "text/plain": [
       "8"
      ]
     },
     "execution_count": 16,
     "metadata": {},
     "output_type": "execute_result"
    }
   ],
   "source": [
    "def fib(n):\n",
    "    if n == 0:\n",
    "        return 0\n",
    "    if n == 1:\n",
    "        return 1\n",
    "    else:\n",
    "        return fib(n-1)+fib(n-2)\n",
    "    \n",
    "fib(6)"
   ]
  },
  {
   "cell_type": "markdown",
   "metadata": {},
   "source": [
    "What happens if we call factorial and give it 1.5 as an argument?"
   ]
  },
  {
   "cell_type": "code",
   "execution_count": 17,
   "metadata": {},
   "outputs": [
    {
     "ename": "RecursionError",
     "evalue": "maximum recursion depth exceeded in comparison",
     "output_type": "error",
     "traceback": [
      "\u001b[0;31m---------------------------------------------------------------------------\u001b[0m",
      "\u001b[0;31mRecursionError\u001b[0m                            Traceback (most recent call last)",
      "\u001b[0;32m<ipython-input-17-e28385ff5339>\u001b[0m in \u001b[0;36m<module>\u001b[0;34m()\u001b[0m\n\u001b[0;32m----> 1\u001b[0;31m \u001b[0mfactorial\u001b[0m\u001b[0;34m(\u001b[0m\u001b[0;36m1.5\u001b[0m\u001b[0;34m)\u001b[0m\u001b[0;34m\u001b[0m\u001b[0m\n\u001b[0m",
      "\u001b[0;32m<ipython-input-15-e2257ac15153>\u001b[0m in \u001b[0;36mfactorial\u001b[0;34m(n)\u001b[0m\n\u001b[1;32m      3\u001b[0m         \u001b[0;32mreturn\u001b[0m \u001b[0;36m1\u001b[0m\u001b[0;34m\u001b[0m\u001b[0m\n\u001b[1;32m      4\u001b[0m     \u001b[0;32melse\u001b[0m\u001b[0;34m:\u001b[0m\u001b[0;34m\u001b[0m\u001b[0m\n\u001b[0;32m----> 5\u001b[0;31m         \u001b[0mrecurse\u001b[0m \u001b[0;34m=\u001b[0m \u001b[0mfactorial\u001b[0m\u001b[0;34m(\u001b[0m\u001b[0mn\u001b[0m\u001b[0;34m-\u001b[0m\u001b[0;36m1\u001b[0m\u001b[0;34m)\u001b[0m\u001b[0;34m\u001b[0m\u001b[0m\n\u001b[0m\u001b[1;32m      6\u001b[0m         \u001b[0mresult\u001b[0m \u001b[0;34m=\u001b[0m \u001b[0mn\u001b[0m \u001b[0;34m*\u001b[0m \u001b[0mrecurse\u001b[0m\u001b[0;34m\u001b[0m\u001b[0m\n\u001b[1;32m      7\u001b[0m         \u001b[0;32mreturn\u001b[0m \u001b[0mresult\u001b[0m\u001b[0;34m\u001b[0m\u001b[0m\n",
      "... last 1 frames repeated, from the frame below ...\n",
      "\u001b[0;32m<ipython-input-15-e2257ac15153>\u001b[0m in \u001b[0;36mfactorial\u001b[0;34m(n)\u001b[0m\n\u001b[1;32m      3\u001b[0m         \u001b[0;32mreturn\u001b[0m \u001b[0;36m1\u001b[0m\u001b[0;34m\u001b[0m\u001b[0m\n\u001b[1;32m      4\u001b[0m     \u001b[0;32melse\u001b[0m\u001b[0;34m:\u001b[0m\u001b[0;34m\u001b[0m\u001b[0m\n\u001b[0;32m----> 5\u001b[0;31m         \u001b[0mrecurse\u001b[0m \u001b[0;34m=\u001b[0m \u001b[0mfactorial\u001b[0m\u001b[0;34m(\u001b[0m\u001b[0mn\u001b[0m\u001b[0;34m-\u001b[0m\u001b[0;36m1\u001b[0m\u001b[0;34m)\u001b[0m\u001b[0;34m\u001b[0m\u001b[0m\n\u001b[0m\u001b[1;32m      6\u001b[0m         \u001b[0mresult\u001b[0m \u001b[0;34m=\u001b[0m \u001b[0mn\u001b[0m \u001b[0;34m*\u001b[0m \u001b[0mrecurse\u001b[0m\u001b[0;34m\u001b[0m\u001b[0m\n\u001b[1;32m      7\u001b[0m         \u001b[0;32mreturn\u001b[0m \u001b[0mresult\u001b[0m\u001b[0;34m\u001b[0m\u001b[0m\n",
      "\u001b[0;31mRecursionError\u001b[0m: maximum recursion depth exceeded in comparison"
     ]
    }
   ],
   "source": [
    "factorial(1.5)"
   ]
  },
  {
   "cell_type": "markdown",
   "metadata": {},
   "source": [
    "Infinite recursion error because out base case is ==0, with 1.5, it will never be 0. We have two choices. We can try to generalize the factorial function to work with floating-point numbers, or we can make factorial check the type of its argument. The first option is called the gamma function and it’s a little beyond the scope of this book. So\n",
    "we’ll go for the second.\n",
    "\n",
    "We can use the built-in function **isinstance** to verify the type of the argument. While we’re at it, we can also make sure the argument is positive:"
   ]
  },
  {
   "cell_type": "code",
   "execution_count": 18,
   "metadata": {},
   "outputs": [
    {
     "name": "stdout",
     "output_type": "stream",
     "text": [
      "Only works for integers...\n",
      "None\n",
      "You gotta be more positive!\n",
      "None\n",
      "1\n",
      "6\n"
     ]
    }
   ],
   "source": [
    "def factorial(n):\n",
    "    if not isinstance(n,int):\n",
    "        print(\"Only works for integers...\")\n",
    "    elif n < 0:\n",
    "        print(\"You gotta be more positive!\")\n",
    "    elif n == 0:\n",
    "        return 1\n",
    "    else:\n",
    "        return n * factorial(n-1)\n",
    "\n",
    "print(factorial('Ay'))\n",
    "print(factorial(-1))\n",
    "print(factorial(0))\n",
    "print(factorial(3))"
   ]
  },
  {
   "cell_type": "markdown",
   "metadata": {},
   "source": [
    "This program demonstrates a pattern sometimes called a guardian. The first two condtionals act as guardians, protecting the code that follows from values that might cause an error."
   ]
  },
  {
   "cell_type": "markdown",
   "metadata": {},
   "source": [
    "**Debugging**\n",
    "\n",
    "Breaking a large program into smaller functions creates natural checkpoints for debugging.\n",
    "If a function is not working, there are three possibilities to consider:\n",
    "\n",
    "• There is something wrong with the arguments the function is getting; a precondition is violated.\n",
    "\n",
    "• There is something wrong with the function; a postcondition is violated.\n",
    "\n",
    "• There is something wrong with the return value or the way it is being used.\n",
    "\n",
    "\n",
    "To rule out the first possibility, you can add a print statement at the beginning of the function and display the values of the parameters (and maybe their types). Or you can write code that checks the preconditions explicitly. If the parameters look good, add a print statement before each return statement and display the return value. If possible, check the result by hand. Consider calling the function with values that make it easy to check the result.\n",
    "\n",
    "Adding print statements at the beginning and end of a function can help make the flow of\n",
    "execution more visible. For example, here is a version of factorial with print statements:"
   ]
  },
  {
   "cell_type": "code",
   "execution_count": 19,
   "metadata": {},
   "outputs": [
    {
     "name": "stdout",
     "output_type": "stream",
     "text": [
      "                 factorial 4\n",
      "             factorial 3\n",
      "         factorial 2\n",
      "     factorial 1\n",
      " factorial 0\n",
      " returning 1\n",
      "     returning 1\n",
      "         returning 2\n",
      "             returning 6\n",
      "                 returning 24\n"
     ]
    },
    {
     "data": {
      "text/plain": [
       "24"
      ]
     },
     "execution_count": 19,
     "metadata": {},
     "output_type": "execute_result"
    }
   ],
   "source": [
    "def factorial(n):\n",
    "    space = ' ' * (4 * n)\n",
    "    print(space, 'factorial', n)\n",
    "    if n == 0:\n",
    "        print(space, 'returning 1')\n",
    "        return 1\n",
    "    else:\n",
    "        recurse = factorial(n-1)\n",
    "        result = n * recurse\n",
    "        print(space, 'returning', result)\n",
    "        return result\n",
    "    \n",
    "factorial(4)"
   ]
  },
  {
   "cell_type": "markdown",
   "metadata": {},
   "source": [
    "### Glossary\n",
    "\n",
    "**temporary variable:** A variable used to store an intermediate value in a complex calculation.\n",
    "\n",
    "\n",
    "**dead code:** Part of a program that can never run, often because it appears after a return statement.\n",
    "\n",
    "\n",
    "**incremental development:** A program development plan intended to avoid debugging by adding and testing only a small amount of code at a time.\n",
    "\n",
    "\n",
    "**scaffolding:** Code that is used during program development but is not part of the final version.\n",
    "\n",
    "\n",
    "**guardian:** A programming pattern that uses a conditional statement to check for and handle circumstances that might cause an error."
   ]
  },
  {
   "cell_type": "markdown",
   "metadata": {},
   "source": [
    "### Exercises\n",
    "\n",
    "**Exercise 6.1.** Draw a stack diagram for the following program. What does the program print?"
   ]
  },
  {
   "cell_type": "code",
   "execution_count": 20,
   "metadata": {},
   "outputs": [],
   "source": [
    "#I thought about learning how to display my own images in the notebook, so I could draw a stack diagram and insert it\n",
    "#but because this is mostly for my own practice I just drew it and also commented out my thought process below\n",
    "\n",
    "x = 1\n",
    "y = x + 1\n",
    "\n",
    "def b(z): #>input here is total from function c, which is 9\n",
    "    prod = a(z, z) #>looks like we need to go to function a, follow the >>\n",
    "    #>after going to fucntion a, we know prod is going to be equal to 90\n",
    "    print(z, prod) #>this will output 9 90 to the screen\n",
    "    return prod #>this is what we'll return to function c, it is prod, which is equal to 90\n",
    "\n",
    "def a(x, y): #>>input is 9,9 which comes from the total in function c used as parameter z in function b\n",
    "    x = x + 1 #>>x is equal to 9, so this set x equal to 9+1, which is 10\n",
    "    return x * y #>>let's return 10*9, which is 90\n",
    "\n",
    "def c(x, y, z):\n",
    "    total = x + y + z #adding x+y+z, so in our example this is 1+5+3, so total=9\n",
    "    square = b(total)**2 #let's go to function b to see what happens follow the >\n",
    "    #b(total) ends up equal to 90, so now we 90 squared which is 8100 and we are setting it to variable square\n",
    "    return square #return square and because we are using print in our call, this will show to the screen 8100"
   ]
  },
  {
   "cell_type": "code",
   "execution_count": 21,
   "metadata": {},
   "outputs": [
    {
     "name": "stdout",
     "output_type": "stream",
     "text": [
      "9 90\n",
      "8100\n"
     ]
    }
   ],
   "source": [
    "print(c(x, y+3, x+y))"
   ]
  },
  {
   "cell_type": "markdown",
   "metadata": {},
   "source": [
    "**Exercise 6.2.** The Ackermann function, A ( m, n ) , is defined:\n",
    "\n",
    "\\begin{equation}\n",
    "  A(m,n) = \\left \\{\n",
    "  \\begin{aligned}\n",
    "    &n+1, && \\text{if}\\ m=0 \\\\\n",
    "    &A(m-1,1), && \\text{if}\\ m>0 \\text{ and}\\ n =0\\\\\n",
    "    &A(m-1,A(m,n-1) && \\text{if}\\ m>0 \\text{ and}\\ n>0\n",
    "  \\end{aligned} \\right.\n",
    "\\end{equation} \n",
    "\n",
    "Write a function named *ack* that evaluates the Ackermann function. Use your function to evaluate *ack(3, 4)*, which should be 125. What happens for larger values of $m$ and $n$?"
   ]
  },
  {
   "cell_type": "code",
   "execution_count": 22,
   "metadata": {},
   "outputs": [
    {
     "data": {
      "text/plain": [
       "125"
      ]
     },
     "execution_count": 22,
     "metadata": {},
     "output_type": "execute_result"
    }
   ],
   "source": [
    "def ack(m,n):\n",
    "    if not isinstance(m,int) or not isinstance(n,int):\n",
    "        return \"GET OUT OF HERE!\"\n",
    "    elif (m<0) or (n<0):\n",
    "        return \"Not covered by the Ackermann function.\"\n",
    "    elif m == 0:\n",
    "        return n + 1\n",
    "    elif (m>0) and (n==0):\n",
    "        return ack((m-1),1)\n",
    "    else:\n",
    "        return ack((m-1),ack(m,(n-1)))\n",
    "\n",
    "ack(3,4) #works"
   ]
  },
  {
   "cell_type": "code",
   "execution_count": null,
   "metadata": {},
   "outputs": [],
   "source": [
    "#ack(2000000,40404040404) for very large calls we reach a maximum recursion depth"
   ]
  },
  {
   "cell_type": "markdown",
   "metadata": {},
   "source": [
    "**Exercise 6.3.** A palindrome is a word that is spelled the same backward and forward, like “noon” and “redivider”. Recursively, a word is a palindrome if the first and last letters are the same and the middle is a palindrome."
   ]
  },
  {
   "cell_type": "code",
   "execution_count": 23,
   "metadata": {},
   "outputs": [],
   "source": [
    "def first(word):\n",
    "    return word[0]\n",
    "def last(word):\n",
    "    return word[-1]\n",
    "def middle(word):\n",
    "    return word[1:-1]"
   ]
  },
  {
   "cell_type": "code",
   "execution_count": 24,
   "metadata": {},
   "outputs": [],
   "source": [
    "def is_palindrome(word):\n",
    "    if not isinstance(word,str):\n",
    "        return \"This isn't even of the right format, so of course it's not a palindrome!\"\n",
    "    #print(len(word))\n",
    "    if len(word) == 1:\n",
    "        return True\n",
    "    elif len(word) == 2:\n",
    "        #print('first: ', first(word), 'last: ', last(word))\n",
    "        return first(word) == last(word)\n",
    "    else:\n",
    "        #print(('first: ', first(word), 'middle: ', middle(word), 'last: ', last(word)))\n",
    "        return first(word) == last(word) and is_palindrome(middle(word))"
   ]
  },
  {
   "cell_type": "code",
   "execution_count": 25,
   "metadata": {},
   "outputs": [
    {
     "name": "stdout",
     "output_type": "stream",
     "text": [
      "True\n",
      "True\n",
      "False\n",
      "True\n",
      "True\n",
      "False\n",
      "This isn't even of the right format, so of course it's not a palindrome!\n"
     ]
    }
   ],
   "source": [
    "print(is_palindrome('a'))\n",
    "print(is_palindrome('bb'))\n",
    "print(is_palindrome('bc'))\n",
    "print(is_palindrome('bob'))\n",
    "print(is_palindrome('racecar'))\n",
    "print(is_palindrome('808heartbreak'))\n",
    "print(is_palindrome(808))"
   ]
  },
  {
   "cell_type": "markdown",
   "metadata": {},
   "source": [
    "**Exercise 6.4.** A number, $a$, is a power of $b$ if it is divisible by $b$ and $\\frac{a}{b}$ is a power of $b$. Write a function called *is_power* that takes parameters $a$ and $b$ and returns **True** if $a$ is a power of $b$ . **Note:** you will have to think about the base case."
   ]
  },
  {
   "cell_type": "code",
   "execution_count": 26,
   "metadata": {},
   "outputs": [
    {
     "name": "stdout",
     "output_type": "stream",
     "text": [
      "16384\n",
      "True\n",
      "False\n"
     ]
    }
   ],
   "source": [
    "def is_power(a,b):\n",
    "    if a==b or a==1:\n",
    "        return True\n",
    "    else:\n",
    "        return (a%b==0) and is_power((a/b),b)\n",
    "\n",
    "print(4**7)\n",
    "print(is_power(16384,4))\n",
    "print(is_power(17586,4))"
   ]
  },
  {
   "cell_type": "markdown",
   "metadata": {},
   "source": [
    "**Exercise 6.5.** The greatest common divisor (GCD) of $a$ and $b$ is the largest number that divides both of them with **no remainder**. One way to find the GCD of two numbers is based on the observation that if $r$ is the remainder when $a$ is divided by $b$, then $gcd(a,b) = gcd(b,r)$. As a base case, we can use $gcd(a,0)=a$. \n",
    "\n",
    "Write a function called *gcd* that takes parameters $a$ and $b$ and returns their greatest common divisor."
   ]
  },
  {
   "cell_type": "code",
   "execution_count": 27,
   "metadata": {},
   "outputs": [],
   "source": [
    "def gcd(a,b):\n",
    "    if a%b==0:\n",
    "        return b\n",
    "    elif b%a == 0:\n",
    "        return a\n",
    "    else:\n",
    "        return gcd(b, (a%b))"
   ]
  },
  {
   "cell_type": "code",
   "execution_count": 28,
   "metadata": {},
   "outputs": [
    {
     "data": {
      "text/plain": [
       "50"
      ]
     },
     "execution_count": 28,
     "metadata": {},
     "output_type": "execute_result"
    }
   ],
   "source": [
    "gcd(100,10050) #works, tested a few examples, but didn't list them out this time."
   ]
  },
  {
   "cell_type": "code",
   "execution_count": null,
   "metadata": {},
   "outputs": [],
   "source": []
  }
 ],
 "metadata": {
  "kernelspec": {
   "display_name": "Python 3",
   "language": "python",
   "name": "python3"
  },
  "language_info": {
   "codemirror_mode": {
    "name": "ipython",
    "version": 3
   },
   "file_extension": ".py",
   "mimetype": "text/x-python",
   "name": "python",
   "nbconvert_exporter": "python",
   "pygments_lexer": "ipython3",
   "version": "3.6.1"
  }
 },
 "nbformat": 4,
 "nbformat_minor": 2
}
