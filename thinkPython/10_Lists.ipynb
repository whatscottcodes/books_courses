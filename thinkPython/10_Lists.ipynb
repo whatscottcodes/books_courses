{
 "cells": [
  {
   "cell_type": "markdown",
   "metadata": {
    "collapsed": true
   },
   "source": [
    "## Chapter 10 - Lists"
   ]
  },
  {
   "cell_type": "markdown",
   "metadata": {},
   "source": [
    "Like a string, a **list** is a sequence of values. In a string, the values are characters; in a list, they can be any type. The values in a list are called **elements** or sometimes items.\n",
    "\n",
    "There are several ways to create a new list; the simplest is to enclose the elements in square brackets ([ and ]):"
   ]
  },
  {
   "cell_type": "code",
   "execution_count": 1,
   "metadata": {},
   "outputs": [
    {
     "data": {
      "text/plain": [
       "['hello', 'neighbor', 'have', 'a', 'ganseett']"
      ]
     },
     "execution_count": 1,
     "metadata": {},
     "output_type": "execute_result"
    }
   ],
   "source": [
    "[20,30,40]\n",
    "[\"hello\", 'neighbor', 'have', 'a' , 'ganseett']"
   ]
  },
  {
   "cell_type": "markdown",
   "metadata": {},
   "source": [
    "A list within another list is **nested**."
   ]
  },
  {
   "cell_type": "markdown",
   "metadata": {},
   "source": [
    "A list that contains no elements is called an **empty list**; you can create one with empty brackets, [].\n",
    "\n",
    "As you might expect, you can assign list values to variables:"
   ]
  },
  {
   "cell_type": "code",
   "execution_count": 2,
   "metadata": {},
   "outputs": [],
   "source": [
    "rappers = ['Ye', 'Jay', 'LD']"
   ]
  },
  {
   "cell_type": "markdown",
   "metadata": {},
   "source": [
    "The syntax for accessing the elements of a list is the same as for accessing the characters of a string the bracket operator. The expression inside the brackets specifies the index."
   ]
  },
  {
   "cell_type": "code",
   "execution_count": 3,
   "metadata": {},
   "outputs": [
    {
     "data": {
      "text/plain": [
       "'Ye'"
      ]
     },
     "execution_count": 3,
     "metadata": {},
     "output_type": "execute_result"
    }
   ],
   "source": [
    "rappers[0]"
   ]
  },
  {
   "cell_type": "markdown",
   "metadata": {},
   "source": [
    "Unlike strings, lists are mutable. When the bracket operator appears on the left side of an assignment, it identifies the element of the list that will be assigned."
   ]
  },
  {
   "cell_type": "code",
   "execution_count": 4,
   "metadata": {},
   "outputs": [],
   "source": [
    "rappers[2] = 'Bino'"
   ]
  },
  {
   "cell_type": "code",
   "execution_count": 5,
   "metadata": {},
   "outputs": [
    {
     "data": {
      "text/plain": [
       "['Ye', 'Jay', 'Bino']"
      ]
     },
     "execution_count": 5,
     "metadata": {},
     "output_type": "execute_result"
    }
   ],
   "source": [
    "rappers"
   ]
  },
  {
   "cell_type": "markdown",
   "metadata": {},
   "source": [
    "The most common way to traverse the elements of a list is with a for loop. The syntax is the same as for strings:"
   ]
  },
  {
   "cell_type": "code",
   "execution_count": 6,
   "metadata": {},
   "outputs": [
    {
     "name": "stdout",
     "output_type": "stream",
     "text": [
      "Ye\n",
      "Jay\n",
      "Bino\n"
     ]
    }
   ],
   "source": [
    "for rapper in rappers:\n",
    "    print(rapper)"
   ]
  },
  {
   "cell_type": "markdown",
   "metadata": {},
   "source": [
    "This works well if you only need to read the elements of the list. But if you want to write or update the elements, you need the indices. A common way to do that is to combine the built-in functions range and len:"
   ]
  },
  {
   "cell_type": "code",
   "execution_count": 7,
   "metadata": {},
   "outputs": [
    {
     "data": {
      "text/plain": [
       "[46, 48, 24, 66]"
      ]
     },
     "execution_count": 7,
     "metadata": {},
     "output_type": "execute_result"
    }
   ],
   "source": [
    "numbers = [23,24,12,33]\n",
    "\n",
    "for i in range(0,len(numbers)):\n",
    "    numbers[i] = numbers[i] * 2\n",
    "    \n",
    "numbers"
   ]
  },
  {
   "cell_type": "markdown",
   "metadata": {},
   "source": [
    "Although a list can contain another list, the nested list still counts as a single element."
   ]
  },
  {
   "cell_type": "code",
   "execution_count": 8,
   "metadata": {},
   "outputs": [
    {
     "data": {
      "text/plain": [
       "4"
      ]
     },
     "execution_count": 8,
     "metadata": {},
     "output_type": "execute_result"
    }
   ],
   "source": [
    "nested = [['robin', 'blue jay'], ['quail','swan','goose'], ['duck', 'chicken'],['helmet', 'lang', 'visvim']]\n",
    "len(nested)"
   ]
  },
  {
   "cell_type": "markdown",
   "metadata": {},
   "source": [
    "The + operator concatenates lists and the * operator repeats a list a given number of times:"
   ]
  },
  {
   "cell_type": "code",
   "execution_count": 9,
   "metadata": {},
   "outputs": [
    {
     "name": "stdout",
     "output_type": "stream",
     "text": [
      "[1, 2, 3, 4, 5, 6]\n",
      "[0, 0, 0, 0]\n",
      "[1, 2, 3, 1, 2, 3, 1, 2, 3]\n"
     ]
    }
   ],
   "source": [
    "a = [1, 2, 3]\n",
    "b = [4, 5, 6]\n",
    "print(a + b)\n",
    "print([0] * 4)\n",
    "print([1, 2, 3] * 3)"
   ]
  },
  {
   "cell_type": "markdown",
   "metadata": {},
   "source": [
    "The slice operator also works on lists:"
   ]
  },
  {
   "cell_type": "code",
   "execution_count": 10,
   "metadata": {},
   "outputs": [
    {
     "data": {
      "text/plain": [
       "['Ye', 'Jay']"
      ]
     },
     "execution_count": 10,
     "metadata": {},
     "output_type": "execute_result"
    }
   ],
   "source": [
    "rappers[:2]"
   ]
  },
  {
   "cell_type": "markdown",
   "metadata": {},
   "source": [
    "If you omit the first index, the slice starts at the beginning. If you omit the second, the slice goes to the end. So if you omit both, the slice is a copy of the whole list."
   ]
  },
  {
   "cell_type": "code",
   "execution_count": 11,
   "metadata": {},
   "outputs": [
    {
     "data": {
      "text/plain": [
       "['Ye', 'Jay', 'Bino']"
      ]
     },
     "execution_count": 11,
     "metadata": {},
     "output_type": "execute_result"
    }
   ],
   "source": [
    "rappers[:]"
   ]
  },
  {
   "cell_type": "markdown",
   "metadata": {},
   "source": [
    "Since lists are mutable, it is often useful to make a copy before performing operations that modify lists.\n",
    "\n",
    "A slice operator on the left side of an assignment can update multiple elements:"
   ]
  },
  {
   "cell_type": "code",
   "execution_count": 12,
   "metadata": {},
   "outputs": [],
   "source": [
    "rappers[0:2] = ['Doom', 'Kendrick']"
   ]
  },
  {
   "cell_type": "code",
   "execution_count": 13,
   "metadata": {},
   "outputs": [
    {
     "data": {
      "text/plain": [
       "['Doom', 'Kendrick', 'Bino']"
      ]
     },
     "execution_count": 13,
     "metadata": {},
     "output_type": "execute_result"
    }
   ],
   "source": [
    "rappers"
   ]
  },
  {
   "cell_type": "markdown",
   "metadata": {},
   "source": [
    "Python provides methods that operate on lists. For example, **append** adds a new element to the end of a list:"
   ]
  },
  {
   "cell_type": "code",
   "execution_count": 14,
   "metadata": {},
   "outputs": [],
   "source": [
    "rappers.append('Vince')"
   ]
  },
  {
   "cell_type": "code",
   "execution_count": 15,
   "metadata": {},
   "outputs": [
    {
     "data": {
      "text/plain": [
       "['Doom', 'Kendrick', 'Bino', 'Vince']"
      ]
     },
     "execution_count": 15,
     "metadata": {},
     "output_type": "execute_result"
    }
   ],
   "source": [
    "rappers"
   ]
  },
  {
   "cell_type": "markdown",
   "metadata": {},
   "source": [
    "**extend** takes a list as an argument and appends all of the elements:"
   ]
  },
  {
   "cell_type": "code",
   "execution_count": 16,
   "metadata": {},
   "outputs": [
    {
     "data": {
      "text/plain": [
       "['Doom', 'Kendrick', 'Bino', 'Vince', 'Ye', 'Jay', 'Ja', 'BIG']"
      ]
     },
     "execution_count": 16,
     "metadata": {},
     "output_type": "execute_result"
    }
   ],
   "source": [
    "rappers2 = ['Ye', 'Jay', 'Ja', 'BIG']\n",
    "\n",
    "rappers.extend(rappers2)\n",
    "\n",
    "rappers"
   ]
  },
  {
   "cell_type": "markdown",
   "metadata": {},
   "source": [
    "**sort** arranges the elements of the list from low to high:"
   ]
  },
  {
   "cell_type": "code",
   "execution_count": 17,
   "metadata": {},
   "outputs": [
    {
     "data": {
      "text/plain": [
       "['BIG', 'Bino', 'Doom', 'Ja', 'Jay', 'Kendrick', 'Vince', 'Ye']"
      ]
     },
     "execution_count": 17,
     "metadata": {},
     "output_type": "execute_result"
    }
   ],
   "source": [
    "rappers.sort()\n",
    "\n",
    "rappers"
   ]
  },
  {
   "cell_type": "markdown",
   "metadata": {},
   "source": [
    "Adding up the elements of a list is such a common operation that Python provides it as a built-in function, **sum**:"
   ]
  },
  {
   "cell_type": "code",
   "execution_count": 18,
   "metadata": {},
   "outputs": [
    {
     "data": {
      "text/plain": [
       "184"
      ]
     },
     "execution_count": 18,
     "metadata": {},
     "output_type": "execute_result"
    }
   ],
   "source": [
    "sum(numbers)"
   ]
  },
  {
   "cell_type": "markdown",
   "metadata": {},
   "source": [
    "An operation like this that combines a sequence of elements into a single value is sometimes called **reduce**."
   ]
  },
  {
   "cell_type": "markdown",
   "metadata": {},
   "source": [
    "An operation like capitalize_all is sometimes called a **map** because it “maps” a function (in this case the method capitalize) onto each of the elements in a sequence."
   ]
  },
  {
   "cell_type": "code",
   "execution_count": 19,
   "metadata": {},
   "outputs": [
    {
     "data": {
      "text/plain": [
       "['Big', 'Bino', 'Doom', 'Ja', 'Jay', 'Kendrick', 'Vince', 'Ye']"
      ]
     },
     "execution_count": 19,
     "metadata": {},
     "output_type": "execute_result"
    }
   ],
   "source": [
    "def capitalize_all(t):\n",
    "    res = []\n",
    "    for s in t:\n",
    "        res.append(s.capitalize())\n",
    "    return res\n",
    "\n",
    "capitalize_all(rappers)"
   ]
  },
  {
   "cell_type": "markdown",
   "metadata": {},
   "source": [
    "An operation like only_upper is called a **filter** because it selects some of the elements and filters out the others."
   ]
  },
  {
   "cell_type": "code",
   "execution_count": 20,
   "metadata": {},
   "outputs": [
    {
     "data": {
      "text/plain": [
       "['CAM']"
      ]
     },
     "execution_count": 20,
     "metadata": {},
     "output_type": "execute_result"
    }
   ],
   "source": [
    "def only_upper(t):\n",
    "    res = []\n",
    "    for s in t:\n",
    "        if s.isupper():\n",
    "            res.append(s)\n",
    "    return res\n",
    "\n",
    "killas = ['CAM', 'jim jones', 'Santana']\n",
    "\n",
    "only_upper(killas)"
   ]
  },
  {
   "cell_type": "markdown",
   "metadata": {},
   "source": [
    "There are several ways to delete elements from a list. If you know the index of the element you want, you can use **pop.**\n",
    "\n",
    "pop modifies the list and returns the element that was removed. If you don’t provide an index, it deletes and returns the last element."
   ]
  },
  {
   "cell_type": "code",
   "execution_count": 21,
   "metadata": {},
   "outputs": [
    {
     "name": "stdout",
     "output_type": "stream",
     "text": [
      "['CAM', 'Santana']\n",
      "jim jones\n"
     ]
    }
   ],
   "source": [
    "JJ = killas.pop(1)\n",
    "\n",
    "print(killas)\n",
    "print(JJ)"
   ]
  },
  {
   "cell_type": "markdown",
   "metadata": {},
   "source": [
    "If you don’t need the removed value, you can use the **del** operator:"
   ]
  },
  {
   "cell_type": "code",
   "execution_count": 22,
   "metadata": {},
   "outputs": [
    {
     "name": "stdout",
     "output_type": "stream",
     "text": [
      "['BIG', 'Bino', 'Doom', 'Ja', 'Jay', 'Kendrick', 'Vince', 'Ye']\n",
      "['BIG', 'Doom', 'Ja', 'Jay', 'Kendrick', 'Vince', 'Ye']\n"
     ]
    }
   ],
   "source": [
    "print(rappers)\n",
    "del rappers[1]\n",
    "print(rappers)"
   ]
  },
  {
   "cell_type": "markdown",
   "metadata": {},
   "source": [
    "If you know the element you want to remove (but not the index), you can use **remove**:"
   ]
  },
  {
   "cell_type": "code",
   "execution_count": 23,
   "metadata": {},
   "outputs": [
    {
     "name": "stdout",
     "output_type": "stream",
     "text": [
      "['BIG', 'Doom', 'Ja', 'Jay', 'Kendrick', 'Vince', 'Ye']\n",
      "['BIG', 'Doom', 'Jay', 'Kendrick', 'Vince', 'Ye']\n"
     ]
    }
   ],
   "source": [
    "print(rappers)\n",
    "rappers.remove('Ja')\n",
    "print(rappers)"
   ]
  },
  {
   "cell_type": "markdown",
   "metadata": {},
   "source": [
    "To remove more than one element, you can use del with a slice index:"
   ]
  },
  {
   "cell_type": "code",
   "execution_count": 24,
   "metadata": {},
   "outputs": [
    {
     "name": "stdout",
     "output_type": "stream",
     "text": [
      "['BIG', 'Kendrick', 'Vince', 'Ye']\n"
     ]
    }
   ],
   "source": [
    "del rappers[1:3]\n",
    "\n",
    "print(rappers)"
   ]
  },
  {
   "cell_type": "markdown",
   "metadata": {},
   "source": [
    "The list function breaks a string into individual letters. If you want to break a string into words, you can use the **split** method.\n",
    "\n",
    "An optional argument called a **delimiter** specifies which characters to use as word boundaries. The second example uses a hyphen as a delimiter.\n",
    "\n",
    "**join** is the inverse of split. It takes a list of strings and concatenates the elements. join is a string method, so you have to invoke it on the delimiter and pass the list as a parameter."
   ]
  },
  {
   "cell_type": "code",
   "execution_count": 25,
   "metadata": {},
   "outputs": [
    {
     "name": "stdout",
     "output_type": "stream",
     "text": [
      "['pining', 'for', 'the', 'fjords']\n",
      "['spam', 'spam', 'spam']\n",
      "pining for the fjords\n"
     ]
    }
   ],
   "source": [
    "s = 'pining for the fjords'\n",
    "t = s.split()\n",
    "print(t)\n",
    "\n",
    "spam = 'spam-spam-spam'\n",
    "delimiter = '-'\n",
    "tspam = spam.split(delimiter)\n",
    "print(tspam)\n",
    "\n",
    "delimiter = ' '\n",
    "s = delimiter.join(t)\n",
    "print(s)"
   ]
  },
  {
   "cell_type": "markdown",
   "metadata": {},
   "source": [
    "If we run these assignment statements:"
   ]
  },
  {
   "cell_type": "code",
   "execution_count": 26,
   "metadata": {},
   "outputs": [],
   "source": [
    "a = 'banana'\n",
    "b = 'banana'"
   ]
  },
  {
   "cell_type": "markdown",
   "metadata": {},
   "source": [
    "We know that a and b both refer to a string, but we don’t know whether they refer to the same string.\n",
    "\n",
    "To check whether two variables refer to the same object, you can use the is operator."
   ]
  },
  {
   "cell_type": "code",
   "execution_count": 27,
   "metadata": {},
   "outputs": [
    {
     "data": {
      "text/plain": [
       "True"
      ]
     },
     "execution_count": 27,
     "metadata": {},
     "output_type": "execute_result"
    }
   ],
   "source": [
    "a is b"
   ]
  },
  {
   "cell_type": "markdown",
   "metadata": {},
   "source": [
    "In this example, Python only created one string object, and both a and b refer to it. But when you create two lists, you get two objects:"
   ]
  },
  {
   "cell_type": "code",
   "execution_count": 28,
   "metadata": {},
   "outputs": [
    {
     "data": {
      "text/plain": [
       "False"
      ]
     },
     "execution_count": 28,
     "metadata": {},
     "output_type": "execute_result"
    }
   ],
   "source": [
    "a = [1, 2, 3]\n",
    "b = [1, 2, 3]\n",
    "a is b"
   ]
  },
  {
   "cell_type": "markdown",
   "metadata": {},
   "source": [
    "In this case we would say that the two lists are **equivalent**, because they have the same elements, but not **identical**, because they are not the same object."
   ]
  },
  {
   "cell_type": "markdown",
   "metadata": {},
   "source": [
    "If *a* refers to an object and you assign *b = a*, then both variables refer to the same **object**:"
   ]
  },
  {
   "cell_type": "code",
   "execution_count": 29,
   "metadata": {},
   "outputs": [
    {
     "data": {
      "text/plain": [
       "True"
      ]
     },
     "execution_count": 29,
     "metadata": {},
     "output_type": "execute_result"
    }
   ],
   "source": [
    "a = [1, 2, 3]\n",
    "b = a\n",
    "b is a"
   ]
  },
  {
   "cell_type": "markdown",
   "metadata": {},
   "source": [
    "The association of a variable with an object is called a **reference**. In this example, there are two references to the same object.\n",
    "\n",
    "\n",
    "An object with more than one reference has *more than one name*, so we say that the object is **aliased**.\n",
    "\n",
    "\n",
    "If the aliased object is mutable, changes made with one alias affect the other:"
   ]
  },
  {
   "cell_type": "code",
   "execution_count": 30,
   "metadata": {},
   "outputs": [
    {
     "name": "stdout",
     "output_type": "stream",
     "text": [
      "[1, 2, 3]\n",
      "[42, 2, 3]\n"
     ]
    }
   ],
   "source": [
    "print(a)\n",
    "b[0] = 42\n",
    "print(a)"
   ]
  },
  {
   "cell_type": "markdown",
   "metadata": {},
   "source": [
    "Although this behavior can be useful, it is error-prone. In general, it is **safer to avoid aliasing** when you are working with mutable objects."
   ]
  },
  {
   "cell_type": "markdown",
   "metadata": {},
   "source": [
    "When you pass a list to a function, the function gets a reference to the list. If the function modifies the list, the caller sees the change."
   ]
  },
  {
   "cell_type": "code",
   "execution_count": 31,
   "metadata": {},
   "outputs": [
    {
     "data": {
      "text/plain": [
       "['b', 'c']"
      ]
     },
     "execution_count": 31,
     "metadata": {},
     "output_type": "execute_result"
    }
   ],
   "source": [
    "def delete_head(t):\n",
    "    del t[0]\n",
    "    \n",
    "letters = ['a', 'b', 'c']\n",
    "delete_head(letters)\n",
    "letters #even though delete_head isn't returning anything, it is still modifying the list"
   ]
  },
  {
   "cell_type": "markdown",
   "metadata": {},
   "source": [
    "The parameter t and the variable letters are **aliases for the same object**."
   ]
  },
  {
   "cell_type": "markdown",
   "metadata": {},
   "source": [
    "It is important to distinguish between operations that modify lists and operations that create new lists. For example, the append method modifies a list, but the + operator creates a new list."
   ]
  },
  {
   "cell_type": "markdown",
   "metadata": {},
   "source": [
    "This difference is important when you write functions that are supposed to modify lists. For example, this function does *not* delete the head of a list:"
   ]
  },
  {
   "cell_type": "code",
   "execution_count": 32,
   "metadata": {},
   "outputs": [
    {
     "data": {
      "text/plain": [
       "['a', 'b', 'c']"
      ]
     },
     "execution_count": 32,
     "metadata": {},
     "output_type": "execute_result"
    }
   ],
   "source": [
    "def bad_delete_head(t):\n",
    "    t = t[1:] # WRONG!\n",
    "    \n",
    "letters = ['a', 'b', 'c']\n",
    "bad_delete_head(letters)\n",
    "letters"
   ]
  },
  {
   "cell_type": "markdown",
   "metadata": {},
   "source": [
    "The slice operator creates a new list and the assignment makes t refer to it, but that doesn’t affect the caller.\n",
    "\n",
    "At the beginning of bad_delete_head, *t* and *t4* refer to the same list. At the end, *t* refers to a new list, but *t4* still refers to the original, unmodified list.\n",
    "\n",
    "\n",
    "An alternative is to write a function that creates and returns a new list. For example, tail returns all but the first element of a list:"
   ]
  },
  {
   "cell_type": "code",
   "execution_count": 33,
   "metadata": {},
   "outputs": [
    {
     "name": "stdout",
     "output_type": "stream",
     "text": [
      "['a', 'b', 'c']\n",
      "['b', 'c']\n"
     ]
    }
   ],
   "source": [
    "def tail(t):\n",
    "    return t[1:]\n",
    "\n",
    "letters = ['a', 'b', 'c']\n",
    "letters_tail = tail(letters)\n",
    "print(letters)\n",
    "print(letters_tail)"
   ]
  },
  {
   "cell_type": "markdown",
   "metadata": {},
   "source": [
    "This function leaves the original list unmodified."
   ]
  },
  {
   "cell_type": "markdown",
   "metadata": {},
   "source": [
    "**Debugging**\n",
    "\n",
    "Here\n",
    "are some common pitfalls and ways to avoid them:\n",
    "\n",
    "#### 1. Most list methods modify the argument and return None. This is the opposite of the string methods, which return a new string and leave the original alone.\n",
    "\n",
    "#### 2. Pick an idiom and stick with it.\n",
    "Part of the problem with lists is that there are too many ways to do things. For example, to remove an element from a list, you can use pop, remove, del, or even a slice assignment.\n",
    "\n",
    "To add an element, you can use the append method or the + operator."
   ]
  },
  {
   "cell_type": "code",
   "execution_count": 34,
   "metadata": {},
   "outputs": [
    {
     "name": "stdout",
     "output_type": "stream",
     "text": [
      "These are correct:\n",
      "[1, 2, 3, 4]\n",
      "[1, 2, 3, 4]\n",
      "[1, 2, 3, 4]\n",
      "And these are wrong:\n",
      "[1, 2, 3, [4]]\n",
      "None\n",
      "[1, 2, 3]\n"
     ]
    },
    {
     "ename": "TypeError",
     "evalue": "can only concatenate list (not \"int\") to list",
     "output_type": "error",
     "traceback": [
      "\u001b[0;31m---------------------------------------------------------------------------\u001b[0m",
      "\u001b[0;31mTypeError\u001b[0m                                 Traceback (most recent call last)",
      "\u001b[0;32m<ipython-input-34-345abf13e359>\u001b[0m in \u001b[0;36m<module>\u001b[0;34m()\u001b[0m\n\u001b[1;32m     21\u001b[0m \u001b[0mprint\u001b[0m\u001b[0;34m(\u001b[0m\u001b[0mt\u001b[0m\u001b[0;34m)\u001b[0m\u001b[0;34m\u001b[0m\u001b[0m\n\u001b[1;32m     22\u001b[0m \u001b[0mt\u001b[0m\u001b[0;34m=\u001b[0m\u001b[0;34m[\u001b[0m\u001b[0;36m1\u001b[0m\u001b[0;34m,\u001b[0m\u001b[0;36m2\u001b[0m\u001b[0;34m,\u001b[0m\u001b[0;36m3\u001b[0m\u001b[0;34m]\u001b[0m\u001b[0;34m\u001b[0m\u001b[0m\n\u001b[0;32m---> 23\u001b[0;31m \u001b[0mt\u001b[0m \u001b[0;34m=\u001b[0m \u001b[0mt\u001b[0m \u001b[0;34m+\u001b[0m \u001b[0mx\u001b[0m \u001b[0;31m# WRONG! -TypeError: can only concatenate list (not \"int\") to list\u001b[0m\u001b[0;34m\u001b[0m\u001b[0m\n\u001b[0m\u001b[1;32m     24\u001b[0m \u001b[0mprint\u001b[0m\u001b[0;34m(\u001b[0m\u001b[0mt\u001b[0m\u001b[0;34m)\u001b[0m\u001b[0;34m\u001b[0m\u001b[0m\n\u001b[1;32m     25\u001b[0m \u001b[0mt\u001b[0m\u001b[0;34m=\u001b[0m\u001b[0;34m[\u001b[0m\u001b[0;36m1\u001b[0m\u001b[0;34m,\u001b[0m\u001b[0;36m2\u001b[0m\u001b[0;34m,\u001b[0m\u001b[0;36m3\u001b[0m\u001b[0;34m]\u001b[0m\u001b[0;34m\u001b[0m\u001b[0m\n",
      "\u001b[0;31mTypeError\u001b[0m: can only concatenate list (not \"int\") to list"
     ]
    }
   ],
   "source": [
    "t=[1,2,3]\n",
    "x=4\n",
    "print('These are correct:')\n",
    "t.append(x)\n",
    "print(t)\n",
    "t=[1,2,3]\n",
    "t = t + [x]\n",
    "print(t)\n",
    "t=[1,2,3]\n",
    "t += [x]\n",
    "print(t)\n",
    "t=[1,2,3]\n",
    "print('And these are wrong:')\n",
    "t.append([x]) # WRONG!\n",
    "print(t)\n",
    "t=[1,2,3]\n",
    "t = t.append(x)# WRONG!\n",
    "print(t)\n",
    "t=[1,2,3]\n",
    "t + [x] # WRONG!\n",
    "print(t)\n",
    "t=[1,2,3]\n",
    "t = t + x # WRONG! -TypeError: can only concatenate list (not \"int\") to list\n",
    "print(t)\n",
    "t=[1,2,3]"
   ]
  },
  {
   "cell_type": "markdown",
   "metadata": {},
   "source": [
    "#### 3. Make copies to avoid aliasing.\n",
    "\n",
    "If you want to use a method like sort that modifies the argument, but you need to keep the original list as well, you can make a copy."
   ]
  },
  {
   "cell_type": "markdown",
   "metadata": {},
   "source": [
    "### Gloassry\n",
    "\n",
    "**list:** A sequence of values.\n",
    "\n",
    "\n",
    "**element:** One of the values in a list (or other sequence), also called items.\n",
    "\n",
    "\n",
    "**nested list:** A list that is an element of another list.\n",
    "\n",
    "\n",
    "**accumulator:** A variable used in a loop to add up or accumulate a result.\n",
    "\n",
    "\n",
    "**augmented assignment:** A statement that updates the value of a variable using an operator like +=.\n",
    "\n",
    "\n",
    "**reduce:** A processing pattern that traverses a sequence and accumulates the elements into a single result.\n",
    "\n",
    "\n",
    "**map:** A processing pattern that traverses a sequence and performs an operation on each element.\n",
    "\n",
    "\n",
    "**filter:** A processing pattern that traverses a list and selects the elements that satisfy some criterion.\n",
    "\n",
    "\n",
    "**object:** Something a variable can refer to. An object has a type and a value.\n",
    "\n",
    "\n",
    "**equivalent:** Having the same value.\n",
    "\n",
    "\n",
    "**identical:** Being the same object (which implies equivalence).\n",
    "\n",
    "\n",
    "**reference:** The association between a variable and its value.\n",
    "\n",
    "\n",
    "**aliasing:** A circumstance where two or more variables refer to the same object.\n",
    "\n",
    "\n",
    "**delimiter:** A character or string used to indicate where a string should be split."
   ]
  },
  {
   "cell_type": "markdown",
   "metadata": {},
   "source": [
    "### Exercises\n",
    "\n",
    "**Exercise 10.1.** Write a function called nested_sum that takes a list of lists of integers and adds up the elements from all of the nested lists. For example:\n",
    "\n",
    "*t = [[1, 2], [3], [4, 5, 6]]*\n",
    "\n",
    "*nested_sum(t)*\n",
    "\n",
    "*\\>>[21]*"
   ]
  },
  {
   "cell_type": "code",
   "execution_count": 35,
   "metadata": {},
   "outputs": [
    {
     "data": {
      "text/plain": [
       "21"
      ]
     },
     "execution_count": 35,
     "metadata": {},
     "output_type": "execute_result"
    }
   ],
   "source": [
    "def nested_sum(t):\n",
    "    total = 0\n",
    "    for nest in t:\n",
    "        total += sum(nest)\n",
    "    return total\n",
    "\n",
    "t = [[1, 2], [3], [4, 5, 6]]\n",
    "\n",
    "nested_sum(t)"
   ]
  },
  {
   "cell_type": "markdown",
   "metadata": {},
   "source": [
    "**Exercise 10.2.** Write a function called cumsum that takes a list of numbers and returns the cumulative sum; that is, a new list where the ith element is the sum of the first i + 1 elements from the original list. For example:\n",
    "\n",
    "*t = [1, 2, 3]*\n",
    "\n",
    "*cumsum(t)*\n",
    "\n",
    "*\\>>[1, 3, 6]*"
   ]
  },
  {
   "cell_type": "code",
   "execution_count": 36,
   "metadata": {},
   "outputs": [
    {
     "data": {
      "text/plain": [
       "[1, 3, 6]"
      ]
     },
     "execution_count": 36,
     "metadata": {},
     "output_type": "execute_result"
    }
   ],
   "source": [
    "def cumsum(t):\n",
    "    cumlist = t[:]\n",
    "    for i in range(0,len(t)):\n",
    "        if i == 0:\n",
    "            cumlist[0] = t[0]\n",
    "        else:\n",
    "            cumlist[i] = t[i]+cumlist[i-1] \n",
    "    return cumlist\n",
    "\n",
    "t = [1,2,3]\n",
    "cumsum(t)\n",
    "#print(t) check for modification"
   ]
  },
  {
   "cell_type": "markdown",
   "metadata": {},
   "source": [
    "**Exercise 10.3.** Write a function called middle that takes a list and returns a new list that contains all but the first and last elements. For example:\n",
    "\n",
    "*t = [1, 2, 3, 4]*\n",
    "\n",
    "*middle(t)*\n",
    "\n",
    "*\\>>[2, 3]*"
   ]
  },
  {
   "cell_type": "code",
   "execution_count": 37,
   "metadata": {},
   "outputs": [
    {
     "data": {
      "text/plain": [
       "[2, 3]"
      ]
     },
     "execution_count": 37,
     "metadata": {},
     "output_type": "execute_result"
    }
   ],
   "source": [
    "def middle(t):\n",
    "    return t[1:-1]\n",
    "\n",
    "t = [1,2,3,4]\n",
    "middle(t)\n",
    "#print(t) check for modification"
   ]
  },
  {
   "cell_type": "markdown",
   "metadata": {},
   "source": [
    "**Exercise 10.4.** Write a function called chop that takes a list, modifies it by removing the first and last elements, and returns None. For example:\n",
    "\n",
    "*t = [1, 2, 3, 4]*\n",
    "\n",
    "*chop(t)*\n",
    "\n",
    "*\\>>[2, 3]*"
   ]
  },
  {
   "cell_type": "code",
   "execution_count": 38,
   "metadata": {},
   "outputs": [
    {
     "data": {
      "text/plain": [
       "[2, 3]"
      ]
     },
     "execution_count": 38,
     "metadata": {},
     "output_type": "execute_result"
    }
   ],
   "source": [
    "def chop(t):\n",
    "    del t[0], t[-1]\n",
    "\n",
    "t=[1,2,3,4]\n",
    "chop(t)\n",
    "t"
   ]
  },
  {
   "cell_type": "markdown",
   "metadata": {},
   "source": [
    "**Exercise 10.5.** Write a function called is_sorted that takes a list as a parameter and returns True if the list is sorted in ascending order and False otherwise. For example:\n",
    "\n",
    "*is_sorted([1, 2, 2])*\n",
    "\n",
    "True\n",
    "\n",
    "*is_sorted(['b', 'a'])*\n",
    "\n",
    "False"
   ]
  },
  {
   "cell_type": "code",
   "execution_count": 39,
   "metadata": {},
   "outputs": [
    {
     "name": "stdout",
     "output_type": "stream",
     "text": [
      "True\n"
     ]
    },
    {
     "data": {
      "text/plain": [
       "False"
      ]
     },
     "execution_count": 39,
     "metadata": {},
     "output_type": "execute_result"
    }
   ],
   "source": [
    "def is_sorted(t):\n",
    "    return t == sorted(t)\n",
    "\n",
    "print(is_sorted([1,2,2]))\n",
    "is_sorted(['b','a'])"
   ]
  },
  {
   "cell_type": "markdown",
   "metadata": {},
   "source": [
    "**Exercise 10.6.** Two words are anagrams if you can rearrange the letters from one to spell the other. Write a function called is_anagram that takes two strings and returns True if they are anagrams."
   ]
  },
  {
   "cell_type": "code",
   "execution_count": 40,
   "metadata": {},
   "outputs": [
    {
     "name": "stdout",
     "output_type": "stream",
     "text": [
      "True\n"
     ]
    },
    {
     "data": {
      "text/plain": [
       "False"
      ]
     },
     "execution_count": 40,
     "metadata": {},
     "output_type": "execute_result"
    }
   ],
   "source": [
    "def is_anagrams(string1, string2):\n",
    "    return sorted(list(string1)) == sorted(list(string2))\n",
    "\n",
    "print(is_anagrams('swell', 'wells'))\n",
    "is_anagrams('swell', 'well')"
   ]
  },
  {
   "cell_type": "markdown",
   "metadata": {},
   "source": [
    "**Exercise 10.7.** Write a function called has_duplicates that takes a list and returns True if there is any element that appears more than once. It should not modify the original list."
   ]
  },
  {
   "cell_type": "code",
   "execution_count": 41,
   "metadata": {},
   "outputs": [
    {
     "name": "stdout",
     "output_type": "stream",
     "text": [
      "False\n",
      "True\n",
      "False\n",
      "True\n"
     ]
    }
   ],
   "source": [
    "def has_duplicates(t):\n",
    "    return len(t) != len(set(t))\n",
    "\n",
    "print(has_duplicates([1,2,3,4,5]))\n",
    "print(has_duplicates([1,2,3,4,5,5,5,6]))\n",
    "print(has_duplicates(['let', 'my', 'people', 'surf']))\n",
    "print(has_duplicates(['let', 'my', 'people', 'surf', 'surf']))"
   ]
  },
  {
   "cell_type": "markdown",
   "metadata": {},
   "source": [
    "**Exercise 10.8.** This exercise pertains to the so-called Birthday Paradox;\n",
    "\n",
    "\n",
    "If there are 23 students in your class, what are the chances that two of you have the same birthday? You can estimate this probability by generating random samples of 23 birthdays and checking for matches. *Hint:* you can generate random birthdays with the randint function in the random module."
   ]
  },
  {
   "cell_type": "code",
   "execution_count": 42,
   "metadata": {},
   "outputs": [
    {
     "data": {
      "text/plain": [
       "0.491"
      ]
     },
     "execution_count": 42,
     "metadata": {},
     "output_type": "execute_result"
    }
   ],
   "source": [
    "import random\n",
    "\n",
    "def birthday_paradox_sim(students=23, experiments=1000):\n",
    "    times_w_multiples = 0\n",
    "    for i in range(0,experiments):\n",
    "        birthdays = []\n",
    "        for student in range(0,students):\n",
    "            birthdays.append(random.randint(1,365))\n",
    "        if has_duplicates(birthdays):\n",
    "            times_w_multiples += 1\n",
    "    return times_w_multiples/experiments\n",
    "\n",
    "birthday_paradox_sim() #pretty good sim!"
   ]
  },
  {
   "cell_type": "markdown",
   "metadata": {},
   "source": [
    "**Exercise 10.9.** Write a function that reads the file words.txt and builds a list with one element per word. Write two versions of this function, one using the append method and the other using the idiom t = t + [x]. Which one takes longer to run?"
   ]
  },
  {
   "cell_type": "code",
   "execution_count": 43,
   "metadata": {},
   "outputs": [],
   "source": [
    "import time\n",
    "\n",
    "def build_list():\n",
    "    word_list = []\n",
    "    fin = open('data/words.txt')\n",
    "    for line in fin:\n",
    "        word = line.strip()\n",
    "        word_list.append(word)\n",
    "    return sorted(word_list)\n",
    "\n",
    "def build_list2():\n",
    "    word_list = []\n",
    "    fin = open('data/words.txt')\n",
    "    for line in fin:\n",
    "        word = line.strip()\n",
    "        word_list = word_list + [word]\n",
    "    return word_list"
   ]
  },
  {
   "cell_type": "code",
   "execution_count": 44,
   "metadata": {},
   "outputs": [
    {
     "name": "stdout",
     "output_type": "stream",
     "text": [
      "113809\n",
      "['aa', 'aah', 'aahed', 'aahing', 'aahs', 'aal', 'aalii', 'aaliis', 'aals', 'aardvark']\n",
      "0.07283902168273926 seconds\n"
     ]
    }
   ],
   "source": [
    "start_time = time.time()\n",
    "t = build_list()\n",
    "elapsed_time = time.time() - start_time\n",
    "\n",
    "print(len(t))\n",
    "print(t[:10])\n",
    "print(elapsed_time, 'seconds')"
   ]
  },
  {
   "cell_type": "code",
   "execution_count": 45,
   "metadata": {},
   "outputs": [
    {
     "name": "stdout",
     "output_type": "stream",
     "text": [
      "113809\n",
      "['aa', 'aah', 'aahed', 'aahing', 'aahs', 'aal', 'aalii', 'aaliis', 'aals', 'aardvark']\n",
      "77.84410953521729 seconds\n"
     ]
    }
   ],
   "source": [
    "start_time = time.time()\n",
    "t = build_list2()\n",
    "elapsed_time = time.time() - start_time\n",
    "\n",
    "print(len(t))\n",
    "print(t[:10])\n",
    "print(elapsed_time, 'seconds')"
   ]
  },
  {
   "cell_type": "markdown",
   "metadata": {},
   "source": [
    "**Exercise 10.10.** To check whether a word is in the word list, you could use the in operator, but it would be slow because it searches through the words in order. Because the words are in alphabetical order, we can speed things up with a bisection search (also known as binary search), which is similar to what you do when you look a word up in the dictionary.\n",
    "\n",
    "\n",
    "You start in the middle and check to see whether the word you are looking for comes before the word in the middle of the list. If so, you search the first half of the list the same way. Otherwise you search the second half.\n",
    "\n",
    "\n",
    "Either way, you cut the remaining search space in half. If the word list has 113,809 words, it will take about 17 steps to find the word or conclude that it’s not there.\n",
    "\n",
    "\n",
    "Write a function called in_bisect that takes a sorted list and a target value and returns True if the word is in the list and False if it’s not.\n",
    "\n",
    "\n",
    "Or you could read the documentation of the bisect module and use that!"
   ]
  },
  {
   "cell_type": "code",
   "execution_count": 46,
   "metadata": {},
   "outputs": [],
   "source": [
    "def bisect_search(t,word):\n",
    "    if len(t) == 0:\n",
    "        return False\n",
    "    half = len(t)//2\n",
    "    if half == 0 and t[half] != word:\n",
    "        return False\n",
    "    if word == t[half]:\n",
    "        return True\n",
    "    if word < t[half]:\n",
    "        return bisect_search(t[:half], word)\n",
    "    else:\n",
    "        return bisect_search(t[half:],word)"
   ]
  },
  {
   "cell_type": "code",
   "execution_count": 47,
   "metadata": {},
   "outputs": [],
   "source": [
    "word_list = build_list()"
   ]
  },
  {
   "cell_type": "code",
   "execution_count": 48,
   "metadata": {},
   "outputs": [
    {
     "name": "stdout",
     "output_type": "stream",
     "text": [
      "False\n",
      "True\n"
     ]
    }
   ],
   "source": [
    "print(bisect_search(word_list, \"kildler\"))\n",
    "print(bisect_search(word_list, \"killer\"))"
   ]
  },
  {
   "cell_type": "markdown",
   "metadata": {},
   "source": [
    "**Exercise 10.11.** Two words are a “reverse pair” if each is the reverse of the other. Write a program that finds all the reverse pairs in the word list."
   ]
  },
  {
   "cell_type": "code",
   "execution_count": 49,
   "metadata": {},
   "outputs": [],
   "source": [
    "def is_reverse(word1, word2):\n",
    "    if len(word1) != len(word2):\n",
    "        return False\n",
    "    i = 0\n",
    "    j = len(word2)-1 #fixed\n",
    "    while j >= 0: #fixed\n",
    "        if word1[i] != word2[j]:\n",
    "            return False\n",
    "        i = i+1\n",
    "        j = j-1\n",
    "    return True\n",
    "\n",
    "def reverse_pair(t):\n",
    "    reverse_pairs = []\n",
    "    for word in t:\n",
    "        if bisect_search(reverse_pairs, word):\n",
    "            pass\n",
    "        if word == word[::-1]:\n",
    "            pass\n",
    "        elif bisect_search(t, word[::-1]):\n",
    "            reverse_pairs.append(word)\n",
    "            reverse_pairs.append(word[::-1])\n",
    "    return reverse_pairs"
   ]
  },
  {
   "cell_type": "code",
   "execution_count": 50,
   "metadata": {},
   "outputs": [],
   "source": [
    "#reverse_pairs = reverse_pair(word_list)"
   ]
  },
  {
   "cell_type": "markdown",
   "metadata": {},
   "source": [
    "**Exercise 10.12.** Two words “interlock” if taking alternating letters from each forms a new word. For example, “shoe” and “cold” interlock to form “schooled”.\n",
    "\n",
    "1. Write a program that finds all pairs of words that interlock. Hint: don’t enumerate all pairs!\n",
    "\n",
    "2. Can you find any words that are three-way interlocked; that is, every third letter forms a word, starting from the first, second or third?"
   ]
  },
  {
   "cell_type": "code",
   "execution_count": 51,
   "metadata": {},
   "outputs": [],
   "source": [
    "def interlock_words(t):\n",
    "    interlocking_words = []\n",
    "    for word in t:\n",
    "        word1 = word[::2]\n",
    "        word2 = word[1::2]\n",
    "        if bisect_search(t, word1) and bisect_search(t, word2):\n",
    "            interlocking_words.append((word,word1,word2))\n",
    "    return interlocking_words"
   ]
  },
  {
   "cell_type": "code",
   "execution_count": 52,
   "metadata": {},
   "outputs": [],
   "source": [
    "interlocking_words = interlock_words(word_list) #worked"
   ]
  },
  {
   "cell_type": "code",
   "execution_count": 53,
   "metadata": {},
   "outputs": [
    {
     "name": "stdout",
     "output_type": "stream",
     "text": [
      "1254\n"
     ]
    },
    {
     "data": {
      "text/plain": [
       "[('aahs', 'ah', 'as'),\n",
       " ('abbey', 'aby', 'be'),\n",
       " ('abied', 'aid', 'be'),\n",
       " ('abies', 'ais', 'be'),\n",
       " ('abri', 'ar', 'bi'),\n",
       " ('abris', 'ars', 'bi'),\n",
       " ('abye', 'ay', 'be'),\n",
       " ('abyes', 'ays', 'be'),\n",
       " ('across', 'ars', 'cos'),\n",
       " ('added', 'add', 'de')]"
      ]
     },
     "execution_count": 53,
     "metadata": {},
     "output_type": "execute_result"
    }
   ],
   "source": [
    "print(len(interlocking_words))\n",
    "interlocking_words[:10]"
   ]
  },
  {
   "cell_type": "code",
   "execution_count": 54,
   "metadata": {},
   "outputs": [],
   "source": [
    "def interlock_words_3way(t):\n",
    "    interlocking_words = []\n",
    "    for word in t:\n",
    "        word1 = word[::2]\n",
    "        word2 = word[1::2]\n",
    "        word3 = word[2::2]\n",
    "        if bisect_search(t, word1) and bisect_search(t, word2) and bisect_search(t, word3):\n",
    "            interlocking_words.append((word,word1,word2,word3))\n",
    "    return interlocking_words"
   ]
  },
  {
   "cell_type": "code",
   "execution_count": 55,
   "metadata": {},
   "outputs": [],
   "source": [
    "threeway_interlocking_words = interlock_words_3way(word_list)"
   ]
  },
  {
   "cell_type": "code",
   "execution_count": 56,
   "metadata": {},
   "outputs": [
    {
     "data": {
      "text/plain": [
       "[('abbey', 'aby', 'be', 'by'),\n",
       " ('abied', 'aid', 'be', 'id'),\n",
       " ('abies', 'ais', 'be', 'is'),\n",
       " ('adios', 'ais', 'do', 'is'),\n",
       " ('adnouns', 'anus', 'don', 'nus'),\n",
       " ('afreet', 'are', 'fet', 're'),\n",
       " ('afreets', 'ares', 'fet', 'res'),\n",
       " ('agios', 'ais', 'go', 'is'),\n",
       " ('agleam', 'ala', 'gem', 'la'),\n",
       " ('agreed', 'are', 'ged', 're')]"
      ]
     },
     "execution_count": 56,
     "metadata": {},
     "output_type": "execute_result"
    }
   ],
   "source": [
    "len(threeway_interlocking_words)\n",
    "threeway_interlocking_words[:10]"
   ]
  },
  {
   "cell_type": "code",
   "execution_count": null,
   "metadata": {},
   "outputs": [],
   "source": []
  }
 ],
 "metadata": {
  "kernelspec": {
   "display_name": "Python 3",
   "language": "python",
   "name": "python3"
  },
  "language_info": {
   "codemirror_mode": {
    "name": "ipython",
    "version": 3
   },
   "file_extension": ".py",
   "mimetype": "text/x-python",
   "name": "python",
   "nbconvert_exporter": "python",
   "pygments_lexer": "ipython3",
   "version": "3.6.1"
  }
 },
 "nbformat": 4,
 "nbformat_minor": 2
}
