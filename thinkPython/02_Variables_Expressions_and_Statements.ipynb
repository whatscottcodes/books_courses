{
 "cells": [
  {
   "cell_type": "markdown",
   "metadata": {
    "collapsed": true
   },
   "source": [
    "## Chapter 2 Variables, expressions and statements"
   ]
  },
  {
   "cell_type": "markdown",
   "metadata": {},
   "source": [
    "A __variable__ is a name that refers to a value.\n",
    "\n",
    "An __assignment statement__ creates a new variable and gives it a value:"
   ]
  },
  {
   "cell_type": "code",
   "execution_count": 1,
   "metadata": {},
   "outputs": [],
   "source": [
    "message = \"And now for something completely different\"\n",
    "n = 17\n",
    "pi = 3.14592"
   ]
  },
  {
   "cell_type": "markdown",
   "metadata": {},
   "source": [
    "Programmers generally choose names for their variables that are meaningful—they document what the variable is used for.\n",
    "\n",
    "Variable names can be as long as you like. They can contain both letters and numbers, but they can’t begin with a number. \n",
    "\n",
    "It is legal to use uppercase letters, but it is conventional to use only lower case for variables names.\n",
    "\n",
    "The underscore character, \\_, can appear in a name. It is often used in names with multiple words, such as your_name or airspeed_of_unladen_swallow.\n",
    "\n",
    "If you give a variable an illegal name, you get a syntax error:"
   ]
  },
  {
   "cell_type": "code",
   "execution_count": 2,
   "metadata": {},
   "outputs": [
    {
     "ename": "SyntaxError",
     "evalue": "invalid syntax (<ipython-input-2-5e6d7f1a8b49>, line 1)",
     "output_type": "error",
     "traceback": [
      "\u001b[0;36m  File \u001b[0;32m\"<ipython-input-2-5e6d7f1a8b49>\"\u001b[0;36m, line \u001b[0;32m1\u001b[0m\n\u001b[0;31m    76trombones = \"big parade\"\u001b[0m\n\u001b[0m              ^\u001b[0m\n\u001b[0;31mSyntaxError\u001b[0m\u001b[0;31m:\u001b[0m invalid syntax\n"
     ]
    }
   ],
   "source": [
    "76trombones = \"big parade\""
   ]
  },
  {
   "cell_type": "code",
   "execution_count": 3,
   "metadata": {},
   "outputs": [
    {
     "ename": "SyntaxError",
     "evalue": "invalid syntax (<ipython-input-3-955f5f04a165>, line 1)",
     "output_type": "error",
     "traceback": [
      "\u001b[0;36m  File \u001b[0;32m\"<ipython-input-3-955f5f04a165>\"\u001b[0;36m, line \u001b[0;32m1\u001b[0m\n\u001b[0;31m    class = \"Advance Bigfoot Theory\"\u001b[0m\n\u001b[0m          ^\u001b[0m\n\u001b[0;31mSyntaxError\u001b[0m\u001b[0;31m:\u001b[0m invalid syntax\n"
     ]
    }
   ],
   "source": [
    "class = \"Advance Bigfoot Theory\""
   ]
  },
  {
   "cell_type": "markdown",
   "metadata": {},
   "source": [
    "It turns out that _class_ is one of Python’s keywords. The interpreter uses keywords to recognize the structure of the program, and they cannot be used as variable names.\n",
    "\n",
    "**Python 3 has these keywords:**\n",
    ">False, class, finally, is, return, None, continue, for, lambda, try, True, def, from, nonlocal, while, and, del, global, not, with, as, elif, if, or, yield, assert, else, import, pass, break, except, in, raise\n",
    "\n",
    "You don’t have to memorize this list. In most development environments, keywords are displayed in a different color; if you try to use one as a variable name, you’ll know."
   ]
  },
  {
   "cell_type": "markdown",
   "metadata": {},
   "source": [
    "An __expression__ is a combination of values, variables, and operators. \n",
    "\n",
    "A value all by itself is considered an expression, and so is a variable, so the following are all legal expressions:"
   ]
  },
  {
   "cell_type": "code",
   "execution_count": 4,
   "metadata": {},
   "outputs": [
    {
     "data": {
      "text/plain": [
       "42"
      ]
     },
     "execution_count": 4,
     "metadata": {},
     "output_type": "execute_result"
    }
   ],
   "source": [
    "42"
   ]
  },
  {
   "cell_type": "code",
   "execution_count": 5,
   "metadata": {},
   "outputs": [
    {
     "data": {
      "text/plain": [
       "17"
      ]
     },
     "execution_count": 5,
     "metadata": {},
     "output_type": "execute_result"
    }
   ],
   "source": [
    "n"
   ]
  },
  {
   "cell_type": "code",
   "execution_count": 6,
   "metadata": {},
   "outputs": [
    {
     "data": {
      "text/plain": [
       "42"
      ]
     },
     "execution_count": 6,
     "metadata": {},
     "output_type": "execute_result"
    }
   ],
   "source": [
    "n+25"
   ]
  },
  {
   "cell_type": "markdown",
   "metadata": {},
   "source": [
    "When you type an expression at the prompt, the interpreter **evaluates** it, which means that it finds the value of the expression. In this example, *n* has the value 17 and *n* + 25 has the value 42.\n",
    "\n",
    "A **statement** is a unit of code that has an effect, like creating a variable or displaying a value."
   ]
  },
  {
   "cell_type": "code",
   "execution_count": 8,
   "metadata": {},
   "outputs": [
    {
     "name": "stdout",
     "output_type": "stream",
     "text": [
      "17\n"
     ]
    }
   ],
   "source": [
    "n = 17 #this is a statement\n",
    "print(n)"
   ]
  },
  {
   "cell_type": "markdown",
   "metadata": {},
   "source": [
    "The first line is an assignment statement that gives a value to *n*. The second line is a print statement that displays the value of *n*."
   ]
  },
  {
   "cell_type": "markdown",
   "metadata": {},
   "source": [
    "When an expression contains more than one operator, the order of evaluation depends on the order of operations. For mathematical operators, Python follows mathematical convention. The acronym **PEMDAS** is a useful way to remember the rules (Parentheses, Exponentiation, Multiplication and Division, Addition and Subtraction)"
   ]
  },
  {
   "cell_type": "markdown",
   "metadata": {},
   "source": [
    "In general, you can’t perform mathematical operations on strings, even if the strings look\n",
    "like numbers, so the following are illegal:"
   ]
  },
  {
   "cell_type": "code",
   "execution_count": 9,
   "metadata": {},
   "outputs": [
    {
     "ename": "TypeError",
     "evalue": "unsupported operand type(s) for -: 'str' and 'str'",
     "output_type": "error",
     "traceback": [
      "\u001b[0;31m---------------------------------------------------------------------------\u001b[0m",
      "\u001b[0;31mTypeError\u001b[0m                                 Traceback (most recent call last)",
      "\u001b[0;32m<ipython-input-9-09e0b509f140>\u001b[0m in \u001b[0;36m<module>\u001b[0;34m()\u001b[0m\n\u001b[0;32m----> 1\u001b[0;31m \u001b[0;34m'2'\u001b[0m\u001b[0;34m-\u001b[0m\u001b[0;34m'1'\u001b[0m\u001b[0;34m\u001b[0m\u001b[0m\n\u001b[0m\u001b[1;32m      2\u001b[0m \u001b[0;34m'eggs'\u001b[0m\u001b[0;34m/\u001b[0m\u001b[0;34m'easy'\u001b[0m\u001b[0;34m\u001b[0m\u001b[0m\n\u001b[1;32m      3\u001b[0m \u001b[0;34m'third'\u001b[0m\u001b[0;34m*\u001b[0m\u001b[0;34m'a charm'\u001b[0m\u001b[0;34m\u001b[0m\u001b[0m\n",
      "\u001b[0;31mTypeError\u001b[0m: unsupported operand type(s) for -: 'str' and 'str'"
     ]
    }
   ],
   "source": [
    "'2'-'1' \n",
    "'eggs'/'easy' \n",
    "'third'*'a charm'"
   ]
  },
  {
   "cell_type": "markdown",
   "metadata": {},
   "source": [
    "But there are two exceptions, + and \\*.\n",
    "\n",
    "The + operator performs string concatenation, which means it joins the strings by linking them end-to-end. For example:"
   ]
  },
  {
   "cell_type": "code",
   "execution_count": 10,
   "metadata": {},
   "outputs": [
    {
     "data": {
      "text/plain": [
       "'throatwarbler'"
      ]
     },
     "execution_count": 10,
     "metadata": {},
     "output_type": "execute_result"
    }
   ],
   "source": [
    "first = 'throat'\n",
    "second = 'warbler'\n",
    "first+second"
   ]
  },
  {
   "cell_type": "markdown",
   "metadata": {},
   "source": [
    "The * operator also works on strings; it performs repetition. If one of the values is a string, the other has to be an integer.\n",
    "\n",
    "For example:"
   ]
  },
  {
   "cell_type": "code",
   "execution_count": 11,
   "metadata": {},
   "outputs": [
    {
     "data": {
      "text/plain": [
       "'SpamSpamSpam'"
      ]
     },
     "execution_count": 11,
     "metadata": {},
     "output_type": "execute_result"
    }
   ],
   "source": [
    "\"Spam\"*3"
   ]
  },
  {
   "cell_type": "markdown",
   "metadata": {},
   "source": [
    "As programs get bigger and more complicated, they get more difficult to read. Formal languages are dense, and it is often difficult to look at a piece of code and figure out what it is doing, or why.\n",
    "\n",
    "\n",
    "For this reason, it is a good idea to add notes to your programs to explain in natural language what the program is doing. These notes are called comments, and they start with the # symbol:"
   ]
  },
  {
   "cell_type": "code",
   "execution_count": 12,
   "metadata": {},
   "outputs": [
    {
     "name": "stdout",
     "output_type": "stream",
     "text": [
      "133.33333333333334\n"
     ]
    }
   ],
   "source": [
    "# compute the speed of that race car\n",
    "distance = 400 #miles\n",
    "time = 3 #hours\n",
    "speed = 400/3 #mph\n",
    "print(speed) #display result"
   ]
  },
  {
   "cell_type": "markdown",
   "metadata": {},
   "source": [
    "Good variable names can reduce the need for comments, but long names can make complex expressions hard to read, so there is a tradeoff."
   ]
  },
  {
   "cell_type": "markdown",
   "metadata": {},
   "source": [
    "**Debugging**\n",
    "\n",
    "Three kinds of errors can occur in a program: syntax errors, runtime errors, and semantic errors. It is useful to distinguish between them in order to track them down more quickly."
   ]
  },
  {
   "cell_type": "markdown",
   "metadata": {},
   "source": [
    "__Syntax errorx:__ “Syntax” refers to the structure of a program and the rules about that structure. For example, parentheses have to come in matching pairs, so (1 + 2) is legal, but 8) is a syntax error.\n",
    "\n",
    "\n",
    "If there is a syntax error anywhere in your program, Python displays an error message and quits, and you will not be able to run the program. During the first few weeks of your programming career, you might spend a lot of time tracking down syntax errors. As you gain experience, you will make fewer errors and find them faster."
   ]
  },
  {
   "cell_type": "markdown",
   "metadata": {},
   "source": [
    "__Runtime error:__ The second type of error is a runtime error, so called because the error does not appear until after the program has started running. These errors are also called **exceptions** because they usually indicate that something exceptional (and bad) has happened."
   ]
  },
  {
   "cell_type": "markdown",
   "metadata": {},
   "source": [
    "__Semantic error:__ The third type of error is “semantic”, which means related to meaning. If there is a semantic error in your program, it will run without generating error messages, but it will not do the right thing. It will do something else. Specifically, it will do what you told it to do.\n",
    "\n",
    "\n",
    "Identifying semantic errors can be tricky because it requires you to work backward by looking at the output of the program and trying to figure out what it is doing."
   ]
  },
  {
   "cell_type": "markdown",
   "metadata": {},
   "source": [
    "### Glossary\n",
    "\n",
    "**variable:** A name that refers to a value.\n",
    "\n",
    "\n",
    "**assignment:** A statement that assigns a value to a variable.\n",
    "\n",
    "\n",
    "**state diagram:** A graphical representation of a set of variables and the values they refer to.\n",
    "\n",
    "\n",
    "**keyword:** A reserved word that is used to parse a program; you cannot use keywords like if, def, and while as variable names.\n",
    "\n",
    "\n",
    "**operand:** One of the values on which an operator operates.\n",
    "\n",
    "\n",
    "**expression:** A combination of variables, operators, and values that represents a single result.\n",
    "\n",
    "\n",
    "**evaluate:** To simplify an expression by performing the operations in order to yield a single value.\n",
    "\n",
    "\n",
    "**statement:** A section of code that represents a command or action. So far, the statements we have seen are assignments and print statements.\n",
    "\n",
    "\n",
    "**execute:** To run a statement and do what it says.\n",
    "\n",
    "\n",
    "**interactive mode:** A way of using the Python interpreter by typing code at the prompt.\n",
    "\n",
    "\n",
    "**script mode:** A way of using the Python interpreter to read code from a script and run it.\n",
    "\n",
    "\n",
    "**script:** A program stored in a file.\n",
    "\n",
    "\n",
    "**order of operations:** Rules governing the order in which expressions involving multiple operators and operands are evaluated.\n",
    "\n",
    "\n",
    "**concatenate:** To join two operands end-to-end.\n",
    "\n",
    "**comment:** Information in a program that is meant for other programmers (or anyone reading the source code) and has no effect on the execution of the program.\n",
    "\n",
    "\n",
    "**syntax error:** An error in a program that makes it impossible to parse (and therefore impossible to interpret).\n",
    "\n",
    "\n",
    "**exception:** An error that is detected while the program is running.\n",
    "\n",
    "\n",
    "**semantics:** The meaning of a program.\n",
    "\n",
    "\n",
    "**semantic error:** An error in a program that makes it do something other than what the programmer intended."
   ]
  },
  {
   "cell_type": "markdown",
   "metadata": {},
   "source": [
    "### Exercises\n",
    "\n",
    "**Exercise 2.1.** Repeating my advice from the previous chapter, whenever you learn a new feature, you should try it out in interactive mode and make errors on purpose to see what goes wrong.\n",
    "\n",
    "#### • We’ve seen that n = 42 is legal. What about 42 = n?\n",
    ">This is a SyntaxError, cannot assign to literal\n",
    "\n",
    "#### • How about x = y = 1?\n",
    ">This is legal and result in two variable, one named *x* and one named *y* both being set to the value 1.\n",
    "\n",
    "#### • In some languages every statement ends with a semi-colon, ;. What happens if you put a semi-colon at the end of a Python statement?\n",
    ">In a Jupyter Notebook is keeps the cell from producing an output cell.\n",
    "\n",
    "#### • What if you put a period at the end of a statement?\n",
    ">Results in a SyntaxError\n",
    "\n",
    "#### • In math notation you can multiply x and y like this: xy. What happens if you try that in Python?\n",
    ">Python will return a NameError, unless you have previously assigned a value to the varaible *xy*, if you want to make *xy* the product of *x* and *y* you could use xy=x*y"
   ]
  },
  {
   "cell_type": "code",
   "execution_count": 13,
   "metadata": {},
   "outputs": [],
   "source": [
    "x=y=1"
   ]
  },
  {
   "cell_type": "code",
   "execution_count": 14,
   "metadata": {},
   "outputs": [],
   "source": [
    "x;"
   ]
  },
  {
   "cell_type": "code",
   "execution_count": 15,
   "metadata": {},
   "outputs": [],
   "source": [
    "xy = x*y"
   ]
  },
  {
   "cell_type": "markdown",
   "metadata": {},
   "source": [
    "**Exercise 2.2.** Practice using the Python interpreter as a calculator:\n",
    "\n",
    "\n",
    "#### 1. The volume of a sphere with radius $r$ is $\\frac{4}{3}\\pi r^{3}$. What is the volume of a sphere with radius 5?\n",
    "\n",
    "#### 2. Suppose the cover price of a book is \\$24.95, but bookstores get a 40% discount. Shipping costs \\$3 for the first copy and 75 cents for each additional copy. What is the total wholesale cost for 60 copies?\n",
    "\n",
    "\n",
    "#### 3. If I leave my house at 6:52 am and run 1 mile at an easy pace (8:15 per mile), then 3 miles at tempo (7:12 per mile) and 1 mile at easy pace again, what time do I get home for breakfast?"
   ]
  },
  {
   "cell_type": "code",
   "execution_count": 16,
   "metadata": {},
   "outputs": [
    {
     "name": "stdout",
     "output_type": "stream",
     "text": [
      "524.3199999999999\n",
      "945.4499999999999\n",
      "Return for breakfast at 7:30 A.M\n"
     ]
    }
   ],
   "source": [
    "#Answer 1\n",
    "radius = 5\n",
    "volume = (4/3)*pi*(radius**3)\n",
    "print(volume)\n",
    "\n",
    "#Answer 2\n",
    "cover_price = 24.95\n",
    "discount = 0.40\n",
    "additional_shipping = 0.75\n",
    "copies = 60\n",
    "total_price = ((cover_price - (cover_price*discount))*copies)+(3+((copies-1)*additional_shipping))\n",
    "print(total_price)\n",
    "\n",
    "#Answer 3 - weird question, because I don't actually know that you're running \n",
    "#2.5 miles out and back but let's assume you are...\n",
    "\n",
    "easy_pace = 8.25 #minutes\n",
    "tempo = 7.2 #minutes\n",
    "\n",
    "time_gone = (2*easy_pace)+(3*tempo) #minutes\n",
    "#print(time_gone) used to check time gone\n",
    "#could try and make this happen automatically, but instead I'll do the math.\n",
    "\n",
    "print(\"Return for breakfast at 7:30 A.M\")"
   ]
  },
  {
   "cell_type": "code",
   "execution_count": null,
   "metadata": {},
   "outputs": [],
   "source": []
  }
 ],
 "metadata": {
  "kernelspec": {
   "display_name": "Python 3",
   "language": "python",
   "name": "python3"
  },
  "language_info": {
   "codemirror_mode": {
    "name": "ipython",
    "version": 3
   },
   "file_extension": ".py",
   "mimetype": "text/x-python",
   "name": "python",
   "nbconvert_exporter": "python",
   "pygments_lexer": "ipython3",
   "version": "3.6.1"
  }
 },
 "nbformat": 4,
 "nbformat_minor": 2
}
