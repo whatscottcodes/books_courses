{
 "cells": [
  {
   "cell_type": "markdown",
   "metadata": {},
   "source": [
    "## Chapter 7 - Iteration"
   ]
  },
  {
   "cell_type": "markdown",
   "metadata": {},
   "source": [
    "Quick word on **reassignment**...we have already seen that you can assign a value to a variable and then later assign a different value, effectively rewritting the assigned value of the variable. Python uses the equal sign for this (=), but that does not mean it works the same way as it does in mathematics. For example, a=7 does not imply 7=a and just because a=b now, does not mean the value of a will always equal the value of b.\n",
    "\n",
    "\n",
    "In Python, an assignment statement can make two variables equal, but they don’t have to stay that way. In the code below the third line changes the value of a but does not change the value of b , so they are no longer equal.\n",
    "\n",
    "\n",
    "Reassigning variables is often useful, but you should use it with caution. If the values of variables change frequently, it can make the code difficult to read and debug."
   ]
  },
  {
   "cell_type": "code",
   "execution_count": 1,
   "metadata": {},
   "outputs": [
    {
     "name": "stdout",
     "output_type": "stream",
     "text": [
      "3 5\n"
     ]
    }
   ],
   "source": [
    "a = 5\n",
    "b = a\n",
    "a = 3\n",
    "print(a,b)"
   ]
  },
  {
   "cell_type": "markdown",
   "metadata": {},
   "source": [
    "Sometimes we will want to assign a new value to a variable in a way that relies on the old value of the variable. This is called an **update**. If you try this before the variable exists, you get an error. Before you update a variable you have to **initialize** it, usually with a simple assignment.\n",
    "\n",
    "Updating a variable by 1 is obviously an **increment** and subtracting 1 is called a **decrement**."
   ]
  },
  {
   "cell_type": "code",
   "execution_count": 2,
   "metadata": {},
   "outputs": [
    {
     "data": {
      "text/plain": [
       "1"
      ]
     },
     "execution_count": 2,
     "metadata": {},
     "output_type": "execute_result"
    }
   ],
   "source": [
    "#x = x + 1  this would throw an error as we have not assigned a value to x yet\n",
    "\n",
    "#fix that\n",
    "x=0\n",
    "x += 1 #this is a shorter way of writing x = x + 1\n",
    "x"
   ]
  },
  {
   "cell_type": "markdown",
   "metadata": {},
   "source": [
    "In a computer program, repetition is also called **iteration**."
   ]
  },
  {
   "cell_type": "markdown",
   "metadata": {},
   "source": [
    "Because iteration is so common, Python provides language features to make it easier. One is the *for* statement we saw earlier and the **while statement**. Here is out countdown program, but with a while statement instead of recursion."
   ]
  },
  {
   "cell_type": "code",
   "execution_count": 3,
   "metadata": {},
   "outputs": [
    {
     "name": "stdout",
     "output_type": "stream",
     "text": [
      "3\n",
      "2\n",
      "1\n",
      "Blastoff!\n"
     ]
    }
   ],
   "source": [
    "def countdown(n):\n",
    "    while n > 0:\n",
    "        print(n)\n",
    "        n -= 1\n",
    "    print(\"Blastoff!\")\n",
    "    \n",
    "countdown(3)"
   ]
  },
  {
   "cell_type": "markdown",
   "metadata": {},
   "source": [
    "Here is the flow of execution for a while statement:\n",
    "\n",
    "1. Determine whether the condition is true or false.\n",
    "\n",
    "2. If false, exit the while statement and continue execution at the next statement.\n",
    "\n",
    "3. If the condition is true, run the body and then go back to step 1.\n",
    "\n",
    "This type of flow is called a **loop** because the third step loops back around to the top."
   ]
  },
  {
   "cell_type": "markdown",
   "metadata": {},
   "source": [
    "The body of the loop should change the value of one or more variables so that the condition becomes false eventually and the loop terminates. Otherwise the loop will repeat forever, which is called an **infinite loop**."
   ]
  },
  {
   "cell_type": "markdown",
   "metadata": {},
   "source": [
    "As an exercise, rewrite the function *print_n* from Section 5.8 using iteration instead of recursion."
   ]
  },
  {
   "cell_type": "code",
   "execution_count": 4,
   "metadata": {},
   "outputs": [
    {
     "name": "stdout",
     "output_type": "stream",
     "text": [
      "Hey!\n",
      "Hey!\n",
      "Hey!\n",
      "Hey!\n",
      "Hey!\n",
      "Hey!\n"
     ]
    }
   ],
   "source": [
    "def print_n_recursive(s, n):\n",
    "    if n <= 0:\n",
    "        return\n",
    "    print(s)\n",
    "    print_n(s, n-1)    \n",
    "    \n",
    "def print_n(s,n):\n",
    "    while n > 0:\n",
    "        print(s)\n",
    "        n -= 1\n",
    "        \n",
    "print_n_recursive('Hey!',3)\n",
    "print_n('Hey!',3)"
   ]
  },
  {
   "cell_type": "markdown",
   "metadata": {},
   "source": [
    "Sometimes you don’t know it’s time to end a loop until you get half way through the body. In that case you can use the **break statement** to jump out of the loop."
   ]
  },
  {
   "cell_type": "code",
   "execution_count": 5,
   "metadata": {},
   "outputs": [
    {
     "name": "stdout",
     "output_type": "stream",
     "text": [
      "> \n",
      "hi\n",
      "hi\n",
      "> \n",
      "done\n"
     ]
    }
   ],
   "source": [
    "while True:\n",
    "    line = input('> \\n')\n",
    "    if line == 'done':\n",
    "        break\n",
    "    print(line)"
   ]
  },
  {
   "cell_type": "markdown",
   "metadata": {},
   "source": [
    "This way of writing while loops is common because you can check the condition anywhere in the loop (not just at the top) and you can express the stop condition affirmatively (“stop when this happens”) rather than negatively (“keep going until that happens”)."
   ]
  },
  {
   "cell_type": "markdown",
   "metadata": {},
   "source": [
    "Let's look at an example using square roots. Loops are often used in programs that compute numerical results by starting with an approximate answer and iteratively improving it.\n",
    "\n",
    "\n",
    "For example, one way of computing square roots is Newton’s method. Suppose that you want to know the square root of a. If you start with almost any estimate, x, you can compute a better estimate with the following formula:\n",
    "\n",
    "$$y = \\frac{x+\\frac{a}{x}}{2}$$\n",
    "\n",
    "When $y == x$ , we can stop. Here is a loop that starts with an initial estimate, $x$, and improves it until it stops changing:"
   ]
  },
  {
   "cell_type": "code",
   "execution_count": 6,
   "metadata": {},
   "outputs": [
    {
     "name": "stdout",
     "output_type": "stream",
     "text": [
      "1\n",
      "2.0\n",
      "1.75\n",
      "1.7321428571428572\n",
      "1.7320508100147274\n",
      "1.7320508075688772\n"
     ]
    }
   ],
   "source": [
    "while True:\n",
    "    print(x)\n",
    "    y = (x + a/x) / 2\n",
    "    if y == x:\n",
    "        break\n",
    "    x = y"
   ]
  },
  {
   "cell_type": "markdown",
   "metadata": {},
   "source": [
    "For most values of a this works fine, but in general it is dangerous to test float equality. Floating-point values are only approximately right: most rational numbers and irrational numbers can’t be represented exactly with a float.\n",
    "\n",
    "Rather than checking whether $x$ and $y$ are exactly equal, it is safer to use the built-in function *abs* to compute the absolute value, or magnitude, of the difference between them and compare it to an epsilon, where epsilon is a small value like 0.00000001 that determines how close is close enough."
   ]
  },
  {
   "cell_type": "code",
   "execution_count": 7,
   "metadata": {},
   "outputs": [],
   "source": [
    "epsilon = 0.00000001\n",
    "\n",
    "\n",
    "while True:\n",
    "    y = (x + a/x) / 2\n",
    "    if abs(y-x) < epsilon:\n",
    "        break\n",
    "    x = y"
   ]
  },
  {
   "cell_type": "markdown",
   "metadata": {},
   "source": [
    "Newton’s method is an example of an **algorithm**: it is a mechanical process for solving a category of problems (in this case, computing square roots)."
   ]
  },
  {
   "cell_type": "markdown",
   "metadata": {},
   "source": [
    "Memorizing your multiplication tables is not an example of an algorithm, but a trick like the product of $n$ and $9$ is equal to $n-1$ as the first digit and $10-n$ as the second is!\n",
    "\n",
    "One of the characteristics of algorithms is that they do not require any intelligence to carry out. They are mechanical processes where each step follows from the last according to a simple set of rules.\n",
    "\n",
    "\n",
    "Executing algorithms is boring, but designing them is interesting, intellectually challenging, and a central part of computer science."
   ]
  },
  {
   "cell_type": "markdown",
   "metadata": {},
   "source": [
    "**Debugging**\n",
    "\n",
    "One way to cut your debugging time is “debugging by bisection”. For example, if there are 100 lines in your program and you check them one at a time, it would take 100 steps. Instead, try to break the problem in half. Look at the middle of the program, or near it, for an intermediate value you can check. Add a print statement (or something else that has a verifiable effect) and run the program.\n",
    "\n",
    "If the mid-point check is incorrect, there must be a problem in the first half of the program. If it is correct, the problem is in the second half."
   ]
  },
  {
   "cell_type": "markdown",
   "metadata": {},
   "source": [
    "### Glossary\n",
    "\n",
    "**reassignment:** Assigning a new value to a variable that already exists.\n",
    "\n",
    "\n",
    "**update:** An assignment where the new value of the variable depends on the old.\n",
    "\n",
    "\n",
    "**initialization:** An assignment that gives an initial value to a variable that will be updated.\n",
    "\n",
    "\n",
    "**increment:** An update that increases the value of a variable (often by one).\n",
    "\n",
    "\n",
    "**decrement:** An update that decreases the value of a variable.\n",
    "\n",
    "\n",
    "**iteration:** Repeated execution of a set of statements using either a recursive function call or a loop.\n",
    "\n",
    "\n",
    "**infinite loop:** A loop in which the terminating condition is never satisfied.\n",
    "\n",
    "\n",
    "**algorithm:** A general process for solving a category of problems."
   ]
  },
  {
   "cell_type": "markdown",
   "metadata": {},
   "source": [
    "### Exercises\n",
    "\n",
    "**Exercise 7.1.** Copy the loop from Section 7.5 and encapsulate it in a function called *mysqrt* that takes $a$ as a parameter, chooses a reasonable value of $x$ , and returns an estimate of the square root of $a$ .\n",
    "\n",
    "\n",
    "To test it, write a function named test_square_root that prints a table like this;\n",
    "\n",
    "\n",
    "The first column is a number, $a$; the second column is the square root of a computed with *mysqrt*;\n",
    "the third column is the square root computed by *math.sqrt*; the fourth column is the absolute value\n",
    "of the difference between the two estimates."
   ]
  },
  {
   "cell_type": "code",
   "execution_count": 8,
   "metadata": {},
   "outputs": [
    {
     "name": "stdout",
     "output_type": "stream",
     "text": [
      "a   mysqrt(a)   math.sqrt(a)   diff\n",
      "-  ----------- -------------- -----\n",
      "1    1.0    1.0    0.0\n",
      "2    1.414213562373095    1.4142135623730951    2.220446049250313e-16\n",
      "3    1.7320508075688772    1.7320508075688772    0.0\n",
      "4    2.0    2.0    0.0\n",
      "5    2.23606797749979    2.23606797749979    0.0\n",
      "6    2.449489742783178    2.449489742783178    0.0\n",
      "7    2.6457513110645907    2.6457513110645907    0.0\n",
      "8    2.82842712474619    2.8284271247461903    4.440892098500626e-16\n",
      "9    3.0    3.0    0.0\n"
     ]
    }
   ],
   "source": [
    "import math\n",
    "epsilon = 0.00000000000000000001\n",
    "\n",
    "def mysqrt(a):\n",
    "    x = a/2\n",
    "    while True:\n",
    "        y = (x + a/x) / 2\n",
    "        if abs(y-x) < epsilon:\n",
    "            break\n",
    "        x = y\n",
    "    return x\n",
    "\n",
    "def test_square_root(max_value):\n",
    "    print('a ', \" mysqrt(a) \", ' math.sqrt(a) ', ' diff')\n",
    "    print('- ', '-'*len(\" mysqrt(a) \"), '-'*len(' math.sqrt(a) '), '-'*len(' diff'))\n",
    "    for a in range(1,max_value+1):\n",
    "        mine = mysqrt(a)\n",
    "        maths = math.sqrt(a)\n",
    "        print(a, \" \"*2, mine, \" \"*2, maths, \" \"*2, abs(maths-mine))\n",
    "        \n",
    "test_square_root(9) #not the prettiest table"
   ]
  },
  {
   "cell_type": "markdown",
   "metadata": {},
   "source": [
    "**Exercise 7.2.** The built-in function eval takes a string and evaluates it using the Python interpreter. For example:"
   ]
  },
  {
   "cell_type": "code",
   "execution_count": 9,
   "metadata": {},
   "outputs": [
    {
     "data": {
      "text/plain": [
       "7"
      ]
     },
     "execution_count": 9,
     "metadata": {},
     "output_type": "execute_result"
    }
   ],
   "source": [
    "eval('1+2*3')"
   ]
  },
  {
   "cell_type": "markdown",
   "metadata": {},
   "source": [
    "Write a function called *eval_loop* that iteratively prompts the user, takes the resulting input and evaluates it using eval , and prints the result. \n",
    "\n",
    "It should continue until the user enters 'done', and then return the value of the last expression it evaluated."
   ]
  },
  {
   "cell_type": "code",
   "execution_count": 13,
   "metadata": {},
   "outputs": [
    {
     "name": "stdout",
     "output_type": "stream",
     "text": [
      "Enter a mathematical expression(enter done to quit): \n",
      "5+6\n",
      "11\n",
      "Enter a mathematical expression(enter done to quit): \n",
      "done\n"
     ]
    },
    {
     "data": {
      "text/plain": [
       "11"
      ]
     },
     "execution_count": 13,
     "metadata": {},
     "output_type": "execute_result"
    }
   ],
   "source": [
    "def eval_loop():\n",
    "    x = None\n",
    "    while True:\n",
    "        text = input('Enter a mathematical expression(enter done to quit): \\n')\n",
    "        if text == 'done':\n",
    "            return x\n",
    "        x = eval(text)\n",
    "        print(x)\n",
    "\n",
    "eval_loop()"
   ]
  },
  {
   "cell_type": "markdown",
   "metadata": {},
   "source": [
    "**Exercise 7.3.** The mathematician Srinivasa Ramanujan found an infinite series that can be used to generate a numerical approximation of $\\frac{1}{\\pi}$:\n",
    "\n",
    "$$\\frac{1}{\\pi} = \\frac{2\\sqrt{2}}{9801} \\sum_{k=0}^{\\infty} \\frac{(4k)!(1103+26390k)}{(k!)^{4}396^{4k}}$$\n",
    "\n",
    "Write a function called *estimate_pi* that uses this formula to compute and return an estimate of $\\pi$. It should use a while loop to compute terms of the summation until the last term is smaller than $1e-15$ (which is Python notation for $10^{-15}$). You can check the result by comparing it to *math.pi*."
   ]
  },
  {
   "cell_type": "code",
   "execution_count": 14,
   "metadata": {},
   "outputs": [
    {
     "name": "stdout",
     "output_type": "stream",
     "text": [
      "estimate:  3.141592653589793 Python:  3.141592653589793\n"
     ]
    }
   ],
   "source": [
    "def factorial(n):\n",
    "    if n == 0:\n",
    "        return 1\n",
    "    else:\n",
    "        recurse = factorial(n-1)\n",
    "        result = n * recurse\n",
    "        return result\n",
    "\n",
    "def estimate_pi():\n",
    "    summation = 0\n",
    "    k = 0\n",
    "    first_term = (2*math.sqrt(2))/9801\n",
    "    while True:\n",
    "        fact_one = factorial(4*k)\n",
    "        fact_two = factorial(k)\n",
    "        expression =first_term * ((fact_one*(1103+(26390*k)))/((fact_two**4)*(396**(4*k))))\n",
    "        summation += expression\n",
    "        if abs(expression) < 1e-15:\n",
    "            break\n",
    "        k += 1\n",
    "    return 1/summation\n",
    "    \n",
    "print('estimate: ', estimate_pi(), 'Python: ', math.pi) #nifty!"
   ]
  },
  {
   "cell_type": "code",
   "execution_count": null,
   "metadata": {},
   "outputs": [],
   "source": []
  }
 ],
 "metadata": {
  "kernelspec": {
   "display_name": "Python 3",
   "language": "python",
   "name": "python3"
  },
  "language_info": {
   "codemirror_mode": {
    "name": "ipython",
    "version": 3
   },
   "file_extension": ".py",
   "mimetype": "text/x-python",
   "name": "python",
   "nbconvert_exporter": "python",
   "pygments_lexer": "ipython3",
   "version": "3.6.1"
  }
 },
 "nbformat": 4,
 "nbformat_minor": 2
}
