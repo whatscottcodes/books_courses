{
 "cells": [
  {
   "cell_type": "code",
   "execution_count": 1,
   "metadata": {
    "scrolled": true
   },
   "outputs": [],
   "source": [
    "import pandas as pd\n",
    "import ts_code.nsfg as nsfg"
   ]
  },
  {
   "cell_type": "markdown",
   "metadata": {
    "collapsed": true
   },
   "source": [
    "## Chapter 01 - Exploratory data analysis"
   ]
  },
  {
   "cell_type": "markdown",
   "metadata": {},
   "source": [
    "The goal is to use data combined with practical methods to answer questions and guide decisions under uncertainty.\n",
    "\n",
    "Sometimes to answer a question we are provided with **ancedotal evidence.** In a casual conversation this is fine, but it usually fails as persuasive or reliable data for one(or many) of the reasons below;\n",
    "\n",
    "+ **Small number of observations:** If pregnancy length is longer for first babies, the difference is probably small compared to natural variation. In that case, we might have to compare a large number of pregnancies to be sure that a difference exists.\n",
    "\n",
    "+ **Selection bias:** People who join a discussion of this question might be interested because their first babies were late. In that case the process of selecting data would bias the results.\n",
    "\n",
    "+ **Confrmation bias:** People who believe the claim might be more likely to contribute examples that confrm it. People who doubt the claim are more likely to cite counterexamples.\n",
    "\n",
    "+ **Inaccuracy:** Anecdotes are often personal stories, and often misremembered, misrepresented, repeated inaccurately, etc."
   ]
  },
  {
   "cell_type": "markdown",
   "metadata": {},
   "source": [
    "To address these limitations, let's use the tools of statistics;\n",
    "\n",
    "+ **Data collection:** We will use data from a large national survey that was designed explicitly with the goal of generating statistically valid inferences about the U.S. population.\n",
    "\n",
    "+ **Descriptive statistics:** We will generate statistics that summarize the data concisely, and evaluate different ways to visualize data.\n",
    "\n",
    "+ **Exploratory data analysis:** We will look for patterns, differences, and other features that address the questions we are interested in. At the same time we will check for inconsistencies and identify limitations.\n",
    "\n",
    "+ **Estimation:** We will use data from a sample to estimate characteristics of the general population.\n",
    "\n",
    "+ **Hypothesis testing:** Where we see apparent effects, like a difference between two groups, we will evaluate whether the effect might have happened by chance."
   ]
  },
  {
   "cell_type": "markdown",
   "metadata": {},
   "source": [
    "In this book we will use the National Survey of Family Growth (NSFG) conducted by the CDC."
   ]
  },
  {
   "cell_type": "markdown",
   "metadata": {},
   "source": [
    "The NSFG is a **cross-sectional study**, which means that it captures a snapshot of a group at a point in time. \n",
    "\n",
    "The *most common alternative* is a **longitudinal study**, which observes a group repeatedly over a period of time.\n",
    "\n",
    "Each deployment of the NSFG is called **cycle**, we will be using data from *Cycle 6*, which was conducted from January 2002 to March 2003. (*I might see if I can use updated data*)"
   ]
  },
  {
   "cell_type": "markdown",
   "metadata": {},
   "source": [
    "The goal of the survey is to draw conclusions about a **population**; the\n",
    "target population of the NSFG is people in the United States aged 15-44.\n",
    "\n",
    "Ideally data would be collegect from every member of the population, but that's seldom possible. Instead data is collected from a subset of the population, this is a **sample**. The participants are called **respondents**."
   ]
  },
  {
   "cell_type": "markdown",
   "metadata": {},
   "source": [
    "Cross-sectional studies are meant to be **representative**, which\n",
    "means that every member of the target population has an equal chance of\n",
    "participating.\n",
    "\n",
    "The NSFG is not representative; instead it is deliberately **oversampled**. The\n",
    "designers of the study recruited three groups|Hispanics, African-Americans\n",
    "and teenagers|at rates higher than their representation in the U.S. popula-\n",
    "tion, in order to make sure that the number of respondents in each of these\n",
    "groups is large enough to draw valid statistical inferences."
   ]
  },
  {
   "cell_type": "markdown",
   "metadata": {},
   "source": [
    "When dealing with real world data, you need often need to;\n",
    "+ check for errors\n",
    "+ deal with special values\n",
    "+ covert data into different formats\n",
    "+ perform calculations\n",
    "\n",
    "These operations are called **data cleaning**."
   ]
  },
  {
   "cell_type": "markdown",
   "metadata": {
    "slideshow": {
     "slide_type": "slide"
    }
   },
   "source": [
    "In the nsfg module, there is a cleaning function called *CleanFemPreg*. The code from the book is below, outlines with comments on what is happening."
   ]
  },
  {
   "cell_type": "code",
   "execution_count": 2,
   "metadata": {},
   "outputs": [],
   "source": [
    "def CleanFemPreg(df):\n",
    "    df.agepreg /= 100.0 #agepreg has motheres age in centiyears\n",
    "    #dividing by 100.0 gives a floating point age in years\n",
    "    \n",
    "    #birthwgt_lb and birthwgt_oz contain the weight of the baby\n",
    "    #it includes the following special codes;\n",
    "    #97 NOT ASCERTAINED\n",
    "    #98 REFUSED\n",
    "    #99 DONT KNOW\n",
    "    #we dont want specical codes as numbers, it can lead to use thinking\n",
    "    #there's a 99 pound baby\n",
    "    na_vals = [97, 98, 99] #here they are\n",
    "    #below we look for the value in np_vals\n",
    "    #replace it with numpy's not a number value\n",
    "    #we do it in place, so the dataframe is updated\n",
    "    df.birthwgt_lb.replace(na_vals, np.nan, inplace=True)\n",
    "    df.birthwgt_oz.replace(na_vals, np.nan, inplace=True)\n",
    "    \n",
    "    #finally we add a column that is the baby's weight in pounts(float)\n",
    "    df[totalwgt_lb] = df.birthwgt_lb + df.birthwgt_oz / 16.0"
   ]
  },
  {
   "cell_type": "code",
   "execution_count": 3,
   "metadata": {},
   "outputs": [],
   "source": [
    "preg2002 = nsfg.ReadFemPreg()"
   ]
  },
  {
   "cell_type": "code",
   "execution_count": 4,
   "metadata": {},
   "outputs": [
    {
     "data": {
      "text/plain": [
       "(13593, 244)"
      ]
     },
     "execution_count": 4,
     "metadata": {},
     "output_type": "execute_result"
    }
   ],
   "source": [
    "preg2002.shape"
   ]
  },
  {
   "cell_type": "markdown",
   "metadata": {},
   "source": [
    "Errors can be introduced when data is exported from one environment and imported into another. When getting familar with a new dataset, one of the first steps is to **validate** the data."
   ]
  },
  {
   "cell_type": "markdown",
   "metadata": {},
   "source": [
    "One way to validate data is to compute basic statistics and compare them\n",
    "with published results. the NSFG codebook includes tables\n",
    "that summarize each variable. Here is the table for outcome, which encodes\n",
    "the outcome of each pregnancy:\n",
    "\n",
    "value label Total\n",
    "\n",
    "1 LIVE BIRTH 9148\n",
    "\n",
    "2 INDUCED ABORTION 1862\n",
    "\n",
    "3 STILLBIRTH 120\n",
    "\n",
    "4 MISCARRIAGE 1921\n",
    "\n",
    "5 ECTOPIC PREGNANCY 190\n",
    "\n",
    "6 CURRENT PREGNANCY 352"
   ]
  },
  {
   "cell_type": "code",
   "execution_count": 5,
   "metadata": {},
   "outputs": [
    {
     "data": {
      "text/plain": [
       "1    9148\n",
       "2    1862\n",
       "3     120\n",
       "4    1921\n",
       "5     190\n",
       "6     352\n",
       "Name: outcome, dtype: int64"
      ]
     },
     "execution_count": 5,
     "metadata": {},
     "output_type": "execute_result"
    }
   ],
   "source": [
    "preg2002['outcome'].value_counts(sort=False)"
   ]
  },
  {
   "cell_type": "markdown",
   "metadata": {},
   "source": [
    "Let's check the values against the published table for the birth weight in pounds;\n",
    "\n",
    "value label Total\n",
    "\n",
    ". INAPPLICABLE 4449\n",
    "\n",
    "0-5 UNDER 6 POUNDS 1125\n",
    "\n",
    "6 6 POUNDS 2223\n",
    "\n",
    "7 7 POUNDS 3049\n",
    "\n",
    "8 8 POUNDS 1889\n",
    "\n",
    "9-95 9 POUNDS OR MORE 799"
   ]
  },
  {
   "cell_type": "code",
   "execution_count": 6,
   "metadata": {},
   "outputs": [
    {
     "data": {
      "text/plain": [
       "0.0        8\n",
       "1.0       40\n",
       "2.0       53\n",
       "3.0       98\n",
       "4.0      229\n",
       "5.0      697\n",
       "6.0     2223\n",
       "7.0     3049\n",
       "8.0     1889\n",
       "9.0      623\n",
       "10.0     132\n",
       "11.0      26\n",
       "12.0      10\n",
       "13.0       3\n",
       "14.0       3\n",
       "15.0       1\n",
       "Name: birthwgt_lb, dtype: int64"
      ]
     },
     "execution_count": 6,
     "metadata": {},
     "output_type": "execute_result"
    }
   ],
   "source": [
    "preg2002.birthwgt_lb.value_counts(sort=False).sort_index() "
   ]
  },
  {
   "cell_type": "markdown",
   "metadata": {},
   "source": [
    "Let's look at the outcomes for a few respondents, each is assigned their own caseid, but the data is not organized so that caseids with be clumped together, so we need to map out caseid to the index."
   ]
  },
  {
   "cell_type": "code",
   "execution_count": 7,
   "metadata": {},
   "outputs": [],
   "source": [
    "from collections import defaultdict\n",
    "def MakePregMap(df):\n",
    "    \"\"\"Takes in the preg dataframe\n",
    "    returns a dictionary with caseid values as keys\n",
    "    and their index as values in a list\"\"\"\n",
    "    d = defaultdict(list)\n",
    "    for index, caseid in df.caseid.iteritems():\n",
    "        d[caseid].append(index)\n",
    "    return d"
   ]
  },
  {
   "cell_type": "code",
   "execution_count": 8,
   "metadata": {},
   "outputs": [],
   "source": [
    "preg_map = MakePregMap(preg2002)"
   ]
  },
  {
   "cell_type": "code",
   "execution_count": 9,
   "metadata": {},
   "outputs": [
    {
     "data": {
      "text/plain": [
       "[11093, 11094, 11095, 11096, 11097, 11098, 11099]"
      ]
     },
     "execution_count": 9,
     "metadata": {},
     "output_type": "execute_result"
    }
   ],
   "source": [
    "#let's look at the indicies for caseid=10229\n",
    "preg_map[10229] #-> indicies in our df with information about this women\n",
    "#indicates she was pregnant 7 times"
   ]
  },
  {
   "cell_type": "code",
   "execution_count": 10,
   "metadata": {},
   "outputs": [
    {
     "data": {
      "text/plain": [
       "array([4, 4, 4, 4, 4, 4, 1])"
      ]
     },
     "execution_count": 10,
     "metadata": {},
     "output_type": "execute_result"
    }
   ],
   "source": [
    "#let's get this information from the dataframe\n",
    "caseid = 10229\n",
    "indices = preg_map[caseid] #value we pulled above\n",
    "#let's look only at the outcome columns\n",
    "preg2002['outcome'][indices].values \n",
    "#values gives us the value of the cell without the index as an np.array"
   ]
  },
  {
   "cell_type": "markdown",
   "metadata": {},
   "source": [
    "The outcome code 1 indicates a live birth and 4 indicates a miscarriage. Statistically this in not unusual, but if we think of the context behind the numbers, we can see a story. This women was pregnant six times, each ending in a miscarriage before her seventh and most recent pregnency ended with a live birth.\n",
    "\n",
    "Each record in this dataset represents a person, who gave honest answers to difficult personal questions\n",
    "\n",
    "We can use this data to answer statistical questions about family life, reproduction, and health. At the same time, we have an obligation to consider the people represented by the data, and to afford them respect and gratitude."
   ]
  },
  {
   "cell_type": "markdown",
   "metadata": {},
   "source": [
    "### Exercises\n",
    "\n",
    "**Exercise 1.1** - *See chap01ex.ipynb*.\n",
    "\n",
    "**Exercise 1.2** In the repository you downloaded, you should find a file named\n",
    "chap01ex.py; using this file as a starting place, write a function that reads\n",
    "the respondent file, 2002FemResp.dat.gz.\n",
    "\n",
    "The variable pregnum is a recode that indicates how many times each respondent has been pregnant. Print the value counts for this variable and compare them to the published results in the NSFG codebook.\n",
    "\n",
    "You can also cross-validate the respondent and pregnancy files by comparing pregnum for each respondent with the number of records in the pregnancy file.\n",
    "\n",
    "You can use nsfg.MakePregMap to make a dictionary that maps from each caseid to a list of indices into the pregnancy DataFrame."
   ]
  },
  {
   "cell_type": "code",
   "execution_count": 11,
   "metadata": {},
   "outputs": [],
   "source": [
    "###code added to chap01ex below;\n",
    "def read_FemResp(dct_file = 'ts_code/2002FemResp.dct',\n",
    "              dat_file = 'ts_code/2002FemResp.dat.gz'):\n",
    "    dct = thinkstats2.ReadStataDct(dct_file)\n",
    "    df = dct.ReadFixedWidth(dat_file, compression='gzip')\n",
    "    return df"
   ]
  },
  {
   "cell_type": "code",
   "execution_count": 12,
   "metadata": {},
   "outputs": [],
   "source": [
    "import ts_code.chap01ex as chap01"
   ]
  },
  {
   "cell_type": "code",
   "execution_count": 13,
   "metadata": {},
   "outputs": [],
   "source": [
    "df = chap01.read_FemResp() "
   ]
  },
  {
   "cell_type": "code",
   "execution_count": 14,
   "metadata": {},
   "outputs": [
    {
     "data": {
      "text/html": [
       "<div>\n",
       "<style>\n",
       "    .dataframe thead tr:only-child th {\n",
       "        text-align: right;\n",
       "    }\n",
       "\n",
       "    .dataframe thead th {\n",
       "        text-align: left;\n",
       "    }\n",
       "\n",
       "    .dataframe tbody tr th {\n",
       "        vertical-align: top;\n",
       "    }\n",
       "</style>\n",
       "<table border=\"1\" class=\"dataframe\">\n",
       "  <thead>\n",
       "    <tr style=\"text-align: right;\">\n",
       "      <th></th>\n",
       "      <th>caseid</th>\n",
       "      <th>rscrinf</th>\n",
       "      <th>rdormres</th>\n",
       "      <th>rostscrn</th>\n",
       "      <th>rscreenhisp</th>\n",
       "      <th>rscreenrace</th>\n",
       "      <th>age_a</th>\n",
       "      <th>age_r</th>\n",
       "      <th>cmbirth</th>\n",
       "      <th>agescrn</th>\n",
       "      <th>...</th>\n",
       "      <th>pubassis_i</th>\n",
       "      <th>basewgt</th>\n",
       "      <th>adj_mod_basewgt</th>\n",
       "      <th>finalwgt</th>\n",
       "      <th>secu_r</th>\n",
       "      <th>sest</th>\n",
       "      <th>cmintvw</th>\n",
       "      <th>cmlstyr</th>\n",
       "      <th>screentime</th>\n",
       "      <th>intvlngth</th>\n",
       "    </tr>\n",
       "  </thead>\n",
       "  <tbody>\n",
       "    <tr>\n",
       "      <th>0</th>\n",
       "      <td>2298</td>\n",
       "      <td>1</td>\n",
       "      <td>5</td>\n",
       "      <td>5</td>\n",
       "      <td>1</td>\n",
       "      <td>5.0</td>\n",
       "      <td>27</td>\n",
       "      <td>27</td>\n",
       "      <td>902</td>\n",
       "      <td>27</td>\n",
       "      <td>...</td>\n",
       "      <td>0</td>\n",
       "      <td>3247.916977</td>\n",
       "      <td>5123.759559</td>\n",
       "      <td>5556.717241</td>\n",
       "      <td>2</td>\n",
       "      <td>18</td>\n",
       "      <td>1234</td>\n",
       "      <td>1222</td>\n",
       "      <td>18:26:36</td>\n",
       "      <td>110.492667</td>\n",
       "    </tr>\n",
       "    <tr>\n",
       "      <th>1</th>\n",
       "      <td>5012</td>\n",
       "      <td>1</td>\n",
       "      <td>5</td>\n",
       "      <td>1</td>\n",
       "      <td>5</td>\n",
       "      <td>5.0</td>\n",
       "      <td>42</td>\n",
       "      <td>42</td>\n",
       "      <td>718</td>\n",
       "      <td>42</td>\n",
       "      <td>...</td>\n",
       "      <td>0</td>\n",
       "      <td>2335.279149</td>\n",
       "      <td>2846.799490</td>\n",
       "      <td>4744.191350</td>\n",
       "      <td>2</td>\n",
       "      <td>18</td>\n",
       "      <td>1233</td>\n",
       "      <td>1221</td>\n",
       "      <td>16:30:59</td>\n",
       "      <td>64.294000</td>\n",
       "    </tr>\n",
       "    <tr>\n",
       "      <th>2</th>\n",
       "      <td>11586</td>\n",
       "      <td>1</td>\n",
       "      <td>5</td>\n",
       "      <td>1</td>\n",
       "      <td>5</td>\n",
       "      <td>5.0</td>\n",
       "      <td>43</td>\n",
       "      <td>43</td>\n",
       "      <td>708</td>\n",
       "      <td>43</td>\n",
       "      <td>...</td>\n",
       "      <td>0</td>\n",
       "      <td>2335.279149</td>\n",
       "      <td>2846.799490</td>\n",
       "      <td>4744.191350</td>\n",
       "      <td>2</td>\n",
       "      <td>18</td>\n",
       "      <td>1234</td>\n",
       "      <td>1222</td>\n",
       "      <td>18:19:09</td>\n",
       "      <td>75.149167</td>\n",
       "    </tr>\n",
       "    <tr>\n",
       "      <th>3</th>\n",
       "      <td>6794</td>\n",
       "      <td>5</td>\n",
       "      <td>5</td>\n",
       "      <td>4</td>\n",
       "      <td>1</td>\n",
       "      <td>5.0</td>\n",
       "      <td>15</td>\n",
       "      <td>15</td>\n",
       "      <td>1042</td>\n",
       "      <td>15</td>\n",
       "      <td>...</td>\n",
       "      <td>0</td>\n",
       "      <td>3783.152221</td>\n",
       "      <td>5071.464231</td>\n",
       "      <td>5923.977368</td>\n",
       "      <td>2</td>\n",
       "      <td>18</td>\n",
       "      <td>1234</td>\n",
       "      <td>1222</td>\n",
       "      <td>15:54:43</td>\n",
       "      <td>28.642833</td>\n",
       "    </tr>\n",
       "    <tr>\n",
       "      <th>4</th>\n",
       "      <td>616</td>\n",
       "      <td>1</td>\n",
       "      <td>5</td>\n",
       "      <td>4</td>\n",
       "      <td>1</td>\n",
       "      <td>5.0</td>\n",
       "      <td>20</td>\n",
       "      <td>20</td>\n",
       "      <td>991</td>\n",
       "      <td>20</td>\n",
       "      <td>...</td>\n",
       "      <td>0</td>\n",
       "      <td>5341.329968</td>\n",
       "      <td>6437.335772</td>\n",
       "      <td>7229.128072</td>\n",
       "      <td>2</td>\n",
       "      <td>18</td>\n",
       "      <td>1233</td>\n",
       "      <td>1221</td>\n",
       "      <td>14:19:44</td>\n",
       "      <td>69.502667</td>\n",
       "    </tr>\n",
       "  </tbody>\n",
       "</table>\n",
       "<p>5 rows × 3087 columns</p>\n",
       "</div>"
      ],
      "text/plain": [
       "   caseid  rscrinf  rdormres  rostscrn  rscreenhisp  rscreenrace  age_a  \\\n",
       "0    2298        1         5         5            1          5.0     27   \n",
       "1    5012        1         5         1            5          5.0     42   \n",
       "2   11586        1         5         1            5          5.0     43   \n",
       "3    6794        5         5         4            1          5.0     15   \n",
       "4     616        1         5         4            1          5.0     20   \n",
       "\n",
       "   age_r  cmbirth  agescrn     ...      pubassis_i      basewgt  \\\n",
       "0     27      902       27     ...               0  3247.916977   \n",
       "1     42      718       42     ...               0  2335.279149   \n",
       "2     43      708       43     ...               0  2335.279149   \n",
       "3     15     1042       15     ...               0  3783.152221   \n",
       "4     20      991       20     ...               0  5341.329968   \n",
       "\n",
       "   adj_mod_basewgt     finalwgt  secu_r  sest  cmintvw  cmlstyr  screentime  \\\n",
       "0      5123.759559  5556.717241       2    18     1234     1222    18:26:36   \n",
       "1      2846.799490  4744.191350       2    18     1233     1221    16:30:59   \n",
       "2      2846.799490  4744.191350       2    18     1234     1222    18:19:09   \n",
       "3      5071.464231  5923.977368       2    18     1234     1222    15:54:43   \n",
       "4      6437.335772  7229.128072       2    18     1233     1221    14:19:44   \n",
       "\n",
       "    intvlngth  \n",
       "0  110.492667  \n",
       "1   64.294000  \n",
       "2   75.149167  \n",
       "3   28.642833  \n",
       "4   69.502667  \n",
       "\n",
       "[5 rows x 3087 columns]"
      ]
     },
     "execution_count": 14,
     "metadata": {},
     "output_type": "execute_result"
    }
   ],
   "source": [
    "df.head()"
   ]
  },
  {
   "cell_type": "markdown",
   "metadata": {},
   "source": [
    "Values from the codebook;\n",
    "\n",
    "|Value | Label | Total\n",
    "| :---:| :-------:|:------:|\n",
    "|0| NONE| 2610\n",
    "|1| 1 PREGNANCY| 1267\n",
    "|2| 2 PREGNANCIES| 1432\n",
    "|3| 3 PREGNANCIES| 1110\n",
    "|4 |4 PREGNANCIES| 611\n",
    "|5| 5 PREGNANCIES| 305\n",
    "|6| 6 PREGNANCIES| 150\n",
    "|7-95| 7 OR MORE PREGNANCIES| 158\n",
    "|-|**Total**| **7643**"
   ]
  },
  {
   "cell_type": "code",
   "execution_count": 15,
   "metadata": {},
   "outputs": [
    {
     "data": {
      "text/plain": [
       "0     2610\n",
       "1     1267\n",
       "2     1432\n",
       "3     1110\n",
       "4      611\n",
       "5      305\n",
       "6      150\n",
       "7       80\n",
       "8       40\n",
       "9       21\n",
       "10       9\n",
       "11       3\n",
       "12       2\n",
       "14       2\n",
       "19       1\n",
       "Name: pregnum, dtype: int64"
      ]
     },
     "execution_count": 15,
     "metadata": {},
     "output_type": "execute_result"
    }
   ],
   "source": [
    "df.pregnum.value_counts().sort_index()"
   ]
  },
  {
   "cell_type": "code",
   "execution_count": 16,
   "metadata": {},
   "outputs": [
    {
     "data": {
      "text/plain": [
       "7643"
      ]
     },
     "execution_count": 16,
     "metadata": {},
     "output_type": "execute_result"
    }
   ],
   "source": [
    "df.pregnum.value_counts().sum()"
   ]
  },
  {
   "cell_type": "code",
   "execution_count": 17,
   "metadata": {},
   "outputs": [],
   "source": [
    "for caseid, rows in preg_map.items():\n",
    "    if len(rows) != df[df.caseid == caseid].pregnum.values[0]: print('Oh no!')"
   ]
  },
  {
   "cell_type": "markdown",
   "metadata": {},
   "source": [
    "No printout above, so they all seem to match!"
   ]
  },
  {
   "cell_type": "markdown",
   "metadata": {},
   "source": [
    "**Exercise 1.3** The best way to learn about statistics is to work on a project\n",
    "you are interested in. Is there a question like, \"Do first babies arrive late,\"\n",
    "that you want to investigate?\n",
    "\n",
    "I have a few, but one of the first ones I started working on is \"Does a Warm December Mean Less Snow?\", so far for the Boston metro area it looks like a resounding no."
   ]
  },
  {
   "cell_type": "markdown",
   "metadata": {},
   "source": [
    "### Glossary\n",
    "\n",
    "**anecdotal evidence:** Evidence, often personal, that is collected casually rather than by a well-designed study.\n",
    "\n",
    "**population:** A group we are interested in studying. \"Population\" often refers to a group of people, but the term is used for other subjects, too.\n",
    "\n",
    "**cross-sectional study:** A study that collects data about a population at a particular point in time.\n",
    "\n",
    "**cycle:** In a repeated cross-sectional study, each repetition of the study is called a cycle.\n",
    "\n",
    "**longitudinal study:** A study that follows a population over time, collecting data from the same group repeatedly.\n",
    "\n",
    "**record:** In a dataset, a collection of information about a single person or other subject.\n",
    "\n",
    "**respondent:** A person who responds to a survey.\n",
    "\n",
    "**sample:** The subset of a population used to collect data.\n",
    "\n",
    "**representative:** A sample is representative if every member of the population has the same chance of being in the sample.\n",
    "\n",
    "**oversampling:** The technique of increasing the representation of a sub-population in order to avoid errors due to small sample sizes.\n",
    "\n",
    "**raw data:** Values collected and recorded with little or no checking, calculation or interpretation.\n",
    "\n",
    "**recode:** A value that is generated by calculation and other logic applied to raw data.\n",
    "\n",
    "**data cleaning:** Processes that include validating data, identifying errors, translating between data types and representations, etc."
   ]
  },
  {
   "cell_type": "code",
   "execution_count": null,
   "metadata": {},
   "outputs": [],
   "source": []
  }
 ],
 "metadata": {
  "kernelspec": {
   "display_name": "Python 3",
   "language": "python",
   "name": "python3"
  },
  "language_info": {
   "codemirror_mode": {
    "name": "ipython",
    "version": 3
   },
   "file_extension": ".py",
   "mimetype": "text/x-python",
   "name": "python",
   "nbconvert_exporter": "python",
   "pygments_lexer": "ipython3",
   "version": "3.6.1"
  }
 },
 "nbformat": 4,
 "nbformat_minor": 2
}
