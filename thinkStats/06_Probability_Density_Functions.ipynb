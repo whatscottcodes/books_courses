{
 "cells": [
  {
   "cell_type": "code",
   "execution_count": 1,
   "metadata": {},
   "outputs": [],
   "source": [
    "import pandas as pd\n",
    "import numpy as np\n",
    "import math\n",
    "from collections import defaultdict\n",
    "import ts_code.nsfg as nsfg\n",
    "import ts_code.thinkstats2 as thinkstats2\n",
    "import ts_code.thinkplot as thinkplot\n",
    "import matplotlib.pyplot as plt\n",
    "%matplotlib inline"
   ]
  },
  {
   "cell_type": "markdown",
   "metadata": {},
   "source": [
    "## Chapter 06 - Probability density functions"
   ]
  },
  {
   "cell_type": "markdown",
   "metadata": {},
   "source": [
    "The derivative of a CDF is called a **probability density function** of PDF.\n",
    "\n",
    "The PDF of an exponential dsitribution is;\n",
    "\n",
    "$$PDF_{\\text{expo}}(x) = \\lambda e^{-\\lambda x}$$\n",
    "\n",
    "The PDF of the normal dsitribution is; \n",
    "\n",
    "$$PDF_{\\text{normal}}(x) = \\frac{1}{\\sigma \\sqrt{2\\pi}} \\cdot \\exp[-\\frac{1}{2}(\\frac{x-\\mu}{\\sigma})^{2}]$$"
   ]
  },
  {
   "cell_type": "markdown",
   "metadata": {},
   "source": [
    "Evaluating a PDF for a specific $x$ is not useful because it does not return a probability, it returns a *probability density*."
   ]
  },
  {
   "cell_type": "markdown",
   "metadata": {},
   "source": [
    "The **probability density** measure the probability per unit of x, in order to get a probability mass (the probability) you have to integrate over $x$."
   ]
  },
  {
   "cell_type": "markdown",
   "metadata": {},
   "source": [
    "**Kernel  density  estimation** (KDE) is an algorithm that takes a sample and find an appropriately smooth PDF that fits the data. The KDE for a sample drawn from some distribution with an unknown density $f$ is;\n",
    "\n",
    "$$KDE = \\frac{1}{nh} \\sum_{i=1}^{n} K(\\frac{x-x_{i}}{h})$$\n",
    "\n",
    "where $K$ is the *kernel*, a non-negative function that integrates to 1, and $h>0$ is a smoothing parameter called the *bandwith*. \n",
    "\n",
    "A range of kernel functions are commonly used: uniform, triangular, biweight, triweight, Epanechnikov, normal, and others. \n",
    "\n",
    "The Epanechnikov kernel is optimal in a mean square error sense, though the loss of efficiency is small for the kernels listed previously,and due to its convenient mathematical properties, the normal kernel is often used, which means $K(x) = ϕ(x)$, where $ϕ$ is the standard normal density function."
   ]
  },
  {
   "cell_type": "markdown",
   "metadata": {},
   "source": [
    "Extimating a density function with KDE is useful for several purposes;\n",
    "\n",
    "+ **Visualization:** During the exploration phase of a projects, CDFs are usually the best visualization of a distribution. After looking at a CDF, you can decide if an estimated PDF is an appropriate model of the distribution. If so, it can be a better choise for presenting.\n",
    "\n",
    "+ **Interpolation:**  An estimated PDF is a way to get from a sample to a model of the population. If you have reason to believe that population distributes smooth, you can use KDE to interpolate the density for values that don't appear in the sample.\n",
    "\n",
    "+ **Simulation:** Simulations are often based on the dstribution of a sample. If the sample size is small, it might be apprpriate to smooth the sample distribution using KDE."
   ]
  },
  {
   "cell_type": "markdown",
   "metadata": {},
   "source": [
    "### The distribution framework\n",
    "\n",
    "So far we've seen PMFs, CDFs, and PDFs.\n",
    "\n",
    "PMFs represent the probabilities for a discrete set of values. To get from a PMF to a CDF we add up the probability masses to get cumulative probabilities. To go back, we compute the differences in cumulative probabilities. \n",
    "\n",
    "A PDF is the derivative of a continuous CDF, or you can say a CDF is the integral of a PDF. \n",
    "\n",
    "To go from a discrete to continuous distribution you can perform various kinds of smoothing. One way is to assume that the data come from an analytic continuous distribution and estimate the parameter of the dsitribution. Another option is kernel density estimation (KDE)."
   ]
  },
  {
   "cell_type": "markdown",
   "metadata": {},
   "source": [
    "The opposite of smoothing is **discretizing** or *quantizing*. If you evaluate a PDF at discrete points, you generate a PMF. You can get better approximation using numerical integration."
   ]
  },
  {
   "cell_type": "markdown",
   "metadata": {},
   "source": [
    "### Moments\n",
    "\n",
    "A **raw moment** is a kind of statistics. If you have a sample of $n$, values, $x_{i}$, the $k\\text{th}$ raw moment is;\n",
    "\n",
    "$$m'_{k} = \\frac{1}{n}\\sum_{i} x_{i}^{k}$$"
   ]
  },
  {
   "cell_type": "markdown",
   "metadata": {},
   "source": [
    "When $k=1$ the result is the sample mean $\\bar{x}$. Other raw moments don't mean much by themselves, but are used in some computations."
   ]
  },
  {
   "cell_type": "markdown",
   "metadata": {},
   "source": [
    "The **central moments** are more useful. The $k\\text{th}$ central moment is:\n",
    "\n",
    "$$m_{k} = \\frac{1}{n}\\sum_{i} (x_{i} - \\bar{x})^{k}$$\n",
    "\n",
    "When $k=2$, the result is the second central moment, which is the variance."
   ]
  },
  {
   "cell_type": "markdown",
   "metadata": {},
   "source": [
    "The definition of variance gives a hint about why these statistics are called moments. If we attach a weight along a ruler at each  location, $x_{i}$, and then spin the ruler around the mean, the moment of inertia (the torque needed for a desired angular acceleration about a rotational axis) of the spinning weights is the variance of the values."
   ]
  },
  {
   "cell_type": "markdown",
   "metadata": {},
   "source": [
    "When reporting moment-based statistics, it is important to think about units.\n",
    "\n",
    "If our $x_{i}$ values are in cm, the first raw moment is also in cm, but the second is in cm<sup>2</sup> and then third in cm<sup>3</sup> and so on."
   ]
  },
  {
   "cell_type": "markdown",
   "metadata": {},
   "source": [
    "**Skewness** is a property that describes the shape of a distribution. If it is symmetric around its central tendency, it is **unskewed**. If the tail of the values extend further to the right, its **right skewed**, if they extend left, its **left skewed**."
   ]
  },
  {
   "cell_type": "markdown",
   "metadata": {},
   "source": [
    "Given a sequence of values, $x_{i}$, the **sample skewness**, $g_{1}$, is;\n",
    "\n",
    "$$g_{1} = \\frac{\\frac{1}{n}\\sum_{i} (x_{i} - \\bar{x})^{3}}{\\sigma}$$\n",
    "\n",
    "$g_{1}$ is the third **standardized moment**, which is a central moment that has been normalized, so it has no units."
   ]
  },
  {
   "cell_type": "markdown",
   "metadata": {},
   "source": [
    "*Negative* skewness indicates that a distribution skews *left*; *positive* skenwess indicates that a distribution skews *right*. THe magnitude of $g_{1}$ indicates the strength, but by itself is not easy to interpert.\n",
    "\n",
    "In practice computing this sample skewness is not a good idea, outliear have a disproportionate effect on $g_{1}$.\n",
    "\n",
    "Another way to evaluate the asymmetry of a distribution is to look at the relationship between the mean and median.  Extreme values have more effect on the mean than the median, so in a distribution that *skews left*, the mean is *less than* the median. In a distribution that *skews right*, the *mean is greater*."
   ]
  },
  {
   "cell_type": "markdown",
   "metadata": {},
   "source": [
    "**Pearson's median skewness coeffcient** is a measure of skewness based on the difference between the sample mean and median:\n",
    "\n",
    "$$g_{p} = \\frac{3(\\bar{x}-m)}{S}$$\n",
    "\n",
    "where $\\bar{x}$ is the sample mean, $m$ is the median, and $S$ is the standard deviation.\n",
    "\n",
    "This is a **robust** statistic, which means it is less vulnerable to the effect of outliers."
   ]
  },
  {
   "cell_type": "markdown",
   "metadata": {},
   "source": [
    "### Exercises\n",
    "\n",
    "**Exercise 6.1** The distribution of income is famously skewed to the right. In this exercise, we'll measure how strong that skew is. The Current Population Survey (CPS) is a joint effort of the Bureau of Labor Statistics and  the Census Bureau to study income and related variables. The dataset is in the form of a series of income ranges and the number of respondents who fell in each range. The lowest range includes respondents who reported annual household income \"Under \\$5000.\" The highest range includes respondents who made \"\\$250,000 or more.\"\n",
    "\n",
    "To estimate mean and other statistics from these data, we have to make some assumptions about the lower and upper bounds, and how the values are distributed in each range. *hinc2.py* provides *InterpolateSample*, which shows one way to model this data. It takes a DataFrame with a column, income, that contains the upper bound of each range, and freq, which contains the number of respondents in each frame. \n",
    "\n",
    "It also takes *log_upper*, which is an assumed upper bound on the highest range, expressed in log10dollars. The default value, log_upper=6.0 represents the assumption that the largest income among the respondents is 10<sup>6</sup>, or one million dollars.\n",
    "    \n",
    "InterpolateSample generates a pseudo-sample; that is, a sample of house-hold incomes that yields the same number of respondents in each range as the actual data. It assumes that incomes in each range are equally spaced on a log10 scale.\n",
    "\n",
    "Compute the median, mean, skewness and Pearson's skewness of the resulting sample. What fraction of households reports a taxable income below the mean? How do the results depend on the assumed upper bound?"
   ]
  },
  {
   "cell_type": "code",
   "execution_count": 2,
   "metadata": {},
   "outputs": [],
   "source": [
    "import ts_code.hinc2 as hinc2"
   ]
  },
  {
   "cell_type": "code",
   "execution_count": 4,
   "metadata": {},
   "outputs": [
    {
     "name": "stderr",
     "output_type": "stream",
     "text": [
      "/home/scott/ds/thinkStats/ts_code/hinc2.py:33: SettingWithCopyWarning: \n",
      "A value is trying to be set on a copy of a slice from a DataFrame\n",
      "\n",
      "See the caveats in the documentation: http://pandas.pydata.org/pandas-docs/stable/indexing.html#indexing-view-versus-copy\n",
      "  df.log_lower[0] = 3.0\n",
      "/home/scott/ds/thinkStats/ts_code/hinc2.py:36: SettingWithCopyWarning: \n",
      "A value is trying to be set on a copy of a slice from a DataFrame\n",
      "\n",
      "See the caveats in the documentation: http://pandas.pydata.org/pandas-docs/stable/indexing.html#indexing-view-versus-copy\n",
      "  df.log_upper[41] = log_upper\n"
     ]
    },
    {
     "data": {
      "image/png": "[encoded data removed]",
      "text/plain": [
       "<matplotlib.figure.Figure at 0x7f2384036ac8>"
      ]
     },
     "metadata": {},
     "output_type": "display_data"
    },
    {
     "data": {
      "text/plain": [
       "<matplotlib.figure.Figure at 0x7f2383f9b1d0>"
      ]
     },
     "metadata": {},
     "output_type": "display_data"
    }
   ],
   "source": [
    "hinc2.main()"
   ]
  },
  {
   "cell_type": "code",
   "execution_count": 12,
   "metadata": {},
   "outputs": [],
   "source": [
    "df = hinc2.hinc.ReadData()"
   ]
  },
  {
   "cell_type": "code",
   "execution_count": 21,
   "metadata": {},
   "outputs": [
    {
     "name": "stderr",
     "output_type": "stream",
     "text": [
      "/home/scott/ds/thinkStats/ts_code/hinc2.py:33: SettingWithCopyWarning: \n",
      "A value is trying to be set on a copy of a slice from a DataFrame\n",
      "\n",
      "See the caveats in the documentation: http://pandas.pydata.org/pandas-docs/stable/indexing.html#indexing-view-versus-copy\n",
      "  df.log_lower[0] = 3.0\n",
      "/home/scott/ds/thinkStats/ts_code/hinc2.py:36: SettingWithCopyWarning: \n",
      "A value is trying to be set on a copy of a slice from a DataFrame\n",
      "\n",
      "See the caveats in the documentation: http://pandas.pydata.org/pandas-docs/stable/indexing.html#indexing-view-versus-copy\n",
      "  df.log_upper[41] = log_upper\n"
     ]
    }
   ],
   "source": [
    "one_mill = hinc2.InterpolateSample(df)"
   ]
  },
  {
   "cell_type": "code",
   "execution_count": 61,
   "metadata": {},
   "outputs": [
    {
     "name": "stderr",
     "output_type": "stream",
     "text": [
      "/home/scott/ds/thinkStats/ts_code/hinc2.py:33: SettingWithCopyWarning: \n",
      "A value is trying to be set on a copy of a slice from a DataFrame\n",
      "\n",
      "See the caveats in the documentation: http://pandas.pydata.org/pandas-docs/stable/indexing.html#indexing-view-versus-copy\n",
      "  df.log_lower[0] = 3.0\n",
      "/home/scott/ds/thinkStats/ts_code/hinc2.py:36: SettingWithCopyWarning: \n",
      "A value is trying to be set on a copy of a slice from a DataFrame\n",
      "\n",
      "See the caveats in the documentation: http://pandas.pydata.org/pandas-docs/stable/indexing.html#indexing-view-versus-copy\n",
      "  df.log_upper[41] = log_upper\n"
     ]
    }
   ],
   "source": [
    "incomes = {'1 million':6,\"10 million\":9, '50 million':7.69897, '100 million': 8, '500 million': 8.69897,\n",
    "           '1 billion':9, '10 billion':10, '50 billion': 10.69897, '90 billion':10.954242509}\n",
    "data_dict = {}\n",
    "\n",
    "for key, val in incomes.items():\n",
    "    values = hinc2.InterpolateSample(df, val)\n",
    "    cdf = thinkstats2.Cdf(values)\n",
    "    mean = values.mean()\n",
    "    median = np.median(values)\n",
    "    var = sum((x - mean)**2 for x in values) / len(values)\n",
    "    std = math.sqrt(var)\n",
    "    skew = (sum((x - mean)**3 for x in values) / len(values)) / std\n",
    "    pearsons = 3 * (mean - median)/std\n",
    "    percent_below_mean = cdf.PercentileRank(mean)\n",
    "    data_dict[key] = [mean, std, skew, pearsons, percent_below_mean]"
   ]
  },
  {
   "cell_type": "code",
   "execution_count": 66,
   "metadata": {},
   "outputs": [
    {
     "name": "stdout",
     "output_type": "stream",
     "text": [
      "Income      | Mean | Standard Deviation | Sample Skew| Pearson Skew | Percent of Income Earners Below Mean\n",
      "1 million   | 4.66 | 0.46               | -0.14      | -0.34        | 45.06     \n",
      "10 million  | 4.69 | 0.60               | 0.76       | -0.08        | 48.40     \n",
      "50 million  | 4.68 | 0.53               | 0.21       | -0.18        | 46.95     \n",
      "100 million | 4.68 | 0.55               | 0.31       | -0.15        | 47.29     \n",
      "500 million | 4.69 | 0.59               | 0.61       | -0.10        | 48.07     \n",
      "1 billion   | 4.69 | 0.60               | 0.76       | -0.08        | 48.40     \n",
      "10 billion  | 4.71 | 0.67               | 1.34       | -0.02        | 49.56     \n",
      "50 billion  | 4.71 | 0.72               | 1.84       | 0.02         | 50.40     \n",
      "90 billion  | 4.72 | 0.73               | 2.04       | 0.03         | 50.70     \n"
     ]
    }
   ],
   "source": [
    "print (\"{:<12}{:<2}{:<5}{:<2}{:<19}{:<2}{:<11}{:<2}{:<13}{:<2}{:<10}\".format('Income','|', 'Mean','|', 'Standard Deviation','|', \n",
    "                                                                            'Sample Skew','|', 'Pearson Skew','|', \n",
    "                                                                            'Percent of Income Earners Below Mean'))\n",
    "\n",
    "for k, v in data_dict.items():\n",
    "    mean, std, skew, pearsons, percent_below_mean = v\n",
    "    print (\"{:<12}{:<2}{:<5.2f}{:<2}{:<19.2f}{:<2}{:<11.2f}{:<2}{:<13.2f}{:<2}{:<10.2f}\".format(k,'|', mean,'|', std,'|', \n",
    "                                                                            skew,'|', pearsons,'|', \n",
    "                                                                            percent_below_mean))"
   ]
  },
  {
   "cell_type": "markdown",
   "metadata": {},
   "source": [
    "> As we increase the upper bound, the distribution moves to being heavily right skewed. This result in more and more people (as a percent) earning less than the mean. "
   ]
  },
  {
   "cell_type": "markdown",
   "metadata": {},
   "source": [
    "### Glossary\n",
    "\n",
    "**Probability  density  function  (PDF):**  The  derivative  of  a  continuous CDF, a function that maps a value to its probability density.\n",
    "\n",
    "**Probability  density:** A quantity that can be integrated over a range of values to yield a probability. If the  values are in units of cm, for example, probability density is in units of probability per cm.\n",
    "\n",
    "**Kernel density estimation (KDE):** An algorithm that estimates a PDF based on a sample.\n",
    "\n",
    "**discretize:** To approximate a continuous function or distribution witha discrete function. The opposite of smoothing.\n",
    "\n",
    "**raw moment:** A statistic based on the sum of data raised to a power.\n",
    "\n",
    "**central moment:** A statistic based on deviation from the mean, raised to a power.\n",
    "\n",
    "**standardized moment:** A ratio of moments that has no units.\n",
    "\n",
    "**skewness:**  A measure of how asymmetric a distribution is.\n",
    "\n",
    "**sample skewness:** A moment-based statistic intended to quantify theskewness of a distribution.\n",
    "\n",
    "**Pearson's median skewness coefficient:** A statistic intended to quantify the skewness of a distribution based on the median, mean, and standard deviation.\n",
    "\n",
    "**robust:** A statistic is robust if it is relatively immune to the effect ofoutliers."
   ]
  },
  {
   "cell_type": "code",
   "execution_count": null,
   "metadata": {},
   "outputs": [],
   "source": []
  }
 ],
 "metadata": {
  "kernelspec": {
   "display_name": "Python 3",
   "language": "python",
   "name": "python3"
  },
  "language_info": {
   "codemirror_mode": {
    "name": "ipython",
    "version": 3
   },
   "file_extension": ".py",
   "mimetype": "text/x-python",
   "name": "python",
   "nbconvert_exporter": "python",
   "pygments_lexer": "ipython3",
   "version": "3.6.1"
  }
 },
 "nbformat": 4,
 "nbformat_minor": 2
}
