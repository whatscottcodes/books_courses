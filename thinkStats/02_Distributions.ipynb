{
 "cells": [
  {
   "cell_type": "code",
   "execution_count": 1,
   "metadata": {},
   "outputs": [],
   "source": [
    "import pandas as pd\n",
    "import numpy as np\n",
    "import math\n",
    "import ts_code.nsfg as nsfg\n",
    "import ts_code.thinkstats2 as thinkstats2\n",
    "import matplotlib.pyplot as plt\n",
    "%matplotlib inline"
   ]
  },
  {
   "cell_type": "markdown",
   "metadata": {},
   "source": [
    "## Chapter 2 - Distributions"
   ]
  },
  {
   "cell_type": "markdown",
   "metadata": {},
   "source": [
    "One of the best ways to describe a variable is to report the values that appear\n",
    "in the dataset and how many times each value appears. This description is\n",
    "called the **distribution** of the variable.\n",
    "\n",
    "The most common representation of a distribution is a **histogram**, which is a\n",
    "graph that shows the **frequency** of each value."
   ]
  },
  {
   "cell_type": "markdown",
   "metadata": {},
   "source": [
    "Histograms can be represented using a Python dictionary, the counter class or the pandas method **value_counts** which we saw in chapter 1."
   ]
  },
  {
   "cell_type": "code",
   "execution_count": 2,
   "metadata": {},
   "outputs": [],
   "source": [
    "preg = nsfg.ReadFemPreg()\n",
    "#select records for live births\n",
    "live = preg[preg.outcome == 1]"
   ]
  },
  {
   "cell_type": "markdown",
   "metadata": {},
   "source": [
    "Let's explore a couple variables that are shown as figures in the book. Avoiding some of the prewritten code, I used the pandas.hist() function.\n",
    "\n",
    "Thanks to stackoverflow, I was able to figure out that passing range(bins+1) to my bins argument and left to the align paremeter results in the xtick being centered on the bars. This only works for data that you want to essentially bin by integer from it's min to its max."
   ]
  },
  {
   "cell_type": "code",
   "execution_count": 3,
   "metadata": {},
   "outputs": [
    {
     "data": {
      "image/png": "[encoded data removed]",
      "text/plain": [
       "<matplotlib.figure.Figure at 0x7f1dd9b0ad68>"
      ]
     },
     "metadata": {},
     "output_type": "display_data"
    }
   ],
   "source": [
    "live.hist('birthwgt_oz', grid=False, bins = range(17), rwidth = 0.75, align='left');\n",
    "plt.xticks(np.arange(16));"
   ]
  },
  {
   "cell_type": "code",
   "execution_count": 4,
   "metadata": {},
   "outputs": [
    {
     "data": {
      "image/png": "[encoded data removed]",
      "text/plain": [
       "<matplotlib.figure.Figure at 0x7f1dd8aadeb8>"
      ]
     },
     "metadata": {},
     "output_type": "display_data"
    }
   ],
   "source": [
    "live[live.birthwgt_lb > 0].hist('birthwgt_lb', grid=False, bins = range(14), rwidth = 0.80, align='left')\n",
    "plt.xlim(0, 14);"
   ]
  },
  {
   "cell_type": "markdown",
   "metadata": {},
   "source": [
    "Below are a few of the other histograms from the books;"
   ]
  },
  {
   "cell_type": "code",
   "execution_count": 5,
   "metadata": {},
   "outputs": [
    {
     "data": {
      "image/png": "[encoded data removed]",
      "text/plain": [
       "<matplotlib.figure.Figure at 0x7f1dd8a8ac18>"
      ]
     },
     "metadata": {},
     "output_type": "display_data"
    }
   ],
   "source": [
    "live.hist('agepreg', grid=False, bins = range(45), rwidth = 0.75, align='left')\n",
    "plt.xlim(0, 45);"
   ]
  },
  {
   "cell_type": "code",
   "execution_count": 6,
   "metadata": {},
   "outputs": [
    {
     "data": {
      "image/png": "[encoded data removed]",
      "text/plain": [
       "<matplotlib.figure.Figure at 0x7f1dd83ee518>"
      ]
     },
     "metadata": {},
     "output_type": "display_data"
    }
   ],
   "source": [
    "live.hist('prglngth', grid = False, bins = range(50), rwidth = 0.90, align= 'left');"
   ]
  },
  {
   "cell_type": "markdown",
   "metadata": {},
   "source": [
    "The most common value is called the **mode**. The birth weight in pounds distribution is similar to a **normal distirubtion**, also called a **Guassian distribution**. It's not a true normal distribution though as it has a **tail** that extends farther to the left than to right.\n",
    "\n",
    "The age at the end of pregnency distribution is also very close to normal."
   ]
  },
  {
   "cell_type": "markdown",
   "metadata": {},
   "source": [
    "The birth weight in ounces is a distrubition we would expect to be close to **uniform**, all values have the same frequency. However we see that 0 is more common, likely due to people rounding off birth weights that are close to an integer. "
   ]
  },
  {
   "cell_type": "markdown",
   "metadata": {},
   "source": [
    "Histograms are good for identifying some attributes of the data, such as most common values or the shape, but are not always good at making rare values visible.\n",
    "\n",
    "These rare values are **outliers**, which are extreme values that could be errors, or may actually be records of truly rare events."
   ]
  },
  {
   "cell_type": "markdown",
   "metadata": {},
   "source": [
    "One of the easiest ways to do this is to look at the **min and max** of your values."
   ]
  },
  {
   "cell_type": "code",
   "execution_count": 7,
   "metadata": {},
   "outputs": [
    {
     "data": {
      "text/plain": [
       "4783     50\n",
       "8998     50\n",
       "2416     48\n",
       "4920     48\n",
       "6889     48\n",
       "6890     48\n",
       "7158     48\n",
       "7161     48\n",
       "7592     48\n",
       "11357    47\n",
       "Name: prglngth, dtype: int64"
      ]
     },
     "execution_count": 7,
     "metadata": {},
     "output_type": "execute_result"
    }
   ],
   "source": [
    "live['prglngth'].nlargest(10)"
   ]
  },
  {
   "cell_type": "code",
   "execution_count": 8,
   "metadata": {},
   "outputs": [
    {
     "data": {
      "text/plain": [
       "6458      0\n",
       "4108      4\n",
       "138       9\n",
       "11887    13\n",
       "8919     17\n",
       "10492    17\n",
       "541      18\n",
       "7762     19\n",
       "1041     20\n",
       "7800     21\n",
       "Name: prglngth, dtype: int64"
      ]
     },
     "execution_count": 8,
     "metadata": {},
     "output_type": "execute_result"
    }
   ],
   "source": [
    "live['prglngth'].nsmallest(10)"
   ]
  },
  {
   "cell_type": "markdown",
   "metadata": {},
   "source": [
    "Values below 10 weeks are certainly errors; the most likely explanation is that the outcome was not coded correctly.  Values higher than 30 weeks are probably legitimate. Between 10 and 30 weeks, it is hard to be sure; some values are probably errors, but some represent premature babies."
   ]
  },
  {
   "cell_type": "markdown",
   "metadata": {},
   "source": [
    "Most doctors recommend induced labor if a pregnancy exceeds 42 weeks, so some of the longer values are surprising.  In particular, 50 weeks seems medically unlikely.\n",
    "\n",
    "The best way to handle outliers depends on \"domain knowledge\"; that is,information about where the data come from and what they mean. It also depends on what analysis you are planning to perform."
   ]
  },
  {
   "cell_type": "markdown",
   "metadata": {},
   "source": [
    "In this example, the motivating question is whether first babies tend to be early (or late).  When people ask this question, they are usually interested in full-term pregnancies, so for this analysis we will focus on pregnancies longer than 27 weeks."
   ]
  },
  {
   "cell_type": "markdown",
   "metadata": {},
   "source": [
    "The next step would be to compare the distribution of pregnancy lengths for first babies and all other babies."
   ]
  },
  {
   "cell_type": "code",
   "execution_count": 9,
   "metadata": {},
   "outputs": [],
   "source": [
    "#divide the dataframe based on birth order\n",
    "first = live[(live.birthord == 1) & (live.prglngth >= 27) & (live.prglngth <= 45)]\n",
    "others = live[(live.birthord != 1) & (live.prglngth >= 27) & (live.prglngth <= 45)]"
   ]
  },
  {
   "cell_type": "code",
   "execution_count": 10,
   "metadata": {},
   "outputs": [
    {
     "data": {
      "image/png": "[encoded data removed]",
      "text/plain": [
       "<matplotlib.figure.Figure at 0x7f1dd876cdd8>"
      ]
     },
     "metadata": {},
     "output_type": "display_data"
    }
   ],
   "source": [
    "fig, ax = plt.subplots()\n",
    "ax.hist([first.prglngth, others.prglngth], bins = range(46), histtype=\"bar\", label=(\"First Baby\", \"Subsequent Babies\"), rwidth = 0.90, align= 'left')\n",
    "ax.set_xlim(25, 45)\n",
    "ax.set_title(\"Length of Pregnacy\")\n",
    "ax.set_xlabel(\"Weeks\")\n",
    "ax.set_ylabel(\"Frequency\")\n",
    "\n",
    "ax.legend();"
   ]
  },
  {
   "cell_type": "markdown",
   "metadata": {},
   "source": [
    "A histogram is a complete description of the distribution, we could reconstruct the values in the sample from it. Often we aren't looking for this level of detail, instead we want to summarize the distribution with a few **descriptive statistics**.\n",
    "\n",
    "+ **central  tendency:** Do the values tend to cluster around a particular point?\n",
    "\n",
    "+ **modes:** Is there more than one cluster?\n",
    "\n",
    "+ **spread:** How much variability is there in the values?\n",
    "\n",
    "+ **tails:** How quickly do the probabilities drop off as we move away from the modes?\n",
    "\n",
    "+ **outliers:** Are there extreme values far from the modes?\n",
    "\n",
    "We use **summary statistics** to describe the data and answer these questions."
   ]
  },
  {
   "cell_type": "markdown",
   "metadata": {},
   "source": [
    "The most common summary statistic is the **mean**, which is meant to describe the central tendency of the distribution."
   ]
  },
  {
   "cell_type": "markdown",
   "metadata": {},
   "source": [
    "*Def:* For a sample of $n$ values, the mean $\\bar{x}$, is the sum of the values ($x_{i}$), divided by the number of values;\n",
    "\n",
    "$$\\bar{x} = \\frac{1}{n} \\sum_{i} x_{i}$$"
   ]
  },
  {
   "cell_type": "markdown",
   "metadata": {},
   "source": [
    "The mean is useful when there is a typical object of the set. For example the mean weight of an apple is meaningful because there are not too many outlier apples. Pumpkins on the other hand have a very wide range and can have outliear up to 2,624.6 pounds! If I had grown that pumpkin on a my farm with other \"normal\" pumkins it would really pull the average weight up. There is no meaningful average in that situation because there is no typical pumpkin. "
   ]
  },
  {
   "cell_type": "markdown",
   "metadata": {},
   "source": [
    "We can improve upon these example where there is no typical object by using both the mean and **variance**."
   ]
  },
  {
   "cell_type": "markdown",
   "metadata": {},
   "source": [
    "The variance is a summary statistics intended to describe the variability or spread of a distribution."
   ]
  },
  {
   "cell_type": "markdown",
   "metadata": {},
   "source": [
    "*Def*: For the set of $n$ values describe in the mean definition;\n",
    "\n",
    "$$\\sigma^{2} = \\frac{1}{n} \\sum{i}(x_{i}-\\bar{x})^{2}$$\n",
    "\n",
    "This is a sum of the squared deviation from the mean, we are measuring each values distance from the mean, squaring it, and adding them all up.\n",
    "\n",
    "This is also called the mean squared deviation. The square root of the variance ($\\sigma$) is the **standard deviation**."
   ]
  },
  {
   "cell_type": "code",
   "execution_count": 11,
   "metadata": {},
   "outputs": [
    {
     "name": "stdout",
     "output_type": "stream",
     "text": [
      "Mean: 38.56 weeks, Variance: 7.30 weeks sq, SD: 2.70 weeks\n"
     ]
    }
   ],
   "source": [
    "#mean, variance, and standard deviation with pandas\n",
    "mean = live.prglngth.mean()\n",
    "var = live.prglngth.var()\n",
    "std = live.prglngth.std()\n",
    "print('Mean: %.02f weeks, Variance: %.02f weeks sq, SD: %.02f weeks' % (mean, var, std))"
   ]
  },
  {
   "cell_type": "markdown",
   "metadata": {},
   "source": [
    "Variance is useful in some calculations, but it is not a good summary statistic because it is hard to interpert what 7.3 weeks squared really means. It is much easier to see that the average length is 38.56 weeks and this deviates by 2-3 weeks."
   ]
  },
  {
   "cell_type": "markdown",
   "metadata": {},
   "source": [
    "An **effect size** is a summary statistic intended to describe the size of an effect. Describing the difference between two groups could be done by comparising their means. In our first birth example the mean for first babies is 38.601 and for other it is 38.523, a difference of 0.078 weeks or 0.2% of a typical pregnency."
   ]
  },
  {
   "cell_type": "markdown",
   "metadata": {},
   "source": [
    "If we assume this is correct, such a difference would have no consquence. Without observing a large number of pregnancies it is unlikely anyone would notice this difference at all."
   ]
  },
  {
   "cell_type": "markdown",
   "metadata": {},
   "source": [
    "Another approach is to compare the *difference between* groups to the *variability within* groups. **Cohen's d** is intended to just that.\n",
    "\n",
    "*Def:*\n",
    "$$d = \\frac{\\bar{x}_{1} - \\bar{x}_{2}}{s}$$\n",
    "\n",
    "where, $\\bar{x}_{1}$ and $\\bar{x}_{2}$ are the means of the two groups and $s$ is the \"pooled standard deviation\". This pooled standard deviation is the sum of each variance, multiplied by it's group's number of values, then divided by the total values in each group $\\frac{(n_{1} \\cdot \\sigma^{2}_{1} + n_{2} \\cdot \\sigma^{2}_{2})}{(n_{1} + n_{2})}$."
   ]
  },
  {
   "cell_type": "code",
   "execution_count": 12,
   "metadata": {},
   "outputs": [],
   "source": [
    "#I thought there would be built in cohen d function, but a quick search did not return one\n",
    "#it's easy enough to put together though\n",
    "\n",
    "def CohenD(group1, group2):\n",
    "    diff = group1.mean() - group2.mean()\n",
    "    var1 = group1.var()\n",
    "    var2 = group2.var()\n",
    "    n1, n2 = len(group1), len(group2)\n",
    "    pooled_var = (n1 * var1 + n2 * var2) / (n1 + n2)\n",
    "    d = diff / math.sqrt(pooled_var)\n",
    "    return d"
   ]
  },
  {
   "cell_type": "code",
   "execution_count": 13,
   "metadata": {},
   "outputs": [
    {
     "data": {
      "text/plain": [
       "0.02847218973825238"
      ]
     },
     "execution_count": 13,
     "metadata": {},
     "output_type": "execute_result"
    }
   ],
   "source": [
    "CohenD(first.prglngth, others.prglngth) #this is an extremely small effect size"
   ]
  },
  {
   "cell_type": "markdown",
   "metadata": {},
   "source": [
    "### Exercises\n",
    "\n",
    "**Exercise 2.1** Based on the results in this chapter, suppose you were asked to summarize what you learned about whether first babies arrive late.\n",
    "\n",
    "> There is no evidence to suggest that first babies arrive late. The Cohen's d score between the two groups is only 0.02, showing a the very small effect that birth order has on the length of the pregnancy.\n",
    "\n",
    "Which summary statistics would you use if you wanted to get a story on the evening news? Which ones would you use if you wanted to reassure an anxious patient?\n",
    "\n",
    "> I'm not sure any of these statistics jump out as newsworthy, maybe that there are 329 less first babies born after 38 weeks than other babies? \n",
    "\n",
    ">I'm not sure what the patient is anxious about, is it that they think this pregnency will be longer than average because it's a first or other baby? The difference between two on average is a few hours, so the length of their pregnency is not going to depend on whether this is their first or seventh child.\n",
    "\n",
    "Finally, imagine that you are Cecil Adams, author of The Straight Dope (http://straightdope.com), and your job is to answer the question, \"Do first babies arrive late?\" Write a paragraph that uses the results in this chapter to answer the question clearly, precisely, and honestly.\n",
    "\n",
    "> The answer, simply put, is no. Obviously this depends on what we call late, are we saying birth in week 40 is late, week 41, 42? Let's start with average first and average \"other\" baby, first babies arrive about 13 hours or .02% of a pregnancy later than the other babies group. This is an exremely small amount of time in grand scheme of a pregnancy. In fact, the Cohen's d value (used to measure effect size between two group) is only 0.02847, suggesting that birth order has a very small effect on the length of the pregnancy. \n",
    "\n",
    ">Now if we want to start defining late to mean after a certain point, then this question becomes a little more interesting. Let's say 41 weeks and later is late, doctors tend to induce at 42 weeks, and we have cut off any truly rare values above 45 from out data. Well, then 9% of other babies go to 41 weeks and beyond, but 15% of first babies do. For 42+ weeks, this becomes 4% and 7%, 1.8% and 2.6% for 43+ weeks, and finally 0.5% and 0.6% for 44+ weeks. This would suggested that while on average first babies arrive in the same amount of time as every other baby, they actually have a slightly better chance of arriving late!"
   ]
  },
  {
   "cell_type": "code",
   "execution_count": 14,
   "metadata": {},
   "outputs": [
    {
     "name": "stdout",
     "output_type": "stream",
     "text": [
      "0.09337028352163718\n"
     ]
    },
    {
     "data": {
      "text/plain": [
       "0.15562157221206582"
      ]
     },
     "execution_count": 14,
     "metadata": {},
     "output_type": "execute_result"
    }
   ],
   "source": [
    "print(len(others[others.prglngth >= 41].prglngth)/len(others.prglngth))\n",
    "len(first[first.prglngth >= 41].prglngth)/len(first.prglngth)"
   ]
  },
  {
   "cell_type": "markdown",
   "metadata": {},
   "source": [
    "**Exercise 2.2** In the repository you downloaded, you should find a file named chap02ex.ipynb; open it. Some cells are already filled in, and you should execute them. Other cells give you instructions for exercises. Follow the instructions and fill in the answers."
   ]
  },
  {
   "cell_type": "markdown",
   "metadata": {},
   "source": [
    "**Exercise 2.3** The mode of a distribution is the most frequent value. Write a function called *Mode* that takes a Hist and returns the most frequent value. \n",
    "\n",
    "As a more challenging exercise, write a function called *AllModes* that returns a list of value-frequency pairs in descending order of frequency.\n",
    "\n",
    ">Done with Pandas, seems more practical"
   ]
  },
  {
   "cell_type": "code",
   "execution_count": 15,
   "metadata": {},
   "outputs": [
    {
     "data": {
      "text/plain": [
       "39"
      ]
     },
     "execution_count": 15,
     "metadata": {},
     "output_type": "execute_result"
    }
   ],
   "source": [
    "first.prglngth.mode()[0]"
   ]
  },
  {
   "cell_type": "code",
   "execution_count": 16,
   "metadata": {},
   "outputs": [
    {
     "data": {
      "text/plain": [
       "39    2114\n",
       "40     536\n",
       "41     360\n",
       "38     272\n",
       "37     208\n",
       "42     205\n",
       "36     172\n",
       "35     159\n",
       "43      87\n",
       "30      73\n",
       "32      55\n",
       "34      29\n",
       "33      28\n",
       "28      24\n",
       "44      23\n",
       "31      15\n",
       "29       9\n",
       "45       6\n",
       "27       1\n",
       "Name: prglngth, dtype: int64"
      ]
     },
     "execution_count": 16,
     "metadata": {},
     "output_type": "execute_result"
    }
   ],
   "source": [
    "first.prglngth.value_counts().sort_values(ascending = False)"
   ]
  },
  {
   "cell_type": "markdown",
   "metadata": {},
   "source": [
    "**Exercise 2.4** Using the variable totalwgt_lb, investigate whether first babies are lighter or heavier than others. Compute Cohen's d to quantify the difference between the groups. How does it  compare to the difference in pregnancy length?"
   ]
  },
  {
   "cell_type": "code",
   "execution_count": 17,
   "metadata": {},
   "outputs": [
    {
     "data": {
      "text/plain": [
       "-0.08863772690516286"
      ]
     },
     "execution_count": 17,
     "metadata": {},
     "output_type": "execute_result"
    }
   ],
   "source": [
    "CohenD(first.totalwgt_lb, others.totalwgt_lb)"
   ]
  },
  {
   "cell_type": "markdown",
   "metadata": {},
   "source": [
    ">First babies tend to be a little bit lighter than other babies, resulting in a negative Cohen's d value. The effect measure is a bit bigger than the value measure for pregnancy lengths, but still fairly small."
   ]
  },
  {
   "cell_type": "markdown",
   "metadata": {},
   "source": [
    "###  Glossary\n",
    "\n",
    "**distribution:** The values that appear in a sample and the frequency of each.\n",
    "\n",
    "**histogram:** A mapping from values to frequencies, or a graph that shows this mapping.\n",
    "\n",
    "**frequency:** The number of times a value appears in a sample.\n",
    "\n",
    "**mode:** The most frequent value in a sample, or one of the most frequent values.\n",
    "\n",
    "**normal distribution:** An idealization of a bell-shaped distribution; also known as a Gaussian distribution.\n",
    "\n",
    "**uniform distribution:** A distribution in which all values have the same frequency.\n",
    "\n",
    "**tail:** The part of a distribution at the high and low extremes.\\\n",
    "\n",
    "**central tendency:** A characteristic of a sample or population; intuitively, it is an average or typical value.\n",
    "\n",
    "**outlier:** A value far from the central tendency.\n",
    "\n",
    "**spread:** A measure of how spread out the values in a distribution are.\n",
    "\n",
    "**summary statistic:** A statistic that quantifies some aspect of a distribution, like central tendency or spread.\n",
    "\n",
    "**variance:** A summary statistic often used to quantify spread.\n",
    "\n",
    "**standard deviation:** The square root of variance, also used as a measure of spread.\n",
    "\n",
    "\n",
    "**effect size:** A summary statistic intended to quantify the size of an effect like a difference between groups.\n",
    "\n",
    "**clinically signiffcant:** A result, like a difference between groups, that is relevant in practice."
   ]
  },
  {
   "cell_type": "code",
   "execution_count": null,
   "metadata": {},
   "outputs": [],
   "source": []
  }
 ],
 "metadata": {
  "kernelspec": {
   "display_name": "Python 3",
   "language": "python",
   "name": "python3"
  },
  "language_info": {
   "codemirror_mode": {
    "name": "ipython",
    "version": 3
   },
   "file_extension": ".py",
   "mimetype": "text/x-python",
   "name": "python",
   "nbconvert_exporter": "python",
   "pygments_lexer": "ipython3",
   "version": "3.6.1"
  }
 },
 "nbformat": 4,
 "nbformat_minor": 2
}
