{
 "cells": [
  {
   "cell_type": "code",
   "execution_count": 2,
   "metadata": {},
   "outputs": [],
   "source": [
    "import pandas as pd\n",
    "import numpy as np\n",
    "import math\n",
    "from collections import defaultdict\n",
    "import ts_code.nsfg as nsfg\n",
    "import ts_code.thinkstats2 as thinkstats2\n",
    "import matplotlib.pyplot as plt\n",
    "%matplotlib inline"
   ]
  },
  {
   "cell_type": "markdown",
   "metadata": {},
   "source": [
    "## Chapter 3 - Probability mass functions"
   ]
  },
  {
   "cell_type": "markdown",
   "metadata": {},
   "source": [
    "Another way to represent a distribution is a **probability mass function (PMF)**, which maps from each value to its probability. A **probability** is a frequency expressed as a fraction of the sample size, n. To get from frequencies to probabilities, we divide through by n, which is called **normalization**."
   ]
  },
  {
   "cell_type": "code",
   "execution_count": 2,
   "metadata": {},
   "outputs": [],
   "source": [
    "preg = nsfg.ReadFemPreg()\n",
    "live = preg[preg.outcome == 1]"
   ]
  },
  {
   "cell_type": "code",
   "execution_count": 3,
   "metadata": {},
   "outputs": [],
   "source": [
    "first = live[(live.birthord == 1) & (live.prglngth >= 27) & (live.prglngth <= 45)]\n",
    "others = live[(live.birthord != 1) & (live.prglngth >= 27) & (live.prglngth <= 45)]"
   ]
  },
  {
   "cell_type": "code",
   "execution_count": 7,
   "metadata": {},
   "outputs": [
    {
     "data": {
      "image/png": "[encoded data removed]",
      "text/plain": [
       "<matplotlib.figure.Figure at 0x7f6ca5430c18>"
      ]
     },
     "metadata": {},
     "output_type": "display_data"
    }
   ],
   "source": [
    "fig, (ax1, ax2) = plt.subplots(ncols=2, sharey = True, figsize=(10, 5))\n",
    "ax1.hist([first['prglngth'], others['prglngth']], bins = range(46), histtype=\"bar\", label=(\"First\", \"Other\"), rwidth = 0.90, align= 'left')\n",
    "ax2.hist([first['prglngth'], others['prglngth']], bins = range(46), histtype=\"step\", label=(\"First\", \"Other\"), rwidth = 0.90, align= 'left')\n",
    "ax1.set_xlim(25, 45)\n",
    "ax2.set_xlim(25, 45)\n",
    "ax1.set_xlabel(\"Weeks\")\n",
    "ax2.set_xlabel(\"Weeks\")\n",
    "ax1.set_ylabel(\"Probability\")\n",
    "\n",
    "ax1.legend()\n",
    "ax2.legend(loc=2);"
   ]
  },
  {
   "cell_type": "markdown",
   "metadata": {},
   "source": [
    "Histograms and PMFs are useful to identify patterns and relationships. Once we have an idea of what is going on, a good next step is to design a visualization that makes the identified pattern clear."
   ]
  },
  {
   "cell_type": "markdown",
   "metadata": {},
   "source": [
    "For the NSFG data, the biggest difference are near the mode, so let's zoom in on that area of the graph.\n",
    "\n",
    "In the code below we calculate the difference in percentage points of pregenancy lengths for a range of weeks from 35 to 45."
   ]
  },
  {
   "cell_type": "code",
   "execution_count": 8,
   "metadata": {},
   "outputs": [],
   "source": [
    "weeks = range(35,46)\n",
    "diffs = []\n",
    "for week in weeks:\n",
    "    p1 = thinkstats2.Pmf(first['prglngth']).Prob(week)\n",
    "    p2 = thinkstats2.Pmf(others['prglngth']).Prob(week)\n",
    "    diff = 100 * (p1-p2)\n",
    "    diffs.append(diff)"
   ]
  },
  {
   "cell_type": "code",
   "execution_count": 9,
   "metadata": {},
   "outputs": [
    {
     "data": {
      "image/png": "[encoded data removed]",
      "text/plain": [
       "<matplotlib.figure.Figure at 0x7f6ca41ae978>"
      ]
     },
     "metadata": {},
     "output_type": "display_data"
    }
   ],
   "source": [
    "plt.bar(weeks, diffs)\n",
    "plt.title('Difference in PMFs')\n",
    "plt.xlabel('weeks')\n",
    "plt.ylabel('percentage points');"
   ]
  },
  {
   "cell_type": "markdown",
   "metadata": {},
   "source": [
    "This figure makes the pattern clearer: first babies are less likely to be born\n",
    "in week 39, and somewhat more likely to be born in weeks 41 and 42.\n",
    "\n",
    "For now we should hold this conclusion only tentatively."
   ]
  },
  {
   "cell_type": "markdown",
   "metadata": {},
   "source": [
    "At many American colleges and universities, the student-to-faculty ratio is about 10:1. But students are often surprised to discover that their average class size is bigger than 10. There are two reasons for the discrepancy:\n",
    "\n",
    "+ Students typically take 4-5 classes per semester, but professors often teach 1 or 2.\n",
    "+ The number of students who enjoy a small class is small, but the number of students in a large class is (ahem!) large."
   ]
  },
  {
   "cell_type": "markdown",
   "metadata": {},
   "source": [
    "The first effect is obvious, at least once it is pointed out; the second is more\n",
    "subtle. Let's look at an example. \n",
    "\n",
    "Suppose that a college offers 65 classes in a given semester, with the following distribution of sizes:\n",
    "\n",
    "|size| count\n",
    "| :---: | :-----:\n",
    "|5-9| 8\n",
    "|10-14| 8\n",
    "|15-19| 14\n",
    "|20-24| 4\n",
    "|25-29| 6\n",
    "|30-34| 12\n",
    "|35-39| 8\n",
    "|40-44| 3\n",
    "|45-49| 2\n",
    "\n",
    "So, whats the average class size?"
   ]
  },
  {
   "cell_type": "code",
   "execution_count": 10,
   "metadata": {},
   "outputs": [],
   "source": [
    "classes = pd.DataFrame.from_dict({ 7: 8, 12: 8, 17: 14, 22: 4, 27: 6, 32: 12, 37: 8, 42: 3, 47: 2 }, orient = 'index')\n",
    "classes.reset_index(inplace = True)\n",
    "classes.columns = ['class_size', 'freq']\n",
    "classes['prob'] = classes['freq'] / classes['freq'].sum()"
   ]
  },
  {
   "cell_type": "code",
   "execution_count": 11,
   "metadata": {},
   "outputs": [
    {
     "data": {
      "text/html": [
       "<div>\n",
       "<style>\n",
       "    .dataframe thead tr:only-child th {\n",
       "        text-align: right;\n",
       "    }\n",
       "\n",
       "    .dataframe thead th {\n",
       "        text-align: left;\n",
       "    }\n",
       "\n",
       "    .dataframe tbody tr th {\n",
       "        vertical-align: top;\n",
       "    }\n",
       "</style>\n",
       "<table border=\"1\" class=\"dataframe\">\n",
       "  <thead>\n",
       "    <tr style=\"text-align: right;\">\n",
       "      <th></th>\n",
       "      <th>class_size</th>\n",
       "      <th>freq</th>\n",
       "      <th>prob</th>\n",
       "    </tr>\n",
       "  </thead>\n",
       "  <tbody>\n",
       "    <tr>\n",
       "      <th>0</th>\n",
       "      <td>7</td>\n",
       "      <td>8</td>\n",
       "      <td>0.123077</td>\n",
       "    </tr>\n",
       "    <tr>\n",
       "      <th>1</th>\n",
       "      <td>12</td>\n",
       "      <td>8</td>\n",
       "      <td>0.123077</td>\n",
       "    </tr>\n",
       "    <tr>\n",
       "      <th>2</th>\n",
       "      <td>17</td>\n",
       "      <td>14</td>\n",
       "      <td>0.215385</td>\n",
       "    </tr>\n",
       "    <tr>\n",
       "      <th>3</th>\n",
       "      <td>22</td>\n",
       "      <td>4</td>\n",
       "      <td>0.061538</td>\n",
       "    </tr>\n",
       "    <tr>\n",
       "      <th>4</th>\n",
       "      <td>27</td>\n",
       "      <td>6</td>\n",
       "      <td>0.092308</td>\n",
       "    </tr>\n",
       "    <tr>\n",
       "      <th>5</th>\n",
       "      <td>32</td>\n",
       "      <td>12</td>\n",
       "      <td>0.184615</td>\n",
       "    </tr>\n",
       "    <tr>\n",
       "      <th>6</th>\n",
       "      <td>37</td>\n",
       "      <td>8</td>\n",
       "      <td>0.123077</td>\n",
       "    </tr>\n",
       "    <tr>\n",
       "      <th>7</th>\n",
       "      <td>42</td>\n",
       "      <td>3</td>\n",
       "      <td>0.046154</td>\n",
       "    </tr>\n",
       "    <tr>\n",
       "      <th>8</th>\n",
       "      <td>47</td>\n",
       "      <td>2</td>\n",
       "      <td>0.030769</td>\n",
       "    </tr>\n",
       "  </tbody>\n",
       "</table>\n",
       "</div>"
      ],
      "text/plain": [
       "   class_size  freq      prob\n",
       "0           7     8  0.123077\n",
       "1          12     8  0.123077\n",
       "2          17    14  0.215385\n",
       "3          22     4  0.061538\n",
       "4          27     6  0.092308\n",
       "5          32    12  0.184615\n",
       "6          37     8  0.123077\n",
       "7          42     3  0.046154\n",
       "8          47     2  0.030769"
      ]
     },
     "execution_count": 11,
     "metadata": {},
     "output_type": "execute_result"
    }
   ],
   "source": [
    "classes"
   ]
  },
  {
   "cell_type": "markdown",
   "metadata": {},
   "source": [
    "If you ask the Dean for the average class size, he would construct a PMF,\n",
    "compute the mean, and report that the average class size is 23.7."
   ]
  },
  {
   "cell_type": "code",
   "execution_count": 12,
   "metadata": {},
   "outputs": [
    {
     "data": {
      "text/plain": [
       "23.692307692307693"
      ]
     },
     "execution_count": 12,
     "metadata": {},
     "output_type": "execute_result"
    }
   ],
   "source": [
    "np.average(classes[\"class_size\"], weights=classes[\"prob\"])"
   ]
  },
  {
   "cell_type": "markdown",
   "metadata": {},
   "source": [
    "But if you survey a group of students, ask them how many students are in their classes, and compute the mean, you would think the average class was bigger.\n",
    "Let's see how much bigger."
   ]
  },
  {
   "cell_type": "markdown",
   "metadata": {},
   "source": [
    "For each class size, x, we multiply the probability by x, the number of students\n",
    "who observe that class size."
   ]
  },
  {
   "cell_type": "code",
   "execution_count": 13,
   "metadata": {},
   "outputs": [],
   "source": [
    "new_prob = classes[\"class_size\"] * classes[\"prob\"]\n",
    "classes['observed_prob'] = new_prob / sum(new_prob)"
   ]
  },
  {
   "cell_type": "code",
   "execution_count": 14,
   "metadata": {},
   "outputs": [
    {
     "data": {
      "text/plain": [
       "29.123376623376622"
      ]
     },
     "execution_count": 14,
     "metadata": {},
     "output_type": "execute_result"
    }
   ],
   "source": [
    "np.average(classes[\"class_size\"], weights=classes[\"observed_prob\"])"
   ]
  },
  {
   "cell_type": "code",
   "execution_count": 15,
   "metadata": {},
   "outputs": [
    {
     "data": {
      "image/png": "[encoded data removed]",
      "text/plain": [
       "<matplotlib.figure.Figure at 0x7f6ca44a0048>"
      ]
     },
     "metadata": {},
     "output_type": "display_data"
    }
   ],
   "source": [
    "fig, ax = plt.subplots(figsize=(8, 4))\n",
    "ax.step(classes['class_size'], classes['prob'], label=\"Actual\")\n",
    "ax.step(classes['class_size'], classes['observed_prob'], label=\"Observed\")\n",
    "\n",
    "ax.set_xlim(0, 50)\n",
    "ax.set_xlabel(\"Class Size\")\n",
    "ax.set_ylabel(\"Probability\")\n",
    "\n",
    "ax.legend();"
   ]
  },
  {
   "cell_type": "markdown",
   "metadata": {},
   "source": [
    "It is also possible to invert this operation. Suppose you want to find the\n",
    "distribution of class sizes at a college, but you can't get reliable data from the Dean. An alternative is to choose a random sample of students and ask how many students are in their classes.\n",
    "\n",
    "The result would be biased for the reasons we've just seen, but you can use it\n",
    "to estimate the actual distribution."
   ]
  },
  {
   "cell_type": "markdown",
   "metadata": {},
   "source": [
    "To unbias our biased student responses we would just multiply the probabilities by 1 over the class size."
   ]
  },
  {
   "cell_type": "code",
   "execution_count": 16,
   "metadata": {},
   "outputs": [
    {
     "data": {
      "text/plain": [
       "0    0.123077\n",
       "1    0.123077\n",
       "2    0.215385\n",
       "3    0.061538\n",
       "4    0.092308\n",
       "5    0.184615\n",
       "6    0.123077\n",
       "7    0.046154\n",
       "8    0.030769\n",
       "dtype: float64"
      ]
     },
     "execution_count": 16,
     "metadata": {},
     "output_type": "execute_result"
    }
   ],
   "source": [
    "old_prob = classes['observed_prob']  * (1/classes['class_size'] )\n",
    "old_prob/sum(old_prob)"
   ]
  },
  {
   "cell_type": "code",
   "execution_count": 17,
   "metadata": {},
   "outputs": [
    {
     "data": {
      "text/plain": [
       "0    0.123077\n",
       "1    0.123077\n",
       "2    0.215385\n",
       "3    0.061538\n",
       "4    0.092308\n",
       "5    0.184615\n",
       "6    0.123077\n",
       "7    0.046154\n",
       "8    0.030769\n",
       "Name: prob, dtype: float64"
      ]
     },
     "execution_count": 17,
     "metadata": {},
     "output_type": "execute_result"
    }
   ],
   "source": [
    "classes['prob']"
   ]
  },
  {
   "cell_type": "markdown",
   "metadata": {},
   "source": [
    "### Exercises\n",
    "\n",
    "**Exercise 3.1** Something like the class size paradox appears if you survey children and ask how many children are in their family. Families with many children are more likely to appear in your sample, and families with no children have no chance to be in the sample.\n",
    "\n",
    "Use the NSFG respondent variable NUMKDHH to construct the actual distribution for the number of children under 18 in the household.\n",
    "\n",
    "Now compute the biased distribution we would see if we surveyed the children and asked them how many children under 18 (including themselves) are in their household.\n",
    "\n",
    "Plot the actual and biased distributions, and compute their means."
   ]
  },
  {
   "cell_type": "code",
   "execution_count": 18,
   "metadata": {},
   "outputs": [],
   "source": [
    "resp = nsfg.ReadFemResp()"
   ]
  },
  {
   "cell_type": "code",
   "execution_count": 19,
   "metadata": {},
   "outputs": [],
   "source": [
    "num_children = resp.numkdhh\n",
    "hist = {}\n",
    "for i, val in num_children.value_counts().items():\n",
    "    hist[i] = val"
   ]
  },
  {
   "cell_type": "code",
   "execution_count": 20,
   "metadata": {},
   "outputs": [],
   "source": [
    "numk = pd.DataFrame.from_dict(hist, orient='index').reset_index()\n",
    "numk.columns = ['num_kids', 'freq']\n",
    "numk['prob'] = numk['freq'] / numk['freq'].sum()\n",
    "\n",
    "new_prob = numk[\"num_kids\"] * numk[\"prob\"]\n",
    "numk['children_sur_prob'] = new_prob / sum(new_prob)"
   ]
  },
  {
   "cell_type": "code",
   "execution_count": 21,
   "metadata": {},
   "outputs": [
    {
     "data": {
      "text/html": [
       "<div>\n",
       "<style>\n",
       "    .dataframe thead tr:only-child th {\n",
       "        text-align: right;\n",
       "    }\n",
       "\n",
       "    .dataframe thead th {\n",
       "        text-align: left;\n",
       "    }\n",
       "\n",
       "    .dataframe tbody tr th {\n",
       "        vertical-align: top;\n",
       "    }\n",
       "</style>\n",
       "<table border=\"1\" class=\"dataframe\">\n",
       "  <thead>\n",
       "    <tr style=\"text-align: right;\">\n",
       "      <th></th>\n",
       "      <th>num_kids</th>\n",
       "      <th>freq</th>\n",
       "      <th>prob</th>\n",
       "      <th>children_sur_prob</th>\n",
       "    </tr>\n",
       "  </thead>\n",
       "  <tbody>\n",
       "    <tr>\n",
       "      <th>0</th>\n",
       "      <td>0</td>\n",
       "      <td>3563</td>\n",
       "      <td>0.466178</td>\n",
       "      <td>0.000000</td>\n",
       "    </tr>\n",
       "    <tr>\n",
       "      <th>1</th>\n",
       "      <td>1</td>\n",
       "      <td>1636</td>\n",
       "      <td>0.214052</td>\n",
       "      <td>0.208993</td>\n",
       "    </tr>\n",
       "    <tr>\n",
       "      <th>2</th>\n",
       "      <td>2</td>\n",
       "      <td>1500</td>\n",
       "      <td>0.196258</td>\n",
       "      <td>0.383240</td>\n",
       "    </tr>\n",
       "    <tr>\n",
       "      <th>3</th>\n",
       "      <td>3</td>\n",
       "      <td>666</td>\n",
       "      <td>0.087139</td>\n",
       "      <td>0.255238</td>\n",
       "    </tr>\n",
       "    <tr>\n",
       "      <th>4</th>\n",
       "      <td>4</td>\n",
       "      <td>196</td>\n",
       "      <td>0.025644</td>\n",
       "      <td>0.100153</td>\n",
       "    </tr>\n",
       "    <tr>\n",
       "      <th>5</th>\n",
       "      <td>5</td>\n",
       "      <td>82</td>\n",
       "      <td>0.010729</td>\n",
       "      <td>0.052376</td>\n",
       "    </tr>\n",
       "  </tbody>\n",
       "</table>\n",
       "</div>"
      ],
      "text/plain": [
       "   num_kids  freq      prob  children_sur_prob\n",
       "0         0  3563  0.466178           0.000000\n",
       "1         1  1636  0.214052           0.208993\n",
       "2         2  1500  0.196258           0.383240\n",
       "3         3   666  0.087139           0.255238\n",
       "4         4   196  0.025644           0.100153\n",
       "5         5    82  0.010729           0.052376"
      ]
     },
     "execution_count": 21,
     "metadata": {},
     "output_type": "execute_result"
    }
   ],
   "source": [
    "numk"
   ]
  },
  {
   "cell_type": "code",
   "execution_count": 22,
   "metadata": {},
   "outputs": [
    {
     "name": "stdout",
     "output_type": "stream",
     "text": [
      "Actual mean: 1.02 \n",
      "Observed mean: 2.40\n"
     ]
    }
   ],
   "source": [
    "avg_kids_actual = np.average(numk[\"num_kids\"], weights=numk[\"prob\"])\n",
    "avg_kids_obs = np.average(numk[\"num_kids\"], weights=numk[\"children_sur_prob\"])\n",
    "\n",
    "print('Actual mean: %.02f \\nObserved mean: %.02f' % (avg_kids_actual, avg_kids_obs))"
   ]
  },
  {
   "cell_type": "code",
   "execution_count": 23,
   "metadata": {},
   "outputs": [
    {
     "data": {
      "image/png": "[encoded data removed]",
      "text/plain": [
       "<matplotlib.figure.Figure at 0x7f6ca15b1668>"
      ]
     },
     "metadata": {},
     "output_type": "display_data"
    }
   ],
   "source": [
    "fig, ax = plt.subplots(figsize=(8, 4))\n",
    "ax.step(numk[\"num_kids\"], numk['prob'], label=\"Actual\")\n",
    "ax.step(numk[\"num_kids\"], numk['children_sur_prob'], label=\"Observed\")\n",
    "\n",
    "ax.set_xlim(-1, 8)\n",
    "ax.set_xlabel(\"Number of Kids\")\n",
    "ax.set_ylabel(\"Probability\")\n",
    "\n",
    "ax.legend();"
   ]
  },
  {
   "cell_type": "markdown",
   "metadata": {},
   "source": [
    "**Exercise 3.2** In Section 2.7 we computed the mean of a sample by adding up the elements and dividing by n. If you are given a PMF, you can still compute the mean, but the process is slightly different:\n",
    "\n",
    "$$\\bar{x} = \\sum_{i} p_{i}x_{i}$$\n",
    "\n",
    "where $x_{i}$ are the unique values in the PMF and $p_{i} - PMF(x_{i})$. We can also compute the variance from a PMF;\n",
    "\n",
    "$$\\sigma^{2} = \\sum_{i} p_{i}(x_{i} - \\bar{x})^{2}$$"
   ]
  },
  {
   "cell_type": "markdown",
   "metadata": {},
   "source": [
    "Write functions called *PmfMean* and *PmfVar* that take a PMF object and compute the mean and variance. To test these methods, check that they are consistent with the methods Mean and Var provided by Pmf."
   ]
  },
  {
   "cell_type": "code",
   "execution_count": 24,
   "metadata": {},
   "outputs": [],
   "source": [
    "#weighted np.average actually provides the mean as definied above\n",
    "\n",
    "def PmfMean(vals, probs):\n",
    "    pmfmean = np.average(vals, weights = probs)\n",
    "    return pmfmean\n",
    "\n",
    "def PmfVar(vals, probs):\n",
    "    pmfmean = PmfMean(vals, probs)\n",
    "    sqrdDiff = (vals - pmfmean)**2\n",
    "    var = np.sum(probs * sqrdDiff)\n",
    "    return var"
   ]
  },
  {
   "cell_type": "code",
   "execution_count": 25,
   "metadata": {},
   "outputs": [
    {
     "data": {
      "text/plain": [
       "1.0242051550438309"
      ]
     },
     "execution_count": 25,
     "metadata": {},
     "output_type": "execute_result"
    }
   ],
   "source": [
    "np.average(numk[\"num_kids\"], weights=numk[\"prob\"])"
   ]
  },
  {
   "cell_type": "code",
   "execution_count": 26,
   "metadata": {},
   "outputs": [
    {
     "data": {
      "text/plain": [
       "1.0242051550438309"
      ]
     },
     "execution_count": 26,
     "metadata": {},
     "output_type": "execute_result"
    }
   ],
   "source": [
    "PmfMean(numk[\"num_kids\"], numk[\"prob\"])"
   ]
  },
  {
   "cell_type": "code",
   "execution_count": 27,
   "metadata": {},
   "outputs": [
    {
     "data": {
      "text/plain": [
       "1.4128643263531193"
      ]
     },
     "execution_count": 27,
     "metadata": {},
     "output_type": "execute_result"
    }
   ],
   "source": [
    "PmfVar(numk[\"num_kids\"], numk[\"prob\"])"
   ]
  },
  {
   "cell_type": "markdown",
   "metadata": {},
   "source": [
    "**Exercise 3.3** I started with the question, \"Are first babies more likely to be late?\" To address it, I computed the difference in means between groups of\n",
    "babies, but I ignored the possibility that there might be a difference between\n",
    "first babies and others for the same woman.\n",
    "\n",
    "To address this version of the question, select respondents who have at least two babies and compute pairwise differences. Does this formulation of the question yield a different result?"
   ]
  },
  {
   "cell_type": "code",
   "execution_count": 28,
   "metadata": {},
   "outputs": [],
   "source": [
    "preg_map = nsfg.MakePregMap(live)"
   ]
  },
  {
   "cell_type": "code",
   "execution_count": 29,
   "metadata": {},
   "outputs": [],
   "source": [
    "caseids = set(live[live['birthord'] >= 2].caseid.values)\n",
    "diff_dict = defaultdict(list)\n",
    "for ci in caseids:\n",
    "    for i in preg_map[ci]:\n",
    "        if live['birthord'][i] == 1:\n",
    "            first = live['prglngth'][i]\n",
    "        else:\n",
    "            diff = live['prglngth'][i] - first\n",
    "            diff_dict[ci].append(diff)"
   ]
  },
  {
   "cell_type": "code",
   "execution_count": 30,
   "metadata": {},
   "outputs": [],
   "source": [
    "avg_diffs = defaultdict(int)\n",
    "for key, val in diff_dict.items():\n",
    "    avg_diffs[key] = np.average(val)"
   ]
  },
  {
   "cell_type": "code",
   "execution_count": 31,
   "metadata": {},
   "outputs": [],
   "source": [
    "prglngth_diff = pd.DataFrame([diff_dict, avg_diffs]).T\n",
    "prglngth_diff.reset_index(inplace = True)\n",
    "prglngth_diff.columns = ['caseid', 'prglngth_diff(ea)', 'avg_diff']"
   ]
  },
  {
   "cell_type": "code",
   "execution_count": 32,
   "metadata": {},
   "outputs": [
    {
     "data": {
      "text/html": [
       "<div>\n",
       "<style>\n",
       "    .dataframe thead tr:only-child th {\n",
       "        text-align: right;\n",
       "    }\n",
       "\n",
       "    .dataframe thead th {\n",
       "        text-align: left;\n",
       "    }\n",
       "\n",
       "    .dataframe tbody tr th {\n",
       "        vertical-align: top;\n",
       "    }\n",
       "</style>\n",
       "<table border=\"1\" class=\"dataframe\">\n",
       "  <thead>\n",
       "    <tr style=\"text-align: right;\">\n",
       "      <th></th>\n",
       "      <th>caseid</th>\n",
       "      <th>prglngth_diff(ea)</th>\n",
       "      <th>avg_diff</th>\n",
       "    </tr>\n",
       "  </thead>\n",
       "  <tbody>\n",
       "    <tr>\n",
       "      <th>0</th>\n",
       "      <td>1</td>\n",
       "      <td>[0]</td>\n",
       "      <td>0</td>\n",
       "    </tr>\n",
       "    <tr>\n",
       "      <th>1</th>\n",
       "      <td>2</td>\n",
       "      <td>[0, 0]</td>\n",
       "      <td>0</td>\n",
       "    </tr>\n",
       "    <tr>\n",
       "      <th>2</th>\n",
       "      <td>6</td>\n",
       "      <td>[2, 4]</td>\n",
       "      <td>3</td>\n",
       "    </tr>\n",
       "    <tr>\n",
       "      <th>3</th>\n",
       "      <td>7</td>\n",
       "      <td>[-4]</td>\n",
       "      <td>-4</td>\n",
       "    </tr>\n",
       "    <tr>\n",
       "      <th>4</th>\n",
       "      <td>14</td>\n",
       "      <td>[-2]</td>\n",
       "      <td>-2</td>\n",
       "    </tr>\n",
       "  </tbody>\n",
       "</table>\n",
       "</div>"
      ],
      "text/plain": [
       "   caseid prglngth_diff(ea) avg_diff\n",
       "0       1               [0]        0\n",
       "1       2            [0, 0]        0\n",
       "2       6            [2, 4]        3\n",
       "3       7              [-4]       -4\n",
       "4      14              [-2]       -2"
      ]
     },
     "execution_count": 32,
     "metadata": {},
     "output_type": "execute_result"
    }
   ],
   "source": [
    "prglngth_diff.head()"
   ]
  },
  {
   "cell_type": "code",
   "execution_count": 33,
   "metadata": {},
   "outputs": [
    {
     "data": {
      "text/plain": [
       "-19.837392716307129"
      ]
     },
     "execution_count": 33,
     "metadata": {},
     "output_type": "execute_result"
    }
   ],
   "source": [
    "prglngth_diff['avg_diff'].mean() * (24 * 7) #hours*days in a week"
   ]
  },
  {
   "cell_type": "markdown",
   "metadata": {},
   "source": [
    "On average first babies arrive 19.837 hours later than the subsequent babies each mother has. That's almost a whole day later, but still only about 0.3% of a typical pregnancy. "
   ]
  },
  {
   "cell_type": "markdown",
   "metadata": {},
   "source": [
    "3.4"
   ]
  },
  {
   "cell_type": "code",
   "execution_count": 1,
   "metadata": {},
   "outputs": [],
   "source": [
    "import ts_code.relay as relay"
   ]
  },
  {
   "cell_type": "code",
   "execution_count": 3,
   "metadata": {},
   "outputs": [
    {
     "data": {
      "image/png": "[encoded data removed]",
      "text/plain": [
       "<matplotlib.figure.Figure at 0x7f70c8e19d68>"
      ]
     },
     "metadata": {},
     "output_type": "display_data"
    },
    {
     "data": {
      "text/plain": [
       "<matplotlib.figure.Figure at 0x7f70c88cd470>"
      ]
     },
     "metadata": {},
     "output_type": "display_data"
    }
   ],
   "source": [
    "pmf = relay.main();"
   ]
  },
  {
   "cell_type": "code",
   "execution_count": 4,
   "metadata": {},
   "outputs": [],
   "source": [
    "pmf_dict = {}\n",
    "for speed in pmf:\n",
    "    pmf_dict[speed] = pmf[speed]   "
   ]
  },
  {
   "cell_type": "code",
   "execution_count": 5,
   "metadata": {},
   "outputs": [],
   "source": [
    "runners = pd.DataFrame.from_dict(pmf_dict, orient = 'index')\n",
    "runners.reset_index(inplace = True)\n",
    "runners.columns = ['speed', 'prob']\n",
    "runners['speed'] = runners[\"speed\"][:82]"
   ]
  },
  {
   "cell_type": "code",
   "execution_count": 6,
   "metadata": {},
   "outputs": [],
   "source": [
    "def ObservedPMF(df, speed):\n",
    "    diff_speed = abs(df['speed'] - speed)\n",
    "    new_prob = diff_speed * df['prob']\n",
    "    speed_df = df[['speed', 'prob']]\n",
    "    speed_df['prob2'] = new_prob / sum(new_prob)\n",
    "    return speed_df"
   ]
  },
  {
   "cell_type": "code",
   "execution_count": 7,
   "metadata": {},
   "outputs": [],
   "source": [
    "df = ObservedPMF(runners, 7.0)"
   ]
  },
  {
   "cell_type": "code",
   "execution_count": 8,
   "metadata": {},
   "outputs": [
    {
     "data": {
      "text/plain": [
       "6.8413533834586477"
      ]
     },
     "execution_count": 8,
     "metadata": {},
     "output_type": "execute_result"
    }
   ],
   "source": [
    "np.average(runners[\"speed\"], weights=runners[\"prob\"])"
   ]
  },
  {
   "cell_type": "code",
   "execution_count": 9,
   "metadata": {},
   "outputs": [
    {
     "data": {
      "text/plain": [
       "6.9096085959652154"
      ]
     },
     "execution_count": 9,
     "metadata": {},
     "output_type": "execute_result"
    }
   ],
   "source": [
    "np.average(df[\"speed\"], weights=df[\"prob2\"])"
   ]
  },
  {
   "cell_type": "code",
   "execution_count": 10,
   "metadata": {},
   "outputs": [
    {
     "data": {
      "image/png": "[encoded data removed]",
      "text/plain": [
       "<matplotlib.figure.Figure at 0x7f70c8964da0>"
      ]
     },
     "metadata": {},
     "output_type": "display_data"
    }
   ],
   "source": [
    "#fig, (ax1, ax2) = plt.subplots(ncols=2, sharey = True, figsize=(10, 5))\n",
    "plt.plot(runners['speed'], runners['prob'], label = 'True Speeds')\n",
    "plt.plot(df['speed'], df['prob2'], label = 'Observed Speeds')\n",
    "plt.xlabel('speed')\n",
    "plt.ylabel('probability')\n",
    "plt.title(\"Oberservations of a 7mph Runner\")\n",
    "plt.legend();"
   ]
  },
  {
   "cell_type": "markdown",
   "metadata": {},
   "source": [
    "## Glossary\n",
    "\n",
    "**Probability mass function (PMF):** a representation of a distribution as a function that maps from values to probabilities.\n",
    "\n",
    "**probability:** A frequency expressed as a fraction of the sample size.\n",
    "\n",
    "**normalization:** The process of dividing a frequency by a sample size to get a probability.\n",
    "\n",
    "**index:** In a pandas DataFrame, the index is a special column that contains the row labels."
   ]
  },
  {
   "cell_type": "code",
   "execution_count": null,
   "metadata": {},
   "outputs": [],
   "source": []
  }
 ],
 "metadata": {
  "kernelspec": {
   "display_name": "Python 3",
   "language": "python",
   "name": "python3"
  },
  "language_info": {
   "codemirror_mode": {
    "name": "ipython",
    "version": 3
   },
   "file_extension": ".py",
   "mimetype": "text/x-python",
   "name": "python",
   "nbconvert_exporter": "python",
   "pygments_lexer": "ipython3",
   "version": "3.6.1"
  }
 },
 "nbformat": 4,
 "nbformat_minor": 2
}
