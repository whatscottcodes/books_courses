{
 "cells": [
  {
   "cell_type": "code",
   "execution_count": 1,
   "metadata": {},
   "outputs": [],
   "source": [
    "import pandas as pd\n",
    "import numpy as np\n",
    "import math\n",
    "from collections import defaultdict\n",
    "import ts_code.nsfg as nsfg\n",
    "import ts_code.thinkstats2 as thinkstats2\n",
    "import ts_code.thinkplot as thinkplot\n",
    "import ts_code.brfss as brfss\n",
    "import matplotlib.pyplot as plt\n",
    "%matplotlib inline"
   ]
  },
  {
   "cell_type": "markdown",
   "metadata": {},
   "source": [
    "## Chapter 8 - Estimation"
   ]
  },
  {
   "cell_type": "markdown",
   "metadata": {},
   "source": [
    "If asked to guess the mean of a distribution from a sample of that distribution, one choice would be to use the sample mean, $\\bar{x}$ as an estimate of the mean parameter, $\\mu$. This process is **estimation** and the sample mean is called an **estimator**.\n",
    "\n",
    "Now, if we knew the distribution was susceptible to outliers, the sample mean might not be the best estimator, maybe we would want to use the median, or we could identify and discard outliers in our sample."
   ]
  },
  {
   "cell_type": "markdown",
   "metadata": {},
   "source": [
    "Which estimator is best depends on the circumstances (for example, whether\n",
    "there are outliers) and on what the goal is. Are you trying to minimize errors,\n",
    "or maximize your chance of getting the right answer?"
   ]
  },
  {
   "cell_type": "markdown",
   "metadata": {},
   "source": [
    "If there are no outliers, the sample mean minimizes the **mean squared error** (MSE). That is, if we estimate the distribution many times, and each time compute the error $\\bar{x}-\\mu$, the sample mean minimizes;\n",
    "\n",
    "$$MSE = \\frac{1}{m}\\sum (\\bar{x}-\\mu)^{2}$$\n",
    "\n",
    "where $m$ is the number of time we estimate."
   ]
  },
  {
   "cell_type": "markdown",
   "metadata": {},
   "source": [
    "The **root mean squared error** is the square root of the MSE and is frequently used measure of the differences between values (sample and population values) predicted by a model or an estimator and the values actually observed."
   ]
  },
  {
   "cell_type": "markdown",
   "metadata": {},
   "source": [
    "Minimizing MSE is a nice property, but it's not always the best strategy.\n",
    "\n",
    "For example, suppose we are estimating the distribution of wind speeds at a\n",
    "building site. If the estimate is too high, we might overbuild the structure,\n",
    "increasing its cost. But if it's too low, the building might collapse. Because\n",
    "cost as a function of error is not symmetric, minimizing MSE is not the best\n",
    "strategy."
   ]
  },
  {
   "cell_type": "markdown",
   "metadata": {},
   "source": [
    "When guessing the variance of a population $\\sigma^{2}$, the obvious choise again is to use the sample variance $S^{2}$.\n",
    "\n",
    "$$S^{2} = \\frac{1}{n}\\sum(x_{i}-\\bar{x})^{2}$$"
   ]
  },
  {
   "cell_type": "markdown",
   "metadata": {},
   "source": [
    "For large samples, $S^{2}$ is an adequate estimator, but for small samples it tends to be too low. Because of this unfortunate property, it is called a **biased estimator**. An estimator is **unbiased** if the expected total (or mean) error, after many iterations of the estimating, is 0."
   ]
  },
  {
   "cell_type": "markdown",
   "metadata": {},
   "source": [
    "Fortunately, there is another simple statistic that is an unbiased estimator\n",
    "of $\\sigma^{2}$:\n",
    "\n",
    "$$S_{n-1}^{2} = \\frac{1}{n-1}\\sum(x_{i} - \\bar{x})^{2}$$"
   ]
  },
  {
   "cell_type": "markdown",
   "metadata": {},
   "source": [
    "Variation in the estimate caused by random selection is called **sampling error**. To quantify sampling error, we can simulate the sampling process with hypothetical values of $\\mu$ and $\\sigma$ and see how much $\\bar{x}$ varies.\n",
    "\n",
    "Each iteration, we choose $n$ values from a normal distribution with the given parameter and compute the sample mean. After running $m$ iterations, we compute the CDF of the estimates.\n",
    "\n",
    "This distribution is called the **sampling distribution** of the estimator. It shows how much the estimates would vary if we ran the experiment over and over."
   ]
  },
  {
   "cell_type": "markdown",
   "metadata": {},
   "source": [
    "There are two common ways to summarize the sampling distribution:\n",
    "    \n",
    "+ **Standard error** (SE) is a measure of how far we expect the estimate to be off, on average. For each simulated experiment, we compute the error, $\\bar{x}-\\mu$, and then compute the root mean squared error (RMSE).\n",
    "\n",
    "+ A **confidence interval** (CI) is a range that includes a given fraction of the sampling distribution. For example, the 90% confidence interval is the range from the 5th to the 95th percentile.\n",
    "\n",
    "*Note:* People often think that there is a 90% probability that the actual parameter, $\\mu$, falls in the 90% confidence interval. Sadly, that is not true.\n",
    "\n",
    "The sampling distribution does not account for other sources of error, notably sampling bias and measurement error."
   ]
  },
  {
   "cell_type": "markdown",
   "metadata": {},
   "source": [
    "**Sampling bias** occurs when a sample is collected in such a way that some members of the intended population are less likely to be included than others. One example of this is telephone sampling which can miss people without phones(who tend t be poorer than average), people with unlisted numbers(richer), or people with day jobs if you call during business hours."
   ]
  },
  {
   "cell_type": "markdown",
   "metadata": {},
   "source": [
    "This sampling process is also vulnerable to self-selection, which is a kind of\n",
    "sampling bias. Some people will refuse to answer the question, and if the\n",
    "tendency to refuse is related to weight, that would affect the results.\n",
    "\n",
    "Finally, if you ask people how much they weigh, rather than weighing them, the results might not be accurate. Even helpful respondents might round up or down if they are uncomfortable with their actual weight. And not all respondents are helpful. These inaccuracies are examples of **measurement error**."
   ]
  },
  {
   "cell_type": "markdown",
   "metadata": {},
   "source": [
    "What about estimating the parameters of an exponential distribution. Well, to estimate $\\lambda$, we know that the mean of an exponential distribution is $\\frac{1}{\\lambda}$, so we might use'\n",
    "\n",
    "$$L = \\frac{1}{\\bar{x}}$$\n",
    "\n",
    "$L$ is an estimator of $\\lambda$ and it is actually the maximum likelihood estimator. So, to maximize your change of guessing $\\lambda$ exactly, use $L$."
   ]
  },
  {
   "cell_type": "markdown",
   "metadata": {},
   "source": [
    "$L$ unfortunately relies on $\\bar{x}$, which we know if not rbout in the presence of outliear. What if we choose an alternative based on the median? The median of an exponential distribution is $\\frac{ln(2)}{\\lambda}$, so our estimator would be;\n",
    "\n",
    "$$L_{m} = \\frac{ln(2)}{m}$$\n",
    "\n",
    "where $m$ is the sample median."
   ]
  },
  {
   "cell_type": "markdown",
   "metadata": {},
   "source": [
    "Both estimators are actually biased and neither converges to 0 as we increase our trials.\n",
    "\n",
    "It turns out that $\\bar{x}$ is an unbiased estimator of the mean of the distribution, $\\frac{1}{\\lambda}$, but $L$ is not an unbiased estimator of $\\lambda$."
   ]
  },
  {
   "cell_type": "markdown",
   "metadata": {},
   "source": [
    "### Exercises\n",
    "\n",
    "**Exercise 8.1** In this chapter we used $\\bar{x}$ and median to estimate $\\mu$, and found that $\\bar{x}$ yields lower MSE. Also, we used $S^{2}$ and $S_{n-1}^{2}$ to estimate $\\sigma$, and found that $S^{2}$ is biased and $S_{n-1}^{2}$ unbiased.\n",
    "\n",
    "Run similar experiments to see if $\\bar{x}$ and median are biased estimates of $\\mu$. \n",
    "\n",
    ">Based on the experiments both are fiarly unbiased, as the sample size and trials increased, the means error came closer to zero.\n",
    "\n",
    "Also check whether $S^{2}$ or $S_{n-1}^{2}$ yields a lower MSE.\n",
    "\n",
    ">$S_{n-1}^{2}$ resulted in a lower MSE in each trial."
   ]
  },
  {
   "cell_type": "code",
   "execution_count": 191,
   "metadata": {},
   "outputs": [],
   "source": [
    "def mean_median_estimate(n=10, m=1000, mu=0, sigma=1):\n",
    "    mean_estimates = []\n",
    "    median_estimates = []\n",
    "    for t in range(m):\n",
    "        X = np.random.normal(mu, sigma, n)\n",
    "        mean = np.mean(X)\n",
    "        median = np.median(X)\n",
    "        mean_estimates.append(mean)\n",
    "        median_estimates.append(median)\n",
    "    print('mean error of sample mean for sample size: '+str(n)+' and '+str(m)+' trials: ', \n",
    "          np.subtract(mean_estimates, mu).mean())\n",
    "    print('mean error of sample median for sample size: '+str(n)+' and '+str(m)+' trials: ', \n",
    "          np.subtract(median_estimates, mu).mean())"
   ]
  },
  {
   "cell_type": "code",
   "execution_count": 192,
   "metadata": {},
   "outputs": [],
   "source": [
    "n_m = [(7, 1000), (7, 1000), (7, 10000), (7, 100000)]"
   ]
  },
  {
   "cell_type": "code",
   "execution_count": 193,
   "metadata": {},
   "outputs": [
    {
     "name": "stdout",
     "output_type": "stream",
     "text": [
      "mean error of sample mean for sample size: 7 and 1000 trials:  -0.000160512580411\n",
      "mean error of sample median for sample size: 7 and 1000 trials:  0.00677457950977\n",
      "mean error of sample mean for sample size: 7 and 1000 trials:  -0.020577932727\n",
      "mean error of sample median for sample size: 7 and 1000 trials:  -0.0303605773945\n",
      "mean error of sample mean for sample size: 7 and 10000 trials:  0.00137308233279\n",
      "mean error of sample median for sample size: 7 and 10000 trials:  0.002285420476\n",
      "mean error of sample mean for sample size: 7 and 100000 trials:  -0.00148529549334\n",
      "mean error of sample median for sample size: 7 and 100000 trials:  -0.00116701425831\n"
     ]
    }
   ],
   "source": [
    "for n, m in n_m:\n",
    "    mean_median_estimate(n,m)"
   ]
  },
  {
   "cell_type": "code",
   "execution_count": 194,
   "metadata": {},
   "outputs": [],
   "source": [
    "def var_estimate(n=10, m=1000, mu=0, sigma=1):\n",
    "    biased_S = []\n",
    "    unbiased_S = []\n",
    "    for t in range(m):\n",
    "        X = np.random.normal(mu, sigma, n)\n",
    "        bias_S = np.var(X)\n",
    "        unbias_S = np.var(X, ddof=1)\n",
    "        biased_S.append(bias_S)\n",
    "        unbiased_S.append(unbias_S)\n",
    "    biased_MSE = np.square(np.subtract(biased_S, sigma**2)).mean()\n",
    "    unbiased_MSE = np.square(np.subtract(unbiased_S, sigma**2)).mean()\n",
    "    print('mean squared error of sample SD for sample size: '+str(n)+' and '+str(m)+' trials: ', \n",
    "          biased_MSE)\n",
    "    print('mean error of sample SD(n-1) for sample size: '+str(n)+' and '+str(m)+' trials: ', \n",
    "          unbiased_MSE)    "
   ]
  },
  {
   "cell_type": "code",
   "execution_count": 195,
   "metadata": {},
   "outputs": [
    {
     "name": "stdout",
     "output_type": "stream",
     "text": [
      "mean squared error of sample SD for sample size: 7 and 1000 trials:  0.287542503884\n",
      "mean error of sample SD(n-1) for sample size: 7 and 1000 trials:  0.373229649492\n",
      "mean squared error of sample SD for sample size: 7 and 1000 trials:  0.242999123981\n",
      "mean error of sample SD(n-1) for sample size: 7 and 1000 trials:  0.309269986138\n",
      "mean squared error of sample SD for sample size: 7 and 10000 trials:  0.263448340844\n",
      "mean error of sample SD(n-1) for sample size: 7 and 10000 trials:  0.330329729153\n",
      "mean squared error of sample SD for sample size: 7 and 100000 trials:  0.267314572266\n",
      "mean error of sample SD(n-1) for sample size: 7 and 100000 trials:  0.33703282407\n"
     ]
    }
   ],
   "source": [
    "for n, m in n_m:\n",
    "    var_estimate(n,m)"
   ]
  },
  {
   "cell_type": "markdown",
   "metadata": {},
   "source": [
    "**Exercise 8.2** Suppose you draw a sample with size $n = 10$ from an exponential distribution with $\\lambda = 2$. Simulate this experiment 1000 times and plot the sampling distribution of the estimate $L$. \n",
    "\n",
    "Compute the standard error of the estimate and the 95% confidence interval.\n",
    "\n",
    "Repeat the experiment with a few different values of $n$ and make a plot of standard error versus $n$."
   ]
  },
  {
   "cell_type": "code",
   "execution_count": 28,
   "metadata": {},
   "outputs": [],
   "source": [
    "from scipy.stats import expon"
   ]
  },
  {
   "cell_type": "code",
   "execution_count": 196,
   "metadata": {},
   "outputs": [],
   "source": [
    "def L_estimation(n=10, m=1000, lam=2, prnt=True):\n",
    "    scale = 1/lam\n",
    "    L_estimates = []\n",
    "    for t in range(m):\n",
    "        X = expon.rvs(scale=scale,size=n)\n",
    "        L = 1/X.mean()\n",
    "        L_estimates.append(L)\n",
    "    MSE = np.mean(np.square(np.subtract(L_estimates, lam)))\n",
    "    RMSE = math.sqrt(MSE)\n",
    "    CI_low = np.mean(L_estimates) * (1 - (1.96/math.sqrt(n)))\n",
    "    CI_high = np.mean(L_estimates) * (1 + (1.96/math.sqrt(n)))\n",
    "    if prnt:\n",
    "        print('standard error of L for sample size: '+str(n)+' and '+str(m)+' trials: ', \n",
    "          RMSE)\n",
    "        print('95% CI of L for sample size: '+str(n)+' and '+str(m)+' trials: ', \n",
    "          (CI_low, CI_high))\n",
    "    return RMSE"
   ]
  },
  {
   "cell_type": "code",
   "execution_count": 197,
   "metadata": {},
   "outputs": [
    {
     "name": "stdout",
     "output_type": "stream",
     "text": [
      "standard error of L for sample size: 10 and 1000 trials:  0.8215429545508074\n",
      "95% CI of L for sample size: 10 and 1000 trials:  (0.84352998031432036, 3.5938410210842537)\n"
     ]
    },
    {
     "data": {
      "text/plain": [
       "0.8215429545508074"
      ]
     },
     "execution_count": 197,
     "metadata": {},
     "output_type": "execute_result"
    }
   ],
   "source": [
    "L_estimation()"
   ]
  },
  {
   "cell_type": "code",
   "execution_count": 198,
   "metadata": {},
   "outputs": [],
   "source": [
    "ns = np.arange(10, 1001, 10)"
   ]
  },
  {
   "cell_type": "code",
   "execution_count": 199,
   "metadata": {},
   "outputs": [],
   "source": [
    "SE = []\n",
    "for n in ns:\n",
    "    SE.append(L_estimation(n, prnt=False))"
   ]
  },
  {
   "cell_type": "code",
   "execution_count": 201,
   "metadata": {},
   "outputs": [
    {
     "data": {
      "image/png": "[encoded data removed]",
      "text/plain": [
       "<matplotlib.figure.Figure at 0x7f0a8ab395c0>"
      ]
     },
     "metadata": {},
     "output_type": "display_data"
    }
   ],
   "source": [
    "plt.plot(ns, SE, c='#F9B2F0', lw = 3.5)\n",
    "plt.xlabel('Iterations')\n",
    "plt.ylabel('Standard Error')\n",
    "plt.title('Lambda Estimation Standard Error');"
   ]
  },
  {
   "cell_type": "markdown",
   "metadata": {},
   "source": [
    "**Exercise 8.3** In games like hockey and soccer, the time between goals is roughly exponential. So you could estimate a team's goal-scoring rate by observing the number of goals they score in a game. This estimation process\n",
    "is a little different from sampling the time between goals, so let's see how it works.\n",
    "\n",
    "Write a function that takes a goal-scoring rate, **lam**, in goals per game, and\n",
    "simulates a game by generating the time between goals until the total time exceeds 1 game, then returns the number of goals scored.\n",
    "\n",
    "Write another function that simulates many games, stores the estimates of **lam**, then computes their mean error and RMSE. Is this way of making an estimate biased?\n",
    "\n",
    "> RMSE is 1.415, the mean error is small, and becomes smaller with more trials, so it seems an unbiased estimate.\n",
    "\n",
    "Plot the sampling distribution of the estimates. \n",
    "\n",
    "What is the standard error? What happens to sampling error for increasing values of **lam**?\n",
    "\n",
    ">As we increase the rate of goals per game, the SE increases. "
   ]
  },
  {
   "cell_type": "code",
   "execution_count": 219,
   "metadata": {},
   "outputs": [],
   "source": [
    "import random"
   ]
  },
  {
   "cell_type": "code",
   "execution_count": 275,
   "metadata": {},
   "outputs": [],
   "source": [
    "def simulate_game(lam):\n",
    "    game_finished = False\n",
    "    goals = 0\n",
    "    time = 0 #time is essentially game played\n",
    "    while game_finished == False:\n",
    "        time_between_goals = random.expovariate(lam) #expon.rvs(scale=1/lam,size=1)[0]->this was slow\n",
    "        time += time_between_goals\n",
    "        \n",
    "        if time > 1:\n",
    "            game_finished = True\n",
    "            break\n",
    "            \n",
    "        goals += 1\n",
    "    return goals"
   ]
  },
  {
   "cell_type": "code",
   "execution_count": 276,
   "metadata": {},
   "outputs": [],
   "source": [
    "def many_games(lam, m=100000):\n",
    "    L_estimates = []\n",
    "    for i in range(m):\n",
    "        L_estimates.append(simulate_game(lam))\n",
    "        \n",
    "    ME = np.mean(np.subtract(L_estimates, lam))\n",
    "    MSE = np.square(np.subtract(L_estimates, lam)).mean()\n",
    "    RMSE = math.sqrt(MSE)\n",
    "    \n",
    "    return ME, RMSE, L_estimates"
   ]
  },
  {
   "cell_type": "code",
   "execution_count": 277,
   "metadata": {},
   "outputs": [],
   "source": [
    "ME, RMSE, L_estimates = many_games(2, 1000000)"
   ]
  },
  {
   "cell_type": "code",
   "execution_count": 278,
   "metadata": {},
   "outputs": [
    {
     "name": "stdout",
     "output_type": "stream",
     "text": [
      "Mean Error and RMSE for L over 1000 simulated games:  (-0.001372, 1.4150540625714625)\n"
     ]
    }
   ],
   "source": [
    "print('Mean Error and RMSE for L over 1000 simulated games: ', (ME, RMSE))"
   ]
  },
  {
   "cell_type": "code",
   "execution_count": 279,
   "metadata": {},
   "outputs": [
    {
     "data": {
      "image/png": "[encoded data removed]",
      "text/plain": [
       "<matplotlib.figure.Figure at 0x7f0a8a558048>"
      ]
     },
     "metadata": {},
     "output_type": "display_data"
    }
   ],
   "source": [
    "Ls = pd.Series(L_estimates)\n",
    "Ls.hist(normed=True, grid=False, rwidth=0.85)\n",
    "plt.xlabel('Goals')\n",
    "plt.ylabel('Probability');"
   ]
  },
  {
   "cell_type": "code",
   "execution_count": 282,
   "metadata": {},
   "outputs": [
    {
     "name": "stdout",
     "output_type": "stream",
     "text": [
      "2Mean Error and RMSE for L over 1000 simulated games:  (-0.000638, 1.4149275599831956)\n",
      "3Mean Error and RMSE for L over 1000 simulated games:  (0.00086399999999999997, 1.7315969507942661)\n",
      "5Mean Error and RMSE for L over 1000 simulated games:  (0.0017700000000000001, 2.237910185865376)\n",
      "8Mean Error and RMSE for L over 1000 simulated games:  (-0.0048260000000000004, 2.8269892111573403)\n",
      "10Mean Error and RMSE for L over 1000 simulated games:  (0.0048859999999999997, 3.1660385341937958)\n",
      "12Mean Error and RMSE for L over 1000 simulated games:  (0.0046730000000000001, 3.467450792729437)\n"
     ]
    }
   ],
   "source": [
    "lams = [2, 3, 5, 8, 10, 12]\n",
    "\n",
    "for lam in lams:\n",
    "    ME, RMSE, L_estimates = many_games(lam, 1000000)\n",
    "    print(str(lam)+'Mean Error and RMSE for L over 1000 simulated games: ', (ME, RMSE))"
   ]
  },
  {
   "cell_type": "markdown",
   "metadata": {},
   "source": [
    "### Glossary\n",
    "\n",
    "**estimation:** The process of inferring the parameters of a distribution from a sample.\n",
    "\n",
    "**estimator:** A statistic used to estimate a parameter.\n",
    "\n",
    "**mean squared error (MSE):** A measure of estimation error.\n",
    "\n",
    "**root mean squared error (RMSE):** The square root of MSE, a more meaningful representation of typical error magnitude.\n",
    "\n",
    "**maximum likelihood estimator (MLE):** An estimator that computes the point estimate most likely to be correct.\n",
    "\n",
    "**bias (of an estimator):** The tendency of an estimator to be above or below the actual value of the parameter, when averaged over repeated experiments.\n",
    "\n",
    "**sampling error:** Error in an estimate due to the limited size of the sample and variation due to chance.\n",
    "\n",
    "**sampling bias:** Error in an estimate due to a sampling process that is not representative of the population.\n",
    "\n",
    "**measurement error:** Error in an estimate due to inaccuracy collecting or recording data.\n",
    "\n",
    "**sampling distribution:** The distribution of a statistic if an experiment is repeated many times.\n",
    "\n",
    "**standard error:** The RMSE of an estimate, which quantifies variability due to sampling error (but not other sources of error).\n",
    "\n",
    "**confidence interval:** An interval that represents the expected range of an estimator if an experiment is repeated many times."
   ]
  },
  {
   "cell_type": "code",
   "execution_count": null,
   "metadata": {},
   "outputs": [],
   "source": []
  }
 ],
 "metadata": {
  "kernelspec": {
   "display_name": "Python 3",
   "language": "python",
   "name": "python3"
  },
  "language_info": {
   "codemirror_mode": {
    "name": "ipython",
    "version": 3
   },
   "file_extension": ".py",
   "mimetype": "text/x-python",
   "name": "python",
   "nbconvert_exporter": "python",
   "pygments_lexer": "ipython3",
   "version": "3.6.1"
  }
 },
 "nbformat": 4,
 "nbformat_minor": 2
}
