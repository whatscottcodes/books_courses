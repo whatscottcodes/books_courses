{
 "cells": [
  {
   "cell_type": "code",
   "execution_count": 1,
   "metadata": {},
   "outputs": [],
   "source": [
    "import numpy as np\n",
    "import pandas as pd\n",
    "import matplotlib.pyplot as plt\n",
    "\n",
    "import scipy.stats as st\n",
    "\n",
    "import statsmodels.formula.api as smf\n",
    "\n",
    "from sklearn.linear_model import LinearRegression, LogisticRegression\n",
    "from sklearn.model_selection import train_test_split\n",
    "\n",
    "%matplotlib inline"
   ]
  },
  {
   "cell_type": "markdown",
   "metadata": {},
   "source": [
    "## Chapter 5 - Resampling Methods"
   ]
  },
  {
   "cell_type": "markdown",
   "metadata": {},
   "source": [
    "**1** Using basic statistical properties of the variance, as well as single variable calculus, derive (5.6). In other words, prove that α given by (5.6) does indeed minimize $Var(\\alpha X + (1-\\alpha)Y)$.\n",
    "\n",
    ">This ended up being more LaTex to type out than I want to commit to."
   ]
  },
  {
   "cell_type": "markdown",
   "metadata": {},
   "source": [
    "**2a** What is the probability that the first bootstrap observation is not the jth observation from the original sample ? Justify your answer.\n",
    "\n",
    "> $1 - \\frac{1}{n}$, just the probability **not** selecting one obseration.\n",
    "\n",
    "**2b** What is the probability that the second bootstrap observation is not the jth observation from the original sample?\n",
    "\n",
    "> It's the same $1 - \\frac{1}{n}$, just the probability **not** selecting one obseration.\n",
    "\n",
    "**2c** Bootstrap samples with replacement so each observation in the sample has the same chance of equalling the jth observation, multiplying the probabilities together we get $(1-\\frac{1}{n})^n$\n",
    "\n",
    "**2d** 67.2%\n",
    "\n",
    "**2e** 63.4%\n",
    "\n",
    "**2f** 63.2%"
   ]
  },
  {
   "cell_type": "code",
   "execution_count": 5,
   "metadata": {},
   "outputs": [
    {
     "data": {
      "text/plain": [
       "0.6723199999999999"
      ]
     },
     "execution_count": 5,
     "metadata": {},
     "output_type": "execute_result"
    }
   ],
   "source": [
    "1-(1-1/5)**5"
   ]
  },
  {
   "cell_type": "code",
   "execution_count": 6,
   "metadata": {},
   "outputs": [
    {
     "data": {
      "text/plain": [
       "0.6339676587267709"
      ]
     },
     "execution_count": 6,
     "metadata": {},
     "output_type": "execute_result"
    }
   ],
   "source": [
    "1-(1-1/100)**100"
   ]
  },
  {
   "cell_type": "code",
   "execution_count": 7,
   "metadata": {},
   "outputs": [
    {
     "data": {
      "text/plain": [
       "0.6323045752290363"
      ]
     },
     "execution_count": 7,
     "metadata": {},
     "output_type": "execute_result"
    }
   ],
   "source": [
    "1-(1-1/1000)**1000"
   ]
  },
  {
   "cell_type": "code",
   "execution_count": 8,
   "metadata": {},
   "outputs": [],
   "source": [
    "x = np.arange(1, 100001)\n",
    "y = 1 - (1 - 1/x) ** x"
   ]
  },
  {
   "cell_type": "code",
   "execution_count": 9,
   "metadata": {},
   "outputs": [
    {
     "data": {
      "image/png": "[encoded data removed]",
      "text/plain": [
       "<matplotlib.figure.Figure at 0x7f260598d400>"
      ]
     },
     "metadata": {},
     "output_type": "display_data"
    }
   ],
   "source": [
    "plt.plot(x, y);"
   ]
  },
  {
   "cell_type": "code",
   "execution_count": 10,
   "metadata": {},
   "outputs": [
    {
     "data": {
      "image/png": "[encoded data removed]",
      "text/plain": [
       "<matplotlib.figure.Figure at 0x7f26059b8390>"
      ]
     },
     "metadata": {},
     "output_type": "display_data"
    }
   ],
   "source": [
    "plt.plot(x, y)\n",
    "plt.xlim(0,100);"
   ]
  },
  {
   "cell_type": "markdown",
   "metadata": {},
   "source": [
    "**2g** There is an asymptote around 0.63."
   ]
  },
  {
   "cell_type": "markdown",
   "metadata": {},
   "source": [
    "**2h** We will now investigate numerically the probability that a bootstrap sample of size n=100 contains the jth observation. Here j=4. We repeatedly create bootstrap samples, and each time we record whether or not the fourth observation is contained in the bootstrap sample.\n",
    "\n",
    ">This value is very close to what we would expect from the equation we derived earlier."
   ]
  },
  {
   "cell_type": "code",
   "execution_count": 11,
   "metadata": {},
   "outputs": [
    {
     "data": {
      "text/plain": [
       "0.6385"
      ]
     },
     "execution_count": 11,
     "metadata": {},
     "output_type": "execute_result"
    }
   ],
   "source": [
    "store = np.random.randint(1, 101, (100, 10000))\n",
    "np.any(store == 4, axis=0).mean()"
   ]
  },
  {
   "cell_type": "markdown",
   "metadata": {},
   "source": [
    "**3a** Explain how k-fold cross-validation is implemented.\n",
    " \n",
    " > We split the dataset into k non-overlapping groups. We then train K models where each use the k group as a validation set, while training on the other $k-1$ sets. We take the mean of these errors to estimate our models true MSE. \n",
    " \n",
    " **3b** What are the advantages and disadvantages of k-fold crossvalidation relative to:\n",
    "\n",
    "**3bi** The validation set approach?\n",
    "> The estimate of the test error rate can contain a lot of variance and only a subset of the observations are used to train. Most models perform better when trainined with more observations.\n",
    "\n",
    "**3bii** LOOCV?\n",
    "\n",
    "> LOOCV is computationaly expensive and can lead to unbiased estimates of the test error"
   ]
  },
  {
   "cell_type": "markdown",
   "metadata": {},
   "source": [
    "**4** Suppose that we use some statistical learning method to make a prediction for the response Y for a particular value of the predictor X. Carefully describe how we might estimate the standard deviation of our prediction.\n",
    "\n",
    "> We can use bootstrap to obtain repated random samples from the original data. We could do this a large amount of times, fiting a model each time and calculating RMSE for each model."
   ]
  },
  {
   "cell_type": "markdown",
   "metadata": {},
   "source": [
    "### Applied"
   ]
  },
  {
   "cell_type": "markdown",
   "metadata": {},
   "source": [
    "**5** In Chapter 4, we used logisitc regression to predict the probability of default using income and balance on the Default data set. We will now estimate the test error of this logistic regression model using the validation set approach. Do not forget to set a random seed before beginning your analysis.\n",
    "\n",
    "**5a** Fit a logistic regression model that uses income and balance to predict default."
   ]
  },
  {
   "cell_type": "code",
   "execution_count": 12,
   "metadata": {},
   "outputs": [],
   "source": [
    "default = pd.read_csv('data/default.csv')\n",
    "default['student'] = np.where(default['student'] == 'Yes', 1, 0)\n",
    "default['default'] = np.where(default['default'] == 'Yes', 1, 0)"
   ]
  },
  {
   "cell_type": "code",
   "execution_count": 13,
   "metadata": {},
   "outputs": [
    {
     "name": "stdout",
     "output_type": "stream",
     "text": [
      "Optimization terminated successfully.\n",
      "         Current function value: 0.078948\n",
      "         Iterations 10\n"
     ]
    },
    {
     "data": {
      "text/html": [
       "<table class=\"simpletable\">\n",
       "<caption>Logit Regression Results</caption>\n",
       "<tr>\n",
       "  <th>Dep. Variable:</th>      <td>default</td>     <th>  No. Observations:  </th>   <td> 10000</td>  \n",
       "</tr>\n",
       "<tr>\n",
       "  <th>Model:</th>               <td>Logit</td>      <th>  Df Residuals:      </th>   <td>  9997</td>  \n",
       "</tr>\n",
       "<tr>\n",
       "  <th>Method:</th>               <td>MLE</td>       <th>  Df Model:          </th>   <td>     2</td>  \n",
       "</tr>\n",
       "<tr>\n",
       "  <th>Date:</th>          <td>Fri, 04 May 2018</td> <th>  Pseudo R-squ.:     </th>   <td>0.4594</td>  \n",
       "</tr>\n",
       "<tr>\n",
       "  <th>Time:</th>              <td>13:21:52</td>     <th>  Log-Likelihood:    </th>  <td> -789.48</td> \n",
       "</tr>\n",
       "<tr>\n",
       "  <th>converged:</th>           <td>True</td>       <th>  LL-Null:           </th>  <td> -1460.3</td> \n",
       "</tr>\n",
       "<tr>\n",
       "  <th> </th>                      <td> </td>        <th>  LLR p-value:       </th> <td>4.541e-292</td>\n",
       "</tr>\n",
       "</table>\n",
       "<table class=\"simpletable\">\n",
       "<tr>\n",
       "      <td></td>         <th>coef</th>     <th>std err</th>      <th>z</th>      <th>P>|z|</th> <th>[95.0% Conf. Int.]</th> \n",
       "</tr>\n",
       "<tr>\n",
       "  <th>Intercept</th> <td>  -11.5405</td> <td>    0.435</td> <td>  -26.544</td> <td> 0.000</td> <td>  -12.393   -10.688</td>\n",
       "</tr>\n",
       "<tr>\n",
       "  <th>balance</th>   <td>    0.0056</td> <td>    0.000</td> <td>   24.835</td> <td> 0.000</td> <td>    0.005     0.006</td>\n",
       "</tr>\n",
       "<tr>\n",
       "  <th>income</th>    <td> 2.081e-05</td> <td> 4.99e-06</td> <td>    4.174</td> <td> 0.000</td> <td>  1.1e-05  3.06e-05</td>\n",
       "</tr>\n",
       "</table>"
      ],
      "text/plain": [
       "<class 'statsmodels.iolib.summary.Summary'>\n",
       "\"\"\"\n",
       "                           Logit Regression Results                           \n",
       "==============================================================================\n",
       "Dep. Variable:                default   No. Observations:                10000\n",
       "Model:                          Logit   Df Residuals:                     9997\n",
       "Method:                           MLE   Df Model:                            2\n",
       "Date:                Fri, 04 May 2018   Pseudo R-squ.:                  0.4594\n",
       "Time:                        13:21:52   Log-Likelihood:                -789.48\n",
       "converged:                       True   LL-Null:                       -1460.3\n",
       "                                        LLR p-value:                4.541e-292\n",
       "==============================================================================\n",
       "                 coef    std err          z      P>|z|      [95.0% Conf. Int.]\n",
       "------------------------------------------------------------------------------\n",
       "Intercept    -11.5405      0.435    -26.544      0.000       -12.393   -10.688\n",
       "balance        0.0056      0.000     24.835      0.000         0.005     0.006\n",
       "income      2.081e-05   4.99e-06      4.174      0.000       1.1e-05  3.06e-05\n",
       "==============================================================================\n",
       "\n",
       "Possibly complete quasi-separation: A fraction 0.14 of observations can be\n",
       "perfectly predicted. This might indicate that there is complete\n",
       "quasi-separation. In this case some parameters will not be identified.\n",
       "\"\"\""
      ]
     },
     "execution_count": 13,
     "metadata": {},
     "output_type": "execute_result"
    }
   ],
   "source": [
    "results = smf.logit(formula='default ~ balance + income', data=default).fit()\n",
    "results.summary()"
   ]
  },
  {
   "cell_type": "markdown",
   "metadata": {},
   "source": [
    "**5b** Using the validation set approach, estimate the test error of this model. In order to do this, you must perform the following steps:\n",
    "\n",
    "**i** Split the sample set into a training set and a validation set."
   ]
  },
  {
   "cell_type": "code",
   "execution_count": 14,
   "metadata": {},
   "outputs": [],
   "source": [
    "X_train, X_test, y_train, y_test = train_test_split(default[['balance', 'income']], default['default'])\n",
    "X_train_smf = X_train.join(y_train) #for the smf model, might move to SciKit late"
   ]
  },
  {
   "cell_type": "markdown",
   "metadata": {},
   "source": [
    "**ii** Fit a multiple logistic regression model using only the training observations."
   ]
  },
  {
   "cell_type": "code",
   "execution_count": 15,
   "metadata": {},
   "outputs": [
    {
     "name": "stdout",
     "output_type": "stream",
     "text": [
      "Optimization terminated successfully.\n",
      "         Current function value: 0.080439\n",
      "         Iterations 10\n"
     ]
    },
    {
     "data": {
      "text/html": [
       "<table class=\"simpletable\">\n",
       "<caption>Logit Regression Results</caption>\n",
       "<tr>\n",
       "  <th>Dep. Variable:</th>      <td>default</td>     <th>  No. Observations:  </th>   <td>  7500</td>  \n",
       "</tr>\n",
       "<tr>\n",
       "  <th>Model:</th>               <td>Logit</td>      <th>  Df Residuals:      </th>   <td>  7497</td>  \n",
       "</tr>\n",
       "<tr>\n",
       "  <th>Method:</th>               <td>MLE</td>       <th>  Df Model:          </th>   <td>     2</td>  \n",
       "</tr>\n",
       "<tr>\n",
       "  <th>Date:</th>          <td>Fri, 04 May 2018</td> <th>  Pseudo R-squ.:     </th>   <td>0.4546</td>  \n",
       "</tr>\n",
       "<tr>\n",
       "  <th>Time:</th>              <td>13:21:53</td>     <th>  Log-Likelihood:    </th>  <td> -603.29</td> \n",
       "</tr>\n",
       "<tr>\n",
       "  <th>converged:</th>           <td>True</td>       <th>  LL-Null:           </th>  <td> -1106.2</td> \n",
       "</tr>\n",
       "<tr>\n",
       "  <th> </th>                      <td> </td>        <th>  LLR p-value:       </th> <td>4.005e-219</td>\n",
       "</tr>\n",
       "</table>\n",
       "<table class=\"simpletable\">\n",
       "<tr>\n",
       "      <td></td>         <th>coef</th>     <th>std err</th>      <th>z</th>      <th>P>|z|</th> <th>[95.0% Conf. Int.]</th> \n",
       "</tr>\n",
       "<tr>\n",
       "  <th>Intercept</th> <td>  -11.2487</td> <td>    0.485</td> <td>  -23.181</td> <td> 0.000</td> <td>  -12.200   -10.298</td>\n",
       "</tr>\n",
       "<tr>\n",
       "  <th>balance</th>   <td>    0.0055</td> <td>    0.000</td> <td>   21.751</td> <td> 0.000</td> <td>    0.005     0.006</td>\n",
       "</tr>\n",
       "<tr>\n",
       "  <th>income</th>    <td> 1.823e-05</td> <td> 5.68e-06</td> <td>    3.212</td> <td> 0.001</td> <td> 7.11e-06  2.94e-05</td>\n",
       "</tr>\n",
       "</table>"
      ],
      "text/plain": [
       "<class 'statsmodels.iolib.summary.Summary'>\n",
       "\"\"\"\n",
       "                           Logit Regression Results                           \n",
       "==============================================================================\n",
       "Dep. Variable:                default   No. Observations:                 7500\n",
       "Model:                          Logit   Df Residuals:                     7497\n",
       "Method:                           MLE   Df Model:                            2\n",
       "Date:                Fri, 04 May 2018   Pseudo R-squ.:                  0.4546\n",
       "Time:                        13:21:53   Log-Likelihood:                -603.29\n",
       "converged:                       True   LL-Null:                       -1106.2\n",
       "                                        LLR p-value:                4.005e-219\n",
       "==============================================================================\n",
       "                 coef    std err          z      P>|z|      [95.0% Conf. Int.]\n",
       "------------------------------------------------------------------------------\n",
       "Intercept    -11.2487      0.485    -23.181      0.000       -12.200   -10.298\n",
       "balance        0.0055      0.000     21.751      0.000         0.005     0.006\n",
       "income      1.823e-05   5.68e-06      3.212      0.001      7.11e-06  2.94e-05\n",
       "==============================================================================\n",
       "\n",
       "Possibly complete quasi-separation: A fraction 0.13 of observations can be\n",
       "perfectly predicted. This might indicate that there is complete\n",
       "quasi-separation. In this case some parameters will not be identified.\n",
       "\"\"\""
      ]
     },
     "execution_count": 15,
     "metadata": {},
     "output_type": "execute_result"
    }
   ],
   "source": [
    "results = smf.logit(formula='default ~ balance + income', data=X_train_smf).fit()\n",
    "results.summary()"
   ]
  },
  {
   "cell_type": "markdown",
   "metadata": {},
   "source": [
    "**iii** Obtain a prediction of default status for each individual in the validation set by computing the posterior probability of default for that individual, and classifying the individual to the  default category if the posterior probability is greater than 0.5."
   ]
  },
  {
   "cell_type": "code",
   "execution_count": 16,
   "metadata": {},
   "outputs": [],
   "source": [
    "pred = np.where(results.predict(X_test) > .5, 1, 0)"
   ]
  },
  {
   "cell_type": "markdown",
   "metadata": {},
   "source": [
    "**iv** Compute the validation set error, which is the fraction of the observations in the validation set that are misclassified."
   ]
  },
  {
   "cell_type": "code",
   "execution_count": 17,
   "metadata": {},
   "outputs": [
    {
     "data": {
      "text/plain": [
       "0.0264"
      ]
     },
     "execution_count": 17,
     "metadata": {},
     "output_type": "execute_result"
    }
   ],
   "source": [
    "np.abs(y_test - pred).sum() / len(y_test)"
   ]
  },
  {
   "cell_type": "markdown",
   "metadata": {},
   "source": [
    "**5c** Repeat the process in (b) three times, using three different splits of the observations into a training set and a validation set. Comment on the results obtained."
   ]
  },
  {
   "cell_type": "code",
   "execution_count": 18,
   "metadata": {},
   "outputs": [
    {
     "name": "stdout",
     "output_type": "stream",
     "text": [
      "Optimization terminated successfully.\n",
      "         Current function value: 0.077259\n",
      "         Iterations 10\n",
      "Validation Set Error:  0.0264\n",
      "Optimization terminated successfully.\n",
      "         Current function value: 0.077419\n",
      "         Iterations 10\n",
      "Validation Set Error:  0.0288\n",
      "Optimization terminated successfully.\n",
      "         Current function value: 0.076175\n",
      "         Iterations 10\n",
      "Validation Set Error:  0.0288\n"
     ]
    }
   ],
   "source": [
    "for i in range(3):\n",
    "    X_train, X_test, y_train, y_test = train_test_split(default[['balance', 'income']], default['default'])\n",
    "    X_train_smf = X_train.join(y_train)\n",
    "    results = smf.logit(formula='default ~ balance + income', data=X_train_smf).fit()\n",
    "    pred = np.where(results.predict(X_test) > .5, 1, 0)\n",
    "    print('Validation Set Error: ', np.abs(y_test - pred).sum() / len(y_test))"
   ]
  },
  {
   "cell_type": "markdown",
   "metadata": {},
   "source": [
    "The validation set error can be vary, depending on which observations we include, but in this case not by a lot."
   ]
  },
  {
   "cell_type": "markdown",
   "metadata": {},
   "source": [
    "**5d** Now consider a logistic regression model that predicts the probability of default using income, balance, and a dummy variable for student. \n",
    "\n",
    "Estimate the test error for this model using the validation set approach. Comment on whether or not including a dummy variable for student leads to a reduction in the test error rate."
   ]
  },
  {
   "cell_type": "code",
   "execution_count": 19,
   "metadata": {},
   "outputs": [
    {
     "name": "stdout",
     "output_type": "stream",
     "text": [
      "Optimization terminated successfully.\n",
      "         Current function value: 0.075799\n",
      "         Iterations 10\n",
      "Validation Set Error:  0.0296\n",
      "Optimization terminated successfully.\n",
      "         Current function value: 0.079860\n",
      "         Iterations 10\n",
      "Validation Set Error:  0.026\n",
      "Optimization terminated successfully.\n",
      "         Current function value: 0.078326\n",
      "         Iterations 10\n",
      "Validation Set Error:  0.0272\n"
     ]
    }
   ],
   "source": [
    "for i in range(3):\n",
    "    X_train, X_test, y_train, y_test = train_test_split(default[['balance', 'income', 'student']], \n",
    "                                                    default['default'])\n",
    "    X_train_smf = X_train.join(y_train)\n",
    "    results = smf.logit(formula='default ~ balance + income + student', data=X_train_smf).fit()\n",
    "    pred = np.where(results.predict(X_test) > .5, 1, 0)\n",
    "    print('Validation Set Error: ', np.abs(y_test - pred).sum() / len(y_test))"
   ]
  },
  {
   "cell_type": "markdown",
   "metadata": {},
   "source": [
    "While the validation set error is pretty similar, it does have much more variance when student is included in the model."
   ]
  },
  {
   "cell_type": "markdown",
   "metadata": {},
   "source": [
    "**6** We continue to consider the use of a logistic regression model to predict the probability of default using income and balance on the Default data set. In particular, we will now computes estimates for the standard errors of the income and balance logistic regression coefficients in two different ways:\n",
    "\n",
    "+ (1) using the bootstrap\n",
    "+ (2) using the standard formula for computing the standard errors in the glm() function. Do not forget to set a random seed before beginning your analysis.\n",
    "\n",
    "**6a** Using the summary() and glm() functions, determine the estimated standard errors for the coefficients associated with “income” and “balance” in a multiple logistic regression model that uses both predictors."
   ]
  },
  {
   "cell_type": "code",
   "execution_count": 20,
   "metadata": {},
   "outputs": [
    {
     "name": "stdout",
     "output_type": "stream",
     "text": [
      "Optimization terminated successfully.\n",
      "         Current function value: 0.078948\n",
      "         Iterations 10\n"
     ]
    },
    {
     "data": {
      "text/html": [
       "<table class=\"simpletable\">\n",
       "<caption>Logit Regression Results</caption>\n",
       "<tr>\n",
       "  <th>Dep. Variable:</th>      <td>default</td>     <th>  No. Observations:  </th>   <td> 10000</td>  \n",
       "</tr>\n",
       "<tr>\n",
       "  <th>Model:</th>               <td>Logit</td>      <th>  Df Residuals:      </th>   <td>  9997</td>  \n",
       "</tr>\n",
       "<tr>\n",
       "  <th>Method:</th>               <td>MLE</td>       <th>  Df Model:          </th>   <td>     2</td>  \n",
       "</tr>\n",
       "<tr>\n",
       "  <th>Date:</th>          <td>Fri, 04 May 2018</td> <th>  Pseudo R-squ.:     </th>   <td>0.4594</td>  \n",
       "</tr>\n",
       "<tr>\n",
       "  <th>Time:</th>              <td>13:21:54</td>     <th>  Log-Likelihood:    </th>  <td> -789.48</td> \n",
       "</tr>\n",
       "<tr>\n",
       "  <th>converged:</th>           <td>True</td>       <th>  LL-Null:           </th>  <td> -1460.3</td> \n",
       "</tr>\n",
       "<tr>\n",
       "  <th> </th>                      <td> </td>        <th>  LLR p-value:       </th> <td>4.541e-292</td>\n",
       "</tr>\n",
       "</table>\n",
       "<table class=\"simpletable\">\n",
       "<tr>\n",
       "      <td></td>         <th>coef</th>     <th>std err</th>      <th>z</th>      <th>P>|z|</th> <th>[95.0% Conf. Int.]</th> \n",
       "</tr>\n",
       "<tr>\n",
       "  <th>Intercept</th> <td>  -11.5405</td> <td>    0.435</td> <td>  -26.544</td> <td> 0.000</td> <td>  -12.393   -10.688</td>\n",
       "</tr>\n",
       "<tr>\n",
       "  <th>balance</th>   <td>    0.0056</td> <td>    0.000</td> <td>   24.835</td> <td> 0.000</td> <td>    0.005     0.006</td>\n",
       "</tr>\n",
       "<tr>\n",
       "  <th>income</th>    <td> 2.081e-05</td> <td> 4.99e-06</td> <td>    4.174</td> <td> 0.000</td> <td>  1.1e-05  3.06e-05</td>\n",
       "</tr>\n",
       "</table>"
      ],
      "text/plain": [
       "<class 'statsmodels.iolib.summary.Summary'>\n",
       "\"\"\"\n",
       "                           Logit Regression Results                           \n",
       "==============================================================================\n",
       "Dep. Variable:                default   No. Observations:                10000\n",
       "Model:                          Logit   Df Residuals:                     9997\n",
       "Method:                           MLE   Df Model:                            2\n",
       "Date:                Fri, 04 May 2018   Pseudo R-squ.:                  0.4594\n",
       "Time:                        13:21:54   Log-Likelihood:                -789.48\n",
       "converged:                       True   LL-Null:                       -1460.3\n",
       "                                        LLR p-value:                4.541e-292\n",
       "==============================================================================\n",
       "                 coef    std err          z      P>|z|      [95.0% Conf. Int.]\n",
       "------------------------------------------------------------------------------\n",
       "Intercept    -11.5405      0.435    -26.544      0.000       -12.393   -10.688\n",
       "balance        0.0056      0.000     24.835      0.000         0.005     0.006\n",
       "income      2.081e-05   4.99e-06      4.174      0.000       1.1e-05  3.06e-05\n",
       "==============================================================================\n",
       "\n",
       "Possibly complete quasi-separation: A fraction 0.14 of observations can be\n",
       "perfectly predicted. This might indicate that there is complete\n",
       "quasi-separation. In this case some parameters will not be identified.\n",
       "\"\"\""
      ]
     },
     "execution_count": 20,
     "metadata": {},
     "output_type": "execute_result"
    }
   ],
   "source": [
    "results = smf.logit(formula='default ~ balance + income', data=default).fit()\n",
    "results.summary()"
   ]
  },
  {
   "cell_type": "markdown",
   "metadata": {},
   "source": [
    "The model summary from statsmodels indicates that the standard error for $\\beta_0$, $\\beta_1$, and $\\beta_2$ are $0.435$, $0.000$, and $4.99e^{-06}$"
   ]
  },
  {
   "cell_type": "markdown",
   "metadata": {},
   "source": [
    "**6b** Write a function, boot.fn(), that takes as input the Default data set as well as an index of the observations, and that outputs the coefficient estimates for “income” and “balance” in the multiple logistic regression model."
   ]
  },
  {
   "cell_type": "code",
   "execution_count": 21,
   "metadata": {},
   "outputs": [],
   "source": [
    "def boot(data, obs):\n",
    "    X_train = data.iloc[obs]\n",
    "    results = smf.logit(formula='default ~ balance + income', data=X_train).fit(disp=0)\n",
    "    #thanks to stackoverflow for the disp=0 trick, when I ran bootstrap below\n",
    "    #the output was dreadful\n",
    "    return results.params"
   ]
  },
  {
   "cell_type": "code",
   "execution_count": 22,
   "metadata": {},
   "outputs": [],
   "source": [
    "obs = np.random.choice(default.index, 100)"
   ]
  },
  {
   "cell_type": "code",
   "execution_count": 23,
   "metadata": {},
   "outputs": [
    {
     "data": {
      "text/plain": [
       "Intercept   -14.162901\n",
       "balance       0.006099\n",
       "income        0.000082\n",
       "dtype: float64"
      ]
     },
     "execution_count": 23,
     "metadata": {},
     "output_type": "execute_result"
    }
   ],
   "source": [
    "boot(default, obs)"
   ]
  },
  {
   "cell_type": "markdown",
   "metadata": {},
   "source": [
    "**6c** Use the boot() function together with your boot.fn() function to estimate the standard errors of the logistic regression coefficients for income and balance. \n",
    "\n",
    "*Not exactly sure what the boot function does, but I can work it out.*"
   ]
  },
  {
   "cell_type": "code",
   "execution_count": 24,
   "metadata": {},
   "outputs": [],
   "source": [
    "def bootstrap(data, num_samples, runs):\n",
    "    beta_df = pd.DataFrame(columns=['Intercept', 'balance', 'income'])\n",
    "    for i in range(runs):\n",
    "        obs = np.random.choice(default.index, num_samples)\n",
    "        coefs = boot(data, obs)\n",
    "        beta_df = beta_df.append(coefs, ignore_index=True)\n",
    "    \n",
    "    return beta_df.std()"
   ]
  },
  {
   "cell_type": "code",
   "execution_count": 25,
   "metadata": {},
   "outputs": [
    {
     "data": {
      "text/plain": [
       "Intercept    1.588325\n",
       "balance      0.000807\n",
       "income       0.000016\n",
       "dtype: float64"
      ]
     },
     "execution_count": 25,
     "metadata": {},
     "output_type": "execute_result"
    }
   ],
   "source": [
    "bootstrap(default, 1000, 100)"
   ]
  },
  {
   "cell_type": "markdown",
   "metadata": {},
   "source": [
    "**6d** Comment on the estimated standard errors obtained using the glm() function and using your bootstrap function.\n",
    "\n",
    "> The estimated standard errors are similar with the ones coming from the bootstrap method a little higher.."
   ]
  },
  {
   "cell_type": "markdown",
   "metadata": {},
   "source": [
    "Standard errors are a wee bit higher in bootstrap"
   ]
  },
  {
   "cell_type": "markdown",
   "metadata": {},
   "source": [
    "**7** In sections 5.3.2 and 5.3.3, we saw that the cv.glm() function can be used in order to compute the LOOCV test error estimate. Alternatively, one could compute those quantities using just the glm() and predict.glm() functions, and a for loop. You will now take this approach in order to compute the LOOCV error for a simple logistic regression model on the Weekly data set. Recall that in the context of classification problems, the LOOCV error is given in (5.4).\n",
    "\n",
    "**7a** Fit a logistic regression model that predicts “Direction” using “Lag1” and “Lag2”."
   ]
  },
  {
   "cell_type": "code",
   "execution_count": 26,
   "metadata": {},
   "outputs": [],
   "source": [
    "weekly = pd.read_csv('data/weekly.csv')"
   ]
  },
  {
   "cell_type": "code",
   "execution_count": 27,
   "metadata": {},
   "outputs": [],
   "source": [
    "weekly['Direction'] = np.where(weekly['Direction'] == 'Up', 1, 0)"
   ]
  },
  {
   "cell_type": "code",
   "execution_count": 28,
   "metadata": {},
   "outputs": [
    {
     "data": {
      "text/html": [
       "<table class=\"simpletable\">\n",
       "<caption>Logit Regression Results</caption>\n",
       "<tr>\n",
       "  <th>Dep. Variable:</th>     <td>Direction</td>    <th>  No. Observations:  </th>  <td>  1089</td> \n",
       "</tr>\n",
       "<tr>\n",
       "  <th>Model:</th>               <td>Logit</td>      <th>  Df Residuals:      </th>  <td>  1086</td> \n",
       "</tr>\n",
       "<tr>\n",
       "  <th>Method:</th>               <td>MLE</td>       <th>  Df Model:          </th>  <td>     2</td> \n",
       "</tr>\n",
       "<tr>\n",
       "  <th>Date:</th>          <td>Fri, 04 May 2018</td> <th>  Pseudo R-squ.:     </th> <td>0.005335</td>\n",
       "</tr>\n",
       "<tr>\n",
       "  <th>Time:</th>              <td>13:22:00</td>     <th>  Log-Likelihood:    </th> <td> -744.11</td>\n",
       "</tr>\n",
       "<tr>\n",
       "  <th>converged:</th>           <td>True</td>       <th>  LL-Null:           </th> <td> -748.10</td>\n",
       "</tr>\n",
       "<tr>\n",
       "  <th> </th>                      <td> </td>        <th>  LLR p-value:       </th>  <td>0.01848</td>\n",
       "</tr>\n",
       "</table>\n",
       "<table class=\"simpletable\">\n",
       "<tr>\n",
       "      <td></td>         <th>coef</th>     <th>std err</th>      <th>z</th>      <th>P>|z|</th> <th>[95.0% Conf. Int.]</th> \n",
       "</tr>\n",
       "<tr>\n",
       "  <th>Intercept</th> <td>    0.2212</td> <td>    0.061</td> <td>    3.599</td> <td> 0.000</td> <td>    0.101     0.342</td>\n",
       "</tr>\n",
       "<tr>\n",
       "  <th>Lag1</th>      <td>   -0.0387</td> <td>    0.026</td> <td>   -1.477</td> <td> 0.140</td> <td>   -0.090     0.013</td>\n",
       "</tr>\n",
       "<tr>\n",
       "  <th>Lag2</th>      <td>    0.0602</td> <td>    0.027</td> <td>    2.270</td> <td> 0.023</td> <td>    0.008     0.112</td>\n",
       "</tr>\n",
       "</table>"
      ],
      "text/plain": [
       "<class 'statsmodels.iolib.summary.Summary'>\n",
       "\"\"\"\n",
       "                           Logit Regression Results                           \n",
       "==============================================================================\n",
       "Dep. Variable:              Direction   No. Observations:                 1089\n",
       "Model:                          Logit   Df Residuals:                     1086\n",
       "Method:                           MLE   Df Model:                            2\n",
       "Date:                Fri, 04 May 2018   Pseudo R-squ.:                0.005335\n",
       "Time:                        13:22:00   Log-Likelihood:                -744.11\n",
       "converged:                       True   LL-Null:                       -748.10\n",
       "                                        LLR p-value:                   0.01848\n",
       "==============================================================================\n",
       "                 coef    std err          z      P>|z|      [95.0% Conf. Int.]\n",
       "------------------------------------------------------------------------------\n",
       "Intercept      0.2212      0.061      3.599      0.000         0.101     0.342\n",
       "Lag1          -0.0387      0.026     -1.477      0.140        -0.090     0.013\n",
       "Lag2           0.0602      0.027      2.270      0.023         0.008     0.112\n",
       "==============================================================================\n",
       "\"\"\""
      ]
     },
     "execution_count": 28,
     "metadata": {},
     "output_type": "execute_result"
    }
   ],
   "source": [
    "results = smf.logit(formula='Direction ~ Lag1 + Lag2', data=weekly).fit(disp=0)\n",
    "results.summary()"
   ]
  },
  {
   "cell_type": "markdown",
   "metadata": {},
   "source": [
    "**7b** Fit a logistic regression model that predicts Direction using Lag1 and Lag2 using all but the first observation."
   ]
  },
  {
   "cell_type": "code",
   "execution_count": 29,
   "metadata": {},
   "outputs": [],
   "source": [
    "train = weekly.iloc[1:]\n",
    "test = weekly.iloc[0]"
   ]
  },
  {
   "cell_type": "code",
   "execution_count": 30,
   "metadata": {},
   "outputs": [
    {
     "data": {
      "text/html": [
       "<table class=\"simpletable\">\n",
       "<caption>Logit Regression Results</caption>\n",
       "<tr>\n",
       "  <th>Dep. Variable:</th>     <td>Direction</td>    <th>  No. Observations:  </th>  <td>  1088</td> \n",
       "</tr>\n",
       "<tr>\n",
       "  <th>Model:</th>               <td>Logit</td>      <th>  Df Residuals:      </th>  <td>  1085</td> \n",
       "</tr>\n",
       "<tr>\n",
       "  <th>Method:</th>               <td>MLE</td>       <th>  Df Model:          </th>  <td>     2</td> \n",
       "</tr>\n",
       "<tr>\n",
       "  <th>Date:</th>          <td>Fri, 04 May 2018</td> <th>  Pseudo R-squ.:     </th> <td>0.005387</td>\n",
       "</tr>\n",
       "<tr>\n",
       "  <th>Time:</th>              <td>13:22:01</td>     <th>  Log-Likelihood:    </th> <td> -743.26</td>\n",
       "</tr>\n",
       "<tr>\n",
       "  <th>converged:</th>           <td>True</td>       <th>  LL-Null:           </th> <td> -747.29</td>\n",
       "</tr>\n",
       "<tr>\n",
       "  <th> </th>                      <td> </td>        <th>  LLR p-value:       </th>  <td>0.01785</td>\n",
       "</tr>\n",
       "</table>\n",
       "<table class=\"simpletable\">\n",
       "<tr>\n",
       "      <td></td>         <th>coef</th>     <th>std err</th>      <th>z</th>      <th>P>|z|</th> <th>[95.0% Conf. Int.]</th> \n",
       "</tr>\n",
       "<tr>\n",
       "  <th>Intercept</th> <td>    0.2232</td> <td>    0.061</td> <td>    3.630</td> <td> 0.000</td> <td>    0.103     0.344</td>\n",
       "</tr>\n",
       "<tr>\n",
       "  <th>Lag1</th>      <td>   -0.0384</td> <td>    0.026</td> <td>   -1.466</td> <td> 0.143</td> <td>   -0.090     0.013</td>\n",
       "</tr>\n",
       "<tr>\n",
       "  <th>Lag2</th>      <td>    0.0608</td> <td>    0.027</td> <td>    2.291</td> <td> 0.022</td> <td>    0.009     0.113</td>\n",
       "</tr>\n",
       "</table>"
      ],
      "text/plain": [
       "<class 'statsmodels.iolib.summary.Summary'>\n",
       "\"\"\"\n",
       "                           Logit Regression Results                           \n",
       "==============================================================================\n",
       "Dep. Variable:              Direction   No. Observations:                 1088\n",
       "Model:                          Logit   Df Residuals:                     1085\n",
       "Method:                           MLE   Df Model:                            2\n",
       "Date:                Fri, 04 May 2018   Pseudo R-squ.:                0.005387\n",
       "Time:                        13:22:01   Log-Likelihood:                -743.26\n",
       "converged:                       True   LL-Null:                       -747.29\n",
       "                                        LLR p-value:                   0.01785\n",
       "==============================================================================\n",
       "                 coef    std err          z      P>|z|      [95.0% Conf. Int.]\n",
       "------------------------------------------------------------------------------\n",
       "Intercept      0.2232      0.061      3.630      0.000         0.103     0.344\n",
       "Lag1          -0.0384      0.026     -1.466      0.143        -0.090     0.013\n",
       "Lag2           0.0608      0.027      2.291      0.022         0.009     0.113\n",
       "==============================================================================\n",
       "\"\"\""
      ]
     },
     "execution_count": 30,
     "metadata": {},
     "output_type": "execute_result"
    }
   ],
   "source": [
    "results = smf.logit(formula='Direction ~ Lag1 + Lag2', data=train).fit(disp=0)\n",
    "results.summary()"
   ]
  },
  {
   "cell_type": "markdown",
   "metadata": {},
   "source": [
    "**7c** Use the model from (b) to predict the direction of the first observation. You can do this by predicting that the first observation will go up if $P(direction = Up|Lag1,Lag2)>0.5$. Was this observation correctly classified?\n",
    "\n",
    "> It was not classified correctly."
   ]
  },
  {
   "cell_type": "code",
   "execution_count": 31,
   "metadata": {},
   "outputs": [
    {
     "data": {
      "text/plain": [
       "0.0"
      ]
     },
     "execution_count": 31,
     "metadata": {},
     "output_type": "execute_result"
    }
   ],
   "source": [
    "test.Direction"
   ]
  },
  {
   "cell_type": "code",
   "execution_count": 32,
   "metadata": {},
   "outputs": [],
   "source": [
    "pred = np.where(results.predict(test) > .5, 1.0, 0.0)"
   ]
  },
  {
   "cell_type": "code",
   "execution_count": 33,
   "metadata": {},
   "outputs": [
    {
     "data": {
      "text/plain": [
       "1.0"
      ]
     },
     "execution_count": 33,
     "metadata": {},
     "output_type": "execute_result"
    }
   ],
   "source": [
    "pred[0]"
   ]
  },
  {
   "cell_type": "markdown",
   "metadata": {},
   "source": [
    "**7d** Write a loop from $i=1$ to $i=n$, where $n$ is the number of observations in the data set, that performs each of the following steps:\n",
    "\n",
    "+ Fit a logistic regression model using all but the ith observation to predict Direction using Lag1 and Lag2.\n",
    "\n",
    "+ Compute the posterior probability of the market moving up for the ith observation.\n",
    "\n",
    "+ Use the posterior probability for the ith observation in order to predict whether or not the market moves up.\n",
    "\n",
    "+ Determine whether or not an error was made in predicting the direction for the ith observation. If an error was made, then indicate this as a 1, and otherwise indicate it as a 0."
   ]
  },
  {
   "cell_type": "code",
   "execution_count": 34,
   "metadata": {},
   "outputs": [],
   "source": [
    "errors = []\n",
    "for i in range(weekly.shape[0]):\n",
    "    loo = [j for j in weekly.index if j != i]\n",
    "    train = weekly.iloc[loo]\n",
    "    test = weekly.iloc[i]\n",
    "    results = smf.logit(formula='Direction ~ Lag1 + Lag2', data=train).fit(disp=0)\n",
    "    pred = np.where(results.predict(test) > .5, 1.0, 0.0)\n",
    "    if pred == test.Direction:\n",
    "        errors.append(0)\n",
    "    else:\n",
    "        errors.append(1)"
   ]
  },
  {
   "cell_type": "code",
   "execution_count": 35,
   "metadata": {},
   "outputs": [
    {
     "data": {
      "text/plain": [
       "0.44995408631772266"
      ]
     },
     "execution_count": 35,
     "metadata": {},
     "output_type": "execute_result"
    }
   ],
   "source": [
    "np.mean(errors)"
   ]
  },
  {
   "cell_type": "markdown",
   "metadata": {},
   "source": [
    "**8** We will now perform cross-validation on a simulated data set.\n",
    "\n",
    "**8a** Generate a simulated data set as follows:"
   ]
  },
  {
   "cell_type": "code",
   "execution_count": 93,
   "metadata": {},
   "outputs": [],
   "source": [
    "np.random.seed(42)\n",
    "x = np.random.normal(size=100)\n",
    "y = x - 2*x**2 + np.random.normal(size=100)"
   ]
  },
  {
   "cell_type": "markdown",
   "metadata": {},
   "source": [
    "In this data set, what is $n$ and what is $p$? Write out the model used to generate the data in equation form.\n",
    "\n",
    ">$n=100$, $p=2$"
   ]
  },
  {
   "cell_type": "markdown",
   "metadata": {},
   "source": [
    "**8b** Create a scatterplot of $X$ against $Y$. Comment on what you find."
   ]
  },
  {
   "cell_type": "code",
   "execution_count": 94,
   "metadata": {},
   "outputs": [
    {
     "data": {
      "image/png": "[encoded data removed]",
      "text/plain": [
       "<matplotlib.figure.Figure at 0x7f26054847f0>"
      ]
     },
     "metadata": {},
     "output_type": "display_data"
    }
   ],
   "source": [
    "plt.scatter(x, y);"
   ]
  },
  {
   "cell_type": "markdown",
   "metadata": {},
   "source": [
    "We can clearly see the quadratic relationship present in the data."
   ]
  },
  {
   "cell_type": "markdown",
   "metadata": {},
   "source": [
    "Set a random seed, and then compute the LOOCV errors that result from fitting the following four models using least squares:\n",
    "    \n",
    "Note you may find it helpful to use the data.frame() function to create a single dataset containing both X and Y ."
   ]
  },
  {
   "cell_type": "code",
   "execution_count": 85,
   "metadata": {},
   "outputs": [
    {
     "data": {
      "text/plain": [
       "(100, 5)"
      ]
     },
     "execution_count": 85,
     "metadata": {},
     "output_type": "execute_result"
    }
   ],
   "source": [
    "df = pd.DataFrame(np.array([x, x ** 2, x ** 3, x ** 4, y]).T, columns=['x', 'x2', 'x3', 'x4', 'y'])\n",
    "df.shape"
   ]
  },
  {
   "cell_type": "code",
   "execution_count": 98,
   "metadata": {},
   "outputs": [],
   "source": [
    "errors = {}\n",
    "for i in range(4):\n",
    "    model_errors = []\n",
    "    form = 'y ~ '\n",
    "    for j in range(0,i+1):\n",
    "        if j == 0:\n",
    "            form += train.columns[j]\n",
    "        else:\n",
    "            form += ' + ' + train.columns[j]\n",
    "    for ite in range(train.shape[0]):\n",
    "        loo = [j for j in df.index if j != i]\n",
    "        train = df.iloc[loo]\n",
    "        test = df.iloc[ite]\n",
    "\n",
    "        results = smf.ols(formula=form, data=train).fit()\n",
    "        model_errors.append((test.y - results.predict(test)))\n",
    "\n",
    "    \n",
    "    errors[df.columns[i]] = np.mean(model_errors)"
   ]
  },
  {
   "cell_type": "markdown",
   "metadata": {},
   "source": [
    "Below are the MSE for each model, it looks like the cubic model performed best."
   ]
  },
  {
   "cell_type": "code",
   "execution_count": 99,
   "metadata": {},
   "outputs": [
    {
     "data": {
      "text/plain": [
       "{'x': 0.033298208034557596,\n",
       " 'x2': 0.016775059294228015,\n",
       " 'x3': -0.008152255197720493,\n",
       " 'x4': -0.01902393816782145}"
      ]
     },
     "execution_count": 99,
     "metadata": {},
     "output_type": "execute_result"
    }
   ],
   "source": [
    "errors"
   ]
  },
  {
   "cell_type": "markdown",
   "metadata": {},
   "source": [
    "**8d** Repeat (c) using another random seed, and report your results. Are your results the same as what you got in (c) ? Why ?"
   ]
  },
  {
   "cell_type": "code",
   "execution_count": 100,
   "metadata": {},
   "outputs": [
    {
     "data": {
      "text/plain": [
       "{'x': 0.033298208034557596,\n",
       " 'x2': 0.016775059294228015,\n",
       " 'x3': -0.008152255197720493,\n",
       " 'x4': -0.01902393816782145}"
      ]
     },
     "execution_count": 100,
     "metadata": {},
     "output_type": "execute_result"
    }
   ],
   "source": [
    "np.random.seed(23) #MJ\n",
    "x = np.random.normal(size=100)\n",
    "y = x - 2*x**2 + np.random.normal(size=100)\n",
    "\n",
    "df = pd.DataFrame(np.array([x, x ** 2, x ** 3, x ** 4, y]).T, columns=['x', 'x2', 'x3', 'x4', 'y'])\n",
    "\n",
    "errors = {}\n",
    "for i in range(4):\n",
    "    model_errors = []\n",
    "    form = 'y ~ '\n",
    "    for j in range(0,i+1):\n",
    "        if j == 0:\n",
    "            form += train.columns[j]\n",
    "        else:\n",
    "            form += ' + ' + train.columns[j]\n",
    "    for ite in range(train.shape[0]):\n",
    "        loo = [j for j in df.index if j != i]\n",
    "        train = df.iloc[loo]\n",
    "        test = df.iloc[ite]\n",
    "\n",
    "        results = smf.ols(formula=form, data=train).fit()\n",
    "        model_errors.append((test.y - results.predict(test)))\n",
    "\n",
    "    \n",
    "    errors[df.columns[i]] = np.mean(model_errors)\n",
    "\n",
    "errors"
   ]
  },
  {
   "cell_type": "markdown",
   "metadata": {},
   "source": [
    "I am getting the same results as the last time, because LOOCV evaluates $n$ folds of a single observation."
   ]
  },
  {
   "cell_type": "markdown",
   "metadata": {},
   "source": [
    "**8e** Which of the models in (c) had the smallest LOOCV error? Is this what you expected? Explain your answer.\n",
    "\n",
    "> I expected the quadratic to recieive the lowest prediction error to come from the quadratic fit, but it was actually the cubic that produced the error rate closest to 0."
   ]
  },
  {
   "cell_type": "code",
   "execution_count": 102,
   "metadata": {},
   "outputs": [
    {
     "name": "stdout",
     "output_type": "stream",
     "text": [
      "y ~ x\n",
      "\n",
      "                            OLS Regression Results                            \n",
      "==============================================================================\n",
      "Dep. Variable:                      y   R-squared:                       0.004\n",
      "Model:                            OLS   Adj. R-squared:                 -0.006\n",
      "Method:                 Least Squares   F-statistic:                    0.3927\n",
      "Date:                Fri, 04 May 2018   Prob (F-statistic):              0.532\n",
      "Time:                        13:55:26   Log-Likelihood:                -245.79\n",
      "No. Observations:                  99   AIC:                             495.6\n",
      "Df Residuals:                      97   BIC:                             500.8\n",
      "Df Model:                           1                                         \n",
      "Covariance Type:            nonrobust                                         \n",
      "==============================================================================\n",
      "                 coef    std err          t      P>|t|      [95.0% Conf. Int.]\n",
      "------------------------------------------------------------------------------\n",
      "Intercept     -1.7965      0.296     -6.072      0.000        -2.384    -1.209\n",
      "x              0.1948      0.311      0.627      0.532        -0.422     0.812\n",
      "==============================================================================\n",
      "Omnibus:                       73.366   Durbin-Watson:                   1.946\n",
      "Prob(Omnibus):                  0.000   Jarque-Bera (JB):              421.256\n",
      "Skew:                          -2.456   Prob(JB):                     3.35e-92\n",
      "Kurtosis:                      11.831   Cond. No.                         1.13\n",
      "==============================================================================\n",
      "\n",
      "Warnings:\n",
      "[1] Standard Errors assume that the covariance matrix of the errors is correctly specified.\n",
      "y ~ x + x2\n",
      "\n",
      "                            OLS Regression Results                            \n",
      "==============================================================================\n",
      "Dep. Variable:                      y   R-squared:                       0.880\n",
      "Model:                            OLS   Adj. R-squared:                  0.877\n",
      "Method:                 Least Squares   F-statistic:                     351.6\n",
      "Date:                Fri, 04 May 2018   Prob (F-statistic):           6.63e-45\n",
      "Time:                        13:55:26   Log-Likelihood:                -141.09\n",
      "No. Observations:                  99   AIC:                             288.2\n",
      "Df Residuals:                      96   BIC:                             296.0\n",
      "Df Model:                           2                                         \n",
      "Covariance Type:            nonrobust                                         \n",
      "==============================================================================\n",
      "                 coef    std err          t      P>|t|      [95.0% Conf. Int.]\n",
      "------------------------------------------------------------------------------\n",
      "Intercept     -0.1303      0.121     -1.077      0.284        -0.370     0.110\n",
      "x              0.9799      0.112      8.712      0.000         0.757     1.203\n",
      "x2            -1.9268      0.073    -26.457      0.000        -2.071    -1.782\n",
      "==============================================================================\n",
      "Omnibus:                        1.247   Durbin-Watson:                   2.259\n",
      "Prob(Omnibus):                  0.536   Jarque-Bera (JB):                1.316\n",
      "Skew:                          -0.214   Prob(JB):                        0.518\n",
      "Kurtosis:                       2.632   Cond. No.                         2.34\n",
      "==============================================================================\n",
      "\n",
      "Warnings:\n",
      "[1] Standard Errors assume that the covariance matrix of the errors is correctly specified.\n",
      "y ~ x + x2 + x3\n",
      "\n",
      "                            OLS Regression Results                            \n",
      "==============================================================================\n",
      "Dep. Variable:                      y   R-squared:                       0.881\n",
      "Model:                            OLS   Adj. R-squared:                  0.877\n",
      "Method:                 Least Squares   F-statistic:                     234.4\n",
      "Date:                Fri, 04 May 2018   Prob (F-statistic):           9.08e-44\n",
      "Time:                        13:55:26   Log-Likelihood:                -140.63\n",
      "No. Observations:                  99   AIC:                             289.3\n",
      "Df Residuals:                      95   BIC:                             299.6\n",
      "Df Model:                           3                                         \n",
      "Covariance Type:            nonrobust                                         \n",
      "==============================================================================\n",
      "                 coef    std err          t      P>|t|      [95.0% Conf. Int.]\n",
      "------------------------------------------------------------------------------\n",
      "Intercept     -0.1569      0.124     -1.262      0.210        -0.404     0.090\n",
      "x              1.0922      0.164      6.655      0.000         0.766     1.418\n",
      "x2            -1.8904      0.083    -22.914      0.000        -2.054    -1.727\n",
      "x3            -0.0391      0.042     -0.940      0.350        -0.122     0.043\n",
      "==============================================================================\n",
      "Omnibus:                        1.296   Durbin-Watson:                   2.258\n",
      "Prob(Omnibus):                  0.523   Jarque-Bera (JB):                1.371\n",
      "Skew:                          -0.231   Prob(JB):                        0.504\n",
      "Kurtosis:                       2.654   Cond. No.                         7.21\n",
      "==============================================================================\n",
      "\n",
      "Warnings:\n",
      "[1] Standard Errors assume that the covariance matrix of the errors is correctly specified.\n",
      "y ~ x + x2 + x3 + x4\n",
      "\n",
      "                            OLS Regression Results                            \n",
      "==============================================================================\n",
      "Dep. Variable:                      y   R-squared:                       0.883\n",
      "Model:                            OLS   Adj. R-squared:                  0.878\n",
      "Method:                 Least Squares   F-statistic:                     177.3\n",
      "Date:                Fri, 04 May 2018   Prob (F-statistic):           6.91e-43\n",
      "Time:                        13:55:26   Log-Likelihood:                -139.80\n",
      "No. Observations:                  99   AIC:                             289.6\n",
      "Df Residuals:                      94   BIC:                             302.6\n",
      "Df Model:                           4                                         \n",
      "Covariance Type:            nonrobust                                         \n",
      "==============================================================================\n",
      "                 coef    std err          t      P>|t|      [95.0% Conf. Int.]\n",
      "------------------------------------------------------------------------------\n",
      "Intercept     -0.0798      0.138     -0.577      0.565        -0.354     0.195\n",
      "x              1.1864      0.180      6.595      0.000         0.829     1.544\n",
      "x2            -2.0697      0.164    -12.595      0.000        -2.396    -1.743\n",
      "x3            -0.0801      0.053     -1.520      0.132        -0.185     0.025\n",
      "x4             0.0319      0.025      1.260      0.211        -0.018     0.082\n",
      "==============================================================================\n",
      "Omnibus:                        0.935   Durbin-Watson:                   2.266\n",
      "Prob(Omnibus):                  0.627   Jarque-Bera (JB):                1.026\n",
      "Skew:                          -0.163   Prob(JB):                        0.599\n",
      "Kurtosis:                       2.622   Cond. No.                         25.2\n",
      "==============================================================================\n",
      "\n",
      "Warnings:\n",
      "[1] Standard Errors assume that the covariance matrix of the errors is correctly specified.\n"
     ]
    }
   ],
   "source": [
    "for i in range(4):\n",
    "    model_errors = []\n",
    "    form = 'y ~ '\n",
    "    for j in range(0,i+1):\n",
    "        if j == 0:\n",
    "            form += train.columns[j]\n",
    "        else:\n",
    "            form += ' + ' + train.columns[j]\n",
    "    results = smf.ols(formula=form, data=train).fit()\n",
    "    print(form)\n",
    "    print('')\n",
    "    print(results.summary())"
   ]
  },
  {
   "cell_type": "markdown",
   "metadata": {},
   "source": [
    "**8f** Comment on the statistical significance of the coefficient estimates that results from fitting each of the models in (c) using least squares. Do these results agree with the conclusions drawn based on the cross-validation results?\n",
    "\n",
    "The linear and quadratic term gain significance in each model, and all four polynomial models perform very similarly."
   ]
  },
  {
   "cell_type": "markdown",
   "metadata": {},
   "source": [
    "**9** We will now consider the Boston housing data set.\n",
    "\n",
    "**9a** Based on this data set, provide an estimate for the population mean of medv. Call this estimate $\\hat{\\mu}$.\n",
    "\n",
    "> 22.532"
   ]
  },
  {
   "cell_type": "code",
   "execution_count": 103,
   "metadata": {},
   "outputs": [],
   "source": [
    "boston = pd.read_csv('data/boston.csv')"
   ]
  },
  {
   "cell_type": "code",
   "execution_count": 104,
   "metadata": {},
   "outputs": [
    {
     "data": {
      "text/plain": [
       "22.532806324110698"
      ]
     },
     "execution_count": 104,
     "metadata": {},
     "output_type": "execute_result"
    }
   ],
   "source": [
    "boston['medv'].mean()"
   ]
  },
  {
   "cell_type": "markdown",
   "metadata": {},
   "source": [
    "**9b** Provide an estimate of the standard error of $\\hat{\\mu}$."
   ]
  },
  {
   "cell_type": "code",
   "execution_count": 106,
   "metadata": {},
   "outputs": [
    {
     "data": {
      "text/plain": [
       "0.4088611474975351"
      ]
     },
     "execution_count": 106,
     "metadata": {},
     "output_type": "execute_result"
    }
   ],
   "source": [
    "boston['medv'].std() / np.sqrt(boston.shape[0])"
   ]
  },
  {
   "cell_type": "markdown",
   "metadata": {},
   "source": [
    "**9c** Now estimate the standard error of $\\hat{\\mu}$ using the bootstrap. How does this compare to your answer from (b)?\n",
    "\n",
    "> This is extremely close to the value we got in part b."
   ]
  },
  {
   "cell_type": "code",
   "execution_count": 108,
   "metadata": {},
   "outputs": [
    {
     "data": {
      "text/plain": [
       "0.40886002940119864"
      ]
     },
     "execution_count": 108,
     "metadata": {},
     "output_type": "execute_result"
    }
   ],
   "source": [
    "sample_means = [boston['medv'].sample(n=len(boston), replace=True).mean() for i in range(10000)]\n",
    "np.std(sample_means)"
   ]
  },
  {
   "cell_type": "markdown",
   "metadata": {},
   "source": [
    "**9d** Based on your bootstrap estimate from (c), provide a 95% confidence interval for the mean of medv. Compare it to the results obtained using `st.t.interval()`.\n",
    "\n",
    "> Again, the two values are very close."
   ]
  },
  {
   "cell_type": "code",
   "execution_count": 111,
   "metadata": {},
   "outputs": [
    {
     "data": {
      "text/plain": [
       "(21.72089832064425, 23.356338438249043)"
      ]
     },
     "execution_count": 111,
     "metadata": {},
     "output_type": "execute_result"
    }
   ],
   "source": [
    "boot_se = np.std(sample_means)\n",
    "np.mean(sample_means) - 2 * boot_se, np.mean(sample_means) + 2 * boot_se"
   ]
  },
  {
   "cell_type": "code",
   "execution_count": 114,
   "metadata": {},
   "outputs": [
    {
     "data": {
      "text/plain": [
       "(21.729528014578616, 23.33608463364278)"
      ]
     },
     "execution_count": 114,
     "metadata": {},
     "output_type": "execute_result"
    }
   ],
   "source": [
    "st.t.interval(0.95, boston.shape[0]-1, loc=boston['medv'].mean(), scale=st.sem(boston['medv']))"
   ]
  },
  {
   "cell_type": "markdown",
   "metadata": {},
   "source": [
    "**9e** Based on this data set, provide an estimate, $\\hat{\\mu_{\\text{med}}}$, for the median value of medv in the population.\n",
    "\n",
    "> 21.2"
   ]
  },
  {
   "cell_type": "code",
   "execution_count": 115,
   "metadata": {},
   "outputs": [
    {
     "data": {
      "text/plain": [
       "21.2"
      ]
     },
     "execution_count": 115,
     "metadata": {},
     "output_type": "execute_result"
    }
   ],
   "source": [
    "boston['medv'].median()"
   ]
  },
  {
   "cell_type": "markdown",
   "metadata": {},
   "source": [
    "We now would like to estimate the standard error of $\\hat{\\mu_{\\text{med}}}$. Unfortunately, there is no simple formula for computing the standard error of the median. Instead, estimate the standard error of the median using the bootstrap. Comment on your findings.\n",
    "\n",
    "> We get an estimated median almost equal to the value obtained in (e), with a standard error of 0.38777."
   ]
  },
  {
   "cell_type": "code",
   "execution_count": 118,
   "metadata": {},
   "outputs": [
    {
     "name": "stdout",
     "output_type": "stream",
     "text": [
      "21.182660000000002 0.3777874063544201\n"
     ]
    }
   ],
   "source": [
    "sample_medians = [boston['medv'].sample(n = boston.shape[0], replace=True).median() for i in range(10000)]\n",
    "print(np.mean(sample_medians), np.std(sample_medians))"
   ]
  },
  {
   "cell_type": "markdown",
   "metadata": {},
   "source": [
    "**9g** Based on this data set, provide an estimate for the tenth percentile of medv in Boston suburbs. Call this quantity $\\hat{\\mu_{0.1}}$."
   ]
  },
  {
   "cell_type": "code",
   "execution_count": 119,
   "metadata": {},
   "outputs": [
    {
     "data": {
      "text/plain": [
       "12.75"
      ]
     },
     "execution_count": 119,
     "metadata": {},
     "output_type": "execute_result"
    }
   ],
   "source": [
    "boston['medv'].quantile(.1)"
   ]
  },
  {
   "cell_type": "markdown",
   "metadata": {},
   "source": [
    "**9h** Use the bootstrap to estimate the standard error of $\\hat{\\mu_{0.1}}$. Comment on your findings.\n",
    "\n",
    "> Our estiamted 10th quantile value is 12.75105, which is essntially equal to the sample value, with a standard error of 0.5081."
   ]
  },
  {
   "cell_type": "code",
   "execution_count": 120,
   "metadata": {},
   "outputs": [
    {
     "name": "stdout",
     "output_type": "stream",
     "text": [
      "12.75105 0.50814062768096\n"
     ]
    }
   ],
   "source": [
    "sample_quant_10 = [boston['medv'].sample(n = boston.shape[0], replace=True).quantile(.1) for i in range(10000)]\n",
    "print(np.mean(sample_quant_10), np.std(sample_quant_10))"
   ]
  },
  {
   "cell_type": "code",
   "execution_count": null,
   "metadata": {},
   "outputs": [],
   "source": []
  }
 ],
 "metadata": {
  "anaconda-cloud": {},
  "kernelspec": {
   "display_name": "Python 3",
   "language": "python",
   "name": "python3"
  },
  "language_info": {
   "codemirror_mode": {
    "name": "ipython",
    "version": 3
   },
   "file_extension": ".py",
   "mimetype": "text/x-python",
   "name": "python",
   "nbconvert_exporter": "python",
   "pygments_lexer": "ipython3",
   "version": "3.5.4"
  }
 },
 "nbformat": 4,
 "nbformat_minor": 1
}
