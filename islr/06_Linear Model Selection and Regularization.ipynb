{
 "cells": [
  {
   "cell_type": "code",
   "execution_count": 149,
   "metadata": {},
   "outputs": [],
   "source": [
    "import numpy as np\n",
    "import matplotlib.pyplot as plt\n",
    "import pandas as pd\n",
    "from itertools import combinations\n",
    "\n",
    "import statsmodels.api as sm\n",
    "\n",
    "from sklearn.preprocessing import PolynomialFeatures, StandardScaler\n",
    "from sklearn.pipeline import Pipeline\n",
    "\n",
    "from sklearn.model_selection import train_test_split, cross_val_score\n",
    "\n",
    "from sklearn.linear_model import Lasso, LassoCV, LinearRegression, RidgeCV\n",
    "\n",
    "from sklearn.decomposition import PCA\n",
    "from sklearn.cross_decomposition import PLSRegression\n",
    "\n",
    "from sklearn.metrics import mean_squared_error\n",
    "\n",
    "%matplotlib inline"
   ]
  },
  {
   "cell_type": "markdown",
   "metadata": {},
   "source": [
    "## Chapter 6 Linear Model Selection and Regularization"
   ]
  },
  {
   "cell_type": "markdown",
   "metadata": {},
   "source": [
    "## Exercises\n",
    "### Conceptual\n",
    "\n",
    "**1** We perform best subset, forward stepwise, and backward stepwise selection on a single data set. For each approach, we obtain $p+1$ models containing $0,1,2, \\dots ,p$ predictors. Explain your answers:\n",
    "\n",
    "**1a** Which of the three models with $k$ predictors has the smallest training RSS?\n",
    "\n",
    "> The model with $k$ predictors with the smallest training RSS will be the one obtained from best subset selection because it is selected amongfrom all models with $k$ predictors.\n",
    "\n",
    "**1b** Which of the three models with $k$ predictors has the smallest test RSS?\n",
    "\n",
    "> This is impossible to answer.\n",
    "\n",
    "**1c** True or False:\n",
    "\n",
    "**i** The predictors in the $k$-variable model identified by forward stepwise are a subset of the predictors in the $(k+1)$-variable model identified by forward stepwise selection.\n",
    "\n",
    "> True\n",
    "\n",
    "**ii**The predictors in the $k$-variable model identified by backward stepwise are a subset of the predictors in the $(k+1)$-variable model identified by backward stepwise selection.\n",
    "\n",
    "> True\n",
    "\n",
    "**iii** The predictors in the $k$-variable model identified by backward stepwise are a subset of the predictors in the $(k+1)$-variable model identified by forward stepwise selection.\n",
    "\n",
    "> False\n",
    "\n",
    "**iv** The predictors in the $k$-variable model identified by forward stepwise are a subset of the predictors in the $(k+1)$-variable model identified by backward stepwise selection.\n",
    "\n",
    "> False\n",
    "\n",
    "**v** The predictors in the k-variable model identified by best subset are a subset of the predictors in the $(k+1)$-variable model identified by best subset selection.\n",
    "\n",
    "> False"
   ]
  },
  {
   "cell_type": "markdown",
   "metadata": {},
   "source": [
    "**2** For parts (a) through (c), indicate which of i. through iv. is correct. Justify your answer.\n",
    "\n",
    "**2a** The lasso, relative to least squares, is:\n",
    "+ *i* More flexible and hence will give improved prediction accuracy when its increase in bias is less than its decrease in variance.\n",
    "+ *ii* More flexible and hence will give improved prediction accuracy when its increase in variance is less than its decrease in bias.\n",
    "\n",
    "+ *iii* Less flexible and hence will give improved prediction accuracy when its increase in bias is less than its decrease in variance.\n",
    "\n",
    "+ *iv* Less flexible and hence will give improved prediction accuracy when its increase in variance is less than its decrease in bias.\n",
    "\n",
    "> iii, the lasso is less flexible;\n",
    "\n",
    "**2b** Repeat (a) for ridge regression relative to least squares.\n",
    "\n",
    "> iii, ridge regression is also less flexible;\n",
    "\n",
    "**2c** Repeat (a) for non-linear methods relative to least squares.\n",
    "\n",
    "> ii, non-linear method are more flexible;"
   ]
  },
  {
   "cell_type": "markdown",
   "metadata": {},
   "source": [
    "**3** Suppose we estimate the regression coefficients in a linear regression model by minimizing;\n",
    "\n",
    "$$ \\sum_{i=1}^n(y_i - \\beta_0 - \\sum_{j=1}^p \\beta_jx_ij)^2 \\text{ subject to } \\sum_{j=1}^p |\\beta_j| <= s$$\n",
    "\n",
    "for a particular value of $s$. \n",
    "\n",
    "For parts (a) through (e), indicate which of i. through v. is correct. Justify your answer.\n",
    "\n",
    "**3a** As we increase s from 0, the training RSS will:\n",
    "\n",
    "+ *i* Increase initially, and then eventually start decreasing in an inverted U shape.\n",
    "\n",
    "+ *ii* Decrease initially, and then eventually start increasing in a U shape.\n",
    "\n",
    "+ *iii* Steadily increase.\n",
    "\n",
    "+ *iv* Steadily decrease.\n",
    "\n",
    "+ *v* Remain constant.\n",
    "\n",
    "> iv, as we increase $s$, we put less restriction on $\\beta_j$, resulting in the betas approaching their least squares estimates and descreasing the training RSS.\n",
    "\n",
    "**3b** Repeat (a) for test RSS.\n",
    "\n",
    "> ii, As we approach the least square estimate for the beta, the test RSS will decrease, but as the model becomes more flexible, this would lead to overfitting and a subsequent increase in the test RSS.\n",
    "\n",
    "**3c** Repeat (a) for variance.\n",
    "\n",
    "> iii, with $s=0$ the model predicts a constant, so natually as we stop predicting simply a constant, the variance increases.\n",
    "\n",
    "**3d** Repeat (a) for (squared) bias.\n",
    "\n",
    "> iv, this has essentially the opposite effect when compared to variance (obviously).\n",
    "\n",
    "**3e** Repeat (a) for the irreducible error.\n",
    "\n",
    "> v, remain constant, we can't do anything to change this value."
   ]
  },
  {
   "cell_type": "markdown",
   "metadata": {},
   "source": [
    "**4** Suppose we estimate the regression coefficients in a linear regression model by minimizing;\n",
    "\n",
    "$$ \\sum_{i=1}^n(y_i - \\beta_0 - \\sum_{j=1}^p \\beta_jx_ij)^2 + \\lambda\\sum_{j=1}^p\\beta_j^2$$\n",
    "\n",
    "\n",
    "for a particular value of $\\lambda$. \n",
    "\n",
    "For parts (a) through (e), indicate which of i. through v. is correct. Justify your answer.\n",
    "\n",
    "**4a** As we increase $\\lambda$ from 0, the training RSS will:\n",
    "\n",
    "+ *i* Increase initially, and then eventually start decreasing in an inverted U shape.\n",
    "\n",
    "+ *ii* Decrease initially, and then eventually start increasing in a U shape.\n",
    "\n",
    "+ *iii* Steadily increase.\n",
    "\n",
    "+ *iv* Steadily decrease.\n",
    "\n",
    "+ *v* Remain constant.\n",
    "\n",
    "> iii, as $\\lambda$ increases we are decreasing the betas from their least squares estimate, thus increasing the training RSS.\n",
    "\n",
    "**4b** Repeat (a) for test RSS.\n",
    "\n",
    "> ii, initially the betas are trying to closely fit the training data, so the test RSS would decrease, but eventually the model becomes too simple and the test RSS starts increasing again.\n",
    "\n",
    "**4c** Repeat (a) for variance.\n",
    "\n",
    "> iv, as the model becomes less flexible the variance continually decreases\n",
    "\n",
    "**4d** Repeat (a) for (squared) bias.\n",
    "\n",
    "> iii, as the model becomes much simpler (betas approach 0) the bias increases\n",
    "\n",
    "**4e** Repeat (a) for the irreducible error.\n",
    "\n",
    "> v, remain constant, we can't do anything to change this value."
   ]
  },
  {
   "cell_type": "markdown",
   "metadata": {},
   "source": [
    "**5** It is well-known that ridge regression tends to give similar coefficient values to correlated variables, whereas the lasso may give different coefficient values to correlated variables. We will now explore this property in a very simple setting.\n",
    "\n",
    "Suppose that $n=2$, $p=2$, $x_{11}=x_{12}$, $x_{21}=x_{22}$. Furthermore, suppose that $y_1+y_2=0$ and $x_{11}+x_{21}=0$ and $x_{12}+x_{22}=0$, so that the estimate for the intercept in a least squares, ridge regression, or lasso model is zero: $\\beta_0=0$.\n",
    "\n",
    "**5a** Write out the ridge regression optimization problem in this setting;\n",
    "\n",
    "> Sub $\\hat{\\beta_0}=0$ and $n=p=2$ in to the general ridge regression optimization form; \n",
    "$$(y_1 - \\hat{\\beta_1}x_{11}-\\hat{\\beta_2}x_{12})^2 + (y_1 - \\hat{\\beta_1}x_{21}-\\hat{\\beta_2}x_{22})^2 + \\lambda(\\hat{\\beta_1}^2 + \\hat{\\beta_2}^2)$$\n",
    "with $x_{11}=x_{12}$, $x_{21}=x_{22}$, we can say $x_{11}=x_{12}=x_1$, $x_{21}=x_{22}=x_2$ and then we have;\n",
    "$$(y_1 - \\hat{\\beta_1}x_{1}-\\hat{\\beta_2}x_{1})^2 + (y_1 - \\hat{\\beta_1}x_{2}-\\hat{\\beta_2}x_{2})^2 + \\lambda(\\hat{\\beta_1}^2 + \\hat{\\beta_2}^2)$$\n",
    "\n",
    "**5b** Argue that in this setting, the ridge coefficient estimates satisfy $\\hat{\\beta_1} = \\hat{\\beta_2}$.\n",
    "\n",
    "> To find $\\hat{\\beta_1}$ and $\\hat{\\beta_2}$, we take the derivative of the equations above with respect to each and set them  equal to zero;\n",
    "We end up with $\\hat{\\beta_1} = \\frac{x_1y_1+x_2y_2-\\hat{\\beta_2}(x_1^2+x_2^2)}{\\lambda+x_1^2+x_2^2}$ and $\\hat{\\beta_2} = \\frac{x_1y_1+x_2y_2-\\hat{\\beta_1}(x_1^2+x_2^2)}{\\lambda+x_1^2+x_2^2}$, we can see these equations are symmetric and that $\\hat{\\beta_1} = \\hat{\\beta_2}$.\n",
    "\n",
    "**5c** Write out the lasso optimization problem in this setting.\n",
    "\n",
    "> Sub $\\hat{\\beta_0}=0$ and $n=p=2$ in to the general lasso optimization form; \n",
    "$$(y_1-\\hat{\\beta_1}x_{11} - \\hat{\\beta_2}x_{12})^2 + (y_2-\\hat{\\beta_1}x_{21} - \\hat{\\beta_2}x_{22})^2 + \\lambda(|\\hat{\\beta_1}| + |\\hat{\\beta_2}|)$$\n",
    "or;\n",
    "$$(y_1-\\hat{\\beta_1}x_{1} - \\hat{\\beta_2}x_{1})^2 + (y_2-\\hat{\\beta_1}x_{2} - \\hat{\\beta_2}x_{2})^2 + \\lambda(|\\hat{\\beta_1}| + |\\hat{\\beta_2}|)$$\n",
    "\n",
    "**5d** Argue that in this setting, the lasso coefficients $\\hat{\\beta_1}$ and $\\hat{\\beta_2}$ are not unique; in other words, there are many possible solutions to the optimization problem in (c). Describe these solutions.\n",
    "\n",
    "> We can use the alternative form of the lasso with constrain $|\\hat{\\beta_1}| + |\\hat{\\beta_2}| < s$, this results in a diamond shape and using the provided information we can simplify our equation to $(y_1-(\\hat{\\beta_1}+\\hat{\\beta_2})x_1)^2>=0$, which yields a solution of $\\hat{\\beta_1} + \\hat{\\beta_2} = \\frac{y_1}{x_1}$. This means the edges $\\hat{\\beta_1} + \\hat{\\beta_2} = s$ and $\\hat{\\beta_1} + \\hat{\\beta_2} = -s$ are solutions."
   ]
  },
  {
   "cell_type": "markdown",
   "metadata": {},
   "source": [
    "**6** We will now explore (6.12) and (6.13) further.\n",
    "\n",
    "**6a** Consider (6.12) with $p=1$. For some choice of $y_1$ and $\\lambda>0$, plot (6.12) as a function of $\\beta_1$. Your plot should confirm that (6.12) is solved by (6.14);"
   ]
  },
  {
   "cell_type": "code",
   "execution_count": 2,
   "metadata": {},
   "outputs": [
    {
     "data": {
      "image/png": "[encoded data removed]",
      "text/plain": [
       "<matplotlib.figure.Figure at 0x7f2225152470>"
      ]
     },
     "metadata": {},
     "output_type": "display_data"
    }
   ],
   "source": [
    "beta = np.linspace(-10, 10, 1000)\n",
    "y = 7\n",
    "lamb = 2\n",
    "ridge = (y - beta)**2 + lamb * beta**2\n",
    "sol = y/(1+lamb)\n",
    "sol_val = (y - sol)**2 + lamb * sol**2\n",
    "plt.plot(beta, ridge)\n",
    "plt.scatter(sol, sol_val, c='r')\n",
    "plt.xlabel('ridge optimization')\n",
    "plt.ylabel('beta');"
   ]
  },
  {
   "cell_type": "markdown",
   "metadata": {},
   "source": [
    "The red dot shows the calculated minimum point using 6.14, let's confirm it;"
   ]
  },
  {
   "cell_type": "code",
   "execution_count": 3,
   "metadata": {},
   "outputs": [
    {
     "name": "stdout",
     "output_type": "stream",
     "text": [
      "2.3333333333333335 2.3323323323323315\n"
     ]
    }
   ],
   "source": [
    "print(sol, beta[np.argmin(ridge)])"
   ]
  },
  {
   "cell_type": "markdown",
   "metadata": {},
   "source": [
    "**6b** Consider (6.13) with $p=1$. For some choice of $y_1$ and $\\lambda>0$, plot (6.13) as a function of $\\beta_1$. Your plot should confirm that (6.13) is solved by (6.15)."
   ]
  },
  {
   "cell_type": "code",
   "execution_count": 4,
   "metadata": {},
   "outputs": [
    {
     "data": {
      "image/png": "[encoded data removed]",
      "text/plain": [
       "<matplotlib.figure.Figure at 0x7f222516c9b0>"
      ]
     },
     "metadata": {},
     "output_type": "display_data"
    }
   ],
   "source": [
    "beta = np.linspace(-10, 10, 1000)\n",
    "y = 7\n",
    "lam = 2\n",
    "lasso = (y - beta)**2 + lam * abs(beta)\n",
    "sol = y - lam / 2\n",
    "sol_val = (y - sol)**2 + lam * abs(sol)\n",
    "plt.plot(beta, lasso)\n",
    "plt.scatter(sol, sol_val, c='r')\n",
    "plt.xlabel('lasso optimization')\n",
    "plt.ylabel('beta');"
   ]
  },
  {
   "cell_type": "markdown",
   "metadata": {},
   "source": [
    "The red dot shows the calculated minimum point using 6.15, let's confirm it;"
   ]
  },
  {
   "cell_type": "code",
   "execution_count": 5,
   "metadata": {},
   "outputs": [
    {
     "name": "stdout",
     "output_type": "stream",
     "text": [
      "6.0 5.995995995995996\n"
     ]
    }
   ],
   "source": [
    "print(sol, beta[np.argmin(lasso)])"
   ]
  },
  {
   "cell_type": "markdown",
   "metadata": {},
   "source": [
    "**7** We will now derive the Bayesian connection to the lasso and ridge regression discussed in Section 6.2.2.\n",
    "\n",
    "**7a** Suppose that $y_i = \\beta_0 + \\sum_{j=1}^px_{ij}\\beta_j+\\epsilon_i$ where $\\epsilon_1, \\dots,\\epsilon_n$ are independent\n",
    "and identically distributed from a N(0, σ2) distribution. Write out the likelihood for the data.\n",
    "\n",
    "> I'm not sure how to use the multiplication summation in Latex, but eventually we end up with $$L(\\theta|\\beta) = (\\frac{1}{\\sigma\\sqrt{2\\pi}})^n exp[-\\frac{1}{2\\sigma^2}\\sum_{i=1}^2(Y_i - (\\beta_0+\\sum_{j=1}^p\\beta_jX_{ij}))^2]$$\n",
    "\n",
    "\n",
    "**7b** Assume the following prior for $\\beta: \\beta_1 \\dots \\beta_p$ are independent and identically distributed according to a double-exponential distribution with mean 0 and common scale parameter $b$: i.e. $p(\\beta)=\\frac{1}{2b}exp(-\\frac{|\\beta|}{b})$ Write out the posterior for $\\beta$ in this setting.\n",
    "\n",
    "> This and the rest of this problem ended up being too much Latex for me, so I'm leaving it on my scrap paper. It is also one of the more challenging problems in the book so far!\n",
    "\n",
    "**7c** Argue that the lasso estimate is the mode for β under this posterior distribution.\n",
    "\n",
    "> Working through this, with some help, we want to take the posterior and work it through to the Lasso Equation, once this is done we will have shown that the posterior comes from a Laplace distribution.\n",
    "\n",
    "**7d** Now assume the following prior for β: β1, . . . , βp are independent and identically distributed according to a normal distribution with mean zero and variance c. Write out the posterior for β in this setting.\n",
    "\n",
    "> Left on notes.\n",
    "\n",
    "**7e** Argue that the ridge regression estimate is both the mode and the mean for β under this posterior distribution.\n",
    "\n",
    "> Left on notes."
   ]
  },
  {
   "cell_type": "markdown",
   "metadata": {},
   "source": [
    "### Applied\n",
    "\n",
    "**8** In this exercise, we will generate simulated data, and will then use this data to perform best subset selection.\n",
    "\n",
    "**8a** Use the rnorm() function to generate a predictor $X$ of length $n=100$, as well as a noise vector $\\epsilon$ of length $n=100$."
   ]
  },
  {
   "cell_type": "code",
   "execution_count": 6,
   "metadata": {},
   "outputs": [],
   "source": [
    "random_seed = 42\n",
    "X = np.random.normal(size=100)\n",
    "eps = np.random.normal(size=100)"
   ]
  },
  {
   "cell_type": "markdown",
   "metadata": {},
   "source": [
    "**8b** Generate a response vector $Y$ of length $n=100$ according to the model\n",
    "\n",
    "$$Y=\\beta_0+\\beta_1X+\\beta_2X^2+\\beta_3X^3+\\epsilon$$\n",
    "\n",
    "where $\\beta_0$, $\\beta_1$, $\\beta_2$ and $\\beta_3$ are constants of your choice."
   ]
  },
  {
   "cell_type": "code",
   "execution_count": 7,
   "metadata": {},
   "outputs": [],
   "source": [
    "b0 = 3\n",
    "b1 = 2\n",
    "b2 = -3\n",
    "b3 = 0.3\n",
    "Y = b0 + b1*X + b2*X**2 + b3*X**3 + eps"
   ]
  },
  {
   "cell_type": "markdown",
   "metadata": {
    "collapsed": true
   },
   "source": [
    "**8c** Use the regsubsets() function to perform best subset selection in order to choose the best model containing the predictors X,X2,⋯,X10. What is the best model obtained according to Cp, BIC, and adjusted R2? Show some plots to provide evidence for your answer, and report the coefficients of the best model obtained. Note you will need to use the data.frame() function to create a single data set containing both X and Y.\n",
    "\n",
    "> Built best subset, forward and backard below. Scroll past graphs for the results of each stepwise feature selection."
   ]
  },
  {
   "cell_type": "code",
   "execution_count": 8,
   "metadata": {},
   "outputs": [],
   "source": [
    "df = pd.DataFrame({'X1': X, 'X2': X ** 2, 'X3': X**3, 'X4': X**4,'X5': X**5,\n",
    "                   'X6': X**6,'X7': X**7,'X8': X**8,'X9': X**9,'X910': X**10,\n",
    "                   'Y':Y}) #evaluation below kept seeing X10 as the second value"
   ]
  },
  {
   "cell_type": "code",
   "execution_count": 19,
   "metadata": {},
   "outputs": [],
   "source": [
    "X = df.iloc[:, :-1]\n",
    "y = df.Y"
   ]
  },
  {
   "cell_type": "code",
   "execution_count": 9,
   "metadata": {},
   "outputs": [],
   "source": [
    "def fit_model(X, y):\n",
    "    '''fits a model using OLS\n",
    "    returns a dict with model, RSS score\n",
    "    and subset of predictors used'''\n",
    "    subset = (list(X.columns[1:]))\n",
    "    result = sm.OLS(y,X).fit()\n",
    "    \n",
    "    RSS = ((result.predict(X)-y) ** 2).sum()\n",
    "    \n",
    "    return {\"subset\": subset, \"model\":result, \"RSS\":RSS, 'adjusted_r2':result.rsquared_adj}"
   ]
  },
  {
   "cell_type": "code",
   "execution_count": 10,
   "metadata": {},
   "outputs": [],
   "source": [
    "def best_subsets(X,y):\n",
    "    '''Returns a df of the best model\n",
    "    for each subset size'''\n",
    "    results = []\n",
    "    for k in range(1,len(X.columns)+1):\n",
    "        results.append(best_subset_k(X, y, k))\n",
    "    \n",
    "    models = pd.DataFrame(results)\n",
    "    models.reset_index(inplace=True, drop=True)\n",
    "    return models"
   ]
  },
  {
   "cell_type": "code",
   "execution_count": 11,
   "metadata": {},
   "outputs": [],
   "source": [
    "def best_subset_k(X, y, k):\n",
    "    '''returns the best model with k predictors'''\n",
    "    results = []\n",
    "    for combo in combinations(X.columns, k):\n",
    "        features = [val for val in combo]\n",
    "\n",
    "        X_sub = X[features]\n",
    "        X_sub = sm.add_constant(X_sub)\n",
    "    \n",
    "        results.append(fit_model(X_sub,y))\n",
    "    \n",
    "    models = pd.DataFrame(results)\n",
    "    \n",
    "    best_model = models.loc[models['adjusted_r2'].argmax()]\n",
    "    \n",
    "    return best_model"
   ]
  },
  {
   "cell_type": "code",
   "execution_count": 12,
   "metadata": {},
   "outputs": [],
   "source": [
    "def forward(X, y, score = 'Adjusted_R2'):\n",
    "    \n",
    "    best_model = best_subset_k(X, y, 1)\n",
    "    predictors = best_model.subset\n",
    "\n",
    "    if score == 'AIC':\n",
    "        best_ts = best_model['model'].aic\n",
    " \n",
    "    elif score == 'BIC':\n",
    "        best_ts = best_model['model'].bic\n",
    "\n",
    "    else:\n",
    "        best_ts = best_model['model'].rsquared_adj\n",
    "            \n",
    "    results = []\n",
    "    \n",
    "    for k in range(2,len(X.columns)):\n",
    "        remaining_predictors = [p for p in X.columns if p not in predictors]\n",
    "        for combo in combinations(remaining_predictors, k-1):\n",
    "            features = [val for val in combo]\n",
    "            features = predictors + features\n",
    "            X_sub = X[features]\n",
    "            \n",
    "            X_sub = sm.add_constant(X_sub)\n",
    "            \n",
    "            results.append(fit_model(X_sub,y))\n",
    "            \n",
    "            models = pd.DataFrame(results)\n",
    "    \n",
    "        curr_best_model = models.loc[models['adjusted_r2'].argmax()]\n",
    "        \n",
    "        if score == 'AIC':\n",
    "            test_stat = curr_best_model['model'].aic\n",
    " \n",
    "        elif score == 'BIC':\n",
    "            test_stat = curr_best_model['model'].bic\n",
    "\n",
    "        else:\n",
    "            test_stat = curr_best_model['model'].rsquared_adj\n",
    "                \n",
    "        if score != 'Adjusted_R2':\n",
    "            if test_stat < best_ts:\n",
    "                predictors = remaining_predictors\n",
    "                best_model = curr_best_model\n",
    "                lowest_ts = test_stat\n",
    "        else:\n",
    "            if test_stat > best_ts:\n",
    "\n",
    "                predictors = remaining_predictors\n",
    "                best_model = curr_best_model\n",
    "                lowest_ts = test_stat\n",
    "                \n",
    "    return best_model"
   ]
  },
  {
   "cell_type": "code",
   "execution_count": 13,
   "metadata": {},
   "outputs": [],
   "source": [
    "def backward(X, y, score = 'Adjusted_R2'):\n",
    "    best_model = fit_model(X, y)\n",
    "    predictors = best_model['subset']\n",
    "    \n",
    "    if score == 'AIC':\n",
    "        best_ts = best_model['model'].aic\n",
    " \n",
    "    elif score == 'BIC':\n",
    "        best_ts = best_model['model'].bic\n",
    "\n",
    "    else:\n",
    "        best_ts = best_model['model'].rsquared_adj\n",
    "    \n",
    "    results = []\n",
    "\n",
    "    best = False\n",
    "\n",
    "    while best == False:\n",
    "        \n",
    "        start_ts = best_ts\n",
    "\n",
    "        for p in predictors:\n",
    "            \n",
    "            remaining_predictors = [px for px in predictors if px != p]\n",
    "\n",
    "            X_sub = X[remaining_predictors]\n",
    "            \n",
    "            X_sub = sm.add_constant(X_sub)\n",
    "\n",
    "            curr_model = fit_model(X_sub,y)\n",
    "            \n",
    "            if score == 'AIC':\n",
    "                test_stat = curr_model['model'].aic\n",
    " \n",
    "            elif score == 'BIC':\n",
    "                test_stat = curr_model['model'].bic\n",
    "\n",
    "            else:\n",
    "                test_stat = curr_model['model'].rsquared_adj\n",
    "            \n",
    "            if score != 'Adjusted_R2':\n",
    "                if test_stat < best_ts:\n",
    "\n",
    "                    predictors = remaining_predictors\n",
    "                    best_model = curr_model\n",
    "                    lowest_ts = test_stat\n",
    "            else:\n",
    "                if test_stat > best_ts:\n",
    "\n",
    "                    predictors = remaining_predictors\n",
    "                    best_model = curr_model\n",
    "                    lowest_ts = test_stat\n",
    "                \n",
    "        if best_ts == start_ts:\n",
    "            best = True\n",
    "    \n",
    "    return pd.Series(best_model)"
   ]
  },
  {
   "cell_type": "code",
   "execution_count": 14,
   "metadata": {},
   "outputs": [],
   "source": [
    "def best_model(X, y, alg='best', score='Adjusted_R2'):\n",
    "    if alg =='forward':\n",
    "        return forward(X, y, score)\n",
    "    if alg == 'backward':\n",
    "        return backward(X, y, score)\n",
    "    \n",
    "    models = best_subsets(X,y)\n",
    "    return models.loc[models['adjusted_r2'].argmax()]"
   ]
  },
  {
   "cell_type": "code",
   "execution_count": 22,
   "metadata": {},
   "outputs": [],
   "source": [
    "models = best_subsets(X,y)"
   ]
  },
  {
   "cell_type": "code",
   "execution_count": 23,
   "metadata": {},
   "outputs": [
    {
     "data": {
      "text/html": [
       "<div>\n",
       "<table border=\"1\" class=\"dataframe\">\n",
       "  <thead>\n",
       "    <tr style=\"text-align: right;\">\n",
       "      <th></th>\n",
       "      <th>RSS</th>\n",
       "      <th>adjusted_r2</th>\n",
       "      <th>model</th>\n",
       "      <th>subset</th>\n",
       "    </tr>\n",
       "  </thead>\n",
       "  <tbody>\n",
       "    <tr>\n",
       "      <th>0</th>\n",
       "      <td>745.423309</td>\n",
       "      <td>0.487948</td>\n",
       "      <td>&lt;statsmodels.regression.linear_model.Regressio...</td>\n",
       "      <td>[X2]</td>\n",
       "    </tr>\n",
       "    <tr>\n",
       "      <th>1</th>\n",
       "      <td>137.519334</td>\n",
       "      <td>0.904560</td>\n",
       "      <td>&lt;statsmodels.regression.linear_model.Regressio...</td>\n",
       "      <td>[X1, X2]</td>\n",
       "    </tr>\n",
       "    <tr>\n",
       "      <th>2</th>\n",
       "      <td>99.271513</td>\n",
       "      <td>0.930387</td>\n",
       "      <td>&lt;statsmodels.regression.linear_model.Regressio...</td>\n",
       "      <td>[X1, X2, X3]</td>\n",
       "    </tr>\n",
       "    <tr>\n",
       "      <th>3</th>\n",
       "      <td>98.276073</td>\n",
       "      <td>0.930360</td>\n",
       "      <td>&lt;statsmodels.regression.linear_model.Regressio...</td>\n",
       "      <td>[X1, X2, X3, X910]</td>\n",
       "    </tr>\n",
       "    <tr>\n",
       "      <th>4</th>\n",
       "      <td>91.502682</td>\n",
       "      <td>0.934470</td>\n",
       "      <td>&lt;statsmodels.regression.linear_model.Regressio...</td>\n",
       "      <td>[X1, X2, X3, X5, X9]</td>\n",
       "    </tr>\n",
       "    <tr>\n",
       "      <th>5</th>\n",
       "      <td>90.937364</td>\n",
       "      <td>0.934174</td>\n",
       "      <td>&lt;statsmodels.regression.linear_model.Regressio...</td>\n",
       "      <td>[X1, X2, X3, X6, X7, X8]</td>\n",
       "    </tr>\n",
       "    <tr>\n",
       "      <th>6</th>\n",
       "      <td>90.672269</td>\n",
       "      <td>0.933653</td>\n",
       "      <td>&lt;statsmodels.regression.linear_model.Regressio...</td>\n",
       "      <td>[X1, X2, X3, X4, X6, X8, X9]</td>\n",
       "    </tr>\n",
       "    <tr>\n",
       "      <th>7</th>\n",
       "      <td>90.082065</td>\n",
       "      <td>0.933360</td>\n",
       "      <td>&lt;statsmodels.regression.linear_model.Regressio...</td>\n",
       "      <td>[X1, X2, X4, X5, X6, X7, X8, X910]</td>\n",
       "    </tr>\n",
       "    <tr>\n",
       "      <th>8</th>\n",
       "      <td>89.700589</td>\n",
       "      <td>0.932905</td>\n",
       "      <td>&lt;statsmodels.regression.linear_model.Regressio...</td>\n",
       "      <td>[X1, X2, X4, X5, X6, X7, X8, X9, X910]</td>\n",
       "    </tr>\n",
       "    <tr>\n",
       "      <th>9</th>\n",
       "      <td>89.220296</td>\n",
       "      <td>0.932514</td>\n",
       "      <td>&lt;statsmodels.regression.linear_model.Regressio...</td>\n",
       "      <td>[X1, X2, X3, X4, X5, X6, X7, X8, X9, X910]</td>\n",
       "    </tr>\n",
       "  </tbody>\n",
       "</table>\n",
       "</div>"
      ],
      "text/plain": [
       "          RSS  adjusted_r2                                              model  \\\n",
       "0  745.423309     0.487948  <statsmodels.regression.linear_model.Regressio...   \n",
       "1  137.519334     0.904560  <statsmodels.regression.linear_model.Regressio...   \n",
       "2   99.271513     0.930387  <statsmodels.regression.linear_model.Regressio...   \n",
       "3   98.276073     0.930360  <statsmodels.regression.linear_model.Regressio...   \n",
       "4   91.502682     0.934470  <statsmodels.regression.linear_model.Regressio...   \n",
       "5   90.937364     0.934174  <statsmodels.regression.linear_model.Regressio...   \n",
       "6   90.672269     0.933653  <statsmodels.regression.linear_model.Regressio...   \n",
       "7   90.082065     0.933360  <statsmodels.regression.linear_model.Regressio...   \n",
       "8   89.700589     0.932905  <statsmodels.regression.linear_model.Regressio...   \n",
       "9   89.220296     0.932514  <statsmodels.regression.linear_model.Regressio...   \n",
       "\n",
       "                                       subset  \n",
       "0                                        [X2]  \n",
       "1                                    [X1, X2]  \n",
       "2                                [X1, X2, X3]  \n",
       "3                          [X1, X2, X3, X910]  \n",
       "4                        [X1, X2, X3, X5, X9]  \n",
       "5                    [X1, X2, X3, X6, X7, X8]  \n",
       "6                [X1, X2, X3, X4, X6, X8, X9]  \n",
       "7          [X1, X2, X4, X5, X6, X7, X8, X910]  \n",
       "8      [X1, X2, X4, X5, X6, X7, X8, X9, X910]  \n",
       "9  [X1, X2, X3, X4, X5, X6, X7, X8, X9, X910]  "
      ]
     },
     "execution_count": 23,
     "metadata": {},
     "output_type": "execute_result"
    }
   ],
   "source": [
    "models"
   ]
  },
  {
   "cell_type": "code",
   "execution_count": 24,
   "metadata": {},
   "outputs": [
    {
     "data": {
      "text/plain": [
       "RSS                                                      91.5027\n",
       "adjusted_r2                                              0.93447\n",
       "model          <statsmodels.regression.linear_model.Regressio...\n",
       "subset                                      [X1, X2, X3, X5, X9]\n",
       "Name: 4, dtype: object"
      ]
     },
     "execution_count": 24,
     "metadata": {},
     "output_type": "execute_result"
    }
   ],
   "source": [
    "best_model(X,y)"
   ]
  },
  {
   "cell_type": "code",
   "execution_count": 25,
   "metadata": {},
   "outputs": [],
   "source": [
    "models['aic'] = models.apply(lambda row: row[2].aic, axis=1)\n",
    "models['bic'] = models.apply(lambda row: row[2].bic, axis=1)"
   ]
  },
  {
   "cell_type": "code",
   "execution_count": 26,
   "metadata": {},
   "outputs": [
    {
     "data": {
      "image/png": "[encoded data removed]",
      "text/plain": [
       "<matplotlib.figure.Figure at 0x7f22250932b0>"
      ]
     },
     "metadata": {},
     "output_type": "display_data"
    }
   ],
   "source": [
    "#using best subset\n",
    "plt.figure(figsize=(20,10))\n",
    "plt.rcParams.update({'font.size': 18, 'lines.markersize': 10})\n",
    "\n",
    "num_predict = models.apply(lambda row: len(row[3]), axis=1)\n",
    "\n",
    "plt.subplot(2, 2, 1)\n",
    "plt.plot(num_predict, models['adjusted_r2'])\n",
    "plt.plot(num_predict[models['adjusted_r2'].argmax()], models['adjusted_r2'].max(), 'or')\n",
    "plt.xlabel('# Predictors')\n",
    "plt.ylabel('Adjusted R-squared')\n",
    "\n",
    "plt.subplot(2, 2, 2)\n",
    "plt.plot(num_predict, models['aic'])\n",
    "plt.plot(num_predict[models['aic'].argmin()], models['aic'].min(), 'or')\n",
    "plt.xlabel('# Predictors')\n",
    "plt.ylabel('AIC')\n",
    "\n",
    "plt.subplot(2, 2, 3)\n",
    "plt.plot(num_predict, models['bic'])\n",
    "plt.plot(num_predict[models['bic'].argmin()], models['bic'].min(), 'or')\n",
    "plt.xlabel('# Predictors')\n",
    "plt.ylabel('BIC');"
   ]
  },
  {
   "cell_type": "markdown",
   "metadata": {},
   "source": [
    "**8d** Repeat (c), using forward stepwise selection and also using backwards stepwise selection. How does your  answer compare to the results in (c)?"
   ]
  },
  {
   "cell_type": "code",
   "execution_count": 27,
   "metadata": {},
   "outputs": [
    {
     "name": "stdout",
     "output_type": "stream",
     "text": [
      "forward with score: Adjusted_R2\n",
      "\n",
      "RSS                                                      90.9374\n",
      "adjusted_r2                                             0.934174\n",
      "model          <statsmodels.regression.linear_model.Regressio...\n",
      "subset                                  [X2, X1, X3, X6, X7, X8]\n",
      "Name: 118, dtype: object \n",
      "\n",
      "forward with score: AIC\n",
      "\n",
      "RSS                                                      90.9374\n",
      "adjusted_r2                                             0.934174\n",
      "model          <statsmodels.regression.linear_model.Regressio...\n",
      "subset                                  [X2, X1, X3, X6, X7, X8]\n",
      "Name: 118, dtype: object \n",
      "\n",
      "forward with score: BIC\n",
      "\n",
      "RSS                                                      90.9374\n",
      "adjusted_r2                                             0.934174\n",
      "model          <statsmodels.regression.linear_model.Regressio...\n",
      "subset                                  [X2, X1, X3, X6, X7, X8]\n",
      "Name: 118, dtype: object \n",
      "\n",
      "backward with score: Adjusted_R2\n",
      "\n",
      "RSS                                                      268.633\n",
      "adjusted_r2                                             0.809641\n",
      "model          <statsmodels.regression.linear_model.Regressio...\n",
      "subset                                        [X6, X7, X9, X910]\n",
      "dtype: object \n",
      "\n",
      "backward with score: AIC\n",
      "\n",
      "RSS                                                      268.633\n",
      "adjusted_r2                                             0.809641\n",
      "model          <statsmodels.regression.linear_model.Regressio...\n",
      "subset                                        [X6, X7, X9, X910]\n",
      "dtype: object \n",
      "\n",
      "backward with score: BIC\n",
      "\n",
      "RSS                                                      268.633\n",
      "adjusted_r2                                             0.809641\n",
      "model          <statsmodels.regression.linear_model.Regressio...\n",
      "subset                                        [X6, X7, X9, X910]\n",
      "dtype: object \n",
      "\n",
      "best subset with score: Adjusted_R2 \n",
      "\n",
      "RSS                                                      91.5027\n",
      "adjusted_r2                                              0.93447\n",
      "model          <statsmodels.regression.linear_model.Regressio...\n",
      "subset                                      [X1, X2, X3, X5, X9]\n",
      "Name: 4, dtype: object\n"
     ]
    }
   ],
   "source": [
    "algos = ['forward', 'backward']\n",
    "scores = ['Adjusted_R2', 'AIC', 'BIC']\n",
    "\n",
    "for alg in algos:\n",
    "    for score in scores:\n",
    "        print(alg + ' with score: ' + score + '\\n')\n",
    "        print(best_model(X, y, alg=alg, score=score), '\\n')\n",
    "\n",
    "print('best subset with score: Adjusted_R2 \\n')\n",
    "print(best_model(X, y))"
   ]
  },
  {
   "cell_type": "markdown",
   "metadata": {},
   "source": [
    "> Best subset choose a model with 5 predictors and did slightly better than any of the forward models, that were all close with 6 predictors being used and an adjusted $R^2$ just below the best subset. My backward implementation faired far worse."
   ]
  },
  {
   "cell_type": "markdown",
   "metadata": {},
   "source": [
    "**8e** Now fit a lasso model to the simulated data, again using $X, X^2, \\dots,X^{10}$ as predictors. Use cross-validation to select the optimal value of $\\lambda$. Create plots of the cross-validation error as a function\n",
    "of $\\lambda$. Report the resulting coefficient estimates, and discuss the results obtained.\n",
    "\n",
    "> I originally started by building a lasso regression function, but eventually found documentation for LassoCV, which seemed to be what I wanted to do."
   ]
  },
  {
   "cell_type": "raw",
   "metadata": {},
   "source": [
    "def lasso_regression(X_train, X_test, y_train, y_test, alpha):\n",
    "\n",
    "    las = Lasso(alpha=alpha, normalize=True, max_iter=100000, tol=.0001)\n",
    "    \n",
    "    las.fit(X_train, y_train)\n",
    "        \n",
    "    error = (np.mean((las.predict(X_test) - y_test) ** 2))\n",
    "    RSS = ((result.predict(X)-y) ** 2).sum()\n",
    "    \n",
    "    return  pd.Series({\"alpha\": alpha, \"error_rate\": error, 'RSS':RSS, 'intercept':las.intercept_, \n",
    "             'coefficients':las.coef_})"
   ]
  },
  {
   "cell_type": "raw",
   "metadata": {},
   "source": [
    "#Define the alpha values to test\n",
    "alphas = np.linspace(.0001, .1, 1000)\n",
    "#Initialize the dataframe to store coefficients\n",
    "X_norm = X / X.std()\n",
    "X_train, X_test, y_train, y_test = train_test_split(X_norm, y)\n",
    "\n",
    "col = ['alpha', 'error_rate', 'intercept', 'coefficients']\n",
    "coef_matrix_lasso = pd.DataFrame(columns=col)\n",
    "\n",
    "for alpha in alphas:\n",
    "    coef_matrix_lasso = coef_matrix_lasso.append(lasso_regression(X_train, X_test, \n",
    "                                                                  y_train, y_test, \n",
    "                                                                  alpha),\n",
    "                                                 ignore_index=True)"
   ]
  },
  {
   "cell_type": "raw",
   "metadata": {},
   "source": [
    "plt.plot(coef_matrix_lasso['alpha'], coef_matrix_lasso['error_rate']);"
   ]
  },
  {
   "cell_type": "raw",
   "metadata": {},
   "source": [
    "coef_matrix_lasso.loc[coef_matrix_lasso['error_rate'].argmin()]"
   ]
  },
  {
   "cell_type": "markdown",
   "metadata": {},
   "source": [
    "> Started with the default cv, but my plot wasn't quite matching what I expected."
   ]
  },
  {
   "cell_type": "code",
   "execution_count": 44,
   "metadata": {},
   "outputs": [],
   "source": [
    "lasso = LassoCV(alphas = np.linspace(.001, .1, 1000), tol=.0001,\n",
    "                   normalize=True, cv=7, max_iter=100000)\n",
    "lasso.fit(X, y)\n",
    "\n",
    "mses = np.mean(lasso.mse_path_, axis=1)"
   ]
  },
  {
   "cell_type": "code",
   "execution_count": 45,
   "metadata": {},
   "outputs": [
    {
     "data": {
      "image/png": "[encoded data removed]",
      "text/plain": [
       "<matplotlib.figure.Figure at 0x7f22248e47b8>"
      ]
     },
     "metadata": {},
     "output_type": "display_data"
    }
   ],
   "source": [
    "fig, ax = plt.subplots(figsize=(10,5));\n",
    "ax.plot(lasso.alphas_, mses, color='b');\n",
    "ax.plot(lasso.alpha_, np.min(mses), marker='o', color='r', markersize=8);\n",
    "ax.set_xlabel('alpha');\n",
    "ax.set_ylabel('MSE');"
   ]
  },
  {
   "cell_type": "code",
   "execution_count": 46,
   "metadata": {},
   "outputs": [
    {
     "data": {
      "text/plain": [
       "0.0342972972972973"
      ]
     },
     "execution_count": 46,
     "metadata": {},
     "output_type": "execute_result"
    }
   ],
   "source": [
    "lasso.alpha_"
   ]
  },
  {
   "cell_type": "code",
   "execution_count": 47,
   "metadata": {},
   "outputs": [
    {
     "data": {
      "text/plain": [
       "Intercept    2.761221\n",
       "X1           0.000000\n",
       "X2          -0.000000\n",
       "X3          -0.000000\n",
       "X4          -0.000000\n",
       "X5          -1.570496\n",
       "X6          -0.000000\n",
       "X7          -6.255059\n",
       "X8          -0.000000\n",
       "X9          -0.082986\n",
       "X910        -0.000000\n",
       "dtype: float64"
      ]
     },
     "execution_count": 47,
     "metadata": {},
     "output_type": "execute_result"
    }
   ],
   "source": [
    "pd.Series(data = np.hstack([lasso.intercept_,lasso.coef_]), index=['Intercept'] + list(X.columns))"
   ]
  },
  {
   "cell_type": "markdown",
   "metadata": {},
   "source": [
    "**8f** Now generate a response vector $Y$ according to the model $Y=\\beta_0+\\beta_7X^7+\\epsilon$, and perform best subset selection and the lasso."
   ]
  },
  {
   "cell_type": "code",
   "execution_count": 32,
   "metadata": {},
   "outputs": [],
   "source": [
    "b7 = -7\n",
    "X = np.random.normal(size=100)\n",
    "\n",
    "Y = b0 + b7*X**7 + eps\n",
    "\n",
    "df = pd.DataFrame({'X1': X, 'X2': X ** 2, 'X3': X**3, 'X4': X**4,'X5': X**5,\n",
    "                   'X6': X**6,'X7': X**7,'X8': X**8,'X9': X**9,'X910': X**10,\n",
    "                   'Y':Y}) #evaluation below kept seeing X10 as the second value, messing some of the max functions up\n",
    "\n",
    "X = df[df.columns[:-1]]\n",
    "y = df.Y"
   ]
  },
  {
   "cell_type": "code",
   "execution_count": 33,
   "metadata": {},
   "outputs": [
    {
     "data": {
      "text/plain": [
       "RSS                                                      90.4508\n",
       "adjusted_r2                                             0.999991\n",
       "model          <statsmodels.regression.linear_model.Regressio...\n",
       "subset                                              [X1, X2, X7]\n",
       "Name: 2, dtype: object"
      ]
     },
     "execution_count": 33,
     "metadata": {},
     "output_type": "execute_result"
    }
   ],
   "source": [
    "best_model(X, y)"
   ]
  },
  {
   "cell_type": "code",
   "execution_count": 34,
   "metadata": {},
   "outputs": [
    {
     "data": {
      "text/plain": [
       "LassoCV(alphas=array([0.001 , 0.0011, ..., 0.0999, 0.1   ]), copy_X=True,\n",
       "    cv=None, eps=0.001, fit_intercept=True, max_iter=100000, n_alphas=100,\n",
       "    n_jobs=1, normalize=True, positive=False, precompute='auto',\n",
       "    random_state=None, selection='cyclic', tol=0.0001, verbose=False)"
      ]
     },
     "execution_count": 34,
     "metadata": {},
     "output_type": "execute_result"
    }
   ],
   "source": [
    "lasso = LassoCV(alphas = np.linspace(.001, .1, 1000), tol=.0001,\n",
    "                   normalize=True, max_iter=100000)\n",
    "lasso.fit(X, y)"
   ]
  },
  {
   "cell_type": "code",
   "execution_count": 36,
   "metadata": {},
   "outputs": [],
   "source": [
    "mses = np.mean(lasso.mse_path_, axis=1)"
   ]
  },
  {
   "cell_type": "code",
   "execution_count": 37,
   "metadata": {},
   "outputs": [
    {
     "data": {
      "image/png": "[encoded data removed]",
      "text/plain": [
       "<matplotlib.figure.Figure at 0x7f2225085668>"
      ]
     },
     "metadata": {},
     "output_type": "display_data"
    }
   ],
   "source": [
    "fig, ax = plt.subplots(figsize=(10,5));\n",
    "ax.plot(lasso.alphas_, mses, color='b');\n",
    "ax.plot(lasso.alpha_, np.min(mses), marker='o', color='r', markersize=8);\n",
    "ax.set_xlabel('alpha');\n",
    "ax.set_ylabel('MSE');"
   ]
  },
  {
   "cell_type": "markdown",
   "metadata": {},
   "source": [
    "**9**  In this exercise, we will predict the number of applications received using the other variables in the “College” data set.\n",
    "\n",
    "**9a** Split the data set into a training and a test set."
   ]
  },
  {
   "cell_type": "code",
   "execution_count": 48,
   "metadata": {},
   "outputs": [],
   "source": [
    "college = pd.read_csv('data/college.csv')"
   ]
  },
  {
   "cell_type": "code",
   "execution_count": 49,
   "metadata": {},
   "outputs": [],
   "source": [
    "college['Private'] = np.where(college['Private'] == 'Yes', 1, 0)"
   ]
  },
  {
   "cell_type": "code",
   "execution_count": 50,
   "metadata": {},
   "outputs": [
    {
     "data": {
      "text/plain": [
       "Private          int64\n",
       "Apps             int64\n",
       "Accept           int64\n",
       "Enroll           int64\n",
       "Top10perc        int64\n",
       "Top25perc        int64\n",
       "F.Undergrad      int64\n",
       "P.Undergrad      int64\n",
       "Outstate         int64\n",
       "Room.Board       int64\n",
       "Books            int64\n",
       "Personal         int64\n",
       "PhD              int64\n",
       "Terminal         int64\n",
       "S.F.Ratio      float64\n",
       "perc.alumni      int64\n",
       "Expend           int64\n",
       "Grad.Rate        int64\n",
       "dtype: object"
      ]
     },
     "execution_count": 50,
     "metadata": {},
     "output_type": "execute_result"
    }
   ],
   "source": [
    "college.dtypes"
   ]
  },
  {
   "cell_type": "code",
   "execution_count": 138,
   "metadata": {},
   "outputs": [],
   "source": [
    "X = college.drop('Apps', axis=1)"
   ]
  },
  {
   "cell_type": "code",
   "execution_count": 139,
   "metadata": {},
   "outputs": [],
   "source": [
    "y = college['Apps']"
   ]
  },
  {
   "cell_type": "code",
   "execution_count": 140,
   "metadata": {},
   "outputs": [
    {
     "data": {
      "text/plain": [
       "3001.6383526383524"
      ]
     },
     "execution_count": 140,
     "metadata": {},
     "output_type": "execute_result"
    }
   ],
   "source": [
    "y.mean()"
   ]
  },
  {
   "cell_type": "code",
   "execution_count": 141,
   "metadata": {},
   "outputs": [],
   "source": [
    "X_train, X_test, y_train, y_test = train_test_split(X, y)"
   ]
  },
  {
   "cell_type": "markdown",
   "metadata": {},
   "source": [
    "**9b** Fit a linear model using least squares on the training set, and report the test error obtained."
   ]
  },
  {
   "cell_type": "code",
   "execution_count": 142,
   "metadata": {},
   "outputs": [],
   "source": [
    "lr = LinearRegression()\n",
    "lr.fit(X_train, y_train);"
   ]
  },
  {
   "cell_type": "code",
   "execution_count": 143,
   "metadata": {},
   "outputs": [
    {
     "data": {
      "text/plain": [
       "1081670.625821871"
      ]
     },
     "execution_count": 143,
     "metadata": {},
     "output_type": "execute_result"
    }
   ],
   "source": [
    "mean_squared_error( y_test, lr.predict(X_test))"
   ]
  },
  {
   "cell_type": "markdown",
   "metadata": {},
   "source": [
    "**9c** Fit a ridge regression model on the training set, with $\\lambda$ chosen by cross-validation. Report the test error obtained."
   ]
  },
  {
   "cell_type": "code",
   "execution_count": 144,
   "metadata": {},
   "outputs": [],
   "source": [
    "alphas = np.logspace(-2, 1, 100)\n",
    "\n",
    "ridge_cv = RidgeCV(alphas = alphas, normalize=True, store_cv_values=True)\n",
    "\n",
    "results = ridge_cv.fit(X_train, y_train)\n",
    "\n",
    "min_alpha = results.alpha_"
   ]
  },
  {
   "cell_type": "code",
   "execution_count": 145,
   "metadata": {},
   "outputs": [
    {
     "data": {
      "text/plain": [
       "1053901.0050185525"
      ]
     },
     "execution_count": 145,
     "metadata": {},
     "output_type": "execute_result"
    }
   ],
   "source": [
    "mean_squared_error(y_test, results.predict(X_test))"
   ]
  },
  {
   "cell_type": "markdown",
   "metadata": {},
   "source": [
    "**9d** Fit a lasso model on the training set, with $\\lambda$ chosen by cross-validation. Report the test error obtained, along with the number of non-zero coefficient estimates."
   ]
  },
  {
   "cell_type": "code",
   "execution_count": 146,
   "metadata": {},
   "outputs": [],
   "source": [
    "lasso_cv = LassoCV(alphas = np.logspace(-2,1,100), normalize=True, cv=5, max_iter=100000)\n",
    "lasso_cv.fit(X_train, y_train);"
   ]
  },
  {
   "cell_type": "code",
   "execution_count": 147,
   "metadata": {},
   "outputs": [
    {
     "data": {
      "text/plain": [
       "1081471.7141923464"
      ]
     },
     "execution_count": 147,
     "metadata": {},
     "output_type": "execute_result"
    }
   ],
   "source": [
    "mean_squared_error(y_test, lasso_cv.predict(X_test))"
   ]
  },
  {
   "cell_type": "code",
   "execution_count": 148,
   "metadata": {},
   "outputs": [
    {
     "data": {
      "text/plain": [
       "array([-5.22826251e+02,  1.63964956e+00, -1.02764958e+00,  4.16953439e+01,\n",
       "       -8.36569329e+00,  5.60281808e-02,  3.94920723e-02, -8.44355402e-02,\n",
       "        1.16831831e-01,  1.30261258e-01,  6.49179603e-02, -7.58890861e+00,\n",
       "       -5.63462845e+00,  2.25666825e+01,  2.26246497e+00,  8.75630330e-02,\n",
       "        8.09421379e+00])"
      ]
     },
     "execution_count": 148,
     "metadata": {},
     "output_type": "execute_result"
    }
   ],
   "source": [
    "lasso_cv.coef_"
   ]
  },
  {
   "cell_type": "markdown",
   "metadata": {},
   "source": [
    "**9e** Fit a PCR model on the training set, with $M$ chosen by cross-validation. Report the test error obtained, along with the value of M selected by cross-validation."
   ]
  },
  {
   "cell_type": "code",
   "execution_count": 75,
   "metadata": {},
   "outputs": [],
   "source": [
    "num_components = np.arange(1,X.shape[1]+1)\n",
    "\n",
    "scores = []\n",
    "\n",
    "for n in num_components:\n",
    "    pca = PCA(n_components=n)\n",
    "    \n",
    "    pipeline = Pipeline([('scaler', StandardScaler()), ('pca', pca), ('linear_regression', LinearRegression())])\n",
    "    \n",
    "    pipeline.fit(X_train.values,y_train.values)\n",
    "    scores.append(-np.mean(cross_val_score(pipeline, X_train.values, y_train.values, \n",
    "                                           scoring='neg_mean_squared_error')))"
   ]
  },
  {
   "cell_type": "code",
   "execution_count": 76,
   "metadata": {},
   "outputs": [
    {
     "data": {
      "image/png": "[encoded data removed]",
      "text/plain": [
       "<matplotlib.figure.Figure at 0x7f22248f3c50>"
      ]
     },
     "metadata": {},
     "output_type": "display_data"
    }
   ],
   "source": [
    "fig, ax = plt.subplots(figsize=(8,4))\n",
    "ax.plot(num_components,scores);\n",
    "ax.set_xlabel('Number of Components');\n",
    "ax.set_ylabel('CV Training Score');"
   ]
  },
  {
   "cell_type": "code",
   "execution_count": 77,
   "metadata": {},
   "outputs": [
    {
     "data": {
      "text/plain": [
       "1384308.7835140375"
      ]
     },
     "execution_count": 77,
     "metadata": {},
     "output_type": "execute_result"
    }
   ],
   "source": [
    "np.min(scores)"
   ]
  },
  {
   "cell_type": "code",
   "execution_count": 78,
   "metadata": {},
   "outputs": [
    {
     "data": {
      "text/plain": [
       "17"
      ]
     },
     "execution_count": 78,
     "metadata": {},
     "output_type": "execute_result"
    }
   ],
   "source": [
    "num_components[np.argmin(scores)]"
   ]
  },
  {
   "cell_type": "markdown",
   "metadata": {},
   "source": [
    "**9f** Fit a PLS model on the training set, with $M$ chosen by cross-validation. Report the test error obtained, along with the value of $M$ selected by cross-validation."
   ]
  },
  {
   "cell_type": "code",
   "execution_count": 79,
   "metadata": {},
   "outputs": [],
   "source": [
    "num_components = np.arange(1,X.shape[1]+1)\n",
    "\n",
    "scores = []\n",
    "\n",
    "\n",
    "for n in num_components:\n",
    "    pls = PLSRegression(n_components=n, scale=True)\n",
    "\n",
    "    scores.append(-np.mean(cross_val_score(pls, X_train.values, y_train.values, \n",
    "                                           scoring='neg_mean_squared_error')))   "
   ]
  },
  {
   "cell_type": "code",
   "execution_count": 80,
   "metadata": {},
   "outputs": [
    {
     "data": {
      "image/png": "[encoded data removed]",
      "text/plain": [
       "<matplotlib.figure.Figure at 0x7f22250c3518>"
      ]
     },
     "metadata": {},
     "output_type": "display_data"
    }
   ],
   "source": [
    "fig, ax = plt.subplots(figsize=(8,4))\n",
    "ax.plot(num_components,scores, color='b');\n",
    "ax.set_xlabel('Number of Components');\n",
    "ax.set_ylabel('Training Score');"
   ]
  },
  {
   "cell_type": "code",
   "execution_count": 81,
   "metadata": {},
   "outputs": [
    {
     "data": {
      "text/plain": [
       "14361748.646622287"
      ]
     },
     "execution_count": 81,
     "metadata": {},
     "output_type": "execute_result"
    }
   ],
   "source": [
    "np.min(scores)"
   ]
  },
  {
   "cell_type": "code",
   "execution_count": 82,
   "metadata": {},
   "outputs": [
    {
     "data": {
      "text/plain": [
       "1"
      ]
     },
     "execution_count": 82,
     "metadata": {},
     "output_type": "execute_result"
    }
   ],
   "source": [
    "num_components[np.argmin(scores)]"
   ]
  },
  {
   "cell_type": "markdown",
   "metadata": {},
   "source": [
    "**9g** Comment on the results obtained. How accurately can we predict the number of college applications received? Is there much difference among the test errors resulting from these five approaches?\n",
    "\n",
    "> The models all perform similarly, excep PLS which performs slightly worse."
   ]
  },
  {
   "cell_type": "markdown",
   "metadata": {},
   "source": [
    "**10** We have seen that as a number of features used in a model increases, the training error will necessarily decrease, but the test error may not. We will now explore this in a simulated data set.\n",
    "\n",
    "**10a** Generate a data set with $p=20$ features, $n=1000$ observations, and an associated quantitative response vector generated according to the model;\n",
    "\n",
    "$Y=X\\beta+\\epsilon$,\n",
    "\n",
    "where $\\beta$ has some elements that are exactly equal to zero."
   ]
  },
  {
   "cell_type": "code",
   "execution_count": 83,
   "metadata": {},
   "outputs": [],
   "source": [
    "X = np.random.normal(size=(1000,1))\n",
    "eps = np.random.normal(size=(1000,1))\n",
    "betas = np.random.normal(size=(6,))\n",
    "betas_zero = np.zeros(shape=(4,))\n",
    "betas = np.append(betas, betas_zero)\n",
    "Y = betas[0]+betas[1]*X + betas[1]*X + betas[2]*X**2 + betas[3]*X**3 + eps"
   ]
  },
  {
   "cell_type": "code",
   "execution_count": 84,
   "metadata": {},
   "outputs": [],
   "source": [
    "poly = PolynomialFeatures(degree=10, include_bias=False)\n",
    "X = poly.fit_transform(X)"
   ]
  },
  {
   "cell_type": "code",
   "execution_count": 85,
   "metadata": {},
   "outputs": [
    {
     "data": {
      "text/plain": [
       "(1000, 11)"
      ]
     },
     "execution_count": 85,
     "metadata": {},
     "output_type": "execute_result"
    }
   ],
   "source": [
    "col_names = ['Y']+['X_' + str(i) for i in range(0,len(betas))]\n",
    "\n",
    "df = pd.DataFrame(np.concatenate((Y,X), axis=1), columns=col_names)\n",
    "df.shape"
   ]
  },
  {
   "cell_type": "code",
   "execution_count": 86,
   "metadata": {},
   "outputs": [
    {
     "data": {
      "text/html": [
       "<div>\n",
       "<table border=\"1\" class=\"dataframe\">\n",
       "  <thead>\n",
       "    <tr style=\"text-align: right;\">\n",
       "      <th></th>\n",
       "      <th>Y</th>\n",
       "      <th>X_0</th>\n",
       "      <th>X_1</th>\n",
       "      <th>X_2</th>\n",
       "      <th>X_3</th>\n",
       "      <th>X_4</th>\n",
       "      <th>X_5</th>\n",
       "      <th>X_6</th>\n",
       "      <th>X_7</th>\n",
       "      <th>X_8</th>\n",
       "      <th>X_9</th>\n",
       "    </tr>\n",
       "  </thead>\n",
       "  <tbody>\n",
       "    <tr>\n",
       "      <th>0</th>\n",
       "      <td>-1.918863</td>\n",
       "      <td>-0.848005</td>\n",
       "      <td>0.719112</td>\n",
       "      <td>-0.609810</td>\n",
       "      <td>0.517122</td>\n",
       "      <td>-0.438522</td>\n",
       "      <td>0.371869</td>\n",
       "      <td>-0.315346</td>\n",
       "      <td>0.267415</td>\n",
       "      <td>-0.226769</td>\n",
       "      <td>0.192302</td>\n",
       "    </tr>\n",
       "    <tr>\n",
       "      <th>1</th>\n",
       "      <td>-0.531330</td>\n",
       "      <td>1.027510</td>\n",
       "      <td>1.055776</td>\n",
       "      <td>1.084820</td>\n",
       "      <td>1.114663</td>\n",
       "      <td>1.145328</td>\n",
       "      <td>1.176835</td>\n",
       "      <td>1.209210</td>\n",
       "      <td>1.242475</td>\n",
       "      <td>1.276655</td>\n",
       "      <td>1.311775</td>\n",
       "    </tr>\n",
       "    <tr>\n",
       "      <th>2</th>\n",
       "      <td>-1.212490</td>\n",
       "      <td>0.275055</td>\n",
       "      <td>0.075655</td>\n",
       "      <td>0.020809</td>\n",
       "      <td>0.005724</td>\n",
       "      <td>0.001574</td>\n",
       "      <td>0.000433</td>\n",
       "      <td>0.000119</td>\n",
       "      <td>0.000033</td>\n",
       "      <td>0.000009</td>\n",
       "      <td>0.000002</td>\n",
       "    </tr>\n",
       "    <tr>\n",
       "      <th>3</th>\n",
       "      <td>-3.716883</td>\n",
       "      <td>-0.999066</td>\n",
       "      <td>0.998133</td>\n",
       "      <td>-0.997200</td>\n",
       "      <td>0.996269</td>\n",
       "      <td>-0.995338</td>\n",
       "      <td>0.994408</td>\n",
       "      <td>-0.993480</td>\n",
       "      <td>0.992552</td>\n",
       "      <td>-0.991624</td>\n",
       "      <td>0.990698</td>\n",
       "    </tr>\n",
       "    <tr>\n",
       "      <th>4</th>\n",
       "      <td>0.227871</td>\n",
       "      <td>0.758733</td>\n",
       "      <td>0.575675</td>\n",
       "      <td>0.436784</td>\n",
       "      <td>0.331402</td>\n",
       "      <td>0.251445</td>\n",
       "      <td>0.190780</td>\n",
       "      <td>0.144751</td>\n",
       "      <td>0.109827</td>\n",
       "      <td>0.083330</td>\n",
       "      <td>0.063225</td>\n",
       "    </tr>\n",
       "  </tbody>\n",
       "</table>\n",
       "</div>"
      ],
      "text/plain": [
       "          Y       X_0       X_1       X_2       X_3       X_4       X_5  \\\n",
       "0 -1.918863 -0.848005  0.719112 -0.609810  0.517122 -0.438522  0.371869   \n",
       "1 -0.531330  1.027510  1.055776  1.084820  1.114663  1.145328  1.176835   \n",
       "2 -1.212490  0.275055  0.075655  0.020809  0.005724  0.001574  0.000433   \n",
       "3 -3.716883 -0.999066  0.998133 -0.997200  0.996269 -0.995338  0.994408   \n",
       "4  0.227871  0.758733  0.575675  0.436784  0.331402  0.251445  0.190780   \n",
       "\n",
       "        X_6       X_7       X_8       X_9  \n",
       "0 -0.315346  0.267415 -0.226769  0.192302  \n",
       "1  1.209210  1.242475  1.276655  1.311775  \n",
       "2  0.000119  0.000033  0.000009  0.000002  \n",
       "3 -0.993480  0.992552 -0.991624  0.990698  \n",
       "4  0.144751  0.109827  0.083330  0.063225  "
      ]
     },
     "execution_count": 86,
     "metadata": {},
     "output_type": "execute_result"
    }
   ],
   "source": [
    "df.head()"
   ]
  },
  {
   "cell_type": "markdown",
   "metadata": {},
   "source": [
    "**10b** Split your data set into a training set containing 100 observations and a test set containing 900 observations."
   ]
  },
  {
   "cell_type": "code",
   "execution_count": 118,
   "metadata": {},
   "outputs": [],
   "source": [
    "train_df = df.sample(n=100, random_state=42)\n",
    "test_df = df.drop(train_df.index)"
   ]
  },
  {
   "cell_type": "markdown",
   "metadata": {},
   "source": [
    "**10c** Perform best subset selection on the training set, and plot the training set MSE associated with the best model of each size."
   ]
  },
  {
   "cell_type": "code",
   "execution_count": 119,
   "metadata": {},
   "outputs": [],
   "source": [
    "models = best_subsets(train_df[train_df.columns[1:]],train_df.Y)"
   ]
  },
  {
   "cell_type": "code",
   "execution_count": 120,
   "metadata": {},
   "outputs": [],
   "source": [
    "mses = np.array([])\n",
    "for model in models.model:\n",
    "    features = list(model.params.index[1:])\n",
    "    \n",
    "    X_train = sm.add_constant(train_df[features])\n",
    "    \n",
    "    y_pred = model.predict(X_train)\n",
    "    \n",
    "    mses = np.append(mses, mean_squared_error(train_df.Y, y_pred))"
   ]
  },
  {
   "cell_type": "code",
   "execution_count": 121,
   "metadata": {},
   "outputs": [
    {
     "data": {
      "image/png": "[encoded data removed]",
      "text/plain": [
       "<matplotlib.figure.Figure at 0x7f2225172b70>"
      ]
     },
     "metadata": {},
     "output_type": "display_data"
    }
   ],
   "source": [
    "fig, ax = plt.subplots(figsize=(6,4));\n",
    "ax.plot(range(1,len(features)+1), mses);\n",
    "ax.set_xlabel('Num Features');\n",
    "ax.set_ylabel('Training MSE');"
   ]
  },
  {
   "cell_type": "markdown",
   "metadata": {},
   "source": [
    "**10d** Plot the test set MSE associated with the best model of each size."
   ]
  },
  {
   "cell_type": "code",
   "execution_count": 122,
   "metadata": {},
   "outputs": [],
   "source": [
    "mses = np.array([])\n",
    "for model in models.model:\n",
    "    features = list(model.params.index[1:])\n",
    "    \n",
    "    X_test = sm.add_constant(test_df[features])\n",
    "    \n",
    "    y_pred = model.predict(X_test)\n",
    "    \n",
    "    mses = np.append(mses, mean_squared_error(test_df.Y, y_pred))"
   ]
  },
  {
   "cell_type": "code",
   "execution_count": 123,
   "metadata": {},
   "outputs": [
    {
     "data": {
      "image/png": "[encoded data removed]",
      "text/plain": [
       "<matplotlib.figure.Figure at 0x7f22248d52b0>"
      ]
     },
     "metadata": {},
     "output_type": "display_data"
    }
   ],
   "source": [
    "fig, ax = plt.subplots(figsize=(6,4));\n",
    "ax.plot(range(1,len(features)+1),mses);\n",
    "ax.set_xlabel('Num Features');\n",
    "ax.set_ylabel('Test MSE');"
   ]
  },
  {
   "cell_type": "markdown",
   "metadata": {},
   "source": [
    "**11** We will now try to predict per capita crime rate in the Boston data set.\n",
    "\n",
    "**11a** Try out some of the regression methods explored in this chapter, such as best subset selection, the lasso, ridge regression, and PCR. Present and discuss results for the approaches that you consider."
   ]
  },
  {
   "cell_type": "code",
   "execution_count": 127,
   "metadata": {},
   "outputs": [],
   "source": [
    "boston = pd.read_csv('data/boston.csv')"
   ]
  },
  {
   "cell_type": "code",
   "execution_count": 128,
   "metadata": {},
   "outputs": [
    {
     "data": {
      "text/plain": [
       "Index(['crim', 'zn', 'indus', 'chas', 'nox', 'rm', 'age', 'dis', 'rad', 'tax',\n",
       "       'ptratio', 'black', 'lstat', 'medv'],\n",
       "      dtype='object')"
      ]
     },
     "execution_count": 128,
     "metadata": {},
     "output_type": "execute_result"
    }
   ],
   "source": [
    "boston.columns"
   ]
  },
  {
   "cell_type": "code",
   "execution_count": 129,
   "metadata": {},
   "outputs": [],
   "source": [
    "features = list(boston.columns[1:])\n",
    "target = boston.crim"
   ]
  },
  {
   "cell_type": "code",
   "execution_count": 130,
   "metadata": {},
   "outputs": [
    {
     "data": {
      "text/plain": [
       "42.96874021592426"
      ]
     },
     "execution_count": 130,
     "metadata": {},
     "output_type": "execute_result"
    }
   ],
   "source": [
    "lr = LinearRegression()\n",
    "-np.mean(cross_val_score(lr, boston[features], boston.crim,\n",
    "                                  scoring='neg_mean_squared_error', cv=len(boston)))"
   ]
  },
  {
   "cell_type": "code",
   "execution_count": 131,
   "metadata": {},
   "outputs": [],
   "source": [
    "alphas = np.logspace(-2, 1, 100)\n",
    "ridge = RidgeCV(alphas=alphas, fit_intercept=True, normalize=True, store_cv_values=True)\n",
    "ridge.fit(boston[features],target)\n",
    "\n",
    "ridge_mse = np.mean(ridge.cv_values_, axis=0)"
   ]
  },
  {
   "cell_type": "code",
   "execution_count": 132,
   "metadata": {},
   "outputs": [
    {
     "data": {
      "text/plain": [
       "42.90833494982518"
      ]
     },
     "execution_count": 132,
     "metadata": {},
     "output_type": "execute_result"
    }
   ],
   "source": [
    "np.min(ridge_mse)"
   ]
  },
  {
   "cell_type": "code",
   "execution_count": 133,
   "metadata": {},
   "outputs": [
    {
     "data": {
      "text/plain": [
       "Intercept    13.888385\n",
       "zn            0.040021\n",
       "indus        -0.077533\n",
       "chas         -0.732037\n",
       "nox          -8.457866\n",
       "rm            0.401456\n",
       "age           0.001326\n",
       "dis          -0.883139\n",
       "rad           0.519440\n",
       "tax          -0.000527\n",
       "ptratio      -0.220479\n",
       "black        -0.007915\n",
       "lstat         0.135332\n",
       "medv         -0.175396\n",
       "dtype: float64"
      ]
     },
     "execution_count": 133,
     "metadata": {},
     "output_type": "execute_result"
    }
   ],
   "source": [
    "pd.Series(data = np.hstack([ridge.intercept_,ridge.coef_]), index=['Intercept'] + features)"
   ]
  },
  {
   "cell_type": "code",
   "execution_count": 134,
   "metadata": {},
   "outputs": [],
   "source": [
    "alphas = np.logspace(-5, 1, 100)\n",
    "lasso = LassoCV(alphas=alphas, fit_intercept=True, normalize=True, cv=len(boston))\n",
    "lasso.fit(boston[features],boston.crim)\n",
    "\n",
    "lasso_mse = np.mean(lasso.mse_path_, axis=1)"
   ]
  },
  {
   "cell_type": "code",
   "execution_count": 135,
   "metadata": {},
   "outputs": [
    {
     "data": {
      "text/plain": [
       "42.87801457719557"
      ]
     },
     "execution_count": 135,
     "metadata": {},
     "output_type": "execute_result"
    }
   ],
   "source": [
    "np.min(lasso_mse)"
   ]
  },
  {
   "cell_type": "code",
   "execution_count": 136,
   "metadata": {},
   "outputs": [
    {
     "data": {
      "text/plain": [
       "Intercept    13.106357\n",
       "zn            0.036928\n",
       "indus        -0.072793\n",
       "chas         -0.594035\n",
       "nox          -7.379467\n",
       "rm            0.254224\n",
       "age           0.000000\n",
       "dis          -0.812368\n",
       "rad           0.516800\n",
       "tax          -0.000000\n",
       "ptratio      -0.198297\n",
       "black        -0.007546\n",
       "lstat         0.125577\n",
       "medv         -0.162216\n",
       "dtype: float64"
      ]
     },
     "execution_count": 136,
     "metadata": {},
     "output_type": "execute_result"
    }
   ],
   "source": [
    "pd.Series(data = np.hstack([lasso.intercept_, lasso.coef_]), index=['Intercept'] + features)"
   ]
  },
  {
   "cell_type": "markdown",
   "metadata": {},
   "source": [
    "**11b** Propose a model (or set of models) that seem to perform well on this data set, and justify your answer. Make sure that you are evaluating model performance using validation set error, crossvalidation, or some other reasonable alternative, as opposed to using training error.\n",
    "\n",
    "**11c** Does your chosen model involve all of the features in the data set?\n",
    "\n",
    "> The lasso model narrowly arout performs the other two models when we look at the MSE from LOOCV cross-validation. It does not use every predictor, setting age and tax to 0. I played around with the alphas a lot, and that definitely made a difference. A larger range might help me find a better fit, but the run time was becoming to high."
   ]
  },
  {
   "cell_type": "code",
   "execution_count": null,
   "metadata": {},
   "outputs": [],
   "source": []
  }
 ],
 "metadata": {
  "anaconda-cloud": {},
  "kernelspec": {
   "display_name": "Python 3",
   "language": "python",
   "name": "python3"
  },
  "language_info": {
   "codemirror_mode": {
    "name": "ipython",
    "version": 3
   },
   "file_extension": ".py",
   "mimetype": "text/x-python",
   "name": "python",
   "nbconvert_exporter": "python",
   "pygments_lexer": "ipython3",
   "version": "3.5.4"
  }
 },
 "nbformat": 4,
 "nbformat_minor": 1
}
